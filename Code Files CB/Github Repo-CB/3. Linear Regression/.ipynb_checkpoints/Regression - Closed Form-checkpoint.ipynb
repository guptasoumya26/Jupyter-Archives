{
 "cells": [
  {
   "cell_type": "code",
   "execution_count": 39,
   "metadata": {},
   "outputs": [],
   "source": [
    "import numpy as np\n",
    "import pandas as pd\n",
    "import matplotlib.pyplot as plt\n",
    "\n",
    "dfx = pd.read_csv('Datasets/linearX.csv')\n",
    "dfy = pd.read_csv('Datasets/linearY.csv')\n",
    "x = dfx.values\n",
    "y = dfy.values\n",
    "x = x.reshape((-1,))\n",
    "y = y.reshape((-1,))\n",
    "X = (x-x.mean())/x.std()\n",
    "Y = y\n"
   ]
  },
  {
   "cell_type": "code",
   "execution_count": 40,
   "metadata": {},
   "outputs": [
    {
     "data": {
      "image/png": "[encoded data removed]",
      "text/plain": [
       "<matplotlib.figure.Figure at 0x1b87eb0>"
      ]
     },
     "metadata": {},
     "output_type": "display_data"
    }
   ],
   "source": [
    "plt.scatter(X,Y)\n",
    "plt.show()"
   ]
  },
  {
   "cell_type": "code",
   "execution_count": 41,
   "metadata": {},
   "outputs": [
    {
     "name": "stdout",
     "output_type": "stream",
     "text": [
      "(99, 2)\n",
      "(99,)\n"
     ]
    }
   ],
   "source": [
    "x1 = X\n",
    "x2 = np.ones(x1.shape)\n",
    "\n",
    "X = np.stack((x1,x2),axis=1)\n",
    "print(X.shape)\n",
    "print(y.shape)"
   ]
  },
  {
   "cell_type": "code",
   "execution_count": 45,
   "metadata": {},
   "outputs": [
    {
     "ename": "ValueError",
     "evalue": "operands could not be broadcast together with shapes (99,99) (2,) ",
     "output_type": "error",
     "traceback": [
      "\u001b[1;31m--------------------------------------------------------------------------\u001b[0m",
      "\u001b[1;31mValueError\u001b[0m                               Traceback (most recent call last)",
      "\u001b[1;32m<ipython-input-45-ad248417bcfe>\u001b[0m in \u001b[0;36m<module>\u001b[1;34m()\u001b[0m\n\u001b[0;32m      3\u001b[0m \u001b[0mfirstPart\u001b[0m \u001b[1;33m=\u001b[0m \u001b[0mnp\u001b[0m\u001b[1;33m.\u001b[0m\u001b[0mdot\u001b[0m\u001b[1;33m(\u001b[0m\u001b[0mX\u001b[0m\u001b[1;33m,\u001b[0m\u001b[0mXT\u001b[0m\u001b[1;33m)\u001b[0m\u001b[1;33m\u001b[0m\u001b[0m\n\u001b[0;32m      4\u001b[0m \u001b[0msecondPart\u001b[0m \u001b[1;33m=\u001b[0m \u001b[0mnp\u001b[0m\u001b[1;33m.\u001b[0m\u001b[0mdot\u001b[0m\u001b[1;33m(\u001b[0m\u001b[0mXT\u001b[0m\u001b[1;33m,\u001b[0m\u001b[0mY\u001b[0m\u001b[1;33m)\u001b[0m\u001b[1;33m\u001b[0m\u001b[0m\n\u001b[1;32m----> 5\u001b[1;33m \u001b[0mtheta\u001b[0m \u001b[1;33m=\u001b[0m \u001b[0mnp\u001b[0m\u001b[1;33m.\u001b[0m\u001b[0mlinalg\u001b[0m\u001b[1;33m.\u001b[0m\u001b[0mpinv\u001b[0m\u001b[1;33m(\u001b[0m\u001b[0mfirstPart\u001b[0m\u001b[1;33m)\u001b[0m\u001b[1;33m*\u001b[0m\u001b[0msecondPart\u001b[0m\u001b[1;33m\u001b[0m\u001b[0m\n\u001b[0m\u001b[0;32m      6\u001b[0m \u001b[0mprint\u001b[0m\u001b[1;33m(\u001b[0m\u001b[0mtheta\u001b[0m\u001b[1;33m)\u001b[0m\u001b[1;33m\u001b[0m\u001b[0m\n",
      "\u001b[1;31mValueError\u001b[0m: operands could not be broadcast together with shapes (99,99) (2,) "
     ]
    }
   ],
   "source": [
    "XT = X.T\n",
    "YT = Y.T\n",
    "firstPart = np.dot(X,XT)\n",
    "secondPart = np.dot(XT,Y)\n",
    "theta = np.linalg.pinv(firstPart)*secondPart\n",
    "print(theta) "
   ]
  },
  {
   "cell_type": "code",
   "execution_count": 11,
   "metadata": {},
   "outputs": [
    {
     "name": "stdout",
     "output_type": "stream",
     "text": [
      "[[-0.02980118  1.        ]\n",
      " [ 0.60654168  1.        ]\n",
      " [ 0.20159622  1.        ]\n",
      " [-0.66614404  1.        ]\n",
      " [-0.20334923  1.        ]\n",
      " [ 4.36674951  1.        ]\n",
      " [-0.43474664  1.        ]\n",
      " [-0.60829469  1.        ]\n",
      " [-0.49259599  1.        ]\n",
      " [ 1.18503519  1.        ]\n",
      " [ 1.99492611  1.        ]\n",
      " [-0.55044534  1.        ]\n",
      " [ 1.12718584  1.        ]\n",
      " [ 0.49084298  1.        ]\n",
      " [-0.08765053  1.        ]\n",
      " [-1.41818561  1.        ]\n",
      " [-1.01324015  1.        ]\n",
      " [-0.78184275  1.        ]\n",
      " [ 1.35858325  1.        ]\n",
      " [ 0.25944558  1.        ]\n",
      " [-0.37689729  1.        ]\n",
      " [-1.01324015  1.        ]\n",
      " [-1.53388431  1.        ]\n",
      " [ 0.49084298  1.        ]\n",
      " [ 0.78008974  1.        ]\n",
      " [-0.31904794  1.        ]\n",
      " [ 2.22632352  1.        ]\n",
      " [-0.14549988  1.        ]\n",
      " [-0.37689729  1.        ]\n",
      " [ 1.58998065  1.        ]\n",
      " [ 1.24288455  1.        ]\n",
      " [-1.0710895   1.        ]\n",
      " [-0.20334923  1.        ]\n",
      " [ 3.26761184  1.        ]\n",
      " [-0.02980118  1.        ]\n",
      " [-0.78184275  1.        ]\n",
      " [-0.78184275  1.        ]\n",
      " [-0.60829469  1.        ]\n",
      " [ 0.14374687  1.        ]\n",
      " [-0.37689729  1.        ]\n",
      " [ 1.06933649  1.        ]\n",
      " [-1.12893885  1.        ]\n",
      " [-0.60829469  1.        ]\n",
      " [-1.53388431  1.        ]\n",
      " [ 1.5321313   1.        ]\n",
      " [-0.26119859  1.        ]\n",
      " [ 0.49084298  1.        ]\n",
      " [ 0.66439103  1.        ]\n",
      " [-0.8396921   1.        ]\n",
      " [-0.49259599  1.        ]\n",
      " [-0.02980118  1.        ]\n",
      " [-0.14549988  1.        ]\n",
      " [-0.08765053  1.        ]\n",
      " [-0.60829469  1.        ]\n",
      " [-0.60829469  1.        ]\n",
      " [-0.26119859  1.        ]\n",
      " [ 0.60654168  1.        ]\n",
      " [ 0.54869233  1.        ]\n",
      " [-0.08765053  1.        ]\n",
      " [-0.8396921   1.        ]\n",
      " [ 2.22632352  1.        ]\n",
      " [-0.89754145  1.        ]\n",
      " [-0.55044534  1.        ]\n",
      " [ 0.43299363  1.        ]\n",
      " [-0.31904794  1.        ]\n",
      " [-0.20334923  1.        ]\n",
      " [-1.1867882   1.        ]\n",
      " [ 1.47428195  1.        ]\n",
      " [-0.8396921   1.        ]\n",
      " [ 0.08589752  1.        ]\n",
      " [-0.08765053  1.        ]\n",
      " [-0.55044534  1.        ]\n",
      " [-1.41818561  1.        ]\n",
      " [-0.9553908   1.        ]\n",
      " [-0.31904794  1.        ]\n",
      " [ 1.01148714  1.        ]\n",
      " [-0.60829469  1.        ]\n",
      " [ 1.4164326   1.        ]\n",
      " [-0.55044534  1.        ]\n",
      " [-1.0710895   1.        ]\n",
      " [-0.89754145  1.        ]\n",
      " [-0.20334923  1.        ]\n",
      " [-0.49259599  1.        ]\n",
      " [ 0.72224038  1.        ]\n",
      " [ 0.25944558  1.        ]\n",
      " [-0.20334923  1.        ]\n",
      " [-0.7239934   1.        ]\n",
      " [-0.14549988  1.        ]\n",
      " [ 0.37514428  1.        ]\n",
      " [ 0.89578844  1.        ]\n",
      " [-0.49259599  1.        ]\n",
      " [ 0.72224038  1.        ]\n",
      " [ 0.02804817  1.        ]\n",
      " [-0.8396921   1.        ]\n",
      " [-0.14549988  1.        ]\n",
      " [ 1.24288455  1.        ]\n",
      " [-1.12893885  1.        ]\n",
      " [-0.43474664  1.        ]\n",
      " [-0.43474664  1.        ]]\n"
     ]
    }
   ],
   "source": [
    "print(X)"
   ]
  },
  {
   "cell_type": "code",
   "execution_count": null,
   "metadata": {},
   "outputs": [],
   "source": []
  }
 ],
 "metadata": {
  "kernelspec": {
   "display_name": "Python 3",
   "language": "python",
   "name": "python3"
  },
  "language_info": {
   "codemirror_mode": {
    "name": "ipython",
    "version": 3
   },
   "file_extension": ".py",
   "mimetype": "text/x-python",
   "name": "python",
   "nbconvert_exporter": "python",
   "pygments_lexer": "ipython3",
   "version": "3.6.1"
  }
 },
 "nbformat": 4,
 "nbformat_minor": 2
}
