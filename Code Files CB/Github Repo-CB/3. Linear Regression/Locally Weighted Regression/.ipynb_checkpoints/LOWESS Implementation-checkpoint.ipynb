{
 "cells": [
  {
   "cell_type": "markdown",
   "metadata": {},
   "source": [
    "## Locally Weighted Regression\n",
    "1) Read and Normalise the Dataset \n",
    "\n",
    "2) Generate W for every query point!\n",
    "\n",
    "3) No training is involved, directly make predictions using closed form solution we dervied!\n",
    "\n",
    "`(X′WX)inv * X′WY` where X' is X_Transpose\n",
    "\n",
    "4) Find the best value of Tau(Bandwidth Parameter) [Cross Validation]"
   ]
  },
  {
   "cell_type": "markdown",
   "metadata": {},
   "source": [
    "## 1. Loading Data"
   ]
  },
  {
   "cell_type": "code",
   "execution_count": 1,
   "metadata": {},
   "outputs": [],
   "source": [
    "import numpy as np\n",
    "import matplotlib.pyplot as plt\n",
    "import pandas as pd\n",
    "%matplotlib inline"
   ]
  },
  {
   "cell_type": "code",
   "execution_count": 2,
   "metadata": {},
   "outputs": [],
   "source": [
    "dfx = pd.read_csv('../../Datasets/Locally Weighted Regression/weightedX.csv')\n",
    "dfy = pd.read_csv('../../Datasets/Locally Weighted Regression/weightedY.csv')\n"
   ]
  },
  {
   "cell_type": "code",
   "execution_count": 3,
   "metadata": {},
   "outputs": [],
   "source": [
    "X = dfx.values\n",
    "Y = dfy.values"
   ]
  },
  {
   "cell_type": "code",
   "execution_count": 4,
   "metadata": {},
   "outputs": [
    {
     "name": "stdout",
     "output_type": "stream",
     "text": [
      "(99, 1)\n",
      "(99, 1)\n"
     ]
    }
   ],
   "source": [
    "print(X.shape)\n",
    "print(Y.shape)"
   ]
  },
  {
   "cell_type": "code",
   "execution_count": 5,
   "metadata": {},
   "outputs": [],
   "source": [
    "plt.style.use(\"seaborn\")"
   ]
  },
  {
   "cell_type": "code",
   "execution_count": 6,
   "metadata": {},
   "outputs": [
    {
     "data": {
      "image/png": "[encoded data removed]",
      "text/plain": [
       "<Figure size 576x396 with 1 Axes>"
      ]
     },
     "metadata": {},
     "output_type": "display_data"
    }
   ],
   "source": [
    "#Normalisze the Data\n",
    "\n",
    "u = X.mean()\n",
    "std = X.std()\n",
    "X = (X-u)/std\n",
    "\n",
    "plt.title(\"Normalized Data\")\n",
    "plt.scatter(X,Y)\n",
    "plt.show()\n"
   ]
  },
  {
   "cell_type": "markdown",
   "metadata": {},
   "source": [
    "## 2. Find out W (mxm) diagonal matrix"
   ]
  },
  {
   "cell_type": "code",
   "execution_count": 7,
   "metadata": {},
   "outputs": [],
   "source": [
    "#print(type(np.mat(np.eye(5))))\n",
    "\n",
    "#a*b ==> a,b -->matrices -->Matrix Multicplication\n",
    "#a*b ==>? a,b -->arrays --->Element Wise "
   ]
  },
  {
   "cell_type": "code",
   "execution_count": 8,
   "metadata": {},
   "outputs": [],
   "source": [
    "def getW(query_point,X,tau):\n",
    "    M = X.shape[0]\n",
    "    W = np.mat(np.eye(M))\n",
    "    \n",
    "    for i in range(M):\n",
    "        xi = X[i]\n",
    "        x  = query_point\n",
    "        W[i,i] =  np.exp(np.dot((xi-x),(xi-x).T)/(-2*tau*tau))\n",
    "    return W"
   ]
  },
  {
   "cell_type": "code",
   "execution_count": 9,
   "metadata": {},
   "outputs": [
    {
     "name": "stdout",
     "output_type": "stream",
     "text": [
      "(99, 99)\n",
      "[[0.99997933 0.         0.         ... 0.         0.         0.        ]\n",
      " [0.         0.99999834 0.         ... 0.         0.         0.        ]\n",
      " [0.         0.         0.99997917 ... 0.         0.         0.        ]\n",
      " ...\n",
      " [0.         0.         0.         ... 0.99994881 0.         0.        ]\n",
      " [0.         0.         0.         ... 0.         0.99987121 0.        ]\n",
      " [0.         0.         0.         ... 0.         0.         0.99975348]]\n"
     ]
    }
   ],
   "source": [
    "X = np.mat(X)\n",
    "Y = np.mat(Y)\n",
    "M = X.shape[0]\n",
    "\n",
    "W = getW(-1,X,100)\n",
    "print(W.shape)\n",
    "print(W)"
   ]
  },
  {
   "cell_type": "markdown",
   "metadata": {},
   "source": [
    "### 3. Make Predictions"
   ]
  },
  {
   "cell_type": "code",
   "execution_count": null,
   "metadata": {},
   "outputs": [],
   "source": []
  },
  {
   "cell_type": "code",
   "execution_count": null,
   "metadata": {},
   "outputs": [],
   "source": []
  },
  {
   "cell_type": "code",
   "execution_count": null,
   "metadata": {},
   "outputs": [],
   "source": []
  }
 ],
 "metadata": {
  "kernelspec": {
   "display_name": "Python 3",
   "language": "python",
   "name": "python3"
  },
  "language_info": {
   "codemirror_mode": {
    "name": "ipython",
    "version": 3
   },
   "file_extension": ".py",
   "mimetype": "text/x-python",
   "name": "python",
   "nbconvert_exporter": "python",
   "pygments_lexer": "ipython3",
   "version": "3.6.1"
  }
 },
 "nbformat": 4,
 "nbformat_minor": 2
}
