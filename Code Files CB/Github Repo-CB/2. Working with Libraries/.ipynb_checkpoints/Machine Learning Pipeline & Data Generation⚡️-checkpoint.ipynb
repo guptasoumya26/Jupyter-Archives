{
 "cells": [
  {
   "cell_type": "markdown",
   "metadata": {},
   "source": [
    "### Machine Learning Pipeline\n",
    "- Data Generation / Collection\n",
    "- Data Cleaning / Feature Engineering\n",
    "- Algorithms to find interesting patterns\n",
    "- Deployment\n",
    "\n",
    "    \n",
    "![](https://i.imgur.com/ne4CZMz.png)"
   ]
  },
  {
   "cell_type": "markdown",
   "metadata": {},
   "source": [
    "### Data Science LifeCycle\n",
    "\n",
    "1. Collect Data - **Acquire or Generate**  \n",
    "\n",
    "2. Understand the structure of the data - **Prepare**  \n",
    "   \n",
    "   \n",
    "3. Build Predictive Models around the Data - **Analyse**  \n",
    "    Iterative Process  \n",
    "    Setup - Try - Do  \n",
    "    Good Bit: Error Minimization Framework = f(Experience)\n",
    "\n",
    "    \n",
    "4. Put them into practice  - **Act**  \n",
    "Let the business people take over\n"
   ]
  },
  {
   "cell_type": "markdown",
   "metadata": {},
   "source": [
    "## Types of problems in Supervised Learning\n",
    "\n",
    "### Regression \n",
    "  Output is a Continuous value\n",
    "  Examples - \n",
    "  - Predicting weather \n",
    "  - stock prices, \n",
    "  - air quality, \n",
    "  - Predicting marks, and so on...\n",
    "  \n",
    "### Classification\n",
    "  Output is discrete class or lable.\n",
    "  - Apple or Mango, \n",
    "  - Cat or Not, \n",
    "  - Movie Rating 1,2,3,4 or 5 given text of the review\n",
    "  "
   ]
  },
  {
   "cell_type": "code",
   "execution_count": 19,
   "metadata": {},
   "outputs": [],
   "source": [
    "import numpy as np\n",
    "import matplotlib.pyplot as plt"
   ]
  },
  {
   "cell_type": "code",
   "execution_count": 14,
   "metadata": {},
   "outputs": [],
   "source": []
  },
  {
   "cell_type": "code",
   "execution_count": null,
   "metadata": {},
   "outputs": [],
   "source": []
  },
  {
   "cell_type": "code",
   "execution_count": null,
   "metadata": {},
   "outputs": [],
   "source": []
  }
 ],
 "metadata": {
  "kernelspec": {
   "display_name": "Python 3",
   "language": "python",
   "name": "python3"
  },
  "language_info": {
   "codemirror_mode": {
    "name": "ipython",
    "version": 3
   },
   "file_extension": ".py",
   "mimetype": "text/x-python",
   "name": "python",
   "nbconvert_exporter": "python",
   "pygments_lexer": "ipython3",
   "version": "3.6.1"
  }
 },
 "nbformat": 4,
 "nbformat_minor": 2
}
