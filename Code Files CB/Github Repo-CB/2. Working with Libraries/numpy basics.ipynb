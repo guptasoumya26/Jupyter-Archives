{
 "cells": [
  {
   "cell_type": "markdown",
   "metadata": {},
   "source": [
    "### Working with Numpy - for mathematical operations"
   ]
  },
  {
   "cell_type": "code",
   "execution_count": 1,
   "metadata": {},
   "outputs": [],
   "source": [
    "import numpy as np"
   ]
  },
  {
   "cell_type": "code",
   "execution_count": 6,
   "metadata": {},
   "outputs": [
    {
     "name": "stdout",
     "output_type": "stream",
     "text": [
      "[1 2 3 4 5]\n",
      "<class 'numpy.ndarray'>\n",
      "(5,)\n"
     ]
    }
   ],
   "source": [
    "a = np.array([1,2,3,4,5])\n",
    "print(a)\n",
    "print(type(a))\n",
    "\n",
    "print(a.shape)"
   ]
  },
  {
   "cell_type": "code",
   "execution_count": 7,
   "metadata": {},
   "outputs": [
    {
     "name": "stdout",
     "output_type": "stream",
     "text": [
      "[[1]\n",
      " [2]\n",
      " [3]\n",
      " [4]\n",
      " [5]]\n",
      "(5, 1)\n"
     ]
    }
   ],
   "source": [
    "b = np.array([[1],[2],[3],[4],[5]])\n",
    "print(b)\n",
    "print(b.shape)"
   ]
  },
  {
   "cell_type": "code",
   "execution_count": 9,
   "metadata": {},
   "outputs": [
    {
     "name": "stdout",
     "output_type": "stream",
     "text": [
      "[[1 2 3]\n",
      " [4 5 6]]\n",
      "(2, 3)\n",
      "5\n"
     ]
    }
   ],
   "source": [
    "c = np.array([[1,2,3],[4,5,6]])\n",
    "print(c)\n",
    "print(c.shape)\n",
    "print(c[1][1])"
   ]
  },
  {
   "cell_type": "code",
   "execution_count": 14,
   "metadata": {},
   "outputs": [
    {
     "name": "stdout",
     "output_type": "stream",
     "text": [
      "[[0. 0. 0.]\n",
      " [0. 0. 0.]\n",
      " [0. 0. 0.]]\n",
      "[[1. 1. 1.]\n",
      " [1. 1. 1.]]\n",
      "[[5 5]\n",
      " [5 5]\n",
      " [5 5]]\n",
      "[[1. 0. 0. 0.]\n",
      " [0. 1. 0. 0.]\n",
      " [0. 0. 1. 0.]\n",
      " [0. 0. 0. 1.]]\n",
      "[[0.37754576 0.43131543 0.62769984]\n",
      " [0.98280604 0.73310827 0.77739381]]\n"
     ]
    }
   ],
   "source": [
    "# Create Zeros, Ones, Custom array\n",
    "a = np.zeros((3,3))\n",
    "print(a)\n",
    "\n",
    "b = np.ones((2,3))\n",
    "print(b)\n",
    "\n",
    "#Array of some constants\n",
    "c = np.full((3,2),5)\n",
    "print(c)\n",
    "\n",
    "#Identity Matrix - Size/Square matrix\n",
    "d = np.eye(4)\n",
    "print(d)\n",
    "\n",
    "#Random Matrix\n",
    "randomMatrix = np.random.random((2,3))\n",
    "print(randomMatrix)\n"
   ]
  },
  {
   "cell_type": "code",
   "execution_count": 16,
   "metadata": {},
   "outputs": [
    {
     "name": "stdout",
     "output_type": "stream",
     "text": [
      "[0.62769984 0.77739381]\n"
     ]
    }
   ],
   "source": [
    "print(randomMatrix[ : ,2])"
   ]
  },
  {
   "cell_type": "code",
   "execution_count": 18,
   "metadata": {},
   "outputs": [
    {
     "name": "stdout",
     "output_type": "stream",
     "text": [
      "[[0.37754576 0.43131543 0.62769984]\n",
      " [0.98280604 1.         1.        ]]\n"
     ]
    }
   ],
   "source": [
    "randomMatrix[1,1:3] = 1 # Slicing\n",
    "print(randomMatrix)"
   ]
  },
  {
   "cell_type": "code",
   "execution_count": 22,
   "metadata": {},
   "outputs": [
    {
     "name": "stdout",
     "output_type": "stream",
     "text": [
      "[[0 0 0]\n",
      " [0 0 0]\n",
      " [0 0 0]]\n",
      "[[0 0 7]\n",
      " [5 5 7]\n",
      " [0 0 7]]\n"
     ]
    }
   ],
   "source": [
    "## Set some rows and columns with any values\n",
    "z = np.zeros((3,3),dtype = np.int64)\n",
    "print(z)\n",
    "z[1,:] = 5\n",
    "z[ :,-1] = 7\n",
    "print(z)\n"
   ]
  },
  {
   "cell_type": "code",
   "execution_count": 23,
   "metadata": {},
   "outputs": [
    {
     "name": "stdout",
     "output_type": "stream",
     "text": [
      "int64\n"
     ]
    }
   ],
   "source": [
    "# Datatypes \n",
    "print(z.dtype)"
   ]
  },
  {
   "cell_type": "code",
   "execution_count": 26,
   "metadata": {},
   "outputs": [
    {
     "name": "stdout",
     "output_type": "stream",
     "text": [
      "[[ 6  8]\n",
      " [10 12]]\n",
      "[[ 6  8]\n",
      " [10 12]]\n",
      "[[-4 -4]\n",
      " [-4 -4]]\n",
      "[[-4 -4]\n",
      " [-4 -4]]\n"
     ]
    }
   ],
   "source": [
    "#Matematical Operations\n",
    "\n",
    "x = np.array([[1,2],[3,4]])\n",
    "y = np.array([[5,6],[7,8]])\n",
    "\n",
    "#Element Wise Addition\n",
    "print(x+y)\n",
    "print(np.add(x,y))\n",
    "print(x-y)\n",
    "print(np.subtract(x,y))"
   ]
  },
  {
   "cell_type": "code",
   "execution_count": 29,
   "metadata": {},
   "outputs": [
    {
     "name": "stdout",
     "output_type": "stream",
     "text": [
      "[[ 5 12]\n",
      " [21 32]]\n",
      "[[ 5 12]\n",
      " [21 32]]\n",
      "[[0.2        0.33333333]\n",
      " [0.42857143 0.5       ]]\n",
      "[[0.2        0.33333333]\n",
      " [0.42857143 0.5       ]]\n",
      "[[1.         1.41421356]\n",
      " [1.73205081 2.        ]]\n"
     ]
    }
   ],
   "source": [
    "print(x*y)\n",
    "print(np.multiply(x,y))\n",
    "print(x/y)\n",
    "print(np.divide(x,y))\n",
    "print(np.sqrt(x))"
   ]
  },
  {
   "cell_type": "code",
   "execution_count": 32,
   "metadata": {},
   "outputs": [
    {
     "name": "stdout",
     "output_type": "stream",
     "text": [
      "[[1 2]\n",
      " [3 4]]\n",
      "[[5 6]\n",
      " [7 8]]\n",
      "[[19 22]\n",
      " [43 50]]\n",
      "[[19 22]\n",
      " [43 50]]\n"
     ]
    }
   ],
   "source": [
    "# Matrix Multiplication / Dot Products\n",
    "print(x)\n",
    "print(y)\n",
    "\n",
    "print(x.dot(y))\n",
    "print(np.dot(x,y))\n"
   ]
  },
  {
   "cell_type": "code",
   "execution_count": 58,
   "metadata": {},
   "outputs": [
    {
     "name": "stdout",
     "output_type": "stream",
     "text": [
      "30\n"
     ]
    }
   ],
   "source": [
    "#Multiplication(Dot Product) of Vectors => Scalar\n",
    "a = np.array([1,2,3,4])\n",
    "b = np.array([1,2,3,4])\n",
    "print(a.dot(b))\n",
    "\n"
   ]
  },
  {
   "cell_type": "code",
   "execution_count": 36,
   "metadata": {},
   "outputs": [
    {
     "name": "stdout",
     "output_type": "stream",
     "text": [
      "[1 2 3 4]\n"
     ]
    }
   ],
   "source": [
    "print(a)"
   ]
  },
  {
   "cell_type": "code",
   "execution_count": 37,
   "metadata": {},
   "outputs": [
    {
     "name": "stdout",
     "output_type": "stream",
     "text": [
      "10\n"
     ]
    }
   ],
   "source": [
    "print(sum(a))"
   ]
  },
  {
   "cell_type": "code",
   "execution_count": 38,
   "metadata": {},
   "outputs": [
    {
     "name": "stdout",
     "output_type": "stream",
     "text": [
      "[[1 2]\n",
      " [3 4]]\n"
     ]
    }
   ],
   "source": [
    "print(x)"
   ]
  },
  {
   "cell_type": "code",
   "execution_count": 41,
   "metadata": {},
   "outputs": [
    {
     "name": "stdout",
     "output_type": "stream",
     "text": [
      "10\n",
      "[3 7]\n"
     ]
    }
   ],
   "source": [
    "print(np.sum(x))\n",
    "print(np.sum(x,axis=1))"
   ]
  },
  {
   "cell_type": "code",
   "execution_count": 59,
   "metadata": {},
   "outputs": [
    {
     "name": "stdout",
     "output_type": "stream",
     "text": [
      "[1 2 3 4]\n",
      "[6 7 8 9]\n"
     ]
    }
   ],
   "source": [
    "# Stacking of arrays\n",
    "print(a)\n",
    "b = b + 5\n",
    "print(b)"
   ]
  },
  {
   "cell_type": "code",
   "execution_count": 60,
   "metadata": {},
   "outputs": [],
   "source": [
    "a = np.stack((a,b),axis=0)"
   ]
  },
  {
   "cell_type": "code",
   "execution_count": 68,
   "metadata": {},
   "outputs": [
    {
     "name": "stdout",
     "output_type": "stream",
     "text": [
      "[[1 2 3 4]\n",
      " [6 7 8 9]]\n"
     ]
    }
   ],
   "source": [
    "# Reshape a Numpy Array\n",
    "#print(a)\n",
    "a = a.reshape((-1,4))\n",
    "print(a)"
   ]
  },
  {
   "cell_type": "markdown",
   "metadata": {},
   "source": [
    "# Some More Numpy Functions - Statistics\n",
    "- min, max\n",
    "- mean \n",
    "- median\n",
    "- average\n",
    "- variance\n",
    "- standard devidation\n"
   ]
  },
  {
   "cell_type": "code",
   "execution_count": 93,
   "metadata": {},
   "outputs": [
    {
     "name": "stdout",
     "output_type": "stream",
     "text": [
      "[[1 2 3 4]\n",
      " [7 6 2 0]]\n",
      "0\n",
      "[1 2 2 0]\n",
      "[1 0]\n"
     ]
    }
   ],
   "source": [
    "a = np.array([[1,2,3,4],[7,6,2,0]])\n",
    "print(a)\n",
    "print(np.min(a))\n",
    "#Specify axis for the direction in case of multidim array\n",
    "print(np.min(a,axis=0))\n",
    "print(np.min(a,axis=1))\n",
    "\n"
   ]
  },
  {
   "cell_type": "code",
   "execution_count": 99,
   "metadata": {},
   "outputs": [
    {
     "name": "stdout",
     "output_type": "stream",
     "text": [
      "3.0\n",
      "3.0\n",
      "[4.  4.  2.5 2. ]\n",
      "[2.5  3.75]\n"
     ]
    }
   ],
   "source": [
    "b = np.array([1,2,3,4,5])\n",
    "m = sum(b)/5\n",
    "print(m)\n",
    "\n",
    "print(np.mean(b))\n",
    "print(np.mean(a,axis=0))\n",
    "print(np.mean(a,axis=1))"
   ]
  },
  {
   "cell_type": "code",
   "execution_count": 111,
   "metadata": {},
   "outputs": [
    {
     "name": "stdout",
     "output_type": "stream",
     "text": [
      "2.0\n",
      "2.4\n",
      "2.4\n",
      "1.854723699099141\n",
      "1.854723699099141\n",
      "3.440000000000001\n",
      "3.4400000000000004\n"
     ]
    }
   ],
   "source": [
    "c = np.array([1,5,4,2,0])\n",
    "print(np.median(c))\n",
    "\n",
    "# Mean vs Average is Weighted\n",
    "print(np.mean(c))\n",
    "\n",
    "# Weights \n",
    "w = np.array([1,1,1,1,1])\n",
    "print(np.average(c,weights=w))\n",
    "\n",
    "# Standard Deviation\n",
    "u = np.mean(c)\n",
    "myStd = np.sqrt(np.mean(abs(c-u)**2))\n",
    "print(myStd)\n",
    "\n",
    "#Inbuilt Function\n",
    "dev= np.std(c)\n",
    "print(dev)\n",
    "\n",
    "#Variance\n",
    "print(myStd**2)\n",
    "print(np.var(c))"
   ]
  },
  {
   "cell_type": "markdown",
   "metadata": {},
   "source": [
    "# Numpy Random Module\n",
    "\n",
    "- rand : Random values in a given shape.\n",
    "- randn : Return a sample (or samples) from the “standard normal” distribution.\n",
    "- randint : Return random integers from low (inclusive) to high (exclusive).\n",
    "- random : Return random floats in the half-open interval [0.0, 1.0) \n",
    "- choice : Generates a random sample from a given 1-D array\n",
    "- Shuffle : Shuffles the contents of a sequence"
   ]
  },
  {
   "cell_type": "code",
   "execution_count": 113,
   "metadata": {},
   "outputs": [
    {
     "name": "stdout",
     "output_type": "stream",
     "text": [
      "[ 5  6  7  8  9 10 11 12 13 14]\n"
     ]
    }
   ],
   "source": [
    "a = np.arange(10) + 5\n",
    "print(a)"
   ]
  },
  {
   "cell_type": "code",
   "execution_count": 130,
   "metadata": {},
   "outputs": [
    {
     "name": "stdout",
     "output_type": "stream",
     "text": [
      "[7 7 8]\n"
     ]
    }
   ],
   "source": [
    "np.random.seed(1)\n",
    "np.random.shuffle(a)\n",
    "print(a)\n",
    "\n"
   ]
  },
  {
   "cell_type": "code",
   "execution_count": 126,
   "metadata": {},
   "outputs": [
    {
     "name": "stdout",
     "output_type": "stream",
     "text": [
      "[[ 0.15425552 -0.13847914  0.08830793]\n",
      " [-1.37581904  0.12538437 -0.78782392]]\n",
      "[7 7 8]\n",
      "4\n"
     ]
    }
   ],
   "source": [
    "#Returns values from a Standard Normal Distributions\n",
    "a = np.random.randn(2,3)\n",
    "print(a)\n",
    "\n",
    "a = np.random.randint(5,10,3)\n",
    "print(a)\n",
    "\n",
    "#Randoly pick one element from a array\n",
    "element = np.random.choice([1,4,3,2,11,27])\n",
    "print(element)\n"
   ]
  },
  {
   "cell_type": "code",
   "execution_count": null,
   "metadata": {},
   "outputs": [],
   "source": []
  }
 ],
 "metadata": {
  "kernelspec": {
   "display_name": "Python 3",
   "language": "python",
   "name": "python3"
  },
  "language_info": {
   "codemirror_mode": {
    "name": "ipython",
    "version": 3
   },
   "file_extension": ".py",
   "mimetype": "text/x-python",
   "name": "python",
   "nbconvert_exporter": "python",
   "pygments_lexer": "ipython3",
   "version": "3.6.4"
  }
 },
 "nbformat": 4,
 "nbformat_minor": 2
}
