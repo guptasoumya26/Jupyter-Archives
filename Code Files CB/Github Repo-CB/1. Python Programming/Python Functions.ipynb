{
 "cells": [
  {
   "cell_type": "code",
   "execution_count": 18,
   "metadata": {},
   "outputs": [
    {
     "name": "stdout",
     "output_type": "stream",
     "text": [
      "1\n",
      "2\n",
      "(3, 4, 10, 14)\n",
      "<class 'tuple'>\n",
      "{'shake': 'OreoShake', 'drink': 'lemonade', 'fruit': 'Mango'}\n",
      "<class 'dict'>\n",
      "shake OreoShake\n",
      "drink lemonade\n",
      "fruit Mango\n"
     ]
    }
   ],
   "source": [
    "def fun(a,b,*x,**y):\n",
    "    print(a)\n",
    "    print(b)\n",
    "    print(x)\n",
    "    print(type(x))\n",
    "    print(y)\n",
    "    print(type(y))\n",
    "    \n",
    "    for k in y:\n",
    "        print(k,y[k])\n",
    "    \n",
    "    \n",
    "fun(1,2,3,4,10,14,shake=\"OreoShake\",drink=\"lemonade\",fruit=\"Mango\")"
   ]
  },
  {
   "cell_type": "code",
   "execution_count": 20,
   "metadata": {},
   "outputs": [],
   "source": []
  },
  {
   "cell_type": "code",
   "execution_count": null,
   "metadata": {},
   "outputs": [],
   "source": []
  }
 ],
 "metadata": {
  "kernelspec": {
   "display_name": "Python 3",
   "language": "python",
   "name": "python3"
  },
  "language_info": {
   "codemirror_mode": {
    "name": "ipython",
    "version": 3
   },
   "file_extension": ".py",
   "mimetype": "text/x-python",
   "name": "python",
   "nbconvert_exporter": "python",
   "pygments_lexer": "ipython3",
   "version": "3.6.4"
  }
 },
 "nbformat": 4,
 "nbformat_minor": 2
}
