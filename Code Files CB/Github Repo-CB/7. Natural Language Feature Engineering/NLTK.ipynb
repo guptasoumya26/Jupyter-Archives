{
 "cells": [
  {
   "cell_type": "code",
   "execution_count": 39,
   "metadata": {},
   "outputs": [],
   "source": [
    "from nltk.corpus import brown"
   ]
  },
  {
   "cell_type": "markdown",
   "metadata": {},
   "source": [
    "## Data Collection"
   ]
  },
  {
   "cell_type": "code",
   "execution_count": 40,
   "metadata": {},
   "outputs": [
    {
     "name": "stdout",
     "output_type": "stream",
     "text": [
      "['adventure', 'belles_lettres', 'editorial', 'fiction', 'government', 'hobbies', 'humor', 'learned', 'lore', 'mystery', 'news', 'religion', 'reviews', 'romance', 'science_fiction']\n"
     ]
    }
   ],
   "source": [
    "print(brown.categories())"
   ]
  },
  {
   "cell_type": "code",
   "execution_count": 41,
   "metadata": {},
   "outputs": [],
   "source": [
    "data = brown.sents(categories='editorial')[:100]"
   ]
  },
  {
   "cell_type": "code",
   "execution_count": 42,
   "metadata": {},
   "outputs": [
    {
     "name": "stdout",
     "output_type": "stream",
     "text": [
      "[['Assembly', 'session', 'brought', 'much', 'good'], ['The', 'General', 'Assembly', ',', 'which', 'adjourns', 'today', ',', 'has', 'performed', 'in', 'an', 'atmosphere', 'of', 'crisis', 'and', 'struggle', 'from', 'the', 'day', 'it', 'convened', '.'], ...]\n"
     ]
    }
   ],
   "source": [
    "print(data)"
   ]
  },
  {
   "cell_type": "code",
   "execution_count": 43,
   "metadata": {},
   "outputs": [
    {
     "name": "stdout",
     "output_type": "stream",
     "text": [
      "100\n"
     ]
    }
   ],
   "source": [
    "print(len(data))"
   ]
  },
  {
   "cell_type": "markdown",
   "metadata": {},
   "source": [
    "# Basic NLP Pipeline\n",
    "- Data Collection\n",
    "- Tokenization, Stopword, Stemming\n",
    "- Building a common vocab\n",
    "- Vectorizing the documents\n",
    "- Performing Classification/ Clustering"
   ]
  },
  {
   "cell_type": "markdown",
   "metadata": {},
   "source": [
    "### 2. Tokenization and Stopword Removal"
   ]
  },
  {
   "cell_type": "code",
   "execution_count": 44,
   "metadata": {},
   "outputs": [
    {
     "name": "stdout",
     "output_type": "stream",
     "text": [
      "It was a very pleasant day, the weather was cool and there were light showers. I went to the market to buy some fruits.\n"
     ]
    }
   ],
   "source": [
    "text = \"It was a very pleasant day, the weather was cool and there were light showers. I went to the market to buy some fruits.\"\n",
    "print(text)"
   ]
  },
  {
   "cell_type": "code",
   "execution_count": 45,
   "metadata": {},
   "outputs": [],
   "source": [
    "text = \"Send all the 50 documents related to clauses 1,2,3 at abc@xyz.com\""
   ]
  },
  {
   "cell_type": "code",
   "execution_count": 46,
   "metadata": {},
   "outputs": [],
   "source": [
    "from nltk.tokenize import sent_tokenize,word_tokenize"
   ]
  },
  {
   "cell_type": "code",
   "execution_count": 47,
   "metadata": {},
   "outputs": [
    {
     "name": "stdout",
     "output_type": "stream",
     "text": [
      "['Send all the 50 documents related to clauses 1,2,3 at abc@xyz.com']\n"
     ]
    }
   ],
   "source": [
    "sents = sent_tokenize(text)\n",
    "print(sents)"
   ]
  },
  {
   "cell_type": "code",
   "execution_count": 48,
   "metadata": {},
   "outputs": [
    {
     "name": "stdout",
     "output_type": "stream",
     "text": [
      "['send', 'all', 'the', '50', 'documents', 'related', 'to', 'clauses', '1,2,3', 'at', 'abc', '@', 'xyz.com']\n"
     ]
    }
   ],
   "source": [
    "word_list = word_tokenize(sents[0].lower())\n",
    "print(word_list)"
   ]
  },
  {
   "cell_type": "markdown",
   "metadata": {},
   "source": [
    "### Stopword Removal"
   ]
  },
  {
   "cell_type": "code",
   "execution_count": 49,
   "metadata": {},
   "outputs": [],
   "source": [
    "from nltk.corpus import stopwords\n",
    "\n",
    "sw  = set(stopwords.words('english'))"
   ]
  },
  {
   "cell_type": "code",
   "execution_count": 51,
   "metadata": {},
   "outputs": [
    {
     "name": "stdout",
     "output_type": "stream",
     "text": [
      "{'those', 'shan', \"weren't\", 'before', 'by', 'yourselves', 'as', \"mustn't\", 'such', 'then', 'couldn', 'o', 'and', 'most', 'while', \"hadn't\", 'when', 'once', 'mightn', 'needn', 'for', 'more', 'now', 'too', \"she's\", 'hers', 'because', 'do', 'aren', 'm', 'hadn', 'doesn', 'just', 'his', 've', \"wasn't\", 'out', 'll', 'haven', \"it's\", 'what', 'are', \"needn't\", 'ma', \"shouldn't\", 'that', 'they', 'in', 'i', \"that'll\", 'we', 'him', 'with', 'itself', 'against', \"haven't\", 'each', 'these', 're', 'up', 'herself', 'can', 'having', \"don't\", 'where', 'further', 'both', \"wouldn't\", \"you're\", 'so', 'below', 'above', 'am', 'you', 'had', 'has', 'their', 'mustn', 'about', 'only', \"you've\", 'ours', 'from', 'through', 'other', 'he', 'yours', 'be', 'under', 'wasn', 'over', 'no', \"shan't\", 'into', 'any', 'on', 'down', 'a', 'himself', 'my', 's', \"hasn't\", 'don', \"you'd\", 'which', 'off', 'same', 'did', 'was', \"isn't\", 'her', 'ourselves', 'been', 'being', 'very', 'won', \"doesn't\", \"won't\", 'who', 'weren', 'if', 'wouldn', 'nor', 'of', 'y', 'again', \"mightn't\", 'didn', 'themselves', 'until', 'is', 'there', 'your', 'doing', 'here', 'hasn', 'them', 'have', 'yourself', 'theirs', 'the', 'myself', 'after', \"couldn't\", \"aren't\", 'it', 'between', 'she', 'should', 'will', 'this', 'some', 'to', 't', 'few', 'its', 'an', \"should've\", 'me', 'shouldn', 'not', 'during', 'own', 'than', \"you'll\", 'how', 'but', 'd', 'ain', 'at', 'why', 'were', 'our', 'whom', 'or', \"didn't\", 'isn', 'does', 'all'}\n"
     ]
    }
   ],
   "source": [
    "print(sw)"
   ]
  },
  {
   "cell_type": "markdown",
   "metadata": {},
   "source": [
    "###  Filter the words from your sentence"
   ]
  },
  {
   "cell_type": "code",
   "execution_count": 52,
   "metadata": {},
   "outputs": [
    {
     "name": "stdout",
     "output_type": "stream",
     "text": [
      "['send', '50', 'documents', 'related', 'clauses', '1,2,3', 'abc', '@', 'xyz.com']\n"
     ]
    }
   ],
   "source": [
    "def filter_words(word_list):\n",
    "    useful_words = [w for w in word_list if w not in sw]\n",
    "    return useful_words\n",
    "\n",
    "    \n",
    "useful_words= filter_words(word_list)\n",
    "print(useful_words)"
   ]
  },
  {
   "cell_type": "markdown",
   "metadata": {},
   "source": [
    "### Tokenization using Regular Expression \n",
    "Problem with Word Tokenizer - Can't handle complex tokenizations ! So we use a Regexp Tokenizer Class in NLTK\n"
   ]
  },
  {
   "cell_type": "code",
   "execution_count": 53,
   "metadata": {},
   "outputs": [],
   "source": [
    "from nltk.tokenize import RegexpTokenizer"
   ]
  },
  {
   "cell_type": "code",
   "execution_count": 54,
   "metadata": {},
   "outputs": [],
   "source": [
    "tokenizer = RegexpTokenizer(\"[a-zA-Z@]+\")"
   ]
  },
  {
   "cell_type": "code",
   "execution_count": 55,
   "metadata": {},
   "outputs": [
    {
     "name": "stdout",
     "output_type": "stream",
     "text": [
      "['Send', 'all', 'the', 'documents', 'related', 'to', 'clauses', 'at', 'abc@xyz', 'com']\n"
     ]
    }
   ],
   "source": [
    "text = \"Send all the 50 documents related to clauses 1,2,3 at abc@xyz.com\"\n",
    "\n",
    "print(tokenizer.tokenize(text))"
   ]
  },
  {
   "cell_type": "markdown",
   "metadata": {},
   "source": [
    "## Stemming\n",
    "- Process that transforms particular words(verbs,plurals)into their radical form\n",
    "- Preserve the semantics of the sentence without increasing the number of unique tokens\n",
    "- jumps, jumping, jumped, jump ==> jump\n",
    "     "
   ]
  },
  {
   "cell_type": "code",
   "execution_count": 62,
   "metadata": {},
   "outputs": [
    {
     "name": "stdout",
     "output_type": "stream",
     "text": [
      "['foxes', 'love', 'to', 'make', 'jumps', 'the', 'quick', 'brown', 'fox', 'was', 'seen', 'jumping', 'over', 'the', 'lovely', 'dog', 'from', 'a', 'ft', 'feet', 'high', 'wall']\n"
     ]
    }
   ],
   "source": [
    "text= \"\"\"Foxes love to make jumps.The quick brown fox was seen jumping over the \n",
    "        lovely dog from a 6ft feet high wall\"\"\"\n",
    "\n",
    "words_list = tokenizer.tokenize(text.lower())\n",
    "print(words_list)"
   ]
  },
  {
   "cell_type": "code",
   "execution_count": 64,
   "metadata": {},
   "outputs": [
    {
     "name": "stdout",
     "output_type": "stream",
     "text": [
      "['foxes', 'love', 'make', 'jumps', 'quick', 'brown', 'fox', 'seen', 'jumping', 'lovely', 'dog', 'ft', 'feet', 'high', 'wall']\n"
     ]
    }
   ],
   "source": [
    "word_list = filter_words(words_list) #Remove the stopwords\n",
    "print(word_list)"
   ]
  },
  {
   "cell_type": "markdown",
   "metadata": {},
   "source": [
    "### Stemming \n",
    "\n",
    "- 1) Snowball Stemmer (Multilingual)\n",
    "- 2) Porter Stemmer \n",
    "- 3) LancasterStemmer\n",
    "\n"
   ]
  },
  {
   "cell_type": "code",
   "execution_count": 80,
   "metadata": {},
   "outputs": [],
   "source": [
    "from nltk.stem.snowball import PorterStemmer,SnowballStemmer\n",
    "from nltk.stem.lancaster import LancasterStemmer\n",
    "\n",
    "ps = PorterStemmer()"
   ]
  },
  {
   "cell_type": "code",
   "execution_count": 70,
   "metadata": {},
   "outputs": [
    {
     "data": {
      "text/plain": [
       "'jump'"
      ]
     },
     "execution_count": 70,
     "metadata": {},
     "output_type": "execute_result"
    }
   ],
   "source": [
    "ps.stem(\"jumped\")"
   ]
  },
  {
   "cell_type": "code",
   "execution_count": 69,
   "metadata": {},
   "outputs": [
    {
     "data": {
      "text/plain": [
       "'jump'"
      ]
     },
     "execution_count": 69,
     "metadata": {},
     "output_type": "execute_result"
    }
   ],
   "source": [
    "ps.stem(\"jumping\")"
   ]
  },
  {
   "cell_type": "code",
   "execution_count": 71,
   "metadata": {},
   "outputs": [
    {
     "data": {
      "text/plain": [
       "'love'"
      ]
     },
     "execution_count": 71,
     "metadata": {},
     "output_type": "execute_result"
    }
   ],
   "source": [
    "ps.stem(\"lovely\")"
   ]
  },
  {
   "cell_type": "code",
   "execution_count": 72,
   "metadata": {},
   "outputs": [
    {
     "data": {
      "text/plain": [
       "'awesom'"
      ]
     },
     "execution_count": 72,
     "metadata": {},
     "output_type": "execute_result"
    }
   ],
   "source": [
    "ps.stem(\"awesome\")"
   ]
  },
  {
   "cell_type": "code",
   "execution_count": 78,
   "metadata": {},
   "outputs": [
    {
     "name": "stdout",
     "output_type": "stream",
     "text": [
      "teenag\n",
      "teen\n"
     ]
    }
   ],
   "source": [
    "ls = LancasterStemmer()\n",
    "ls.stem(\"teeth\")\n",
    "\n",
    "print(ps.stem(\"teenager\")) #English\n",
    "print(ls.stem(\"teenager\")) #English"
   ]
  },
  {
   "cell_type": "code",
   "execution_count": 83,
   "metadata": {},
   "outputs": [
    {
     "name": "stdout",
     "output_type": "stream",
     "text": [
      "love\n",
      "teenag\n"
     ]
    }
   ],
   "source": [
    "# Snowball stemmer\n",
    "ss = SnowballStemmer('english')\n",
    "print(ss.stem('lovely'))\n",
    "print(ss.stem('teenager'))"
   ]
  },
  {
   "cell_type": "code",
   "execution_count": 87,
   "metadata": {},
   "outputs": [
    {
     "name": "stdout",
     "output_type": "stream",
     "text": [
      "courai\n"
     ]
    }
   ],
   "source": [
    "ss_french = SnowballStemmer('french')\n",
    "print(ss.stem('courais'))"
   ]
  },
  {
   "cell_type": "markdown",
   "metadata": {},
   "source": [
    "**Task** : Write one function which performs all the three steps - Tokenization, Stopword Removal, Stemming, remove any leading or trailing whitespaces\n"
   ]
  },
  {
   "cell_type": "markdown",
   "metadata": {},
   "source": [
    "## Lemmatization"
   ]
  },
  {
   "cell_type": "code",
   "execution_count": 107,
   "metadata": {},
   "outputs": [
    {
     "data": {
      "text/plain": [
       "'cry'"
      ]
     },
     "execution_count": 107,
     "metadata": {},
     "output_type": "execute_result"
    }
   ],
   "source": [
    "### Lemmatization (Try it yourself)\n",
    "from nltk.stem import WordNetLemmatizer\n",
    "\n",
    "l = WordNetLemmatizer()\n",
    "l.lemmatize(\"crying\")"
   ]
  },
  {
   "cell_type": "markdown",
   "metadata": {},
   "source": [
    "### Building Common Vocabulary and Vectorizing Documents (based upon Bag of Words Model)"
   ]
  },
  {
   "cell_type": "code",
   "execution_count": 93,
   "metadata": {},
   "outputs": [],
   "source": [
    "corpus = [\n",
    "        'Indian cricket team will wins World Cup, says Capt. Virat Kohli. World cup will be held at Sri Lanka.',\n",
    "        'We will win next Lok Sabha Elections, says confident Indian PM',\n",
    "        'The nobel laurate won the hearts of the people',\n",
    "        'The movie Raazi is an exciting Indian Spy thriller based upon a real story'\n",
    "]"
   ]
  },
  {
   "cell_type": "code",
   "execution_count": 15,
   "metadata": {},
   "outputs": [],
   "source": [
    "from sklearn.feature_extraction.text import CountVectorizer"
   ]
  },
  {
   "cell_type": "code",
   "execution_count": 16,
   "metadata": {},
   "outputs": [],
   "source": [
    "cv = CountVectorizer()"
   ]
  },
  {
   "cell_type": "code",
   "execution_count": 64,
   "metadata": {},
   "outputs": [],
   "source": [
    "vectorized_corpus = cv.fit_transform(corpus).toarray()"
   ]
  },
  {
   "cell_type": "code",
   "execution_count": 66,
   "metadata": {},
   "outputs": [
    {
     "name": "stdout",
     "output_type": "stream",
     "text": [
      "[[0 0 1 0 1 1 0 0 0 1 0 1 0 0 0 0 0 0 0 0 0 0 0 1 0 0 1 0 0 0 1 0 1 0 1 0\n",
      "  1]\n",
      " [0 0 0 1 0 0 1 0 0 1 0 0 0 1 0 1 0 0 0 1 0 0 1 1 0 0 0 0 0 0 0 1 1 1 0 0\n",
      "  0]\n",
      " [0 0 0 0 0 0 0 0 1 0 0 0 1 0 0 0 1 1 1 0 0 0 0 0 0 0 0 3 0 0 0 0 0 0 0 1\n",
      "  0]\n",
      " [1 1 0 0 0 0 0 1 0 1 1 0 0 0 1 0 0 0 0 0 1 1 0 0 1 1 0 1 1 1 0 0 0 0 0 0\n",
      "  0]]\n",
      "37\n"
     ]
    }
   ],
   "source": [
    "vectorized_corpus\n",
    "print(vectorized_corpus)\n",
    "print(len(vectorized_corpus[0]))"
   ]
  },
  {
   "cell_type": "code",
   "execution_count": 59,
   "metadata": {},
   "outputs": [
    {
     "name": "stdout",
     "output_type": "stream",
     "text": [
      "{'indian': 9, 'cricket': 4, 'team': 26, 'will': 32, 'wins': 34, 'world': 36, 'cup': 5, 'says': 23, 'capt': 2, 'virat': 30, 'kohli': 11, 'we': 31, 'win': 33, 'next': 15, 'lok': 13, 'sabha': 22, 'elections': 6, 'confident': 3, 'pm': 19, 'the': 27, 'nobel': 16, 'laurate': 12, 'won': 35, 'hearts': 8, 'of': 17, 'people': 18, 'movie': 14, 'raazi': 20, 'is': 10, 'an': 0, 'exciting': 7, 'spy': 24, 'thriller': 28, 'based': 1, 'upon': 29, 'real': 21, 'story': 25}\n"
     ]
    }
   ],
   "source": [
    "print(cv.vocabulary_) #Dictionary - Word -> Index"
   ]
  },
  {
   "cell_type": "code",
   "execution_count": 60,
   "metadata": {},
   "outputs": [
    {
     "name": "stdout",
     "output_type": "stream",
     "text": [
      "[1. 1. 1. 0. 0. 0. 0. 1. 1. 1. 1. 1. 1. 1. 1. 1. 1. 1. 1. 1. 1. 1. 1. 1.\n",
      " 1. 1. 1. 1. 1. 1. 1. 1. 1. 1. 1. 1. 1.]\n",
      "37\n"
     ]
    }
   ],
   "source": [
    "# Given a Vector what is the sentenence \n",
    "import numpy as np\n",
    "vector = np.ones((37,))\n",
    "vector[3:7] = 0\n",
    "\n",
    "print(vector)\n",
    "print(len(vector))"
   ]
  },
  {
   "cell_type": "code",
   "execution_count": 61,
   "metadata": {},
   "outputs": [
    {
     "name": "stdout",
     "output_type": "stream",
     "text": [
      "[array(['an', 'based', 'capt', 'exciting', 'hearts', 'indian', 'is',\n",
      "       'kohli', 'laurate', 'lok', 'movie', 'next', 'nobel', 'of',\n",
      "       'people', 'pm', 'raazi', 'real', 'sabha', 'says', 'spy', 'story',\n",
      "       'team', 'the', 'thriller', 'upon', 'virat', 'we', 'will', 'win',\n",
      "       'wins', 'won', 'world'], dtype='<U9')]\n"
     ]
    }
   ],
   "source": [
    "print(cv.inverse_transform(vector))"
   ]
  },
  {
   "cell_type": "code",
   "execution_count": 62,
   "metadata": {},
   "outputs": [
    {
     "data": {
      "text/plain": [
       "2"
      ]
     },
     "execution_count": 62,
     "metadata": {},
     "output_type": "execute_result"
    }
   ],
   "source": [
    "cv.vocabulary_[\"capt\"]"
   ]
  },
  {
   "cell_type": "code",
   "execution_count": 68,
   "metadata": {},
   "outputs": [
    {
     "data": {
      "text/plain": [
       "['indian',\n",
       " 'cricket',\n",
       " 'team',\n",
       " 'wins',\n",
       " 'world',\n",
       " 'cup',\n",
       " 'says',\n",
       " 'capt',\n",
       " 'virat',\n",
       " 'kohli']"
      ]
     },
     "execution_count": 68,
     "metadata": {},
     "output_type": "execute_result"
    }
   ],
   "source": [
    "### Effectively reduce the size of the vector\n",
    "\n",
    "def myTokenizer(sentence):\n",
    "    words = tokenizer.tokenize(sentence.lower())\n",
    "    return filter_words(words) #Filter out the stopwords\n",
    "\n",
    "myTokenizer(corpus[0])\n",
    "\n"
   ]
  },
  {
   "cell_type": "code",
   "execution_count": 80,
   "metadata": {},
   "outputs": [
    {
     "name": "stdout",
     "output_type": "stream",
     "text": [
      "[0 1 0 1 1 0 0 0 1 1 0 0 0 0 0 0 0 0 0 0 1 0 0 1 0 0 1 0 1 1]\n",
      "30\n",
      "[1 1 0 1 1 0 0 0 1 1 0 0 0 0 0 0 0 0 0 0 1 0 0 1 0 0 1 0 1 1]\n"
     ]
    },
    {
     "data": {
      "text/plain": [
       "[array(['based', 'capt', 'cricket', 'cup', 'indian', 'kohli', 'says',\n",
       "        'team', 'virat', 'wins', 'world'], dtype='<U9')]"
      ]
     },
     "execution_count": 80,
     "metadata": {},
     "output_type": "execute_result"
    }
   ],
   "source": [
    "cv = CountVectorizer(tokenizer=myTokenizer)\n",
    "vectorized_corpus = cv.fit_transform(corpus)\n",
    "vc = vectorized_corpus.toarray()\n",
    "print(vc[0])\n",
    "print(len(vc[0]))\n",
    "\n",
    "vc[0][0] = 1\n",
    "v = vc[0]\n",
    "print(vc[0])\n",
    "cv.inverse_transform(v)"
   ]
  },
  {
   "cell_type": "markdown",
   "metadata": {},
   "source": [
    "### Features in Bag of Words Model\n",
    "- Unigrams\n",
    "- Bigrams, Trigrams\n",
    "- N-Grams"
   ]
  },
  {
   "cell_type": "code",
   "execution_count": 91,
   "metadata": {},
   "outputs": [
    {
     "name": "stdout",
     "output_type": "stream",
     "text": [
      "{'indian': 8, 'cricket': 3, 'team': 23, 'wins': 28, 'world': 29, 'cup': 4, 'says': 20, 'capt': 1, 'virat': 26, 'kohli': 9, 'win': 27, 'next': 13, 'lok': 11, 'sabha': 19, 'elections': 5, 'confident': 2, 'pm': 16, 'nobel': 14, 'laurate': 10, 'hearts': 7, 'people': 15, 'movie': 12, 'raazi': 17, 'exciting': 6, 'spy': 21, 'thriller': 24, 'based': 0, 'upon': 25, 'real': 18, 'story': 22}\n"
     ]
    }
   ],
   "source": [
    "cv = CountVectorizer(tokenizer=myTokenizer,ngram_range=(1,1))\n",
    "vectorized_corpus = cv.fit_transform(corpus)\n",
    "vc = vectorized_corpus.toarray()\n",
    "\n",
    "print(cv.vocabulary_)"
   ]
  },
  {
   "cell_type": "code",
   "execution_count": 90,
   "metadata": {},
   "outputs": [
    {
     "name": "stdout",
     "output_type": "stream",
     "text": [
      "84\n"
     ]
    }
   ],
   "source": [
    "print(len(vc[0]))"
   ]
  },
  {
   "cell_type": "markdown",
   "metadata": {},
   "source": [
    "# Tf-idf Normalisation\n",
    "- Avoid features that occur very often, becauase they contain less information\n",
    "- Information decreases as the number of occurences increases across different type of documents\n",
    "- So we define another term - term-document-frequency which associates a weight with every term"
   ]
  },
  {
   "cell_type": "code",
   "execution_count": 94,
   "metadata": {},
   "outputs": [],
   "source": [
    "from sklearn.feature_extraction.text import TfidfVectorizer"
   ]
  },
  {
   "cell_type": "code",
   "execution_count": 104,
   "metadata": {},
   "outputs": [
    {
     "name": "stdout",
     "output_type": "stream",
     "text": [
      "[[0.         0.2355126  0.         0.2355126  0.4710252  0.\n",
      "  0.         0.         0.2355126  0.15032464 0.2355126  0.2355126\n",
      "  0.         0.         0.         0.         0.         0.\n",
      "  0.         0.         0.         0.         0.18568084 0.\n",
      "  0.2355126  0.         0.2355126  0.         0.         0.2355126\n",
      "  0.         0.2355126  0.4710252 ]\n",
      " [0.         0.         0.35291425 0.         0.         0.35291425\n",
      "  0.         0.         0.         0.22526059 0.         0.\n",
      "  0.         0.35291425 0.         0.35291425 0.         0.\n",
      "  0.35291425 0.         0.         0.35291425 0.27824164 0.\n",
      "  0.         0.         0.         0.         0.         0.\n",
      "  0.35291425 0.         0.        ]\n",
      " [0.         0.         0.         0.         0.         0.\n",
      "  0.         0.5        0.         0.         0.         0.\n",
      "  0.5        0.         0.         0.         0.5        0.5\n",
      "  0.         0.         0.         0.         0.         0.\n",
      "  0.         0.         0.         0.         0.         0.\n",
      "  0.         0.         0.        ]\n",
      " [0.32603555 0.         0.         0.         0.         0.\n",
      "  0.32603555 0.         0.         0.20810427 0.         0.\n",
      "  0.         0.         0.32603555 0.         0.         0.\n",
      "  0.         0.32603555 0.32603555 0.         0.         0.32603555\n",
      "  0.         0.32603555 0.         0.32603555 0.32603555 0.\n",
      "  0.         0.         0.        ]]\n"
     ]
    }
   ],
   "source": [
    "tfidf_vectorizer = TfidfVectorizer(tokenizer=myTokenizer,ngram_range=(1,1),norm='l2')\n",
    "\n",
    "vectorized_corpus = tfidf_vectorizer.fit_transform(corpus).toarray()\n",
    "print(vectorized_corpus)\n"
   ]
  },
  {
   "cell_type": "code",
   "execution_count": 105,
   "metadata": {},
   "outputs": [
    {
     "name": "stdout",
     "output_type": "stream",
     "text": [
      "{'indian': 9, 'cricket': 3, 'team': 26, 'wins': 31, 'world': 32, 'cup': 4, 'says': 22, 'capt': 1, 'virat': 29, 'kohli': 10, 'held': 8, 'sri': 24, 'lanka': 11, 'win': 30, 'next': 15, 'lok': 13, 'sabha': 21, 'elections': 5, 'confident': 2, 'pm': 18, 'nobel': 16, 'laurate': 12, 'hearts': 7, 'people': 17, 'movie': 14, 'raazi': 19, 'exciting': 6, 'spy': 23, 'thriller': 27, 'based': 0, 'upon': 28, 'real': 20, 'story': 25}\n"
     ]
    }
   ],
   "source": [
    "print(tfidf_vectorizer.vocabulary_)"
   ]
  },
  {
   "cell_type": "code",
   "execution_count": null,
   "metadata": {},
   "outputs": [],
   "source": []
  }
 ],
 "metadata": {
  "kernelspec": {
   "display_name": "Python 3",
   "language": "python",
   "name": "python3"
  },
  "language_info": {
   "codemirror_mode": {
    "name": "ipython",
    "version": 3
   },
   "file_extension": ".py",
   "mimetype": "text/x-python",
   "name": "python",
   "nbconvert_exporter": "python",
   "pygments_lexer": "ipython3",
   "version": "3.6.1"
  }
 },
 "nbformat": 4,
 "nbformat_minor": 2
}
