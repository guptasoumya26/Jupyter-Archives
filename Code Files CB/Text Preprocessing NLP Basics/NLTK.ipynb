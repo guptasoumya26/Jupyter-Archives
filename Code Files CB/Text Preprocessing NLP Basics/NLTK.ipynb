{
 "cells": [
  {
   "cell_type": "code",
   "execution_count": 1,
   "metadata": {},
   "outputs": [],
   "source": [
    "import nltk"
   ]
  },
  {
   "cell_type": "code",
   "execution_count": null,
   "metadata": {},
   "outputs": [],
   "source": []
  },
  {
   "cell_type": "code",
   "execution_count": 2,
   "metadata": {},
   "outputs": [
    {
     "name": "stdout",
     "output_type": "stream",
     "text": [
      "['adventure', 'belles_lettres', 'editorial', 'fiction', 'government', 'hobbies', 'humor', 'learned', 'lore', 'mystery', 'news', 'religion', 'reviews', 'romance', 'science_fiction']\n"
     ]
    }
   ],
   "source": [
    "from nltk.corpus import brown\n",
    "print(brown.categories())"
   ]
  },
  {
   "cell_type": "code",
   "execution_count": 3,
   "metadata": {},
   "outputs": [
    {
     "name": "stdout",
     "output_type": "stream",
     "text": [
      "[['Assembly', 'session', 'brought', 'much', 'good'], ['The', 'General', 'Assembly', ',', 'which', 'adjourns', 'today', ',', 'has', 'performed', 'in', 'an', 'atmosphere', 'of', 'crisis', 'and', 'struggle', 'from', 'the', 'day', 'it', 'convened', '.'], ...]\n"
     ]
    }
   ],
   "source": [
    "data=brown.sents(categories='editorial')\n",
    "print(data)"
   ]
  },
  {
   "cell_type": "code",
   "execution_count": 4,
   "metadata": {},
   "outputs": [
    {
     "name": "stdout",
     "output_type": "stream",
     "text": [
      "2997\n"
     ]
    }
   ],
   "source": [
    "print(len(data))"
   ]
  },
  {
   "cell_type": "markdown",
   "metadata": {},
   "source": [
    "## Tokenization"
   ]
  },
  {
   "cell_type": "code",
   "execution_count": 11,
   "metadata": {},
   "outputs": [
    {
     "name": "stdout",
     "output_type": "stream",
     "text": [
      "It was a very pleasant day, the weather was cool and there were light showers. I went for buying snacks.\n"
     ]
    }
   ],
   "source": [
    "text=\"It was a very pleasant day, the weather was cool and there were light showers. I went for buying snacks.\"\n",
    "print(text)"
   ]
  },
  {
   "cell_type": "code",
   "execution_count": 15,
   "metadata": {},
   "outputs": [
    {
     "name": "stdout",
     "output_type": "stream",
     "text": [
      "['It was a very pleasant day, the weather was cool and there were light showers.', 'I went for buying snacks.']\n"
     ]
    }
   ],
   "source": [
    "from nltk.tokenize import sent_tokenize,word_tokenize\n",
    "\n",
    "sents=sent_tokenize(text)\n",
    "print(sents)"
   ]
  },
  {
   "cell_type": "code",
   "execution_count": 23,
   "metadata": {},
   "outputs": [
    {
     "name": "stdout",
     "output_type": "stream",
     "text": [
      "['it', 'was', 'a', 'very', 'pleasant', 'day', ',', 'the', 'weather', 'was', 'cool', 'and', 'there', 'were', 'light', 'showers', '.']\n"
     ]
    }
   ],
   "source": [
    "word_list=word_tokenize(sents[0].lower())\n",
    "print(word_list)"
   ]
  },
  {
   "cell_type": "markdown",
   "metadata": {},
   "source": [
    "## Stopword removal"
   ]
  },
  {
   "cell_type": "code",
   "execution_count": 24,
   "metadata": {},
   "outputs": [
    {
     "name": "stdout",
     "output_type": "stream",
     "text": [
      "{'while', 'i', 'won', 'needn', \"mustn't\", \"couldn't\", 'hasn', 'having', 'should', 'not', 'very', 'than', 'those', 'but', 'between', 'his', 'up', \"that'll\", 'does', 'only', \"shouldn't\", 'y', 'hers', 'was', 'she', 'her', \"you'd\", 'off', 'is', 'before', 'doesn', 'nor', 'above', \"should've\", 'ourselves', 'about', 'doing', 'are', 'to', 'when', 'himself', 'with', 'during', 'all', 'o', 'any', 'he', 'we', 'for', 'mustn', \"you'll\", 'against', \"hadn't\", 'him', \"it's\", \"she's\", 'too', 'am', 'because', \"won't\", 'were', 'do', \"aren't\", 'weren', 'into', 'me', 'so', 'ma', 's', 'yourself', 'this', 'being', 'same', 'wouldn', 'after', 'they', \"didn't\", 'which', 'has', 'be', 'its', 'and', 'their', 'at', 'both', 'd', 'them', 'then', 'ain', 'as', 'other', 'why', 'can', 'here', 'hadn', 'few', 'ours', 'on', 'myself', 'in', 'wasn', 'most', 'if', 'of', \"wasn't\", 'my', 'or', 'who', 'herself', 'just', 'such', 'out', 'shouldn', 'down', 'own', \"don't\", 'm', 'you', 'isn', 'our', 'yourselves', 've', 'don', 'a', \"wouldn't\", 'have', 'each', 'been', 'now', 'what', 'couldn', 'it', 'yours', \"shan't\", 'theirs', 'your', 'the', 'did', 'll', \"needn't\", \"mightn't\", 'below', \"doesn't\", 'how', 'under', 'these', 't', 'no', 'from', 're', \"you're\", 'whom', 'over', 'again', \"hasn't\", 'itself', 'by', 'further', 'aren', 'themselves', \"isn't\", \"you've\", 'until', 'shan', \"weren't\", 'once', 'there', 'more', 'haven', 'where', 'that', 'through', 'some', 'mightn', 'will', 'didn', 'had', \"haven't\", 'an'}\n",
      "\n",
      "179\n"
     ]
    }
   ],
   "source": [
    "from nltk.corpus import stopwords\n",
    "\n",
    "sw=set(stopwords.words('english'))\n",
    "print(sw)\n",
    "print()\n",
    "print(len(sw))"
   ]
  },
  {
   "cell_type": "markdown",
   "metadata": {},
   "source": [
    "## Filter the words from your sentence"
   ]
  },
  {
   "cell_type": "code",
   "execution_count": 25,
   "metadata": {},
   "outputs": [
    {
     "name": "stdout",
     "output_type": "stream",
     "text": [
      "['pleasant', 'day', ',', 'weather', 'cool', 'light', 'showers', '.']\n"
     ]
    }
   ],
   "source": [
    "useful_words=[w for w in word_list if w not in sw]\n",
    "print(useful_words)"
   ]
  },
  {
   "cell_type": "markdown",
   "metadata": {},
   "source": [
    "## Tokenization using Regular expression\n",
    "### Because word tokenizer can't handle complex tokenizations"
   ]
  },
  {
   "cell_type": "code",
   "execution_count": 26,
   "metadata": {},
   "outputs": [],
   "source": [
    "from nltk.tokenize import RegexpTokenizer\n",
    "\n",
    "tokenizer=RegexpTokenizer(\"[a-zA-z@]+\")"
   ]
  },
  {
   "cell_type": "code",
   "execution_count": 27,
   "metadata": {},
   "outputs": [
    {
     "name": "stdout",
     "output_type": "stream",
     "text": [
      "['Send', 'all', 'the', 'documents', 'related', 'to', 'clauses', 'at', 'abc@xyz', 'com']\n"
     ]
    }
   ],
   "source": [
    "text=\"Send all the 50 documents related to clauses 1,2,3 at abc@xyz.com\"\n",
    "print(tokenizer.tokenize(text))"
   ]
  },
  {
   "cell_type": "markdown",
   "metadata": {},
   "source": [
    "## Stemming and Lemmatization"
   ]
  },
  {
   "cell_type": "code",
   "execution_count": null,
   "metadata": {},
   "outputs": [],
   "source": []
  }
 ],
 "metadata": {
  "kernelspec": {
   "display_name": "Python 3",
   "language": "python",
   "name": "python3"
  },
  "language_info": {
   "codemirror_mode": {
    "name": "ipython",
    "version": 3
   },
   "file_extension": ".py",
   "mimetype": "text/x-python",
   "name": "python",
   "nbconvert_exporter": "python",
   "pygments_lexer": "ipython3",
   "version": "3.7.3"
  }
 },
 "nbformat": 4,
 "nbformat_minor": 2
}
