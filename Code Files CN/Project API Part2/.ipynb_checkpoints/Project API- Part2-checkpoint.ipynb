{
 "cells": [
  {
   "cell_type": "markdown",
   "metadata": {},
   "source": [
    "Q1) The dataset is highly skewed toward the cities included in Delhi-NCR. \n",
    "So, we will summarise all the other cities in Rest of India while those in New Delhi, Ghaziabad, Noida, Gurgaon, Faridabad to Delhi-NCR. \n",
    "\n",
    "Doing this would make our analysis turn toward Delhi-NCR v Rest of India."
   ]
  },
  {
   "cell_type": "code",
   "execution_count": null,
   "metadata": {},
   "outputs": [],
   "source": []
  },
  {
   "cell_type": "markdown",
   "metadata": {},
   "source": [
    "Que 1 -Part 1)Plot the bar graph of number of restaurants present in Delhi NCR vs Rest of India."
   ]
  },
  {
   "cell_type": "code",
   "execution_count": 33,
   "metadata": {},
   "outputs": [
    {
     "data": {
      "image/png": "[encoded data removed]",
      "text/plain": [
       "<Figure size 432x288 with 1 Axes>"
      ]
     },
     "metadata": {
      "needs_background": "light"
     },
     "output_type": "display_data"
    }
   ],
   "source": [
    "import pandas as pd\n",
    "import numpy as np\n",
    "import matplotlib.pyplot as pt\n",
    "iris=pd.read_csv(\"D:\\\\Dropbox\\\\zomato.csv\",encoding =\"ISO-8859-1\")\n",
    "df=iris.copy()\n",
    "df.columns = df.columns.str.strip().str.lower().str.replace(' ', '_').str.replace('(', '').str.replace(')', '')\n",
    "df=df[(df.country_code==1)]\n",
    "NCR=['New Delhi','Ghaziabad','Noida','Gurgaon','Faridabad']\n",
    "ncr_count=0\n",
    "rest=0\n",
    "\n",
    "for i in range(df.shape[0]):\n",
    "    if any(x in df.iloc[i,3] for x in NCR):\n",
    "        ncr_count=ncr_count+1\n",
    "    else:\n",
    "        rest=rest+1\n",
    "\n",
    "x=[\"Restaurants_In_DelhiNCR\",\"Resturants_In_RestOfIndia\"]\n",
    "y=[ncr_count,rest]\n",
    "pt.bar(x,y)\n",
    "pt.show()"
   ]
  },
  {
   "cell_type": "code",
   "execution_count": null,
   "metadata": {},
   "outputs": [],
   "source": []
  },
  {
   "cell_type": "markdown",
   "metadata": {},
   "source": [
    "Que 1 - Part 2) Find the cuisines which are not present in restaurant of Delhi NCR but present in rest of India.Check using Zomato API whether this cuisines are actually not served in restaurants of Delhi-NCR or just it due to incomplete dataset."
   ]
  },
  {
   "cell_type": "code",
   "execution_count": 2,
   "metadata": {},
   "outputs": [
    {
     "name": "stdout",
     "output_type": "stream",
     "text": [
      "BBQ\n",
      "German\n",
      "Malwani\n",
      "Cajun\n"
     ]
    }
   ],
   "source": [
    "import pandas as pd\n",
    "import matplotlib.pyplot as pt\n",
    "import numpy as np\n",
    "\n",
    "iris=pd.read_csv(\"D:\\\\Dropbox\\\\zomato.csv\",encoding =\"ISO-8859-1\")\n",
    "df=iris.copy()\n",
    "df.columns = df.columns.str.strip().str.lower().str.replace(' ', '_').str.replace('(', '').str.replace(')', '')\n",
    "\n",
    "df=df[(df.country_code==1)]\n",
    "ncr=[\"New Delhi\",\"Ghaziabad\",\"Noida\",\"Gurgaon\",\"Faridabad\"]\n",
    "\n",
    "d={}\n",
    "for i in range(df.shape[0]):\n",
    "    key=df.iloc[i,3]\n",
    "    value=df.iloc[i,9]\n",
    "    if key in d:\n",
    "        d[key]=d[key]+\",\"+value\n",
    "    else:\n",
    "        d[key]=value\n",
    "\n",
    "ncr_l=[]\n",
    "rest_l=[]\n",
    "for i in d:\n",
    "    if i in ncr:\n",
    "        l1=d[i].split(\",\")\n",
    "        for j in l1:\n",
    "            ncr_l.append(j)\n",
    "    else:\n",
    "        l2=d[i].split(\",\")\n",
    "        for j in l2:\n",
    "            rest_l.append(j)\n",
    "\n",
    "            \n",
    "s1=set()\n",
    "s2=set()\n",
    "for i in ncr_l:\n",
    "    i=i.strip()\n",
    "    s1.add(i)\n",
    "for i in rest_l:\n",
    "    i=i.strip()\n",
    "    s2.add(i)\n",
    "ncr_l=list(s1)\n",
    "rest_l=list(s2)\n",
    "\n",
    "for i in rest_l:\n",
    "    if i not in ncr_l:\n",
    "        print(i)\n"
   ]
  },
  {
   "cell_type": "code",
   "execution_count": null,
   "metadata": {},
   "outputs": [],
   "source": []
  },
  {
   "cell_type": "markdown",
   "metadata": {},
   "source": [
    "Que 1- Part 3) Find the top 10 cuisines served by maximum number of restaurants in Delhi NCR and rest of India."
   ]
  },
  {
   "cell_type": "code",
   "execution_count": 1,
   "metadata": {},
   "outputs": [
    {
     "data": {
      "text/markdown": [
       "*Delhi NCR Top 10 Cuisines Vs No. of Restaurants*"
      ],
      "text/plain": [
       "<IPython.core.display.Markdown object>"
      ]
     },
     "metadata": {},
     "output_type": "display_data"
    },
    {
     "name": "stdout",
     "output_type": "stream",
     "text": [
      "North Indian 3597\n",
      "Chinese 2448\n",
      "Fast Food 1866\n",
      "Mughlai 933\n",
      "Bakery 697\n",
      "South Indian 569\n",
      "Continental 547\n",
      "Desserts 542\n",
      "Street Food 538\n",
      "Italian 535\n",
      "\n"
     ]
    },
    {
     "data": {
      "text/markdown": [
       "*Non Delhi NCR Top 10 Cuisines Vs No. of Restaurants*"
      ],
      "text/plain": [
       "<IPython.core.display.Markdown object>"
      ]
     },
     "metadata": {},
     "output_type": "display_data"
    },
    {
     "name": "stdout",
     "output_type": "stream",
     "text": [
      "North Indian 349\n",
      "Chinese 242\n",
      "Continental 177\n",
      "Italian 147\n",
      "Cafe 136\n",
      "Fast Food 97\n",
      "South Indian 62\n",
      "Mughlai 59\n",
      "Desserts 55\n",
      "Mexican 50\n"
     ]
    }
   ],
   "source": [
    "import pandas as pd\n",
    "import matplotlib.pyplot as pt\n",
    "import numpy as np\n",
    "from IPython.display import display, Markdown\n",
    "iris=pd.read_csv(\"D:\\\\Dropbox\\\\zomato.csv\",encoding=\"iso-8859-1\")\n",
    "df=iris.copy()\n",
    "df.columns = df.columns.str.strip().str.lower().str.replace(' ', '_').str.replace('(', '').str.replace(')', '')\n",
    "\n",
    "df=df[(df.country_code==1)]\n",
    "ncr=[\"New Delhi\",\"Ghaziabad\",\"Noida\",\"Gurgaon\",\"Faridabad\"]\n",
    "\n",
    "#ncr calculation\n",
    "cuisine_list_ncr=[]\n",
    "for i in range(df.shape[0]):\n",
    "    if df.iloc[i,3] in ncr:\n",
    "        l=[]\n",
    "        l.append(df.iloc[i,9])\n",
    "        cuisine_list_ncr.append(l)\n",
    "cuisines_ncr=[]\n",
    "for i in cuisine_list_ncr:\n",
    "    for j in i:\n",
    "        l=j.split(\",\")\n",
    "        for k in l:\n",
    "            cuisines_ncr.append(k.strip())\n",
    "\n",
    "df1=pd.DataFrame(cuisines_ncr)\n",
    "\n",
    "vc=df1[0].value_counts()\n",
    "keys=vc.keys().tolist()\n",
    "values=vc.tolist()\n",
    "display(Markdown('*Delhi NCR Top 10 Cuisines Vs No. of Restaurants*'))\n",
    "\n",
    "for i in range(10):\n",
    "    print(keys[i],end=' ')\n",
    "    print(values[i])\n",
    "    \n",
    "#rest of india calculation\n",
    "print()\n",
    "cuisine_list_non_ncr=[]\n",
    "for i in range(df.shape[0]):\n",
    "    if df.iloc[i,3] not in ncr:\n",
    "        l=[]\n",
    "        l.append(df.iloc[i,9])\n",
    "        cuisine_list_non_ncr.append(l)\n",
    "cuisines_non_ncr=[]\n",
    "display(Markdown('*Non Delhi NCR Top 10 Cuisines Vs No. of Restaurants*'))\n",
    "for i in cuisine_list_non_ncr:\n",
    "    for j in i:\n",
    "        l=j.split(\",\")\n",
    "        for k in l:\n",
    "            cuisines_non_ncr.append(k.strip())\n",
    "\n",
    "df2=pd.DataFrame(cuisines_non_ncr)\n",
    "\n",
    "vc=df2[0].value_counts()\n",
    "keys=vc.keys().tolist()\n",
    "values=vc.tolist()\n",
    "for i in range(10):\n",
    "    print(keys[i],end=' ')\n",
    "    print(values[i])\n"
   ]
  },
  {
   "cell_type": "code",
   "execution_count": null,
   "metadata": {},
   "outputs": [],
   "source": []
  },
  {
   "cell_type": "markdown",
   "metadata": {},
   "source": [
    "Que1-Part4) Write a short detailed analysis of how cuisine served is different from Delhi NCR to Rest of India. Plot the suitable graph to explain your inference."
   ]
  },
  {
   "cell_type": "code",
   "execution_count": null,
   "metadata": {},
   "outputs": [],
   "source": []
  },
  {
   "cell_type": "markdown",
   "metadata": {},
   "source": [
    "Que2) User Rating of a restaurant plays a crucial role in selecting a restaurant or ordering the food from the restaurant."
   ]
  },
  {
   "cell_type": "markdown",
   "metadata": {},
   "source": [
    "Que 2-Part1) Write a short detail analysis of how the rating is affected by restaurant due following features: Plot a suitable graph to explain your inference.\n",
    "\n",
    "a) Number of Votes given Restaurant"
   ]
  },
  {
   "cell_type": "code",
   "execution_count": 37,
   "metadata": {},
   "outputs": [
    {
     "data": {
      "image/png": "[encoded data removed]",
      "text/plain": [
       "<Figure size 432x288 with 1 Axes>"
      ]
     },
     "metadata": {
      "needs_background": "light"
     },
     "output_type": "display_data"
    }
   ],
   "source": [
    "import pandas as pd\n",
    "import matplotlib.pyplot as pt\n",
    "import numpy as np\n",
    "from IPython.display import display, Markdown\n",
    "iris=pd.read_csv(\"D:\\\\Dropbox\\\\zomato.csv\",encoding=\"iso-8859-1\")\n",
    "df=iris.copy()\n",
    "df.columns = df.columns.str.strip().str.lower().str.replace(' ', '_').str.replace('(', '').str.replace(')', '')\n",
    "\n",
    "x=[]\n",
    "y=[]\n",
    "for i in range(df.shape[0]):\n",
    "    x.append(df.iloc[i,17])\n",
    "    y.append(df.iloc[i,20])\n",
    "\n",
    "pt.scatter(x,y)\n",
    "pt.xlabel(\"Rating of Restaurant\")\n",
    "pt.ylabel(\"Number of votes\")\n",
    "pt.show()"
   ]
  },
  {
   "cell_type": "code",
   "execution_count": null,
   "metadata": {},
   "outputs": [],
   "source": []
  },
  {
   "cell_type": "markdown",
   "metadata": {},
   "source": [
    "Que2-Part1-b) Restaurant serving more number of cuisines."
   ]
  },
  {
   "cell_type": "code",
   "execution_count": 36,
   "metadata": {},
   "outputs": [
    {
     "data": {
      "image/png": "[encoded data removed]",
      "text/plain": [
       "<Figure size 432x288 with 1 Axes>"
      ]
     },
     "metadata": {
      "needs_background": "light"
     },
     "output_type": "display_data"
    }
   ],
   "source": [
    "import pandas as pd\n",
    "import matplotlib.pyplot as pt\n",
    "import numpy as np\n",
    "from IPython.display import display, Markdown\n",
    "iris=pd.read_csv(\"D:\\\\Dropbox\\\\zomato.csv\",encoding=\"iso-8859-1\")\n",
    "df=iris.copy()\n",
    "df.columns = df.columns.str.strip().str.lower().str.replace(' ', '_').str.replace('(', '').str.replace(')', '')\n",
    "x=[]\n",
    "y=[]\n",
    "for i in range(df.shape[0]):\n",
    "    s=str(df.iloc[i,9])\n",
    "    \n",
    "    x.append(len(s.split(\",\")))\n",
    "    y.append(df.iloc[i,17])\n",
    "\n",
    "pt.scatter(x,y)\n",
    "pt.xlabel(\"Number of Cuisines\")\n",
    "pt.ylabel(\"Rating of Restaurant\")\n",
    "pt.show()"
   ]
  },
  {
   "cell_type": "code",
   "execution_count": null,
   "metadata": {},
   "outputs": [],
   "source": []
  },
  {
   "cell_type": "markdown",
   "metadata": {},
   "source": [
    "Que2 Part 1-c) Average Cost of Restaurant"
   ]
  },
  {
   "cell_type": "code",
   "execution_count": 47,
   "metadata": {},
   "outputs": [
    {
     "data": {
      "image/png": "[encoded data removed]",
      "text/plain": [
       "<Figure size 432x288 with 1 Axes>"
      ]
     },
     "metadata": {
      "needs_background": "light"
     },
     "output_type": "display_data"
    }
   ],
   "source": [
    "import pandas as pd\n",
    "import matplotlib.pyplot as pt\n",
    "import numpy as np\n",
    "from IPython.display import display, Markdown\n",
    "iris=pd.read_csv(\"D:\\\\Dropbox\\\\zomato.csv\",encoding=\"iso-8859-1\")\n",
    "df=iris.copy()\n",
    "df.columns = df.columns.str.strip().str.lower().str.replace(' ', '_').str.replace('(', '').str.replace(')', '')\n",
    "df=df[(df.country_code==1)]\n",
    "x=[]\n",
    "y=[]\n",
    "for i in range(df.shape[0]):\n",
    "    x.append(df.iloc[i,10])\n",
    "    y.append(df.iloc[i,17])\n",
    "pt.scatter(x,y)\n",
    "pt.xlabel(\"Average Cost for two\")\n",
    "pt.ylabel(\"Rating of Restaurant\")\n",
    "pt.show()"
   ]
  },
  {
   "cell_type": "markdown",
   "metadata": {},
   "source": [
    "Que 2- Part 1-d) Restaurant serving some specific cuisines."
   ]
  },
  {
   "cell_type": "code",
   "execution_count": null,
   "metadata": {},
   "outputs": [],
   "source": []
  }
 ],
 "metadata": {
  "kernelspec": {
   "display_name": "Python 3",
   "language": "python",
   "name": "python3"
  },
  "language_info": {
   "codemirror_mode": {
    "name": "ipython",
    "version": 3
   },
   "file_extension": ".py",
   "mimetype": "text/x-python",
   "name": "python",
   "nbconvert_exporter": "python",
   "pygments_lexer": "ipython3",
   "version": "3.7.1"
  }
 },
 "nbformat": 4,
 "nbformat_minor": 2
}
