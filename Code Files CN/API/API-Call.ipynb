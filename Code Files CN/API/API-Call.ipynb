{
 "cells": [
  {
   "cell_type": "code",
   "execution_count": 3,
   "metadata": {
    "scrolled": true
   },
   "outputs": [
    {
     "name": "stdout",
     "output_type": "stream",
     "text": [
      "application/json; charset=utf-8\n"
     ]
    }
   ],
   "source": [
    "import requests\n",
    "response=requests.get('https://codingninjas.in/api/v3/courses')\n",
    "print(response.headers['Content-Type'])"
   ]
  },
  {
   "cell_type": "code",
   "execution_count": 9,
   "metadata": {},
   "outputs": [
    {
     "name": "stdout",
     "output_type": "stream",
     "text": [
      "Interview Preparation\n",
      "Inception\n",
      "Nucleus\n",
      "Alchemy\n",
      "Competitive Programming\n",
      "Machine Learning Course\n",
      "Ninja Competitive Programmer Track\n",
      "Full Stack Web Development Course in Node.js\n",
      "Ninja Data Scientist Career Track\n",
      "Envision\n",
      "Python\n",
      "Programming Foundation DS & Algo + Full Stack web Dev with Node.js\n",
      "Programming Foundation DS & Algo + Machine Learning\n",
      "Data Science & Machine Learning Complete\n"
     ]
    }
   ],
   "source": [
    "import requests\n",
    "import json\n",
    "response=requests.get('https://codingninjas.in/api/v3/courses')\n",
    "python_data=json.loads(response.text)\n",
    "all_courses=python_data['data']['courses']\n",
    "for i in all_courses:\n",
    "    print(i['title'])"
   ]
  },
  {
   "cell_type": "code",
   "execution_count": 17,
   "metadata": {},
   "outputs": [
    {
     "name": "stdout",
     "output_type": "stream",
     "text": [
      "afghan\n",
      "basset\n",
      "blood\n",
      "english\n",
      "ibizan\n",
      "walker\n"
     ]
    }
   ],
   "source": [
    "import requests\n",
    "import json\n",
    "response=requests.get('https://dog.ceo/api/breeds/list/all')\n",
    "python_data=json.loads(response.text)\n",
    "\n",
    "breeds=python_data['message']\n",
    "hound_breeds=breeds['hound']\n",
    "for i in hound_breeds:\n",
    "    print(i)\n"
   ]
  },
  {
   "cell_type": "code",
   "execution_count": 28,
   "metadata": {},
   "outputs": [
    {
     "name": "stdout",
     "output_type": "stream",
     "text": [
      "Alderaan\n",
      "Yavin IV\n",
      "Hoth\n",
      "Dagobah\n",
      "Bespin\n",
      "Endor\n",
      "Naboo\n",
      "Coruscant\n",
      "Kamino\n",
      "Geonosis\n"
     ]
    }
   ],
   "source": [
    "import requests\n",
    "import json\n",
    "response=requests.get('https://swapi.co/api/planets/')\n",
    "#print(response.text)\n",
    "python_data=json.loads(response.text)\n",
    "l=python_data['results']\n",
    "for i in l:\n",
    "    print(i['name'])\n"
   ]
  },
  {
   "cell_type": "code",
   "execution_count": 36,
   "metadata": {},
   "outputs": [
    {
     "name": "stdout",
     "output_type": "stream",
     "text": [
      "Interview Preparation Course\n",
      "C++ Foundation with Data Structures\n",
      "JAVA Foundation with Data Structures\n",
      "Competitive Programming Course\n",
      "Machine Learning Course\n",
      "Ninja Competitive Programmer Track\n",
      "Full Stack Web Development with Node.js\n",
      "Ninja Data Scientist Career Track\n",
      "Python Foundation with Data Structures\n",
      "Ninja Web Developer Career Track\n",
      "Ninja Machine Learning Engineer Career Track\n",
      "Data Science & Machine Learning Complete\n"
     ]
    }
   ],
   "source": [
    "import requests\n",
    "import json\n",
    "response=requests.get('https://codingninjas.in/api/v3/courses')\n",
    "python_data=json.loads(response.text)\n",
    "l=python_data['data']['courses']\n",
    "for i in l:\n",
    "    if i['available_online']==True:\n",
    "        print(i['name'])"
   ]
  },
  {
   "cell_type": "code",
   "execution_count": 41,
   "metadata": {},
   "outputs": [
    {
     "name": "stdout",
     "output_type": "stream",
     "text": [
      "Competitive Programming Workshop By Navdeep Sandhu\n",
      "Workshop On DS and Algo \n",
      "Workshop at Arya Institute of Engineering & Technology \n",
      "Workshop at LNMIIT\n",
      "Dynamic Programming Workshop\n",
      "Machine Learning Workshop by Parikh Jain\n"
     ]
    }
   ],
   "source": [
    "import requests\n",
    "import json\n",
    "response=requests.get('https://codingninjas.in/api/v3/events')\n",
    "python_data=json.loads(response.text)\n",
    "l=python_data['data']['past_registered_events']\n",
    "for i in l:\n",
    "    if 'Workshop' in i['name']:\n",
    "        print(i['name'])"
   ]
  },
  {
   "cell_type": "code",
   "execution_count": 10,
   "metadata": {},
   "outputs": [
    {
     "name": "stdout",
     "output_type": "stream",
     "text": [
      "Utapau\n",
      "Mustafar\n",
      "Kashyyyk\n",
      "Polis Massa\n",
      "Mygeeto\n",
      "Felucia\n",
      "Cato Neimoidia\n",
      "Saleucami\n",
      "Stewjon\n",
      "Eriadu\n"
     ]
    }
   ],
   "source": [
    "import requests\n",
    "import json\n",
    "response=requests.get('https://swapi.co/api/planets/',params={\"page\":2})\n",
    "python_data=json.loads(response.text)\n",
    "l=python_data['results']\n",
    "for i in l:\n",
    "    print(i['name'])"
   ]
  },
  {
   "cell_type": "code",
   "execution_count": 12,
   "metadata": {},
   "outputs": [
    {
     "name": "stdout",
     "output_type": "stream",
     "text": [
      "Trandosha\n",
      "Chandrila\n"
     ]
    }
   ],
   "source": [
    "import requests\n",
    "import json\n",
    "response=requests.get('https://swapi.co/api/planets/',params={\"search\":\"and\"})\n",
    "python_data=json.loads(response.text)\n",
    "\n",
    "l=python_data['results']\n",
    "for i in l:\n",
    "    print(i['name'])"
   ]
  },
  {
   "cell_type": "code",
   "execution_count": 33,
   "metadata": {},
   "outputs": [
    {
     "name": "stdout",
     "output_type": "stream",
     "text": [
      "Antwerpen\n",
      "Brabant wallon\n",
      "Brussels\n",
      "Brussels-Capital Region\n",
      "Flanders\n"
     ]
    }
   ],
   "source": [
    "import requests\n",
    "import json\n",
    "response=requests.get('https://api.openaq.org/v1/cities',params={\"country\":\"BE\",\"limit\":5,\"order_by\":\"city\"})\n",
    "\n",
    "python_data=json.loads(response.text)\n",
    "l=python_data['results']\n",
    "for i in l:\n",
    "    print(i['city'])"
   ]
  },
  {
   "cell_type": "code",
   "execution_count": 45,
   "metadata": {},
   "outputs": [
    {
     "name": "stdout",
     "output_type": "stream",
     "text": [
      "1132447\n"
     ]
    }
   ],
   "source": [
    "import requests\n",
    "import json\n",
    "response=requests.get('https://www.metaweather.com/api/location/search/',params={\"query\":\"usa\"})\n",
    "\n",
    "python_data=json.loads(response.text)\n",
    "print(python_data[0]['woeid'])\n"
   ]
  },
  {
   "cell_type": "code",
   "execution_count": 32,
   "metadata": {},
   "outputs": [
    {
     "name": "stdout",
     "output_type": "stream",
     "text": [
      "fuzzing\n",
      "security\n",
      "stability\n",
      "vulnerabilities\n"
     ]
    }
   ],
   "source": [
    "import requests\n",
    "import json\n",
    "from requests.auth import HTTPBasicAuth\n",
    "header={\"Accept\": \"application/vnd.github.mercy-preview+json\"}\n",
    "a=requests.get('https://api.github.com/repos/google/clusterfuzz/topics',auth=('username26@gmail.com','password'),headers=header)\n",
    "l=a.text.split(\":\")[1].split(\",\")\n",
    "for i in l:\n",
    "    print(i.split('\"')[1])"
   ]
  },
  {
   "cell_type": "code",
   "execution_count": 37,
   "metadata": {},
   "outputs": [
    {
     "name": "stdout",
     "output_type": "stream",
     "text": [
      "Swift\n",
      "HTML\n",
      "Python\n",
      "Ruby\n",
      "Shell\n"
     ]
    }
   ],
   "source": [
    "import requests\n",
    "import json\n",
    "from requests.auth import HTTPBasicAuth\n",
    "\n",
    "a=requests.get('https://api.github.com/repos/google/science-journal-ios/languages',auth=('username.username26@gmail.com','password'))\n",
    "l=a.text\n",
    "l=l.split('\"')\n",
    "for i in range(1,len(l),2):\n",
    "    print(l[i])"
   ]
  },
  {
   "cell_type": "code",
   "execution_count": null,
   "metadata": {},
   "outputs": [],
   "source": []
  }
 ],
 "metadata": {
  "kernelspec": {
   "display_name": "Python 3",
   "language": "python",
   "name": "python3"
  },
  "language_info": {
   "codemirror_mode": {
    "name": "ipython",
    "version": 3
   },
   "file_extension": ".py",
   "mimetype": "text/x-python",
   "name": "python",
   "nbconvert_exporter": "python",
   "pygments_lexer": "ipython3",
   "version": "3.7.1"
  }
 },
 "nbformat": 4,
 "nbformat_minor": 2
}
