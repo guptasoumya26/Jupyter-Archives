{
 "cells": [
  {
   "cell_type": "code",
   "execution_count": 1,
   "metadata": {},
   "outputs": [],
   "source": [
    "import numpy as np\n",
    "from sklearn.datasets import load_files\n",
    "from sklearn.model_selection import train_test_split\n",
    "from sklearn.metrics import classification_report, confusion_matrix, accuracy_score\n",
    "import pandas as pd\n",
    "import numpy as np\n",
    "import matplotlib.pyplot as plt"
   ]
  },
  {
   "cell_type": "markdown",
   "metadata": {},
   "source": [
    "## Feature Extraction from Dataset"
   ]
  },
  {
   "cell_type": "code",
   "execution_count": 2,
   "metadata": {},
   "outputs": [
    {
     "name": "stdout",
     "output_type": "stream",
     "text": [
      "['alt.atheism', 'comp.graphics', 'comp.os.ms-windows.misc', 'comp.sys.ibm.pc.hardware', 'comp.sys.mac.hardware', 'comp.windows.x', 'misc.forsale', 'rec.autos', 'rec.motorcycles', 'rec.sport.baseball', 'rec.sport.hockey', 'sci.crypt', 'sci.electronics', 'sci.med', 'sci.space', 'soc.religion.christian', 'talk.politics.guns', 'talk.politics.mideast', 'talk.politics.misc', 'talk.religion.misc']\n"
     ]
    }
   ],
   "source": [
    "news = load_files('./mini_newsgroups/')\n",
    "classes=news.target_names\n",
    "print(classes)"
   ]
  },
  {
   "cell_type": "markdown",
   "metadata": {},
   "source": [
    "## Splitting into train and test set"
   ]
  },
  {
   "cell_type": "code",
   "execution_count": 3,
   "metadata": {},
   "outputs": [],
   "source": [
    "X_train, X_test, y_train, y_test = train_test_split(news.data, news.target, test_size =0.3, random_state = 0 )\n"
   ]
  },
  {
   "cell_type": "markdown",
   "metadata": {},
   "source": [
    "## Importing NLTK libraries\n"
   ]
  },
  {
   "cell_type": "code",
   "execution_count": 4,
   "metadata": {},
   "outputs": [],
   "source": [
    "from nltk.tokenize import RegexpTokenizer\n",
    "from nltk.stem.porter import PorterStemmer\n",
    "from nltk.corpus import stopwords"
   ]
  },
  {
   "cell_type": "markdown",
   "metadata": {},
   "source": [
    "## Initializing Objects"
   ]
  },
  {
   "cell_type": "code",
   "execution_count": 5,
   "metadata": {},
   "outputs": [],
   "source": [
    "# init Objects\n",
    "tokenizer=RegexpTokenizer(r'\\w+')\n",
    "en_stopwords=set(stopwords.words('english'))\n",
    "ps=PorterStemmer()"
   ]
  },
  {
   "cell_type": "markdown",
   "metadata": {},
   "source": [
    "## Tokenizing, Stemming and Removing Stopwords"
   ]
  },
  {
   "cell_type": "code",
   "execution_count": 6,
   "metadata": {},
   "outputs": [],
   "source": [
    "def getStemmedReview(data):\n",
    "    data=data.decode('windows-1252')\n",
    "    data=data.lower()\n",
    "    \n",
    "    #Tokenize\n",
    "    tokens=tokenizer.tokenize(data)\n",
    "    new_tokens=[token for token in tokens if token not in en_stopwords]\n",
    "    stemmed_tokens=[ps.stem(token) for token in new_tokens]\n",
    "    clean_data=' '.join(stemmed_tokens)\n",
    "    return clean_data"
   ]
  },
  {
   "cell_type": "markdown",
   "metadata": {},
   "source": [
    "## Cleaning Training Data"
   ]
  },
  {
   "cell_type": "code",
   "execution_count": 7,
   "metadata": {},
   "outputs": [],
   "source": [
    "X_train_clean=[getStemmedReview(i) for i in X_train]"
   ]
  },
  {
   "cell_type": "markdown",
   "metadata": {},
   "source": [
    "## Vectorizing Training data"
   ]
  },
  {
   "cell_type": "code",
   "execution_count": 8,
   "metadata": {},
   "outputs": [
    {
     "name": "stdout",
     "output_type": "stream",
     "text": [
      "[[0 0 0 ... 0 0 0]\n",
      " [0 0 0 ... 0 0 0]\n",
      " [0 0 0 ... 0 0 0]\n",
      " ...\n",
      " [0 0 0 ... 0 0 0]\n",
      " [0 0 0 ... 0 0 0]\n",
      " [4 0 0 ... 0 0 0]]\n",
      "(1400, 33747)\n"
     ]
    }
   ],
   "source": [
    "from sklearn.feature_extraction.text import CountVectorizer\n",
    "cv=CountVectorizer() \n",
    "cv.fit(X_train_clean)\n",
    "X_train_vec=cv.transform(X_train_clean).toarray()\n",
    "print(X_train_vec)\n",
    "print(X_train_vec.shape)"
   ]
  },
  {
   "cell_type": "markdown",
   "metadata": {},
   "source": [
    "## Applying Multinomial Naive Bayes"
   ]
  },
  {
   "cell_type": "code",
   "execution_count": 9,
   "metadata": {},
   "outputs": [
    {
     "data": {
      "text/plain": [
       "MultinomialNB(alpha=1.0, class_prior=None, fit_prior=True)"
      ]
     },
     "execution_count": 9,
     "metadata": {},
     "output_type": "execute_result"
    }
   ],
   "source": [
    "from sklearn.naive_bayes import MultinomialNB\n",
    "mnb=MultinomialNB()\n",
    "mnb.fit(X_train_vec,y_train)"
   ]
  },
  {
   "cell_type": "markdown",
   "metadata": {},
   "source": [
    "## Cleaning Test Data"
   ]
  },
  {
   "cell_type": "code",
   "execution_count": 10,
   "metadata": {},
   "outputs": [],
   "source": [
    "X_test_clean=[getStemmedReview(i) for i in X_test]"
   ]
  },
  {
   "cell_type": "markdown",
   "metadata": {},
   "source": [
    "## Vectorizing Test Data"
   ]
  },
  {
   "cell_type": "code",
   "execution_count": 11,
   "metadata": {},
   "outputs": [
    {
     "name": "stdout",
     "output_type": "stream",
     "text": [
      "[[0 0 0 ... 0 0 0]\n",
      " [0 0 0 ... 0 0 0]\n",
      " [0 0 0 ... 0 0 0]\n",
      " ...\n",
      " [0 0 0 ... 0 0 0]\n",
      " [0 0 0 ... 0 0 0]\n",
      " [0 0 0 ... 0 0 0]]\n",
      "(600, 33747)\n"
     ]
    }
   ],
   "source": [
    "X_test_vec=cv.transform(X_test_clean).toarray()\n",
    "print(X_test_vec)\n",
    "print(X_test_vec.shape)"
   ]
  },
  {
   "cell_type": "markdown",
   "metadata": {},
   "source": [
    "## Making Predictions on Test Data"
   ]
  },
  {
   "cell_type": "code",
   "execution_count": 12,
   "metadata": {},
   "outputs": [],
   "source": [
    "y_test_pred=mnb.predict(X_test_vec)"
   ]
  },
  {
   "cell_type": "markdown",
   "metadata": {},
   "source": [
    "## Checking score"
   ]
  },
  {
   "cell_type": "code",
   "execution_count": 13,
   "metadata": {},
   "outputs": [
    {
     "name": "stdout",
     "output_type": "stream",
     "text": [
      "0.7866666666666666\n"
     ]
    }
   ],
   "source": [
    "print(mnb.score(X_test_vec,y_test))"
   ]
  },
  {
   "cell_type": "markdown",
   "metadata": {},
   "source": [
    "## Classification Report"
   ]
  },
  {
   "cell_type": "code",
   "execution_count": 14,
   "metadata": {},
   "outputs": [
    {
     "name": "stdout",
     "output_type": "stream",
     "text": [
      "              precision    recall  f1-score   support\n",
      "\n",
      "           0       0.84      0.62      0.71        34\n",
      "           1       0.44      0.71      0.54        34\n",
      "           2       0.93      0.50      0.65        26\n",
      "           3       0.75      0.64      0.69        33\n",
      "           4       0.79      0.79      0.79        29\n",
      "           5       0.76      0.69      0.72        32\n",
      "           6       0.88      0.85      0.87        27\n",
      "           7       1.00      0.88      0.94        33\n",
      "           8       0.96      0.90      0.93        29\n",
      "           9       0.93      0.96      0.94        26\n",
      "          10       0.96      0.87      0.91        30\n",
      "          11       0.94      0.85      0.89        34\n",
      "          12       0.73      0.64      0.68        25\n",
      "          13       0.85      0.92      0.88        25\n",
      "          14       0.93      0.89      0.91        28\n",
      "          15       0.83      1.00      0.91        29\n",
      "          16       0.89      0.71      0.79        35\n",
      "          17       0.86      0.94      0.90        34\n",
      "          18       0.53      0.89      0.67        28\n",
      "          19       0.50      0.52      0.51        29\n",
      "\n",
      "   micro avg       0.79      0.79      0.79       600\n",
      "   macro avg       0.82      0.79      0.79       600\n",
      "weighted avg       0.81      0.79      0.79       600\n",
      "\n"
     ]
    }
   ],
   "source": [
    "print(classification_report(y_test, y_test_pred))"
   ]
  },
  {
   "cell_type": "markdown",
   "metadata": {},
   "source": [
    "## Visualizing Confusion Matrix"
   ]
  },
  {
   "cell_type": "code",
   "execution_count": 15,
   "metadata": {},
   "outputs": [],
   "source": [
    "def plot_confusion_matrix(y_true, y_pred, classes,\n",
    "                          normalize=False,\n",
    "                          title=None,\n",
    "                          cmap=plt.cm.Blues):\n",
    "    \"\"\"\n",
    "    This function prints and plots the confusion matrix.\n",
    "    Normalization can be applied by setting `normalize=True`.\n",
    "    \"\"\"\n",
    "    if not title:\n",
    "        if normalize:\n",
    "            title = 'Normalized confusion matrix'\n",
    "        else:\n",
    "            title = 'Confusion matrix, without normalization'\n",
    "\n",
    "    # Compute confusion matrix\n",
    "    cm = confusion_matrix(y_true, y_pred)\n",
    "    # Only use the labels that appear in the data\n",
    "    classes = classes[unique_labels(y_true, y_pred)]\n",
    "    if normalize:\n",
    "        cm = cm.astype('float') / cm.sum(axis=1)[:, np.newaxis]\n",
    "        print(\"Normalized confusion matrix\")\n",
    "    else:\n",
    "        print('Confusion matrix, without normalization')\n",
    "\n",
    "    print(cm)\n",
    "\n",
    "    fig, ax = plt.subplots()\n",
    "    im = ax.imshow(cm, interpolation='nearest', cmap=cmap)\n",
    "    ax.figure.colorbar(im, ax=ax)\n",
    "    # We want to show all ticks...\n",
    "    ax.set(xticks=np.arange(cm.shape[1]),\n",
    "           yticks=np.arange(cm.shape[0]),\n",
    "           # ... and label them with the respective list entries\n",
    "           xticklabels=classes, yticklabels=classes,\n",
    "           title=title,\n",
    "           ylabel='True label',\n",
    "           xlabel='Predicted label')\n",
    "\n",
    "    # Rotate the tick labels and set their alignment.\n",
    "    plt.setp(ax.get_xticklabels(), rotation=45, ha=\"right\",\n",
    "             rotation_mode=\"anchor\")\n",
    "\n",
    "    # Loop over data dimensions and create text annotations.\n",
    "    fmt = '.2f' if normalize else 'd'\n",
    "    thresh = cm.max() / 2.\n",
    "    for i in range(cm.shape[0]):\n",
    "        for j in range(cm.shape[1]):\n",
    "            ax.text(j, i, format(cm[i, j], fmt),\n",
    "                    ha=\"center\", va=\"center\",\n",
    "                    color=\"white\" if cm[i, j] > thresh else \"black\")\n",
    "    fig.tight_layout()\n",
    "    return ax\n",
    "\n"
   ]
  },
  {
   "cell_type": "code",
   "execution_count": 16,
   "metadata": {},
   "outputs": [],
   "source": [
    "from sklearn.metrics import confusion_matrix\n",
    "from sklearn.utils.multiclass import unique_labels\n",
    "class_labels=np.unique(news.target)\n"
   ]
  },
  {
   "cell_type": "markdown",
   "metadata": {},
   "source": [
    "## Plotting confusion Matrix"
   ]
  },
  {
   "cell_type": "code",
   "execution_count": 18,
   "metadata": {},
   "outputs": [
    {
     "name": "stdout",
     "output_type": "stream",
     "text": [
      "Confusion matrix, without normalization\n",
      "[[21  0  0  0  0  0  0  0  0  0  0  0  0  0  0  3  0  0  0 10]\n",
      " [ 0 24  1  2  1  3  0  0  0  0  0  0  2  1  0  0  0  0  0  0]\n",
      " [ 0  4 13  3  0  4  1  0  0  0  0  0  1  0  0  0  0  0  0  0]\n",
      " [ 0  5  0 21  3  0  0  0  0  0  0  0  1  1  0  0  0  0  0  2]\n",
      " [ 0  5  0  0 23  0  0  0  0  0  0  0  1  0  0  0  0  0  0  0]\n",
      " [ 0  8  0  0  0 22  0  0  0  0  0  0  1  0  1  0  0  0  0  0]\n",
      " [ 0  0  0  2  1  0 23  0  0  0  0  1  0  0  0  0  0  0  0  0]\n",
      " [ 1  1  0  0  0  0  0 29  0  0  0  0  0  0  0  0  0  0  2  0]\n",
      " [ 0  2  0  0  0  0  0  0 26  0  0  0  0  0  0  0  0  0  1  0]\n",
      " [ 0  0  0  0  0  0  0  0  0 25  1  0  0  0  0  0  0  0  0  0]\n",
      " [ 0  0  0  0  0  0  0  0  0  2 26  0  0  1  0  0  0  1  0  0]\n",
      " [ 0  1  0  0  0  0  1  0  0  0  0 29  0  0  0  0  2  0  0  1]\n",
      " [ 0  4  0  0  0  0  1  0  0  0  0  1 16  0  1  0  0  2  0  0]\n",
      " [ 0  1  0  0  0  0  0  0  1  0  0  0  0 23  0  0  0  0  0  0]\n",
      " [ 0  0  0  0  1  0  0  0  0  0  0  0  0  1 25  0  1  0  0  0]\n",
      " [ 0  0  0  0  0  0  0  0  0  0  0  0  0  0  0 29  0  0  0  0]\n",
      " [ 0  0  0  0  0  0  0  0  0  0  0  0  0  0  0  0 25  0  9  1]\n",
      " [ 0  0  0  0  0  0  0  0  0  0  0  0  0  0  0  0  0 32  2  0]\n",
      " [ 0  0  0  0  0  0  0  0  0  0  0  0  0  0  0  0  0  2 25  1]\n",
      " [ 3  0  0  0  0  0  0  0  0  0  0  0  0  0  0  3  0  0  8 15]]\n"
     ]
    },
    {
     "data": {
      "image/png": "[encoded data removed]",
      "text/plain": [
       "<Figure size 432x288 with 2 Axes>"
      ]
     },
     "metadata": {
      "needs_background": "light"
     },
     "output_type": "display_data"
    }
   ],
   "source": [
    "plot_confusion_matrix(y_test,y_test_pred,classes=class_labels,\n",
    "                          normalize=False,\n",
    "                          title=\"Confusion_Matrix\",\n",
    "                          cmap=plt.cm.Blues)\n",
    "plt.show()"
   ]
  },
  {
   "cell_type": "markdown",
   "metadata": {},
   "source": [
    "# Text Classification using scratch implementation of Multinomial Naive Bayes and without NLTK Libraries"
   ]
  },
  {
   "cell_type": "code",
   "execution_count": 19,
   "metadata": {},
   "outputs": [],
   "source": [
    "# List of all stopwords to be removed from document\n",
    "stopwords = {\"a\", \"about\", \"above\", \"above\", \"across\", \"after\", \"afterwards\", \"again\", \"against\", \n",
    "             \"all\", \"almost\", \"alone\", \"along\", \"already\", \"also\",\"although\",\"always\",\"am\",\"among\", \"amongst\", \n",
    "             \"amoungst\", \"amount\",  \"an\", \"and\", \"another\", \"any\",\"anyhow\",\"anyone\",\"anything\",\"anyway\", \n",
    "             \"anywhere\", \"are\", \"around\", \"as\",  \"at\", \"back\",\"be\",\"became\", \"because\",\"become\",\"becomes\", \n",
    "             \"becoming\", \"been\", \"before\", \"beforehand\", \"behind\", \"being\", \"below\", \"beside\", \"besides\", \n",
    "             \"between\", \"beyond\", \"bill\", \"both\", \"bottom\",\"but\", \"by\", \"call\", \"can\", \"cannot\", \"cant\", \n",
    "             \"co\", \"con\", \"could\", \"couldnt\", \"cry\", \"de\", \"describe\", \"detail\", \"do\", \"done\", \"down\", \"due\", \n",
    "             \"during\", \"each\", \"eg\", \"eight\", \"either\", \"eleven\",\"else\", \"elsewhere\", \"empty\", \"enough\", \"etc\", \n",
    "             \"even\", \"ever\", \"every\", \"everyone\", \"everything\", \"everywhere\", \"except\", \"few\", \"fifteen\", \"fify\", \n",
    "             \"fill\", \"find\", \"fire\", \"first\", \"five\", \"for\", \"former\", \"formerly\", \"forty\", \"found\", \"four\", \"from\",\n",
    "             \"front\", \"full\", \"further\", \"get\", \"give\", \"go\", \"had\", \"has\", \"hasnt\", \"have\", \"he\", \"hence\", \"her\",\n",
    "             \"here\", \"hereafter\", \"hereby\", \"herein\", \"hereupon\", \"hers\", \"herself\", \"him\", \"himself\", \"his\", \"how\",\n",
    "             \"however\", \"hundred\", \"ie\", \"if\", \"in\", \"inc\", \"indeed\", \"interest\", \"into\", \"is\", \"it\", \"its\", \"itself\",\n",
    "             \"keep\", \"last\", \"latter\", \"latterly\", \"least\", \"less\", \"ltd\", \"made\", \"many\", \"may\", \"me\", \"meanwhile\",\n",
    "             \"might\", \"mill\", \"mine\", \"more\", \"moreover\", \"most\", \"mostly\", \"move\", \"much\", \"must\", \"my\", \"myself\",\n",
    "             \"name\", \"namely\", \"neither\", \"never\", \"nevertheless\", \"next\", \"nine\", \"no\", \"nobody\", \"none\", \"noone\", \n",
    "             \"nor\", \"not\", \"nothing\", \"now\", \"nowhere\", \"of\", \"off\", \"often\", \"on\", \"once\", \"one\", \"only\", \"onto\", \n",
    "             \"or\", \"other\", \"others\", \"otherwise\", \"our\", \"ours\", \"ourselves\", \"out\", \"over\", \"own\",\"part\", \"per\", \n",
    "             \"perhaps\", \"please\", \"put\", \"rather\", \"re\", \"same\", \"see\", \"seem\", \"seemed\", \"seeming\", \"seems\", \"serious\"\n",
    "             , \"several\", \"she\", \"should\", \"show\", \"side\", \"since\", \"sincere\", \"six\", \"sixty\", \"so\", \"some\", \"somehow\",\n",
    "             \"someone\", \"something\", \"sometime\", \"sometimes\", \"somewhere\", \"still\", \"such\", \"system\", \"take\", \"ten\", \n",
    "             \"than\", \"that\", \"the\", \"their\", \"them\", \"themselves\", \"then\", \"thence\", \"there\", \"thereafter\", \"thereby\", \n",
    "             \"therefore\", \"therein\", \"thereupon\", \"these\", \"they\", \"thickv\", \"thin\", \"third\", \"this\", \"those\", \"though\",\n",
    "             \"three\", \"through\", \"throughout\", \"thru\", \"thus\", \"to\", \"together\", \"too\", \"top\", \"toward\", \"towards\", \n",
    "             \"twelve\", \"twenty\", \"two\", \"un\", \"under\", \"until\", \"up\", \"upon\", \"us\", \"very\", \"via\", \"was\", \"we\", \"well\", \n",
    "             \"were\", \"what\", \"whatever\", \"when\", \"whence\", \"whenever\", \"where\", \"whereafter\", \"whereas\", \"whereby\", \n",
    "             \"wherein\", \"whereupon\", \"wherever\", \"whether\", \"which\", \"while\", \"whither\", \"who\", \"whoever\", \"whole\", \n",
    "             \"whom\", \"whose\", \"why\", \"will\", \"with\", \"within\", \"without\", \"would\", \"yet\", \"you\", \"your\", \"yours\", \n",
    "             \"yourself\", \"yourselves\", \"the\"}\n"
   ]
  },
  {
   "cell_type": "code",
   "execution_count": 20,
   "metadata": {},
   "outputs": [],
   "source": [
    "def preprocess(data):\n",
    "    total_chars = []  # To save an array of words after processing\n",
    "    for i in range(len(data)):\n",
    "        words = data[i].decode(\"windows-1252\") # decode the given sentence from bytes format to string format\n",
    "        all_chars = words.split(' ')\n",
    "        tokenize_word = []\n",
    "        # To apply preprocess on a decoded sentence\n",
    "        for x in range(len(all_chars)):\n",
    "            word = ''\n",
    "            # Removing all meta data present in document\n",
    "            word = all_chars[x].replace('\\n','')\n",
    "            word = word.replace('\\r','')\n",
    "            word = word.replace('\\t','')\n",
    "            # Removing punctuation marks from document \n",
    "            word = word.replace(',','')\n",
    "            word = word.replace('(','')\n",
    "            word = word.replace(').','')\n",
    "            word = word.replace(')','')\n",
    "            word = word.replace('.','')\n",
    "            word = word.replace('\"','')    \n",
    "            \n",
    "            # Converting whole document to lower case\n",
    "            word = word.lower()\n",
    "            \n",
    "            # If after the preprocessing any word is blank or has word length<3 or only digits remain in it\n",
    "            if word=='' or word.isdigit() or len(word)<3:\n",
    "                continue\n",
    "            \n",
    "            # If word is not a stop word then used to form array\n",
    "            elif word not in stopwords:\n",
    "                tokenize_word.append(word)\n",
    "        \n",
    "        total_chars.append(tokenize_word)\n",
    "    \n",
    "    return total_chars"
   ]
  },
  {
   "cell_type": "code",
   "execution_count": 21,
   "metadata": {},
   "outputs": [],
   "source": [
    "# Used to convert the preprocessed 2D-list into a 1D-list so that frequency of words can be calculated\n",
    "\n",
    "def flatten(data):\n",
    "    new_data = []\n",
    "    \n",
    "    for sentence in data:\n",
    "        for word in sentence:\n",
    "            \n",
    "            if word=='':\n",
    "                continue\n",
    "            else:\n",
    "                new_data.append(word)\n",
    "    \n",
    "    return new_data"
   ]
  },
  {
   "cell_type": "code",
   "execution_count": 22,
   "metadata": {},
   "outputs": [
    {
     "data": {
      "text/plain": [
       "212606"
      ]
     },
     "execution_count": 22,
     "metadata": {},
     "output_type": "execute_result"
    }
   ],
   "source": [
    "# To apply preprocessing and flattening on training data\n",
    "\n",
    "doc_list = preprocess(X_train)\n",
    "bag_of_words = flatten(doc_list)\n",
    "len(bag_of_words)"
   ]
  },
  {
   "cell_type": "code",
   "execution_count": 23,
   "metadata": {},
   "outputs": [],
   "source": [
    "# Converting the list into a numpy array\n",
    "np_bag_of_words = np.asarray(bag_of_words)"
   ]
  },
  {
   "cell_type": "code",
   "execution_count": 24,
   "metadata": {},
   "outputs": [
    {
     "data": {
      "text/plain": [
       "70891"
      ]
     },
     "execution_count": 24,
     "metadata": {},
     "output_type": "execute_result"
    }
   ],
   "source": [
    "# To get frequency of each individual word, Bag of words with Term Frequency\n",
    "word, freq  = np.unique(np_bag_of_words, return_counts=True)\n",
    "len(freq)"
   ]
  },
  {
   "cell_type": "code",
   "execution_count": 25,
   "metadata": {},
   "outputs": [],
   "source": [
    "# To sort both arrays together based on frequency, zip function is used to map similar index of multiple containers\n",
    "# so that it can be used as a single identity\n",
    "\n",
    "mapped = list(zip(word, freq)) #Uses the zip function and converts the tupple into list\n",
    "mapped = sorted(mapped, key=lambda wrd: wrd[1], reverse=True) #Sorts the list based on Term Frequency in descending order\n",
    "word, freq = zip(*(mapped)) # Stores the unzipped list in 2 separate lists"
   ]
  },
  {
   "cell_type": "markdown",
   "metadata": {},
   "source": [
    "## Choosing top 6000 words to make dictionary with words as features"
   ]
  },
  {
   "cell_type": "code",
   "execution_count": 26,
   "metadata": {},
   "outputs": [],
   "source": [
    "# To extract top 6000 words with highest frequencies to be used as features\n",
    "no_of_words = 6000\n",
    "features = word[0:no_of_words]"
   ]
  },
  {
   "cell_type": "code",
   "execution_count": 27,
   "metadata": {},
   "outputs": [],
   "source": [
    "# Function to form a dictionary with frequencies of all the words in the document\n",
    "def form_dictionary(doc_list):\n",
    "    dictionary = {}\n",
    "    sentence_num = 1\n",
    "    for each_sentence in doc_list:\n",
    "        dictionary[sentence_num] = {}\n",
    "        for each_word in each_sentence:\n",
    "            dictionary[sentence_num][each_word] = dictionary[sentence_num].get(each_word, 0) + 1    \n",
    "        sentence_num += 1\n",
    "    return dictionary"
   ]
  },
  {
   "cell_type": "code",
   "execution_count": 28,
   "metadata": {},
   "outputs": [],
   "source": [
    "# To form a 2D-array with the frequency of every word in our features list stored individually for every document\n",
    "def matrix(dictionary):\n",
    "    final_matrix = []\n",
    "    for k in dictionary.keys():\n",
    "        row = []\n",
    "        for f in features:\n",
    "            if(f in dictionary[k].keys()):\n",
    "            #if word f is present in the dictionary of the document as a key, its value is copied\n",
    "            #this gives us no. of occurences\n",
    "                row.append(dictionary[k][f]) \n",
    "            else:\n",
    "            #if not present, the no. of occurences is zero\n",
    "                row.append(0)\n",
    "        final_matrix.append(row)\n",
    "    return final_matrix"
   ]
  },
  {
   "cell_type": "code",
   "execution_count": 29,
   "metadata": {},
   "outputs": [],
   "source": [
    "# Forms dictionary for training data\n",
    "dictionary = form_dictionary(doc_list)\n",
    "\n",
    "# Forms 2d-list with frequencies of every feature in training data\n",
    "X_train = matrix(dictionary)"
   ]
  },
  {
   "cell_type": "code",
   "execution_count": 30,
   "metadata": {},
   "outputs": [],
   "source": [
    "# To convert the 2D-lists into numpy 2D-arrays\n",
    "X_train = np.asarray(X_train)\n",
    "Y_train = np.asarray(y_train)"
   ]
  },
  {
   "cell_type": "markdown",
   "metadata": {},
   "source": [
    "## Applying preprocessing "
   ]
  },
  {
   "cell_type": "code",
   "execution_count": 31,
   "metadata": {},
   "outputs": [
    {
     "data": {
      "text/plain": [
       "600"
      ]
     },
     "execution_count": 31,
     "metadata": {},
     "output_type": "execute_result"
    }
   ],
   "source": [
    "# To perform preprocessing on testing data\n",
    "test_chars = preprocess(X_test)\n",
    "len(test_chars)"
   ]
  },
  {
   "cell_type": "code",
   "execution_count": 32,
   "metadata": {},
   "outputs": [],
   "source": [
    "# Dictionary with frequency of each word in testing data\n",
    "dictionary_test = form_dictionary(test_chars)\n",
    "# 2D-list with frequencies of every feature in testing data\n",
    "X_test = matrix(dictionary_test)\n",
    "\n",
    "# To convert to numpy arrays\n",
    "X_test = np.asarray(X_test)\n",
    "Y_test = np.asarray(y_test)"
   ]
  },
  {
   "cell_type": "code",
   "execution_count": 33,
   "metadata": {},
   "outputs": [],
   "source": [
    "# FIT FUNCTION\n",
    "def fit(X_train, Y_train):\n",
    "    result = {}\n",
    "    class_values = set(Y_train)\n",
    "    \n",
    "    for current_class in class_values:\n",
    "        result[current_class] = {}\n",
    "        result[\"total_data\"] = len(Y_train)\n",
    "        current_class_rows = (Y_train == current_class)\n",
    "        X_train_current = X_train[current_class_rows]\n",
    "        Y_train_current = Y_train[current_class_rows]\n",
    "        result[current_class][\"total_count\"] = len(Y_train_current)\n",
    "        num_features = X_train.shape[1]\n",
    "        \n",
    "        for j in range(num_features):\n",
    "            result[current_class][features[j]] = {}\n",
    "            result[current_class][features[j]] = X_train_current[:,j].sum()\n",
    "            \n",
    "    return result"
   ]
  },
  {
   "cell_type": "code",
   "execution_count": 34,
   "metadata": {},
   "outputs": [],
   "source": [
    "# Finds invidual log probabilities of every word for a given class\n",
    "def log_probablity(dictionary, x, current_class):\n",
    "    output = np.log(dictionary[current_class][\"total_count\"]) - np.log(dictionary[\"total_data\"])\n",
    "    number_of_words = len(x)\n",
    "    \n",
    "    for j in range(number_of_words):\n",
    "        if(x[j] in dictionary[current_class].keys()):\n",
    "            xj = x[j]\n",
    "            count_current_class_equal_xj = dictionary[current_class][xj] + 1\n",
    "            count_current_class = dictionary[current_class][\"total_count\"] + len(dictionary[current_class].keys())\n",
    "            current_xj_prob = np.log(count_current_class_equal_xj) - np.log(count_current_class)\n",
    "            output = output + current_xj_prob\n",
    "        else:\n",
    "            continue\n",
    "    \n",
    "    return output"
   ]
  },
  {
   "cell_type": "code",
   "execution_count": 35,
   "metadata": {},
   "outputs": [],
   "source": [
    "# To find the best class for the given document in testing data\n",
    "def predictSinglePoint(dictionary, x):\n",
    "    classes = dictionary.keys()\n",
    "    best_p = -10000000\n",
    "    best_class = -1\n",
    "    for current_class in classes:\n",
    "        if(current_class == \"total_data\"):\n",
    "            continue\n",
    "        p_current_class = log_probablity(dictionary, x, current_class)\n",
    "        if(p_current_class > best_p):\n",
    "            best_p = p_current_class\n",
    "            best_class = current_class\n",
    "            \n",
    "    return best_class"
   ]
  },
  {
   "cell_type": "code",
   "execution_count": 36,
   "metadata": {},
   "outputs": [],
   "source": [
    "def predict(dictionary, X_test):\n",
    "    Y_predict = []\n",
    "    for x in X_test:\n",
    "        y_predicted = predictSinglePoint(dictionary, x)\n",
    "        Y_predict.append(y_predicted)\n",
    "    return Y_predict"
   ]
  },
  {
   "cell_type": "code",
   "execution_count": 37,
   "metadata": {},
   "outputs": [],
   "source": [
    "dictionary_scratch = fit(X_train, Y_train)"
   ]
  },
  {
   "cell_type": "code",
   "execution_count": 38,
   "metadata": {},
   "outputs": [],
   "source": [
    "X_test = []\n",
    "for key in dictionary_test.keys():\n",
    "    all_words = dictionary_test[key].keys()\n",
    "    all_words = list(all_words)\n",
    "    X_test.append(all_words)"
   ]
  },
  {
   "cell_type": "code",
   "execution_count": 39,
   "metadata": {},
   "outputs": [],
   "source": [
    "predicted_values = np.asarray(predict(dictionary_scratch, X_test))"
   ]
  },
  {
   "cell_type": "code",
   "execution_count": 40,
   "metadata": {},
   "outputs": [
    {
     "data": {
      "text/plain": [
       "0.5133333333333333"
      ]
     },
     "execution_count": 40,
     "metadata": {},
     "output_type": "execute_result"
    }
   ],
   "source": [
    "accuracy_score(Y_test, predicted_values)"
   ]
  },
  {
   "cell_type": "code",
   "execution_count": 41,
   "metadata": {},
   "outputs": [
    {
     "name": "stdout",
     "output_type": "stream",
     "text": [
      "              precision    recall  f1-score   support\n",
      "\n",
      "           0       0.86      0.53      0.65        34\n",
      "           1       0.18      0.94      0.31        34\n",
      "           2       1.00      0.12      0.21        26\n",
      "           3       1.00      0.18      0.31        33\n",
      "           4       0.86      0.21      0.33        29\n",
      "           5       0.76      0.41      0.53        32\n",
      "           6       1.00      0.41      0.58        27\n",
      "           7       1.00      0.18      0.31        33\n",
      "           8       0.92      0.38      0.54        29\n",
      "           9       0.82      0.54      0.65        26\n",
      "          10       0.95      0.63      0.76        30\n",
      "          11       0.93      0.79      0.86        34\n",
      "          12       1.00      0.08      0.15        25\n",
      "          13       0.60      0.96      0.74        25\n",
      "          14       0.82      0.50      0.62        28\n",
      "          15       0.77      0.93      0.84        29\n",
      "          16       0.73      0.31      0.44        35\n",
      "          17       0.97      0.82      0.89        34\n",
      "          18       0.21      0.93      0.34        28\n",
      "          19       0.67      0.34      0.45        29\n",
      "\n",
      "   micro avg       0.51      0.51      0.51       600\n",
      "   macro avg       0.80      0.51      0.53       600\n",
      "weighted avg       0.80      0.51      0.53       600\n",
      "\n"
     ]
    }
   ],
   "source": [
    "print(classification_report(Y_test, predicted_values))"
   ]
  },
  {
   "cell_type": "code",
   "execution_count": null,
   "metadata": {},
   "outputs": [],
   "source": []
  }
 ],
 "metadata": {
  "kernelspec": {
   "display_name": "Python 3",
   "language": "python",
   "name": "python3"
  },
  "language_info": {
   "codemirror_mode": {
    "name": "ipython",
    "version": 3
   },
   "file_extension": ".py",
   "mimetype": "text/x-python",
   "name": "python",
   "nbconvert_exporter": "python",
   "pygments_lexer": "ipython3",
   "version": "3.7.3"
  }
 },
 "nbformat": 4,
 "nbformat_minor": 2
}
