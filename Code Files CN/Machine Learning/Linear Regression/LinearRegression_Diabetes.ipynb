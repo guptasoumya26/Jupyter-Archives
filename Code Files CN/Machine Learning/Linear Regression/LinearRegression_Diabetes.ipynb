{
 "cells": [
  {
   "cell_type": "code",
   "execution_count": 1,
   "metadata": {},
   "outputs": [],
   "source": [
    "#Importing libraries\n",
    "import numpy as np\n",
    "import matplotlib.pyplot as plt\n",
    "from sklearn import model_selection\n",
    "from sklearn.linear_model import LinearRegression\n",
    "from sklearn.model_selection import train_test_split\n",
    "\n",
    "#Loading Training Data\n",
    "data_train=np.loadtxt(\"training_diabetes_x_y_train.csv\",delimiter=\",\")\n",
    "X_train=data_train[:,0:10]\n",
    "y_train=data_train[:,10:11]\n",
    "\n",
    "#Applying algo\n",
    "regressor=LinearRegression()\n",
    "regressor.fit(X_train,y_train)\n",
    "\n",
    "#Loading Test Data\n",
    "data_test=np.loadtxt(\"test_diabetes_x_test.csv\",delimiter=\",\")\n",
    "X_test=data_test[:,0:10]\n",
    "\n",
    "#Making prediction on Test data\n",
    "y_test_pred=regressor.predict(X_test)\n",
    "\n",
    "#Saving predictions\n",
    "l=[]\n",
    "for i in y_test_pred:\n",
    "    \n",
    "    l.append(int(i))\n",
    "y_test_pred=np.array(l)\n",
    "np.savetxt(\"predict_diabetes.csv\",y_test_pred,delimiter=\",\")"
   ]
  },
  {
   "cell_type": "code",
   "execution_count": null,
   "metadata": {},
   "outputs": [],
   "source": []
  }
 ],
 "metadata": {
  "kernelspec": {
   "display_name": "Python 3",
   "language": "python",
   "name": "python3"
  },
  "language_info": {
   "codemirror_mode": {
    "name": "ipython",
    "version": 3
   },
   "file_extension": ".py",
   "mimetype": "text/x-python",
   "name": "python",
   "nbconvert_exporter": "python",
   "pygments_lexer": "ipython3",
   "version": "3.7.3"
  }
 },
 "nbformat": 4,
 "nbformat_minor": 2
}
