{
 "cells": [
  {
   "cell_type": "markdown",
   "metadata": {},
   "source": [
    "# Old Boston"
   ]
  },
  {
   "cell_type": "code",
   "execution_count": 11,
   "metadata": {},
   "outputs": [],
   "source": [
    "#Importing Dataset\n",
    "from sklearn import datasets\n",
    "boston=datasets.load_boston()\n",
    "X=boston.data\n",
    "y=boston.target\n"
   ]
  },
  {
   "cell_type": "code",
   "execution_count": 12,
   "metadata": {},
   "outputs": [],
   "source": [
    "#Making dataframe out of X \n",
    "#Adding feature names as column of Dataframe\n",
    "import pandas as pd\n",
    "df=pd.DataFrame(X)\n",
    "df.columns=boston.feature_names"
   ]
  },
  {
   "cell_type": "code",
   "execution_count": 13,
   "metadata": {},
   "outputs": [],
   "source": [
    "#Splitting\n",
    "from sklearn import model_selection\n",
    "X_train,X_test,y_train,y_test=model_selection.train_test_split(X,y,random_state=0)"
   ]
  },
  {
   "cell_type": "code",
   "execution_count": 14,
   "metadata": {},
   "outputs": [
    {
     "data": {
      "text/plain": [
       "LinearRegression(copy_X=True, fit_intercept=True, n_jobs=None,\n",
       "         normalize=False)"
      ]
     },
     "execution_count": 14,
     "metadata": {},
     "output_type": "execute_result"
    }
   ],
   "source": [
    "#Running algo\n",
    "from sklearn.linear_model import LinearRegression\n",
    "alg1=LinearRegression()\n",
    "alg1.fit(X_train,y_train)"
   ]
  },
  {
   "cell_type": "code",
   "execution_count": 15,
   "metadata": {},
   "outputs": [
    {
     "name": "stdout",
     "output_type": "stream",
     "text": [
      "Train score  0.7697699488741149\n",
      "Test score  0.6354638433202129\n"
     ]
    }
   ],
   "source": [
    "#Making Predictions\n",
    "y_pred=alg1.predict(X_test)\n",
    "train_score=alg1.score(X_train,y_train)\n",
    "test_score=alg1.score(X_test,y_test)\n",
    "print(\"Train score \",train_score)\n",
    "print(\"Test score \",test_score)"
   ]
  },
  {
   "cell_type": "markdown",
   "metadata": {},
   "source": [
    "# Adding new Feature"
   ]
  },
  {
   "cell_type": "code",
   "execution_count": 24,
   "metadata": {},
   "outputs": [],
   "source": [
    "#Importing Dataset\n",
    "from sklearn import datasets\n",
    "boston=datasets.load_boston()\n",
    "X=boston.data\n",
    "y=boston.target\n"
   ]
  },
  {
   "cell_type": "code",
   "execution_count": 29,
   "metadata": {},
   "outputs": [],
   "source": [
    "#Making dataframe out of X \n",
    "#Adding feature names as column of Dataframe\n",
    "#Adding new Feature\n",
    "import pandas as pd\n",
    "df=pd.DataFrame(X)\n",
    "df.columns=boston.feature_names\n",
    "df['Age_Age']=df.AGE**2\n",
    "X2=df.values"
   ]
  },
  {
   "cell_type": "code",
   "execution_count": 30,
   "metadata": {},
   "outputs": [],
   "source": [
    "#Splitting\n",
    "from sklearn import model_selection\n",
    "X1_train,X1_test,y1_train,y1_test=model_selection.train_test_split(X,y,random_state=0)\n",
    "X2_train,X2_test,y2_train,y2_test=model_selection.train_test_split(X2,y,random_state=0)"
   ]
  },
  {
   "cell_type": "code",
   "execution_count": 31,
   "metadata": {},
   "outputs": [
    {
     "data": {
      "text/plain": [
       "LinearRegression(copy_X=True, fit_intercept=True, n_jobs=None,\n",
       "         normalize=False)"
      ]
     },
     "execution_count": 31,
     "metadata": {},
     "output_type": "execute_result"
    }
   ],
   "source": [
    "#Running algo\n",
    "from sklearn.linear_model import LinearRegression\n",
    "alg1=LinearRegression()\n",
    "alg2=LinearRegression()\n",
    "alg1.fit(X1_train,y1_train)\n",
    "alg2.fit(X2_train,y2_train)"
   ]
  },
  {
   "cell_type": "code",
   "execution_count": 32,
   "metadata": {},
   "outputs": [
    {
     "name": "stdout",
     "output_type": "stream",
     "text": [
      "Train score 1  0.7697699488741149\n",
      "Test score 1 0.6354638433202129\n",
      "Train score 2  0.7707245449911091\n",
      "Test score 2 0.6433109272342966\n"
     ]
    }
   ],
   "source": [
    "#Making Predictions\n",
    "y_pred1=alg1.predict(X1_test)\n",
    "train1_score=alg1.score(X1_train,y1_train)\n",
    "test1_score=alg1.score(X1_test,y1_test)\n",
    "print(\"Train score 1 \",train1_score)\n",
    "print(\"Test score 1\",test1_score)\n",
    "\n",
    "#Making Predictions\n",
    "y_pred2=alg2.predict(X2_test)\n",
    "train2_score=alg2.score(X2_train,y2_train)\n",
    "test2_score=alg2.score(X2_test,y2_test)\n",
    "print(\"Train score 2 \",train2_score)\n",
    "print(\"Test score 2\",test2_score)"
   ]
  },
  {
   "cell_type": "code",
   "execution_count": null,
   "metadata": {},
   "outputs": [],
   "source": []
  },
  {
   "cell_type": "code",
   "execution_count": null,
   "metadata": {},
   "outputs": [],
   "source": []
  }
 ],
 "metadata": {
  "kernelspec": {
   "display_name": "Python 3",
   "language": "python",
   "name": "python3"
  },
  "language_info": {
   "codemirror_mode": {
    "name": "ipython",
    "version": 3
   },
   "file_extension": ".py",
   "mimetype": "text/x-python",
   "name": "python",
   "nbconvert_exporter": "python",
   "pygments_lexer": "ipython3",
   "version": "3.7.1"
  }
 },
 "nbformat": 4,
 "nbformat_minor": 2
}
