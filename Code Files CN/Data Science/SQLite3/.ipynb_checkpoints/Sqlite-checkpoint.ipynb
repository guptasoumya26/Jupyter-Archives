{
 "cells": [
  {
   "cell_type": "code",
   "execution_count": 1,
   "metadata": {},
   "outputs": [
    {
     "data": {
      "text/plain": [
       "<sqlite3.Connection at 0x18f00bef110>"
      ]
     },
     "execution_count": 1,
     "metadata": {},
     "output_type": "execute_result"
    }
   ],
   "source": [
    "import sqlite3\n",
    "db=sqlite3.connect('IMDB.sqlite')\n",
    "db"
   ]
  },
  {
   "cell_type": "code",
   "execution_count": 3,
   "metadata": {},
   "outputs": [
    {
     "ename": "OperationalError",
     "evalue": "table Student already exists",
     "output_type": "error",
     "traceback": [
      "\u001b[1;31m---------------------------------------------------------------------------\u001b[0m",
      "\u001b[1;31mOperationalError\u001b[0m                          Traceback (most recent call last)",
      "\u001b[1;32m<ipython-input-3-03510fbb188c>\u001b[0m in \u001b[0;36m<module>\u001b[1;34m\u001b[0m\n\u001b[0;32m      2\u001b[0m \u001b[0mdb\u001b[0m\u001b[1;33m=\u001b[0m\u001b[0msqlite3\u001b[0m\u001b[1;33m.\u001b[0m\u001b[0mconnect\u001b[0m\u001b[1;33m(\u001b[0m\u001b[1;34m'School.sqlite'\u001b[0m\u001b[1;33m)\u001b[0m\u001b[1;33m\u001b[0m\u001b[1;33m\u001b[0m\u001b[0m\n\u001b[0;32m      3\u001b[0m \u001b[0mcur\u001b[0m\u001b[1;33m=\u001b[0m\u001b[0mdb\u001b[0m\u001b[1;33m.\u001b[0m\u001b[0mcursor\u001b[0m\u001b[1;33m(\u001b[0m\u001b[1;33m)\u001b[0m\u001b[1;33m\u001b[0m\u001b[1;33m\u001b[0m\u001b[0m\n\u001b[1;32m----> 4\u001b[1;33m \u001b[0mcur\u001b[0m\u001b[1;33m.\u001b[0m\u001b[0mexecute\u001b[0m\u001b[1;33m(\u001b[0m\u001b[1;34m'create table Student(Roll int primary key,name Text,age int)'\u001b[0m\u001b[1;33m)\u001b[0m\u001b[1;33m\u001b[0m\u001b[1;33m\u001b[0m\u001b[0m\n\u001b[0m\u001b[0;32m      5\u001b[0m \u001b[0mcur\u001b[0m\u001b[1;33m.\u001b[0m\u001b[0mexecute\u001b[0m\u001b[1;33m(\u001b[0m\u001b[1;34m'Insert into Student values(101,\"Aman\",20)'\u001b[0m\u001b[1;33m)\u001b[0m\u001b[1;33m\u001b[0m\u001b[1;33m\u001b[0m\u001b[0m\n\u001b[0;32m      6\u001b[0m \u001b[0mdb\u001b[0m\u001b[1;33m.\u001b[0m\u001b[0mcommit\u001b[0m\u001b[1;33m(\u001b[0m\u001b[1;33m)\u001b[0m\u001b[1;33m\u001b[0m\u001b[1;33m\u001b[0m\u001b[0m\n",
      "\u001b[1;31mOperationalError\u001b[0m: table Student already exists"
     ]
    }
   ],
   "source": [
    "import sqlite3\n",
    "db=sqlite3.connect('School.sqlite')\n",
    "cur=db.cursor()\n",
    "cur.execute('create table Student(Roll int primary key,name Text,age int)')\n",
    "cur.execute('Insert into Student values(101,\"Aman\",20)')\n",
    "db.commit()\n"
   ]
  },
  {
   "cell_type": "code",
   "execution_count": 4,
   "metadata": {},
   "outputs": [
    {
     "data": {
      "text/plain": [
       "<sqlite3.Cursor at 0x18f00be8260>"
      ]
     },
     "execution_count": 4,
     "metadata": {},
     "output_type": "execute_result"
    }
   ],
   "source": [
    "cur.execute('Select * from student')"
   ]
  },
  {
   "cell_type": "code",
   "execution_count": 6,
   "metadata": {},
   "outputs": [],
   "source": [
    "import sqlite3\n",
    "db=sqlite3.connect('Employee.sqlite')\n",
    "cur=db.cursor()\n",
    "cur.execute('create table employeedetail(employeeid int primary key,name text,age int,department text,salary int)')\n",
    "cur.execute('insert into employeedetail values(100,\"Rishav\",25,\"Marketing\",50000)')\n",
    "cur.execute('insert into employeedetail values(101,\"Abhishek\",26,\"Operations\",60000)')\n",
    "cur.execute('insert into employeedetail values(102,\"Aman\",24,\"Human Resource\",75000)')\n",
    "db.commit()\n",
    "\n"
   ]
  },
  {
   "cell_type": "code",
   "execution_count": 7,
   "metadata": {},
   "outputs": [],
   "source": [
    "cur.execute('delete from employeedetail where employeeid=101')\n",
    "db.commit()"
   ]
  },
  {
   "cell_type": "code",
   "execution_count": 8,
   "metadata": {},
   "outputs": [],
   "source": [
    "id=102\n",
    "cur.execute('delete from employeedetail where employeeid=?',(id,))\n",
    "db.commit()"
   ]
  },
  {
   "cell_type": "code",
   "execution_count": 14,
   "metadata": {},
   "outputs": [
    {
     "name": "stdout",
     "output_type": "stream",
     "text": [
      "[(101, 'Aadarsh', 25, 'Marketing', 50000), (102, 'Aarti', 27, 'Operations', 60000), (103, 'Siddharth', 25, 'Finance', 85000), (104, 'Aman', 24, 'Human Resource', 75000), (105, 'Amit', 30, 'Marketing', 50000), (106, 'Shivansh', 26, 'IT', 90000), (107, 'Vaibhav', 23, 'Finance', 85000), (108, 'Himanshu', 26, 'IT', 90000), (109, 'Raman', 25, 'Operations', 60000), (110, 'Kunal', 26, 'Marketing', 50000), (111, 'Adhira', 29, 'Human Resource', 75000), (112, 'Tanya', 24, 'Marketing', 50000), (113, 'Null', 0, 'Null', 0)]\n",
      "Done\n"
     ]
    }
   ],
   "source": [
    "## Open and read data file as specified in the question\n",
    "## Print the required output in given format\n",
    "employee_id=[101,102,103,104,105,106,107,108,109,110,111,112,113]\n",
    "name=['Aadarsh','Aarti','Siddharth','Aman','Amit','Shivansh','Vaibhav','Himanshu','Raman','Kunal','Adhira','Tanya']\n",
    "age=[25,27,25,24,30,26,23,26,25,26,29,24]\n",
    "department=['Marketing','Operations','Finance','Human Resource','Marketing','IT','Finance','IT','Operations','Marketing','Human Resource','Marketing']\n",
    "salary=[50000,60000,85000,75000,50000,90000,85000,90000,60000,50000,75000,50000]\n",
    "x=[]\n",
    "for i in range(len(employee_id)):\n",
    "    if i<12:\n",
    "        \n",
    "        l=[]\n",
    "        l.append(employee_id[i])\n",
    "        l.append(name[i])\n",
    "        l.append(age[i])\n",
    "        l.append(department[i])\n",
    "        l.append(salary[i])\n",
    "        x.append(tuple(l))\n",
    "    else:\n",
    "        l=[]\n",
    "        l.append(employee_id[i])\n",
    "        l.append(\"Null\")\n",
    "        l.append(0)\n",
    "        l.append(\"Null\")\n",
    "        l.append(0)\n",
    "        x.append(tuple(l))\n",
    "print(x)\n",
    "cur.executemany('Insert into employeedetail values(?,?,?,?,?)',x)\n",
    "print(\"Done\")"
   ]
  },
  {
   "cell_type": "code",
   "execution_count": 15,
   "metadata": {},
   "outputs": [],
   "source": [
    "db.commit()"
   ]
  },
  {
   "cell_type": "code",
   "execution_count": 23,
   "metadata": {},
   "outputs": [
    {
     "name": "stdout",
     "output_type": "stream",
     "text": [
      "103\n",
      "107\n"
     ]
    }
   ],
   "source": [
    "import sqlite3\n",
    "db=sqlite3.connect('Employee.sqlite')\n",
    "cur=db.cursor()\n",
    "cur.execute('Select * from employeedetail where department=\"Finance\"')\n",
    "\n",
    "for i in cur.fetchall():\n",
    "    print(i[0])"
   ]
  },
  {
   "cell_type": "code",
   "execution_count": 6,
   "metadata": {},
   "outputs": [
    {
     "name": "stdout",
     "output_type": "stream",
     "text": [
      "[('Marketing',), ('Operations',), ('Finance',), ('Human Resource',), ('IT',), ('Null',)]\n",
      "6\n",
      "Marketing 5\n",
      "Operations 2\n",
      "Finance 2\n",
      "Human Resource 2\n",
      "IT 2\n"
     ]
    }
   ],
   "source": [
    "import sqlite3\n",
    "db=sqlite3.connect('Employee.sqlite')\n",
    "cur=db.cursor()\n",
    "cur.execute('Select distinct department from employeedetail')\n",
    "x=cur.fetchall()\n",
    "print(x)\n",
    "\n",
    "for i in range(len(x)):\n",
    "    if x[i][0]!=\"Null\":\n",
    "    \n",
    "        print(x[i][0],end=' ')\n",
    "        cur.execute('Select count(*) from employeedetail where department=?',x[i])\n",
    "        print(cur.fetchall()[0][0])\n",
    "# print(\"Marketing 5\")\n",
    "# print(\"Operations 2\")\n",
    "# print(\"Finance 2\")\n",
    "# print(\"Human Resource 2\")\n",
    "# print(\"IT 2\")"
   ]
  },
  {
   "cell_type": "code",
   "execution_count": 1,
   "metadata": {},
   "outputs": [
    {
     "name": "stdout",
     "output_type": "stream",
     "text": [
      "{'Marketing': 4, 'Operations': 2, 'Finance': 2, 'Human Resource': 2, 'IT': 2}\n"
     ]
    }
   ],
   "source": [
    "l=['Marketing','Operations','Finance','Human Resource','Marketing','IT','Finance','IT','Operations','Marketing','Human Resource','Marketing']\n",
    "d={}\n",
    "for i in l:\n",
    "    d[i]=d.get(i,0)+1\n",
    "print(d)"
   ]
  },
  {
   "cell_type": "code",
   "execution_count": 38,
   "metadata": {},
   "outputs": [
    {
     "name": "stdout",
     "output_type": "stream",
     "text": [
      "Drama 77\n",
      "Adventure 43\n",
      "Action 33\n",
      "Comedy 31\n",
      "Biography 21\n",
      "Sci-Fi 18\n",
      "Thriller 14\n",
      "Romance 13\n",
      "Animation 13\n",
      "Crime 11\n",
      "Fantasy 7\n",
      "Mystery 7\n",
      "History 6\n",
      "Family 3\n",
      "Sport 3\n",
      "Music 3\n",
      "Western 2\n",
      "Horror 2\n",
      "War 2\n",
      "Musical 1\n"
     ]
    }
   ],
   "source": [
    "import sqlite3\n",
    "import pandas as pd\n",
    "db=sqlite3.connect('IMDB.sqlite')\n",
    "df=pd.read_sql_query('Select * from genre',db)\n",
    "vc=df.genre.value_counts()\n",
    "keys=vc.keys().tolist()\n",
    "values=vc.tolist()\n",
    "for i in range(vc.shape[0]):\n",
    "    if keys[i]!='':\n",
    "        print(keys[i],end=' ')\n",
    "        print(values[i])"
   ]
  },
  {
   "cell_type": "code",
   "execution_count": 4,
   "metadata": {},
   "outputs": [
    {
     "data": {
      "text/plain": [
       "8.1"
      ]
     },
     "execution_count": 4,
     "metadata": {},
     "output_type": "execute_result"
    }
   ],
   "source": [
    "import sqlite3\n",
    "import pandas as pd\n",
    "db=sqlite3.connect('IMDB.sqlite')\n",
    "df=pd.read_sql_query('Select * from earning',db)\n",
    "df['FinalEarning']=df.Domestic+df.Worldwide\n",
    "max=0\n",
    "\n",
    "for i in range(df.shape[0]):\n",
    "    \n",
    "    if df.iloc[i,3]>max:\n",
    "        max=df.iloc[i,3]\n",
    "        temp=df.iloc[i,0]\n",
    "        \n",
    "\n",
    "# print(max)\n",
    "df=pd.read_sql_query('Select * from IMDB',db)\n",
    "\n",
    "df[df['Movie_id']==temp].iloc[0,2]"
   ]
  },
  {
   "cell_type": "code",
   "execution_count": 5,
   "metadata": {},
   "outputs": [
    {
     "name": "stdout",
     "output_type": "stream",
     "text": [
      "Inception (2010) 8.8\n"
     ]
    }
   ],
   "source": [
    "import sqlite3\n",
    "import pandas as pd\n",
    "db=sqlite3.connect('IMDB.sqlite')\n",
    "df=pd.read_sql_query('Select * from IMDB',db)\n",
    "max=0\n",
    "for i in range(df.shape[0]):\n",
    "    if df.iloc[i,3]>max:\n",
    "        max=df.iloc[i,3]\n",
    "        name=df.iloc[i,1]\n",
    "        rating=df.iloc[i,2]\n",
    "print(name,end=' ')\n",
    "print(rating)"
   ]
  },
  {
   "cell_type": "code",
   "execution_count": 68,
   "metadata": {},
   "outputs": [
    {
     "name": "stdout",
     "output_type": "stream",
     "text": [
      "The Wolf of Wall Street (2013) 180\n"
     ]
    }
   ],
   "source": [
    "import sqlite3\n",
    "import pandas as pd\n",
    "db=sqlite3.connect('IMDB.sqlite')\n",
    "df=pd.read_sql_query('Select * from IMDB',db)\n",
    "max=0\n",
    "for i in range(df.shape[0]):\n",
    "    if df.iloc[i,6]!='':\n",
    "        \n",
    "        \n",
    "        if int(df.iloc[i,6].split()[0])>max:\n",
    "            max=int(df.iloc[i,6].split()[0])\n",
    "            name=df.iloc[i,1]\n",
    "print(name,end=' ')\n",
    "print(max)"
   ]
  },
  {
   "cell_type": "code",
   "execution_count": 3,
   "metadata": {},
   "outputs": [
    {
     "name": "stdout",
     "output_type": "stream",
     "text": [
      "Short Term 12 (2013)\n"
     ]
    }
   ],
   "source": [
    "import sqlite3\n",
    "import pandas as pd\n",
    "import sys\n",
    "db=sqlite3.connect('IMDB.sqlite')\n",
    "df=pd.read_sql_query('Select * from earning,IMDB where IMDB.Movie_id=earning.Movie_id',db)\n",
    "\n",
    "# \n",
    "df['Budget'] = df['Budget'].apply(pd.to_numeric)\n",
    "df['FinalEarning']=df.Domestic+df.Worldwide-df.Budget\n",
    "\n",
    "maxProfit=0\n",
    "leastBudget=sys.maxsize\n",
    "\n",
    "df.describe()\n",
    "max=0\n",
    "for i in range(df.shape[0]):\n",
    "    \n",
    "    if df.iloc[i,8]==df.Budget.min():\n",
    "        if df.iloc[i,55]>max:\n",
    "            max=df.iloc[i,55]\n",
    "            temp=df.iloc[i,4]\n",
    "print(temp)\n",
    "        \n",
    "\n",
    "\n",
    "# # print(max)\n",
    "# df=pd.read_sql_query('Select * from IMDB',db)\n",
    "\n",
    "# df[df['Movie_id']==temp].iloc[0,2]"
   ]
  },
  {
   "cell_type": "code",
   "execution_count": 24,
   "metadata": {},
   "outputs": [
    {
     "name": "stdout",
     "output_type": "stream",
     "text": [
      "Toy Story 3 (2010)\n",
      "Rise of the Planet of the Apes (2011)\n",
      "The Avengers (2012)\n",
      "The Hunger Games: Catching Fire (2013)\n",
      "Guardians of the Galaxy (2014)\n",
      "Star Wars: The Force Awakens (2015)\n",
      "Rogue One (2016)\n"
     ]
    }
   ],
   "source": [
    "import pandas as pd\n",
    "import sqlite3\n",
    "db=sqlite3.connect('IMDB.sqlite')\n",
    "df=pd.read_sql_query('Select * from earning,IMDB where IMDB.Movie_id=earning.Movie_id',db)\n",
    "\n",
    "\n",
    "df['FinalEarning']=df.Domestic+df.Worldwide\n",
    "# df['Year']=df.Title.str.split()[::-1]\n",
    "# df.Year\n",
    "d={}\n",
    "for i in range(df.shape[0]):\n",
    "    key=df.iloc[i,4].split()[-1]\n",
    "    key= key.split('(', 1)[1].split(')')[0]\n",
    "    value=df.iloc[i,4]\n",
    "    if key in d:\n",
    "        d[key]=d[key].strip()+\",\"+value\n",
    "        \n",
    "    else:\n",
    "        d[key]=value\n",
    "\n",
    "x=[]\n",
    "y=[]\n",
    "for i in d:\n",
    "    \n",
    "    \n",
    "    l=d[i].split(\",\")\n",
    "    max=0\n",
    "    for j in l:\n",
    "        \n",
    "        query=df[df.Title==j]\n",
    "        if query.iloc[0,55]>max:\n",
    "            max=query.iloc[0,55]\n",
    "            temp=j\n",
    "            year=temp.split()[-1].split('(', 1)[1].split(')')[0]\n",
    "    x.append(year)     \n",
    "    y.append(temp)\n",
    "x.sort()\n",
    "for i in range(len(x)):\n",
    "    for j in range(len(y)):\n",
    "        if (y[j].split()[-1]).split('(', 1)[1].split(')')[0]==x[i]:\n",
    "            print(y[j])\n",
    "               \n",
    "    "
   ]
  },
  {
   "cell_type": "code",
   "execution_count": 78,
   "metadata": {},
   "outputs": [
    {
     "data": {
      "text/plain": [
       "4"
      ]
     },
     "execution_count": 78,
     "metadata": {},
     "output_type": "execute_result"
    }
   ],
   "source": [
    "l=[1,2,3,4]\n",
    "l[-1]"
   ]
  },
  {
   "cell_type": "code",
   "execution_count": 6,
   "metadata": {},
   "outputs": [
    {
     "name": "stdout",
     "output_type": "stream",
     "text": [
      "Horror 0.03\n",
      "Music 0.15\n",
      "Musical 0.25\n",
      "War 0.36\n",
      "Sport 0.46\n",
      "Western 0.57\n",
      "History 0.72\n",
      "Romance 1.12\n",
      "Crime 1.77\n",
      "Family 1.91\n",
      "Mystery 1.95\n",
      "Biography 2.59\n",
      "Thriller 3.99\n",
      "Fantasy 4.54\n",
      "Comedy 7.22\n",
      "Animation 7.66\n",
      "Sci-Fi 10.77\n",
      "Drama 10.85\n",
      "Action 17.98\n",
      "Adventure 25.10\n"
     ]
    },
    {
     "data": {
      "text/plain": [
       "99.99000000000001"
      ]
     },
     "execution_count": 6,
     "metadata": {},
     "output_type": "execute_result"
    }
   ],
   "source": [
    "import pandas as pd\n",
    "import numpy as np\n",
    "import sqlite3\n",
    "db=sqlite3.connect('IMDB.sqlite')\n",
    "df=pd.read_sql_query('Select genre,budget from genre,IMDB where IMDB.Movie_id=genre.Movie_id and genre not in (\"\")',db)\n",
    "\n",
    "df['Budget']=df['Budget'].apply(pd.to_numeric)\n",
    "df.Budget.replace(\"\",0.0,inplace=True)\n",
    "df.Budget.replace(np.nan,0.0,inplace=True)\n",
    "\n",
    "d={}\n",
    "for i in range(df.shape[0]):\n",
    "    key=df.iloc[i,0]\n",
    "    value=df.iloc[i,1]\n",
    "    if key in d:\n",
    "        d[key]=d[key]+value\n",
    "    else:\n",
    "        d[key]=value\n",
    "\n",
    "sum=0\n",
    "for i in d:\n",
    "    sum=sum+d[i]\n",
    "l=[]\n",
    "for i in d:\n",
    "#     print(i,end=' ')\n",
    "    l.append(round((d[i]/sum)*100, 2))\n",
    "#     print(str(round((d[i]/sum)*100, 2)))\n",
    "l.sort()\n",
    "total=0\n",
    "for i in l:\n",
    "    for j in d:\n",
    "        if j!=\"None\":\n",
    "            if float(round((d[j]/sum)*100, 2))==float(i):\n",
    "                print(j,end=' ')\n",
    "                print(\"{:.2f}\".format(i))\n",
    "                \n",
    "                \n",
    "                \n"
   ]
  },
  {
   "cell_type": "code",
   "execution_count": 3,
   "metadata": {},
   "outputs": [
    {
     "name": "stdout",
     "output_type": "stream",
     "text": [
      "5.00\n"
     ]
    }
   ],
   "source": [
    "print(\"{:.2f}\".format(5))"
   ]
  },
  {
   "cell_type": "code",
   "execution_count": 11,
   "metadata": {},
   "outputs": [
    {
     "name": "stdout",
     "output_type": "stream",
     "text": [
      "Horror 0.01\n",
      "War 0.25\n",
      "Sport 0.32\n",
      "Musical 0.38\n",
      "Music 0.43\n",
      "Western 0.65\n",
      "History 1.04\n",
      "Family 1.05\n",
      "Romance 1.45\n",
      "Crime 1.55\n",
      "Mystery 2.01\n",
      "Biography 3.42\n",
      "Thriller 4.42\n",
      "Fantasy 5.15\n",
      "Animation 6.77\n",
      "Comedy 7.69\n",
      "Sci-Fi 9.95\n",
      "Drama 11.96\n",
      "Action 17.91\n",
      "Adventure 23.57\n"
     ]
    }
   ],
   "source": [
    "import pandas as pd\n",
    "import numpy as np\n",
    "import sqlite3\n",
    "db=sqlite3.connect('IMDB.sqlite')\n",
    "df=pd.read_sql_query('Select genre,Domestic,Worldwide from genre,earning where genre.Movie_id=earning.Movie_id and genre not in (\"\")',db)\n",
    "df.Domestic.replace(\"\",0.0,inplace=True)\n",
    "df.Domestic.replace(np.nan,0.0,inplace=True)\n",
    "df.Worldwide.replace(\"\",0.0,inplace=True)\n",
    "df.Worldwide.replace(np.nan,0.0,inplace=True)\n",
    "df['total']=df['Domestic']+df['Worldwide']\n",
    "df\n",
    "d={}\n",
    "for i in range(df.shape[0]):\n",
    "    key=df.iloc[i,0]\n",
    "    value=df.iloc[i,3]\n",
    "    if key in d:\n",
    "        d[key]=d[key]+value\n",
    "    else:\n",
    "        d[key]=value\n",
    "\n",
    "sum=0\n",
    "for i in d:\n",
    "    sum=sum+d[i]\n",
    "l=[]\n",
    "for i in d:\n",
    "#     print(i,end=' ')\n",
    "    l.append(round((d[i]/sum)*100, 2))\n",
    "#     print(str(round((d[i]/sum)*100, 2)))\n",
    "l.sort()\n",
    "total=0\n",
    "for i in l:\n",
    "    for j in d:\n",
    "        if float(round((d[j]/sum)*100, 2))==float(i):\n",
    "            print(j,end=' ')\n",
    "            print(\"{:.2f}\".format(i))\n",
    "                \n",
    "                \n",
    "                \n"
   ]
  },
  {
   "cell_type": "code",
   "execution_count": 14,
   "metadata": {},
   "outputs": [
    {
     "name": "stdout",
     "output_type": "stream",
     "text": [
      "Arrival (2016)\n"
     ]
    }
   ],
   "source": [
    "import pandas as pd\n",
    "import numpy as np\n",
    "import sqlite3\n",
    "db=sqlite3.connect('IMDB.sqlite')\n",
    "df=pd.read_sql_query('select * from genre a,genre b,imdb where a.Movie_id=b.Movie_id and a.Movie_id=imdb.Movie_id and a.genre=\"Sci-Fi\" and b.genre=\"Mystery\" and imdb.Rating>=8',db)\n",
    "print(df.iloc[0,5])"
   ]
  },
  {
   "cell_type": "code",
   "execution_count": null,
   "metadata": {},
   "outputs": [],
   "source": []
  }
 ],
 "metadata": {
  "kernelspec": {
   "display_name": "Python 3",
   "language": "python",
   "name": "python3"
  },
  "language_info": {
   "codemirror_mode": {
    "name": "ipython",
    "version": 3
   },
   "file_extension": ".py",
   "mimetype": "text/x-python",
   "name": "python",
   "nbconvert_exporter": "python",
   "pygments_lexer": "ipython3",
   "version": "3.7.1"
  }
 },
 "nbformat": 4,
 "nbformat_minor": 2
}
