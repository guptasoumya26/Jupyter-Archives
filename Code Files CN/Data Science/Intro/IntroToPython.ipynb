{
 "cells": [
  {
   "cell_type": "markdown",
   "metadata": {},
   "source": [
    "## Jupyter Intro"
   ]
  },
  {
   "cell_type": "code",
   "execution_count": null,
   "metadata": {},
   "outputs": [
    {
     "name": "stdout",
     "output_type": "stream",
     "text": [
      "abcdd\n",
      "> <ipython-input-1-4acb2c413015>(5)<module>()\n",
      "-> if(len(s)==0):\n",
      "(Pdb) len(s)==0\n",
      "True\n",
      "(Pdb) n\n",
      "> <ipython-input-1-4acb2c413015>(6)<module>()\n",
      "-> s=s+n[i]\n",
      "(Pdb) n\n",
      "> <ipython-input-1-4acb2c413015>(3)<module>()\n",
      "-> for i in range(len(n)):\n",
      "(Pdb) s\n",
      "> <ipython-input-1-4acb2c413015>(4)<module>()\n",
      "-> breakpoint()\n",
      "(Pdb) print(s)\n",
      "a\n",
      "(Pdb) n\n",
      "> <ipython-input-1-4acb2c413015>(5)<module>()\n",
      "-> if(len(s)==0):\n",
      "(Pdb) n\n",
      "> <ipython-input-1-4acb2c413015>(8)<module>()\n",
      "-> if(s[len(s)-1]!=n[i]):\n"
     ]
    }
   ],
   "source": [
    "n=input()\n",
    "s=''\n",
    "for i in range(len(n)):\n",
    "    breakpoint()\n",
    "    if(len(s)==0):\n",
    "        s=s+n[i]\n",
    "    else:\n",
    "        if(s[len(s)-1]!=n[i]):\n",
    "            s=s+n[i]\n",
    "print(s)"
   ]
  },
  {
   "cell_type": "code",
   "execution_count": 10,
   "metadata": {},
   "outputs": [
    {
     "name": "stdout",
     "output_type": "stream",
     "text": [
      "hello\n"
     ]
    }
   ],
   "source": [
    "print(\"hello\")"
   ]
  },
  {
   "cell_type": "code",
   "execution_count": 12,
   "metadata": {},
   "outputs": [
    {
     "data": {
      "text/plain": [
       "30"
      ]
     },
     "execution_count": 12,
     "metadata": {},
     "output_type": "execute_result"
    }
   ],
   "source": [
    "a=10\n",
    "b=20\n",
    "a+b"
   ]
  },
  {
   "cell_type": "code",
   "execution_count": 3,
   "metadata": {},
   "outputs": [
    {
     "name": "stdout",
     "output_type": "stream",
     "text": [
      "{'this': 1, 'is': 1, 'a': 2, 'string': 2, 'with': 1, 'many': 1, 'words': 1}\n"
     ]
    }
   ],
   "source": [
    "s=\"this is a a string string with many words\"\n",
    "d={}\n",
    "for w in s.split():\n",
    "    if w in d:\n",
    "        d[w]=d[w]+1\n",
    "    else:\n",
    "        d[w]=1\n",
    "print(d)"
   ]
  },
  {
   "cell_type": "code",
   "execution_count": 1,
   "metadata": {},
   "outputs": [
    {
     "data": {
      "text/plain": [
       "0"
      ]
     },
     "execution_count": 1,
     "metadata": {},
     "output_type": "execute_result"
    }
   ],
   "source": [
    "2//10"
   ]
  },
  {
   "cell_type": "code",
   "execution_count": 2,
   "metadata": {},
   "outputs": [
    {
     "data": {
      "text/plain": [
       "0.2"
      ]
     },
     "execution_count": 2,
     "metadata": {},
     "output_type": "execute_result"
    }
   ],
   "source": [
    "2/10"
   ]
  },
  {
   "cell_type": "code",
   "execution_count": 13,
   "metadata": {},
   "outputs": [
    {
     "name": "stdout",
     "output_type": "stream",
     "text": [
      "[1, 3, 5, 6, 4, 2]\n"
     ]
    }
   ],
   "source": [
    "l=[1,2,3,4,5,6]\n",
    "a=[] #1,3,5\n",
    "b=[] #6,4,2\n",
    "if len(l)%2==0:\n",
    "    for i in range(0,len(l),2):\n",
    "        a.append(l[i])\n",
    "    for j in range(len(l)-1,0,-2):\n",
    "        b.append(l[j])\n",
    "    print(a+b)\n",
    "else:\n",
    "    #l=[1,2,3,4,5]\n",
    "    #O/p = [1,3,5,4,2]\n",
    "    for i in range(0,len(l),2):\n",
    "        a.append(l[i])\n",
    "    for j in range(len(l)-2,0,-2):\n",
    "        b.append(l[j])\n",
    "    print(a+b)"
   ]
  },
  {
   "cell_type": "code",
   "execution_count": null,
   "metadata": {},
   "outputs": [],
   "source": []
  }
 ],
 "metadata": {
  "kernelspec": {
   "display_name": "Python 3",
   "language": "python",
   "name": "python3"
  },
  "language_info": {
   "codemirror_mode": {
    "name": "ipython",
    "version": 3
   },
   "file_extension": ".py",
   "mimetype": "text/x-python",
   "name": "python",
   "nbconvert_exporter": "python",
   "pygments_lexer": "ipython3",
   "version": "3.7.1"
  }
 },
 "nbformat": 4,
 "nbformat_minor": 2
}
