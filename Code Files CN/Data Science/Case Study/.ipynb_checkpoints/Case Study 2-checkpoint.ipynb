{
 "cells": [
  {
   "cell_type": "markdown",
   "metadata": {},
   "source": [
    "Que-1) Your Friend has developed the Product and he wants to establish the product startup and he is searching for a perfect location where getting the investment has a high chance. \n",
    "\n",
    "But due to its financial restriction, he can choose only between three locations -  Bangalore, Mumbai, and NCR. \n",
    "As a friend, you want to help your friend deciding the location. \n",
    "NCR include Gurgaon, Noida and New Delhi. \n",
    "\n",
    "Find the location where the most number of funding is done. That means, find the location where startups has received funding maximum number of times. \n",
    "\n",
    "Plot the bar graph between location and number of funding. \n",
    "\n",
    "Take city name \"Delhi\" as \"New Delhi\". \n",
    "Check the case-sensitiveness of cities also.That means, at some place instead of \"Bangalore\", \"bangalore\" is given. Take city name as \"Bangalore\". \n",
    "\n",
    "For few startups multiple locations are given, one Indian and one Foreign. Consider the startup if any one of the city lies in given locations."
   ]
  },
  {
   "cell_type": "code",
   "execution_count": 36,
   "metadata": {},
   "outputs": [
    {
     "name": "stdout",
     "output_type": "stream",
     "text": [
      "Bangalore 637\n",
      "Mumbai 449\n",
      "New Delhi 389\n",
      "Gurgaon 241\n",
      "Noida 79\n"
     ]
    },
    {
     "data": {
      "image/png": "[encoded data removed]",
      "text/plain": [
       "<Figure size 432x288 with 1 Axes>"
      ]
     },
     "metadata": {
      "needs_background": "light"
     },
     "output_type": "display_data"
    },
    {
     "name": "stdout",
     "output_type": "stream",
     "text": [
      "Bangalore is the City which has received funding maximum number of times\n"
     ]
    }
   ],
   "source": [
    "import pandas as pd\n",
    "import numpy as np\n",
    "import matplotlib.pyplot as pt\n",
    "iris=pd.read_csv(\"D:\\\\Dropbox\\\\startup_funding.csv\")\n",
    "df=iris.copy()\n",
    "\n",
    "#Replacing Nan value cities with Unknown and Delhi with New Delhi\n",
    "df.CityLocation.replace(np.nan,\"Unknown\",inplace=True)\n",
    "df.CityLocation.replace(\"Delhi\",\"New Delhi\",inplace=True)\n",
    "\n",
    "#Creating empty list and empty dictionary\n",
    "l=[]\n",
    "d={}\n",
    "\n",
    "#Adding all cities in empty list with lower case\n",
    "for i in range(df.shape[0]):\n",
    "    l.append(df.iloc[i,5].lower())\n",
    "\n",
    "#creating dictionary out of above list\n",
    "for i in l:\n",
    "    d[i]=d.get(i,0)+1\n",
    "\n",
    "# Now if the key has cities separated by \"/\" then appending the corresponding values\n",
    "# And resetting the value of that particular key to 0.0\n",
    "for i in d:\n",
    "    x=i.split(\"/\")\n",
    "    if len(x)==2:\n",
    "        for j in list(d.keys()):\n",
    "            if x[0].strip()==j.strip():\n",
    "                d[j]=d[j]+d[i]\n",
    "                d[i]=0.0\n",
    "            elif x[1].strip()==j.strip():\n",
    "                d[j]=d[j]+d[i]\n",
    "                d[i]=0.0\n",
    "\n",
    "#Creating blank X,Y Plots\n",
    "x=[]\n",
    "y=[]\n",
    "reqdCities=['bangalore','new delhi','mumbai','gurgaon','noida']\n",
    "for i in d:\n",
    "    if i in reqdCities:\n",
    "        print(i.title(),end=' ')\n",
    "        x.append(i.title())\n",
    "        y.append(d[i])\n",
    "        print(d[i])\n",
    "\n",
    "#Plotting the Bar for visualization\n",
    "pt.bar(x,y)\n",
    "pt.show()\n",
    "print(\"Bangalore is the City which has received funding maximum number of times\")"
   ]
  },
  {
   "cell_type": "code",
   "execution_count": null,
   "metadata": {},
   "outputs": [],
   "source": []
  },
  {
   "cell_type": "code",
   "execution_count": null,
   "metadata": {},
   "outputs": [],
   "source": []
  },
  {
   "cell_type": "markdown",
   "metadata": {},
   "source": [
    "\n",
    "\n",
    "Que2) Even after trying for so many times, your friend’s startup could not find the investment. So you decided to take this matter in your hand and try to find the list of investors who probably can invest in your friend’s startup. \n",
    "\n",
    "Your list will increase the chance of your friend startup getting some initial investment by contacting these investors. \n",
    "\n",
    "Find the top 5 investors who have invested maximum number of times (consider repeat investments in one company also). \n",
    "\n",
    "In a startup, multiple investors might have invested. So consider each investor for that startup. Ignore undisclosed investors."
   ]
  },
  {
   "cell_type": "code",
   "execution_count": 2,
   "metadata": {},
   "outputs": [
    {
     "name": "stdout",
     "output_type": "stream",
     "text": [
      "Sequoia Capital 64\n",
      "Accel Partners 53\n",
      "Kalaari Capital 44\n",
      "Saif Partners 43\n",
      "Indian Angel Network 41\n"
     ]
    },
    {
     "data": {
      "image/png": "[encoded data removed]",
      "text/plain": [
       "<Figure size 432x288 with 1 Axes>"
      ]
     },
     "metadata": {
      "needs_background": "light"
     },
     "output_type": "display_data"
    }
   ],
   "source": [
    "import pandas as pd\n",
    "import numpy as np\n",
    "import matplotlib.pyplot as pt\n",
    "iris=pd.read_csv(\"D:\\\\Dropbox\\\\startup_funding.csv\")\n",
    "df=iris.copy()\n",
    "\n",
    "#Replacing Nan values with blanks for investors column\n",
    "df.InvestorsName.replace(np.nan,\"\",inplace=True)\n",
    "\n",
    "#Creating empty List\n",
    "l=[]\n",
    "\n",
    "#For each row of Investor if value is not blank, appending values in list,which are separated by comma\n",
    "for i in range(df.shape[0]):\n",
    "    if df.iloc[i,6]!='':\n",
    "        x=df.iloc[i,6].split(\",\")\n",
    "        for i in x:\n",
    "            l.append(i.strip().lower())\n",
    "\n",
    "\n",
    "#Initializing an empty dictionary\n",
    "d={}\n",
    "#Creating dictionary out of Investor list\n",
    "for i in l:\n",
    "    d[i]=d.get(i,0)+1\n",
    "\n",
    "#Sorting dictionary on values , keeping a check on undisclosed investors\n",
    "#Storing values in list and reverse sorting the list for top 5 values\n",
    "l=[]\n",
    "for i in d:\n",
    "    if 'undisclosed investor' in i.lower():\n",
    "        pass\n",
    "    elif 'undisclosed investors' in i.lower():\n",
    "        pass\n",
    "    else:\n",
    "        l.append(d[i])\n",
    "l.sort(reverse=True)\n",
    "l=l[0:5]\n",
    "\n",
    "#Getting corresponding keys for values in list and plotting a Bar Graph\n",
    "x=[]\n",
    "y=[]\n",
    "for i in range(len(l)):\n",
    "    for j in d:\n",
    "        if d[j]==l[i]:\n",
    "            print(j.title(),end=' ')\n",
    "            x.append(j)\n",
    "            print(d[j])\n",
    "            y.append(d[j])\n",
    "pt.bar(x,y)\n",
    "pt.xticks(rotation=40)\n",
    "pt.show()"
   ]
  },
  {
   "cell_type": "code",
   "execution_count": null,
   "metadata": {},
   "outputs": [],
   "source": []
  },
  {
   "cell_type": "code",
   "execution_count": null,
   "metadata": {},
   "outputs": [],
   "source": []
  },
  {
   "cell_type": "markdown",
   "metadata": {},
   "source": [
    "Que3) After re-analysing the dataset you found out that some investors have invested in the same startup at different number of funding rounds. \n",
    "\n",
    "So before finalising the previous list, you want to improvise it by finding the top 5 investors who have invested in different number of startups.This list will be more helpful than your previous list in finding the investment for your friend startup.\n",
    "\n",
    "Find the top 5 investors who have invested maximum number of times in different companies. That means, if one investor has invested multiple times in one startup, count one for that company. \n",
    "\n",
    "There are many errors in startup names. Ignore correcting all, just handle the important ones - Ola, Flipkart, Oyo and Paytm."
   ]
  },
  {
   "cell_type": "code",
   "execution_count": 27,
   "metadata": {},
   "outputs": [
    {
     "name": "stdout",
     "output_type": "stream",
     "text": [
      "Sequoia Capital 48\n",
      "Accel Partners 47\n",
      "Kalaari Capital 41\n",
      "Indian Angel Network 40\n",
      "Blume Ventures 36\n"
     ]
    },
    {
     "data": {
      "image/png": "[encoded data removed]",
      "text/plain": [
       "<Figure size 432x288 with 1 Axes>"
      ]
     },
     "metadata": {
      "needs_background": "light"
     },
     "output_type": "display_data"
    }
   ],
   "source": [
    "import pandas as pd\n",
    "import numpy as np\n",
    "import matplotlib.pyplot as pt\n",
    "iris=pd.read_csv(\"D:\\\\Dropbox\\\\startup_funding.csv\")\n",
    "df=iris.copy()\n",
    "\n",
    "#Replacing Nan values with Not Available for investors and Startup column\n",
    "df.InvestorsName.replace(np.nan,\"Not Available\",inplace=True)\n",
    "df.StartupName.replace(np.nan,\"Not Available\",inplace=True)\n",
    "\n",
    "#Correcting Important startups\n",
    "df.StartupName.replace(\"Ola Cabs\",\"Ola\",inplace=True)\n",
    "df.StartupName.replace(\"Olacabs\",\"Ola\",inplace=True)\n",
    "df.StartupName.replace(\"Flipkart.com\",\"Flipkart\",inplace=True)\n",
    "df.StartupName.replace(\"Oyo Rooms\",\"Oyo\",inplace=True)\n",
    "df.StartupName.replace(\"OyoRooms\",\"Oyo\",inplace=True)\n",
    "df.StartupName.replace(\"Oyorooms\",\"Oyo\",inplace=True)\n",
    "df.StartupName.replace(\"OYO Rooms\",\"Oyo\",inplace=True)\n",
    "df.StartupName.replace(\"Paytm Marketplace\",\"Paytm\",inplace=True)\n",
    "\n",
    "#Step1\n",
    "#Creating a dictionary with Key as StartupName and Value as Investor Name\n",
    "d={}\n",
    "for i in range(df.shape[0]):\n",
    "    if df.iloc[i,2]!='Not Available':\n",
    "        key=df.iloc[i,2]\n",
    "        value=df.iloc[i,6]\n",
    "        if key in d:\n",
    "            d[key]=d[key]+\",\"+value\n",
    "        else:\n",
    "            d[key]=value\n",
    "    \n",
    "#As of now dictionary has startup-wise Investor Names including duplicate Investor Names as well\n",
    "\n",
    "#Step2\n",
    "#Stripping Blank spaces from Values\n",
    "#Making List of all the values ie Investor Names with Keys as StartUpNames, \n",
    "# ie Startup1:[InvestorNames]\n",
    "# Startup2:[InvestorNames] and so on\n",
    "#Duplicate Values are still present\n",
    "for i in d:\n",
    "    l=d[i].split(\",\")\n",
    "    x=[]\n",
    "    for j in l:   \n",
    "        j=j.strip()\n",
    "        x.append(j)\n",
    "    d[i]=x\n",
    "\n",
    "#Removing duplicates from all the values ie Investor Names with keys as StartupNames\n",
    "for i in d:\n",
    "    d[i]=list(set(d[i]))\n",
    "\n",
    "\n",
    "#Finally making one list out of all the values(ie Investor Names) and running value counts over it for top 5\n",
    "l=[]\n",
    "for i in d:\n",
    "    for j in d[i]:\n",
    "        if j!='':\n",
    "            l.append(j)\n",
    "\n",
    "#Removing Undisclosed Investors\n",
    "x=[]\n",
    "for i in l:\n",
    "    if 'undisclosed investors' in i.lower():\n",
    "        pass\n",
    "    elif 'undisclosed investor' in i.lower():\n",
    "        pass\n",
    "    else:\n",
    "        x.append(i)\n",
    "\n",
    "#Setting up the data frame and finding value counts and plotting the Bar Graph \n",
    "#New Data Frame with x,y plots\n",
    "df1 = pd.DataFrame(x, columns= ['Investors'])\n",
    "counts=df1.Investors.value_counts()\n",
    "keys=counts.keys().tolist()\n",
    "values=counts.tolist()\n",
    "\n",
    "#X,Y Plots\n",
    "a=[]\n",
    "b=[]\n",
    "for i in range(5):\n",
    "    print(keys[i],end=' ')\n",
    "    a.append(keys[i])\n",
    "    print(values[i])\n",
    "    b.append(values[i])\n",
    "\n",
    "#Plotting the bar graph\n",
    "pt.bar(a,b)\n",
    "pt.xticks(rotation=40)\n",
    "pt.show()"
   ]
  },
  {
   "cell_type": "code",
   "execution_count": null,
   "metadata": {},
   "outputs": [],
   "source": []
  },
  {
   "cell_type": "code",
   "execution_count": null,
   "metadata": {},
   "outputs": [],
   "source": []
  },
  {
   "cell_type": "markdown",
   "metadata": {},
   "source": [
    "Que4) Even after putting so much effort in finding the probable investors, it didn't turn out to be helpful for your friend. \n",
    "\n",
    "So you went to your investor friend to understand the situation better and your investor friend explained to you about the different Investment Types and their features. \n",
    "This new information will be helpful in finding the right investor. \n",
    "\n",
    "Since your friend startup is at an early stage startup, the best-suited investment type would be - Seed Funding and Crowdfunding. \n",
    "\n",
    "Find the top 5 investors who have invested in a different number of startups and their investment type is Crowdfunding or Seed Funding. \n",
    "\n",
    "Correct spelling of investment types are - \"Private Equity\", \"Seed Funding\", \"Debt Funding\", and \"Crowd Funding\". \n",
    "\n",
    "Keep an eye for any spelling mistake. You can find this by printing unique values from this column. There are many errors in startup names. Ignore correcting all, just handle the important ones - Ola, Flipkart, Oyo and Paytm."
   ]
  },
  {
   "cell_type": "code",
   "execution_count": 25,
   "metadata": {},
   "outputs": [
    {
     "name": "stdout",
     "output_type": "stream",
     "text": [
      "Indian Angel Network 33\n",
      "Rajan Anandan 25\n",
      "Anupam Mittal 16\n",
      "LetsVenture 16\n",
      "Group of Angel Investors 15\n"
     ]
    },
    {
     "data": {
      "image/png": "[encoded data removed]",
      "text/plain": [
       "<Figure size 432x288 with 1 Axes>"
      ]
     },
     "metadata": {
      "needs_background": "light"
     },
     "output_type": "display_data"
    }
   ],
   "source": [
    "import pandas as pd\n",
    "import numpy as np\n",
    "import matplotlib.pyplot as pt\n",
    "iris=pd.read_csv(\"D:\\\\Dropbox\\\\startup_funding.csv\")\n",
    "df=iris.copy()\n",
    "\n",
    "#Correcting Important startups\n",
    "df.StartupName.replace(\"Ola Cabs\",\"Ola\",inplace=True)\n",
    "df.StartupName.replace(\"Olacabs\",\"Ola\",inplace=True)\n",
    "df.StartupName.replace(\"Flipkart.com\",\"Flipkart\",inplace=True)\n",
    "df.StartupName.replace(\"Oyo Rooms\",\"Oyo\",inplace=True)\n",
    "df.StartupName.replace(\"OyoRooms\",\"Oyo\",inplace=True)\n",
    "df.StartupName.replace(\"Oyorooms\",\"Oyo\",inplace=True)\n",
    "df.StartupName.replace(\"OYO Rooms\",\"Oyo\",inplace=True)\n",
    "df.StartupName.replace(\"Paytm Marketplace\",\"Paytm\",inplace=True)\n",
    "df.StartupName.replace(np.nan,\"Not Available\",inplace=True)\n",
    "\n",
    "#Correcting InvestmentType\n",
    "df.InvestmentType.replace(\"PrivateEquity\",\"Private Equity\",inplace=True)\n",
    "df.InvestmentType.replace(\"SeedFunding\",\"Seed Funding\",inplace=True)\n",
    "df.InvestmentType.replace(\"Crowd funding\",\"Crowd Funding\",inplace=True)\n",
    "df.InvestmentType.replace(np.nan,\"Unknown\",inplace=True)\n",
    "\n",
    "#Correcting Investors Name\n",
    "df.InvestorsName.replace(np.nan,\"Not Available\",inplace=True)\n",
    "\n",
    "#Creating Dictionaries with Keys as \"Crowd Funding\",\"Seed Funding\"\n",
    "#and values as Investors name\n",
    "d={}\n",
    "for i in range(df.shape[0]):\n",
    "    if df.iloc[i,7]!='Unknown' and df.iloc[i,7]!='Private Equity' and df.iloc[i,7]!='Debt Funding':\n",
    "        key=df.iloc[i,7]\n",
    "        value=df.iloc[i,6]\n",
    "        if key in d:\n",
    "            d[key]=d[key]+\",\"+value\n",
    "        else:\n",
    "            d[key]=value\n",
    "\n",
    "#Storing all values ie Investor names in a list\n",
    "l=[]\n",
    "for i in d:\n",
    "    x=d[i].split(\",\")\n",
    "    for i in x:\n",
    "        if i!='':\n",
    "            l.append(i.strip())\n",
    "\n",
    "\n",
    "#Removing Undisclosed Investors\n",
    "x=[]\n",
    "for i in l:\n",
    "    if 'undisclosed investors' in i.lower():\n",
    "        pass\n",
    "    elif 'undisclosed investor' in i.lower():\n",
    "        pass\n",
    "    else:\n",
    "        x.append(i)\n",
    "\n",
    "#Setting up the data frame and finding value counts and plotting the Bar Graph \n",
    "#New Data Frame with x,y plots\n",
    "df1 = pd.DataFrame(x, columns= ['Investors'])\n",
    "counts=df1.Investors.value_counts()\n",
    "keys=counts.keys().tolist()\n",
    "values=counts.tolist()\n",
    "\n",
    "#X,Y Plots\n",
    "a=[]\n",
    "b=[]\n",
    "for i in range(5):\n",
    "    print(keys[i],end=' ')\n",
    "    a.append(keys[i])\n",
    "    print(values[i])\n",
    "    b.append(values[i])\n",
    "\n",
    "#Plotting the bar graph\n",
    "pt.bar(a,b)\n",
    "pt.xticks(rotation=40)\n",
    "pt.show()"
   ]
  },
  {
   "cell_type": "code",
   "execution_count": null,
   "metadata": {},
   "outputs": [],
   "source": []
  },
  {
   "cell_type": "code",
   "execution_count": null,
   "metadata": {},
   "outputs": [],
   "source": []
  },
  {
   "cell_type": "markdown",
   "metadata": {},
   "source": [
    "Que5) Due to your immense help, your friend startup successfully got seed funding and it is on the operational mode. \n",
    "\n",
    "Now your friend wants to expand his startup and he is looking for new investors for his startup. \n",
    "Now you again come as a saviour to help your friend and want to create a list of probable new investors. \n",
    "\n",
    "Before moving forward you remember your investor friend advice that finding the investors by analysing the investment type. Since your friend startup is not in early phase it is in growth stage so the best-suited investment type is Private Equity.\n",
    "\n",
    "Find the top 5 investors who have invested in a different number of startups and their investment type is Private Equity. \n",
    "\n",
    "Correct spelling of investment types are - \"Private Equity\", \"Seed Funding\", \"Debt Funding\", and \"Crowd Funding\". Keep an eye for any spelling mistake. You can find this by printing unique values from this column.\n",
    "\n",
    "There are many errors in startup names. Ignore correcting all, just handle the important ones - Ola, Flipkart, Oyo and Paytm."
   ]
  },
  {
   "cell_type": "code",
   "execution_count": 4,
   "metadata": {},
   "outputs": [
    {
     "name": "stdout",
     "output_type": "stream",
     "text": [
      "Sequoia Capital 59\n",
      "Accel Partners 47\n",
      "Kalaari Capital 38\n",
      "Saif Partners 37\n",
      "Blume Ventures 30\n"
     ]
    },
    {
     "data": {
      "image/png": "[encoded data removed]",
      "text/plain": [
       "<Figure size 432x288 with 1 Axes>"
      ]
     },
     "metadata": {
      "needs_background": "light"
     },
     "output_type": "display_data"
    }
   ],
   "source": [
    "import pandas as pd\n",
    "import numpy as np\n",
    "import matplotlib.pyplot as pt\n",
    "iris=pd.read_csv(\"D:\\\\Dropbox\\\\startup_funding.csv\")\n",
    "df=iris.copy()\n",
    "\n",
    "#Correcting Important startups\n",
    "df.StartupName.replace(\"Ola Cabs\",\"Ola\",inplace=True)\n",
    "df.StartupName.replace(\"Olacabs\",\"Ola\",inplace=True)\n",
    "df.StartupName.replace(\"Flipkart.com\",\"Flipkart\",inplace=True)\n",
    "df.StartupName.replace(\"Oyo Rooms\",\"Oyo\",inplace=True)\n",
    "df.StartupName.replace(\"OyoRooms\",\"Oyo\",inplace=True)\n",
    "df.StartupName.replace(\"Oyorooms\",\"Oyo\",inplace=True)\n",
    "df.StartupName.replace(\"OYO Rooms\",\"Oyo\",inplace=True)\n",
    "df.StartupName.replace(\"Paytm Marketplace\",\"Paytm\",inplace=True)\n",
    "df.StartupName.replace(np.nan,\"Not Available\",inplace=True)\n",
    "\n",
    "#Correcting InvestmentType\n",
    "df.InvestmentType.replace(\"PrivateEquity\",\"Private Equity\",inplace=True)\n",
    "df.InvestmentType.replace(\"SeedFunding\",\"Seed Funding\",inplace=True)\n",
    "df.InvestmentType.replace(\"Crowd funding\",\"Crowd Funding\",inplace=True)\n",
    "df.InvestmentType.replace(np.nan,\"Unknown\",inplace=True)\n",
    "\n",
    "#Correcting Investors Name\n",
    "df.InvestorsName.replace(np.nan,\"Not Available\",inplace=True)\n",
    "\n",
    "\n",
    "#Creating Dictionaries with Keys as \"Private Equity\"\n",
    "#and values as Investors name\n",
    "d={}\n",
    "for i in range(df.shape[0]):\n",
    "    if df.iloc[i,7]=='Private Equity':\n",
    "        key=df.iloc[i,7]\n",
    "        value=df.iloc[i,6]\n",
    "        if key in d:\n",
    "            d[key]=d[key]+\",\"+value\n",
    "        else:\n",
    "            d[key]=value\n",
    "\n",
    "#Storing all values ie Investor names in list\n",
    "l=[]\n",
    "for i in d:\n",
    "    x=d[i].split(\",\")\n",
    "    for i in x:\n",
    "        if i!='':\n",
    "            l.append(i.strip().lower())\n",
    "\n",
    "#Removing Undisclosed Investors\n",
    "x=[]\n",
    "for i in l:\n",
    "    if 'undisclosed investors' in i.lower():\n",
    "        pass\n",
    "    elif 'undisclosed investor' in i.lower():\n",
    "        pass\n",
    "    else:\n",
    "        x.append(i)\n",
    "\n",
    "#Setting up the data frame and finding value counts and plotting the Bar Graph \n",
    "#New Data Frame with x,y plots\n",
    "df1 = pd.DataFrame(x, columns= ['Investors'])\n",
    "counts=df1.Investors.value_counts()\n",
    "keys=counts.keys().tolist()\n",
    "values=counts.tolist()\n",
    "\n",
    "#X,Y Plots\n",
    "a=[]\n",
    "b=[]\n",
    "for i in range(5):\n",
    "    print(keys[i].title(),end=' ')\n",
    "    a.append(keys[i])\n",
    "    print(values[i])\n",
    "    b.append(values[i])\n",
    "\n",
    "#Plotting the bar graph\n",
    "pt.bar(a,b)\n",
    "pt.xticks(rotation=40)\n",
    "pt.show()"
   ]
  },
  {
   "cell_type": "code",
   "execution_count": null,
   "metadata": {},
   "outputs": [],
   "source": []
  }
 ],
 "metadata": {
  "kernelspec": {
   "display_name": "Python 3",
   "language": "python",
   "name": "python3"
  },
  "language_info": {
   "codemirror_mode": {
    "name": "ipython",
    "version": 3
   },
   "file_extension": ".py",
   "mimetype": "text/x-python",
   "name": "python",
   "nbconvert_exporter": "python",
   "pygments_lexer": "ipython3",
   "version": "3.7.1"
  }
 },
 "nbformat": 4,
 "nbformat_minor": 2
}
