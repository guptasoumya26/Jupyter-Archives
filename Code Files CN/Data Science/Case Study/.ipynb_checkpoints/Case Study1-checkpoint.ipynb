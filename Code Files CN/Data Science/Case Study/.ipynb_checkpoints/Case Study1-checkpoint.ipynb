{
 "cells": [
  {
   "cell_type": "code",
   "execution_count": 24,
   "metadata": {},
   "outputs": [
    {
     "name": "stdout",
     "output_type": "stream",
     "text": [
      "2015 8673022368\n",
      "2016 3828088608\n",
      "2017 5846275500\n"
     ]
    },
    {
     "data": {
      "image/png": "[encoded data removed]",
      "text/plain": [
       "<Figure size 432x288 with 1 Axes>"
      ]
     },
     "metadata": {
      "needs_background": "light"
     },
     "output_type": "display_data"
    }
   ],
   "source": [
    "import pandas as pd\n",
    "import matplotlib.pyplot as pt\n",
    "iris=pd.read_csv(\"D:\\\\Dropbox\\\\startup_funding.csv\")\n",
    "df=iris.copy()\n",
    "df.AmountInUSD.fillna(0.0,inplace=True)\n",
    "d={}\n",
    "for i in range(df.shape[0]):\n",
    "    key=(df.iloc[i,1])[-4:]\n",
    "    value=df.iloc[i,8]\n",
    "    x=''\n",
    "    if value==0.0:\n",
    "        value=0.0\n",
    "    else:\n",
    "        s=value.split(\",\")\n",
    "        for i in s:\n",
    "            x=x+i\n",
    "        value=float(x)\n",
    "    d[key]=d.get(key,0)+value\n",
    "l=[]\n",
    "for i in d:\n",
    "    l.append(i)\n",
    "l.sort()\n",
    "x=l\n",
    "y=[]\n",
    "for i in l:\n",
    "    y.append(int(d[i]))\n",
    "    print(i,end=' ')\n",
    "    print(int(d[i]))\n",
    "pt.scatter(x,y)\n",
    "pt.plot(x,y)\n",
    "pt.show()"
   ]
  },
  {
   "cell_type": "code",
   "execution_count": 7,
   "metadata": {},
   "outputs": [
    {
     "data": {
      "text/plain": [
       "'1300000'"
      ]
     },
     "execution_count": 7,
     "metadata": {},
     "output_type": "execute_result"
    }
   ],
   "source": [
    "x=''\n",
    "str=\"13,00,000\"\n",
    "s=str.split(\",\")\n",
    "for i in s:\n",
    "    x=x+i\n",
    "x\n"
   ]
  },
  {
   "cell_type": "code",
   "execution_count": 111,
   "metadata": {},
   "outputs": [
    {
     "name": "stdout",
     "output_type": "stream",
     "text": [
      "2015 654\n",
      "2016 586\n",
      "2017 285\n"
     ]
    },
    {
     "data": {
      "image/png": "[encoded data removed]",
      "text/plain": [
       "<Figure size 432x288 with 1 Axes>"
      ]
     },
     "metadata": {
      "needs_background": "light"
     },
     "output_type": "display_data"
    }
   ],
   "source": [
    "import pandas as pd\n",
    "import matplotlib.pyplot as pt\n",
    "iris=pd.read_csv(\"D:\\\\Dropbox\\\\startup_funding.csv\")\n",
    "df=iris.copy()\n",
    "df.AmountInUSD.fillna(0.0,inplace=True)\n",
    "d={}\n",
    "for i in range(df.shape[0]):\n",
    "    key=(df.iloc[i,1])[-4:]\n",
    "    value=df.iloc[i,8]\n",
    "    count=0\n",
    "    if value==0.0:\n",
    "        pass\n",
    "    else:\n",
    "        count=count+1\n",
    "    d[key]=d.get(key,0)+count\n",
    "l=[]\n",
    "for i in d:\n",
    "    l.append(i)\n",
    "l.sort()\n",
    "x=l\n",
    "y=[]\n",
    "for i in l:\n",
    "    y.append(int(d[i]))\n",
    "    print(i,end=' ')\n",
    "    print(int(d[i]))\n",
    "pt.scatter(x,y)\n",
    "pt.plot(x,y)\n",
    "pt.show()"
   ]
  },
  {
   "cell_type": "code",
   "execution_count": 175,
   "metadata": {},
   "outputs": [
    {
     "name": "stdout",
     "output_type": "stream",
     "text": [
      "Bangalore 635\n",
      "Mumbai 449\n",
      "New Delhi 389\n",
      "Gurgaon 241\n",
      "Pune 91\n",
      "Noida 79\n",
      "Hyderabad 77\n",
      "Chennai 67\n",
      "Ahmedabad 35\n",
      "Jaipur 25\n"
     ]
    }
   ],
   "source": [
    "import pandas as pd\n",
    "import matplotlib.pyplot as pt\n",
    "iris=pd.read_csv(\"D:\\\\Dropbox\\\\startup_funding.csv\")\n",
    "df=iris.copy()\n",
    "\n",
    "df.CityLocation.fillna(\"XXX\",inplace=True)\n",
    "\n",
    "l=[]\n",
    "for i in range(df.shape[0]):\n",
    "    if(df.iloc[i,5])!='XXX':\n",
    "        l.append((df.iloc[i,5]).lower())\n",
    "\n",
    "\n",
    "d={}\n",
    "for i in l:\n",
    "    d[i]=d.get(i,0)+1\n",
    "\n",
    "\n",
    "\n",
    "for i in d:\n",
    "    x=i.split(\"/\")\n",
    "    if len(x)==2:\n",
    "        for j in list(d.keys()):\n",
    "            if x[0].strip()==j.strip():\n",
    "                d[j]=d[j]+d[i]\n",
    "    elif x[0]=='delhi':\n",
    "        \n",
    "        d['new delhi']=d['new delhi']+d[x[0]]\n",
    "\n",
    "\n",
    "x=list(d.values())\n",
    "\n",
    "x.sort()\n",
    "\n",
    "arr=[]\n",
    "for i in range(len(x)-1,len(x)-11,-1):\n",
    "    \n",
    "    arr.append(x[i])\n",
    "\n",
    "\n",
    "for i in arr:\n",
    "    for key,value in d.items():\n",
    "        if value==i:\n",
    "            print(key.title(), end=' ')\n",
    "            print(value)\n"
   ]
  },
  {
   "cell_type": "code",
   "execution_count": 129,
   "metadata": {},
   "outputs": [
    {
     "data": {
      "text/plain": [
       "['delhi']"
      ]
     },
     "execution_count": 129,
     "metadata": {},
     "output_type": "execute_result"
    }
   ],
   "source": [
    "x=\"hello/world\"\n",
    "y=\"delhi\"\n",
    "z=y.split(\"/\")\n",
    "z"
   ]
  },
  {
   "cell_type": "code",
   "execution_count": 268,
   "metadata": {},
   "outputs": [
    {
     "name": "stdout",
     "output_type": "stream",
     "text": [
      "Bangalore 49.71%\n",
      "New Delhi 16.63%\n",
      "Mumbai 13.90%\n",
      "Gurgaon 12.21%\n",
      "Chennai 2.43%\n",
      "Pune 2.16%\n",
      "Hyderabad 1.15%\n",
      "Noida 1.01%\n",
      "Ahmedabad 0.58%\n",
      "Jaipur 0.21%\n"
     ]
    },
    {
     "data": {
      "image/png": "[encoded data removed]",
      "text/plain": [
       "<Figure size 432x288 with 1 Axes>"
      ]
     },
     "metadata": {},
     "output_type": "display_data"
    }
   ],
   "source": [
    "import pandas as pd\n",
    "import numpy as np\n",
    "import matplotlib.pyplot as pt\n",
    "iris=pd.read_csv(\"D:\\\\Dropbox\\\\startup_funding.csv\")\n",
    "df=iris.copy()\n",
    "df.AmountInUSD.fillna(0.0,inplace=True)\n",
    "d={}\n",
    "for i in range(df.shape[0]):\n",
    "    if pd.isnull(df.iloc[i,5])==False:\n",
    "        \n",
    "        key=df.iloc[i,5].lower()\n",
    "    \n",
    "        value=df.iloc[i,8]\n",
    "        x=''\n",
    "        if value==0.0:\n",
    "            pass\n",
    "        else:\n",
    "            s=value.split(\",\")\n",
    "            for i in s:\n",
    "                x=x+i\n",
    "            value=float(x)\n",
    "        d[key]=d.get(key,0)+value\n",
    "\n",
    "\n",
    "for i in d:\n",
    "    x=i.split(\"/\")\n",
    "    if(len(x)==2):\n",
    "        for j in list(d.keys()):\n",
    "            if x[0].strip()==j.strip():\n",
    "                d[j]=d[j]+d[i]\n",
    "    elif x[0]=='delhi':\n",
    "            d['new delhi']=d['new delhi']+d[x[0]]\n",
    "\n",
    "x=list(d.values())\n",
    "x.sort(reverse=True)\n",
    "\n",
    "\n",
    "a=[]\n",
    "b=[]\n",
    "for i in x:\n",
    "    for key,value in d.items():\n",
    "        if len(key.split(\"/\"))==1:\n",
    "            if value==i:\n",
    "            \n",
    "                a.append(key.title())\n",
    "            \n",
    "                b.append(value)\n",
    "labels=a[0:10]\n",
    "sizes=b[0:10]\n",
    "sum=np.array(sizes).sum()\n",
    "for i in range(10):\n",
    "    print(labels[i],end=' ')\n",
    "    perct=(sizes[i]/sum)*100\n",
    "    print(format(perct,'.2f')+'%')\n",
    "    \n",
    "pt.pie(sizes,labels=labels,autopct=\"%.2f%%\")\n",
    "pt.axis(\"equal\")\n",
    "\n",
    "\n",
    "pt.show()"
   ]
  },
  {
   "cell_type": "code",
   "execution_count": 277,
   "metadata": {},
   "outputs": [
    {
     "name": "stdout",
     "output_type": "stream",
     "text": [
      "Private Equity 98.15\n",
      "Seed Funding 1.81\n",
      "Debt Funding 0.04\n",
      "Crowd Funding 0.00\n"
     ]
    },
    {
     "data": {
      "image/png": "[encoded data removed]",
      "text/plain": [
       "<Figure size 432x288 with 1 Axes>"
      ]
     },
     "metadata": {},
     "output_type": "display_data"
    }
   ],
   "source": [
    "import pandas as pd\n",
    "import numpy as np\n",
    "import matplotlib.pyplot as pt\n",
    "iris=pd.read_csv(\"D:\\\\Dropbox\\\\startup_funding.csv\")\n",
    "df=iris.copy()\n",
    "df.AmountInUSD.fillna(0.0,inplace=True)\n",
    "df.InvestmentType.replace(\"PrivateEquity\",\"Private Equity\",inplace=True)\n",
    "df.InvestmentType.replace(\"SeedFunding\",\"Seed Funding\",inplace=True)\n",
    "df.InvestmentType.replace(\"Crowd funding\",\"Crowd Funding\",inplace=True)\n",
    "d={}\n",
    "for i in range(df.shape[0]):\n",
    "    if pd.isnull(df.iloc[i,7])==False:\n",
    "        \n",
    "        key=df.iloc[i,7]\n",
    "        value=df.iloc[i,8]\n",
    "        x=''\n",
    "        if value==0.0:\n",
    "            pass\n",
    "        else:\n",
    "            s=value.split(\",\")\n",
    "            for i in s:\n",
    "                x=x+i\n",
    "            value=float(x)\n",
    "        d[key]=d.get(key,0)+value\n",
    "\n",
    "x=list(d.values())\n",
    "x.sort(reverse=True)\n",
    "a=[]\n",
    "b=[]\n",
    "for i in x:\n",
    "    for key,value in d.items():\n",
    "        if value==i:\n",
    "            a.append(key)\n",
    "            b.append(value)\n",
    "labels=a\n",
    "sizes=b\n",
    "sum=np.array(sizes).sum()\n",
    "for i in range(len(labels)):\n",
    "    print(labels[i],end=' ')\n",
    "    perct=(sizes[i]/sum)*100\n",
    "    print(format(perct,'.2f'))\n",
    "    \n",
    "pt.pie(sizes,labels=labels,autopct=\"%.2f%%\")\n",
    "pt.axis(\"equal\")\n",
    "\n",
    "\n",
    "pt.show()"
   ]
  },
  {
   "cell_type": "code",
   "execution_count": 4,
   "metadata": {},
   "outputs": [
    {
     "name": "stdout",
     "output_type": "stream",
     "text": [
      "Ecommerce 40.52\n",
      "Consumer Internet 35.96\n",
      "Technology 10.45\n",
      "Online Marketplace 6.63\n",
      "E-Commerce & M-Commerce platform 6.44\n"
     ]
    },
    {
     "data": {
      "image/png": "[encoded data removed]",
      "text/plain": [
       "<Figure size 432x288 with 1 Axes>"
      ]
     },
     "metadata": {},
     "output_type": "display_data"
    }
   ],
   "source": [
    "import pandas as pd\n",
    "import numpy as np\n",
    "import matplotlib.pyplot as pt\n",
    "iris=pd.read_csv(\"D:\\\\Dropbox\\\\startup_funding.csv\")\n",
    "df=iris.copy()\n",
    "df.AmountInUSD.fillna(0.0,inplace=True)\n",
    "df.IndustryVertical.replace(\"eCommerce\",\"Ecommerce\",inplace=True)\n",
    "df.IndustryVertical.replace(\"ECommerce\",\"Ecommerce\",inplace=True)\n",
    "d={}\n",
    "for i in range(df.shape[0]):\n",
    "    if pd.isnull(df.iloc[i,3])==False:\n",
    "        \n",
    "        key=df.iloc[i,3]\n",
    "        value=df.iloc[i,8]\n",
    "        x=''\n",
    "        if value==0.0:\n",
    "            pass\n",
    "        else:\n",
    "            s=value.split(\",\")\n",
    "            for i in s:\n",
    "                x=x+i\n",
    "            value=float(x)\n",
    "        d[key]=d.get(key,0)+value\n",
    "\n",
    "x=list(d.values())\n",
    "x.sort(reverse=True)\n",
    "x=x[0:5]\n",
    "a=[]\n",
    "b=[]\n",
    "for i in x:\n",
    "    for key,value in d.items():\n",
    "        if value==i:\n",
    "            a.append(key)\n",
    "            b.append(value)\n",
    "labels=a\n",
    "sizes=b\n",
    "sum=np.array(sizes).sum()\n",
    "for i in range(len(labels)):\n",
    "    print(labels[i],end=' ')\n",
    "    perct=(sizes[i]/sum)*100\n",
    "    print(format(perct,'.2f'))\n",
    "    \n",
    "pt.pie(sizes,labels=labels,autopct=\"%.2f%%\")\n",
    "pt.axis(\"equal\")\n",
    "\n",
    "\n",
    "pt.show()"
   ]
  },
  {
   "cell_type": "code",
   "execution_count": 6,
   "metadata": {},
   "outputs": [
    {
     "name": "stdout",
     "output_type": "stream",
     "text": [
      "Paytm\n",
      "Flipkart\n",
      "Ola\n",
      "Snapdeal\n",
      "Oyo\n"
     ]
    },
    {
     "data": {
      "image/png": "[encoded data removed]",
      "text/plain": [
       "<Figure size 432x288 with 1 Axes>"
      ]
     },
     "metadata": {},
     "output_type": "display_data"
    }
   ],
   "source": [
    "import pandas as pd\n",
    "import numpy as np\n",
    "import matplotlib.pyplot as pt\n",
    "iris=pd.read_csv(\"D:\\\\Dropbox\\\\startup_funding.csv\")\n",
    "df=iris.copy()\n",
    "df.AmountInUSD.fillna(0.0,inplace=True)\n",
    "df.StartupName.replace(\"Ola Cabs\",\"Ola\",inplace=True)\n",
    "df.StartupName.replace(\"Olacabs\",\"Ola\",inplace=True)\n",
    "df.StartupName.replace(\"Flipkart.com\",\"Flipkart\",inplace=True)\n",
    "df.StartupName.replace(\"Oyo Rooms\",\"Oyo\",inplace=True)\n",
    "df.StartupName.replace(\"OYOfit\",\"Oyo\",inplace=True)\n",
    "df.StartupName.replace(\"OyoRooms\",\"Oyo\",inplace=True)\n",
    "df.StartupName.replace(\"Paytm Marketplace\",\"Paytm\",inplace=True)\n",
    "\n",
    "\n",
    "d={}\n",
    "for i in range(df.shape[0]):\n",
    "    if pd.isnull(df.iloc[i,2])==False:\n",
    "        \n",
    "        key=df.iloc[i,2]\n",
    "        value=df.iloc[i,8]\n",
    "        x=''\n",
    "        if value==0.0:\n",
    "            pass\n",
    "        else:\n",
    "            s=value.split(\",\")\n",
    "            for i in s:\n",
    "                x=x+i\n",
    "            value=float(x)\n",
    "        d[key]=d.get(key,0)+value\n",
    "\n",
    "x=list(d.values())\n",
    "x.sort(reverse=True)\n",
    "x=x[0:5]\n",
    "a=[]\n",
    "b=[]\n",
    "for i in x:\n",
    "    for key,value in d.items():\n",
    "        if value==i:\n",
    "            a.append(key)\n",
    "            b.append(value)\n",
    "labels=a\n",
    "sizes=b\n",
    "sum=np.array(sizes).sum()\n",
    "for i in range(len(labels)):\n",
    "    print(labels[i])\n",
    "    \n",
    "    \n",
    "pt.pie(sizes,labels=labels,autopct=\"%.2f%%\")\n",
    "pt.axis(\"equal\")\n",
    "\n",
    "\n",
    "pt.show()"
   ]
  },
  {
   "cell_type": "code",
   "execution_count": 43,
   "metadata": {},
   "outputs": [
    {
     "name": "stdout",
     "output_type": "stream",
     "text": [
      "Ola 9\n",
      "Swiggy 7\n",
      "Oyo 7\n",
      "UrbanClap 6\n",
      "Paytm 6\n"
     ]
    }
   ],
   "source": [
    "import pandas as pd\n",
    "import numpy as np\n",
    "import matplotlib.pyplot as pt\n",
    "iris=pd.read_csv(\"D:\\\\Dropbox\\\\startup_funding.csv\")\n",
    "df=iris.copy()\n",
    "df.AmountInUSD.fillna(0.0,inplace=True)\n",
    "df.StartupName.replace(\"Ola Cabs\",\"Ola\",inplace=True)\n",
    "df.StartupName.replace(\"Olacabs\",\"Ola\",inplace=True)\n",
    "df.StartupName.replace(\"Flipkart.com\",\"Flipkart\",inplace=True)\n",
    "df.StartupName.replace(\"Oyo Rooms\",\"Oyo\",inplace=True)\n",
    "df.StartupName.replace(\"OyoRooms\",\"Oyo\",inplace=True)\n",
    "df.StartupName.replace(\"OYOfit\",\"Oyo\",inplace=True)\n",
    "df.StartupName.replace(\"Oyorooms\",\"Oyo\",inplace=True)\n",
    "df.StartupName.replace(\"Oyo Rooms\",\"Oyo\",inplace=True)\n",
    "df.StartupName.replace(\"OYO Rooms\",\"Oyo\",inplace=True)\n",
    "df.StartupName.replace(\"Paytm Marketplace\",\"Paytm\",inplace=True)\n",
    "\n",
    "vc=df.StartupName.value_counts()\n",
    "values = df.StartupName.value_counts().keys().tolist()\n",
    "counts = df.StartupName.value_counts().tolist()\n",
    "for i in range(5):\n",
    "    print(values[i],end=' ')\n",
    "    print(counts[i])\n",
    "# d={}\n",
    "# for i in range(df.shape[0]):\n",
    "#     if pd.isnull(df.iloc[i,2])==False:\n",
    "        \n",
    "#         key=df.iloc[i,2]\n",
    "#         value=df.iloc[i,8]\n",
    "#         count=0\n",
    "#         if value==0.0:\n",
    "#             count=count+1\n",
    "#         else:\n",
    "#             count=count+1\n",
    "#         d[key]=d.get(key,0)+count\n",
    "\n",
    "\n",
    "# sorted_d = sorted((value, key) for (key,value) in d.items())\n",
    "# print(sorted_d)\n",
    "# x=list(d.values())\n",
    "# x.sort(reverse=True)\n",
    "# x=x[0:5]\n",
    "# print(x)\n",
    "# a=[]\n",
    "# b=[]\n",
    "# for i in x:\n",
    "#     for key,value in d.items():\n",
    "#         if value==i:\n",
    "#             a.append(key)\n",
    "#             b.append(value)\n",
    "# labels=a\n",
    "# sizes=b\n",
    "\n",
    "# for i in range(len(labels)):\n",
    "#     print(labels[i],end=' ')\n",
    "#     print(sizes[i])\n",
    "    \n",
    "    \n",
    "# pt.pie(sizes,labels=labels,autopct=\"%.2f%%\")\n",
    "# pt.axis(\"equal\")\n",
    "\n",
    "\n",
    "# pt.show()"
   ]
  },
  {
   "cell_type": "code",
   "execution_count": null,
   "metadata": {},
   "outputs": [],
   "source": []
  }
 ],
 "metadata": {
  "kernelspec": {
   "display_name": "Python 3",
   "language": "python",
   "name": "python3"
  },
  "language_info": {
   "codemirror_mode": {
    "name": "ipython",
    "version": 3
   },
   "file_extension": ".py",
   "mimetype": "text/x-python",
   "name": "python",
   "nbconvert_exporter": "python",
   "pygments_lexer": "ipython3",
   "version": "3.7.1"
  }
 },
 "nbformat": 4,
 "nbformat_minor": 2
}
