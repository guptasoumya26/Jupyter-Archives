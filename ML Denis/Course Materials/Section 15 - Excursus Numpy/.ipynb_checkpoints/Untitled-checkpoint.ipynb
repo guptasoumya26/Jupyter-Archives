{
 "cells": [
  {
   "cell_type": "code",
   "execution_count": null,
   "metadata": {},
   "outputs": [],
   "source": [
    "import pandas as pd\n",
    "\n",
    "df = pd.read_csv(\"diamonds.csv\")\n",
    "\n",
    "# https://www.kaggle.com/shivam2503/diamonds/data\n",
    "# Color: from J (worst) to D (best)\n",
    "\n",
    "# Idea: We summarize the column \"color\". \n",
    "# E or D becomes 1,\n",
    "# Everyone else becomes a 0"
   ]
  }
 ],
 "metadata": {
  "kernelspec": {
   "display_name": "Python 3",
   "language": "python",
   "name": "python3"
  },
  "language_info": {
   "codemirror_mode": {
    "name": "ipython",
    "version": 3
   },
   "file_extension": ".py",
   "mimetype": "text/x-python",
   "name": "python",
   "nbconvert_exporter": "python",
   "pygments_lexer": "ipython3",
   "version": "3.7.1"
  }
 },
 "nbformat": 4,
 "nbformat_minor": 2
}
