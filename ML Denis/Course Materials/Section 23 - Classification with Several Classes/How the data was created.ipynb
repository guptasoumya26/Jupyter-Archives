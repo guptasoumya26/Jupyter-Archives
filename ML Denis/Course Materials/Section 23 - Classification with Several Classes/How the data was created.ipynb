{
 "cells": [
  {
   "cell_type": "code",
   "execution_count": null,
   "metadata": {},
   "outputs": [],
   "source": [
    "import pandas as pd\n",
    "\n",
    "# Read data \n",
    "# -> Source: http://world.openfoodfacts.org/data/en.openfoodfacts.org.products.csv\n",
    "# \n",
    "# Of course, you have to download this file so that this script can\n",
    "# can be executed here. But attention: Approx. 1.5GB!\n",
    "df = pd.read_csv(\"en.openfoodfacts.org.products.csv\", delimiter = \"\\t\")\n",
    "\n",
    "# And filter... #\n",
    "df = df[df[\"product_name\"].notnull()]\n",
    "df = df[df[\"categories_en\"].notnull()]"
   ]
  },
  {
   "cell_type": "code",
   "execution_count": null,
   "metadata": {},
   "outputs": [],
   "source": [
    "apple = df[(df[\"product_name\"].str.contains(\"Juice\")) & (df[\"product_name\"].str.contains(\"Apple\")) & (~df[\"product_name\"].str.contains(\"Pineapple\")) & df[\"categories_en\"].str.contains(\"Fruit-based beverages\")].copy()\n",
    "apple[\"clss\"] = \"Apple\"\n",
    "\n",
    "orange = df[(df[\"product_name\"].str.contains(\"Juice\")) & (df[\"product_name\"].str.contains(\"Orange\")) & df[\"categories_en\"].str.contains(\"Fruit-based beverages\")].copy()\n",
    "orange[\"clss\"] = \"Orange\"\n",
    "\n",
    "cola = df[df[\"categories_en\"].str.contains(\"Colas\")].copy()\n",
    "cola[\"clss\"] = \"Cola\"\n",
    "\n",
    "juices = pd.concat([apple, orange, cola])\n",
    "filtered = juices.dropna(axis=1, how='all').dropna(axis = 1, thresh = 500)\n",
    "data = filtered[[\"product_name\", \"brands\", \"countries\", \"energy_100g\", \"fat_100g\", \"carbohydrates_100g\", \"sugars_100g\", \"proteins_100g\", \"clss\"]]\n",
    "data = data[data[\"energy_100g\"].notnull() & data[\"sugars_100g\"].notnull() & data[\"carbohydrates_100g\"].notnull() & data[\"fat_100g\"].notnull() & data[\"proteins_100g\"].notnull()]\n",
    "\n",
    "\n",
    "data.to_csv(\"./foods.csv\", index = False)"
   ]
  },
  {
   "cell_type": "code",
   "execution_count": null,
   "metadata": {},
   "outputs": [],
   "source": []
  },
  {
   "cell_type": "code",
   "execution_count": null,
   "metadata": {},
   "outputs": [],
   "source": []
  }
 ],
 "metadata": {
  "kernelspec": {
   "display_name": "Python 3",
   "language": "python",
   "name": "python3"
  },
  "language_info": {
   "codemirror_mode": {
    "name": "ipython",
    "version": 3
   },
   "file_extension": ".py",
   "mimetype": "text/x-python",
   "name": "python",
   "nbconvert_exporter": "python",
   "pygments_lexer": "ipython3",
   "version": "3.7.1"
  }
 },
 "nbformat": 4,
 "nbformat_minor": 2
}
