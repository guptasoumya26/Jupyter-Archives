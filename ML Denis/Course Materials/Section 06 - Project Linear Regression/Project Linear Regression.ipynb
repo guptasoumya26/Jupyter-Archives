{
 "cells": [
  {
   "cell_type": "markdown",
   "metadata": {},
   "source": [
    "### Project Linear Regression"
   ]
  },
  {
   "cell_type": "code",
   "execution_count": 5,
   "metadata": {},
   "outputs": [],
   "source": [
    "import pandas as pd\n",
    "\n",
    "df = pd.read_csv(\"./autos_prepared.csv\")"
   ]
  },
  {
   "cell_type": "code",
   "execution_count": 6,
   "metadata": {},
   "outputs": [
    {
     "data": {
      "text/html": [
       "<div>\n",
       "<style>\n",
       "    .dataframe thead tr:only-child th {\n",
       "        text-align: right;\n",
       "    }\n",
       "\n",
       "    .dataframe thead th {\n",
       "        text-align: left;\n",
       "    }\n",
       "\n",
       "    .dataframe tbody tr th {\n",
       "        vertical-align: top;\n",
       "    }\n",
       "</style>\n",
       "<table border=\"1\" class=\"dataframe\">\n",
       "  <thead>\n",
       "    <tr style=\"text-align: right;\">\n",
       "      <th></th>\n",
       "      <th>price</th>\n",
       "      <th>yearOfRegistration</th>\n",
       "      <th>powerPS</th>\n",
       "      <th>kilometer</th>\n",
       "      <th>model</th>\n",
       "      <th>fuelType</th>\n",
       "      <th>name</th>\n",
       "    </tr>\n",
       "  </thead>\n",
       "  <tbody>\n",
       "    <tr>\n",
       "      <th>0</th>\n",
       "      <td>1450</td>\n",
       "      <td>1997</td>\n",
       "      <td>75</td>\n",
       "      <td>90000</td>\n",
       "      <td>andere</td>\n",
       "      <td>benzin</td>\n",
       "      <td>Toyota_Toyota_Starlet_1._Hand__TÜV_neu</td>\n",
       "    </tr>\n",
       "    <tr>\n",
       "      <th>1</th>\n",
       "      <td>13100</td>\n",
       "      <td>2005</td>\n",
       "      <td>280</td>\n",
       "      <td>5000</td>\n",
       "      <td>golf</td>\n",
       "      <td>benzin</td>\n",
       "      <td>R32_tauschen_oder_kaufen</td>\n",
       "    </tr>\n",
       "    <tr>\n",
       "      <th>2</th>\n",
       "      <td>4500</td>\n",
       "      <td>2008</td>\n",
       "      <td>87</td>\n",
       "      <td>90000</td>\n",
       "      <td>yaris</td>\n",
       "      <td>benzin</td>\n",
       "      <td>Toyota_Yaris_1.3_VVT_i</td>\n",
       "    </tr>\n",
       "    <tr>\n",
       "      <th>3</th>\n",
       "      <td>6000</td>\n",
       "      <td>2009</td>\n",
       "      <td>177</td>\n",
       "      <td>125000</td>\n",
       "      <td>3er</td>\n",
       "      <td>diesel</td>\n",
       "      <td>320_Alpinweiss_Kohlenstoff</td>\n",
       "    </tr>\n",
       "    <tr>\n",
       "      <th>4</th>\n",
       "      <td>3990</td>\n",
       "      <td>1999</td>\n",
       "      <td>118</td>\n",
       "      <td>90000</td>\n",
       "      <td>3er</td>\n",
       "      <td>benzin</td>\n",
       "      <td>BMW_318i_E46_+++_1._Hand_+++_Liebhaberfahrzeug</td>\n",
       "    </tr>\n",
       "  </tbody>\n",
       "</table>\n",
       "</div>"
      ],
      "text/plain": [
       "   price  yearOfRegistration  powerPS  kilometer   model fuelType  \\\n",
       "0   1450                1997       75      90000  andere   benzin   \n",
       "1  13100                2005      280       5000    golf   benzin   \n",
       "2   4500                2008       87      90000   yaris   benzin   \n",
       "3   6000                2009      177     125000     3er   diesel   \n",
       "4   3990                1999      118      90000     3er   benzin   \n",
       "\n",
       "                                             name  \n",
       "0          Toyota_Toyota_Starlet_1._Hand__TÜV_neu  \n",
       "1                        R32_tauschen_oder_kaufen  \n",
       "2                          Toyota_Yaris_1.3_VVT_i  \n",
       "3                      320_Alpinweiss_Kohlenstoff  \n",
       "4  BMW_318i_E46_+++_1._Hand_+++_Liebhaberfahrzeug  "
      ]
     },
     "execution_count": 6,
     "metadata": {},
     "output_type": "execute_result"
    }
   ],
   "source": [
    "df.head()"
   ]
  },
  {
   "cell_type": "markdown",
   "metadata": {},
   "source": [
    "## Part 1: draw Scatter-Plot"
   ]
  },
  {
   "cell_type": "code",
   "execution_count": 1,
   "metadata": {},
   "outputs": [],
   "source": [
    "%matplotlib inline\n",
    "import matplotlib.pyplot as plt\n",
    "\n",
    "# Fülle hier den Code aus"
   ]
  },
  {
   "cell_type": "markdown",
   "metadata": {},
   "source": [
    "## Part 2: Perform linear regression"
   ]
  },
  {
   "cell_type": "code",
   "execution_count": 8,
   "metadata": {},
   "outputs": [
    {
     "name": "stdout",
     "output_type": "stream",
     "text": [
      "Intercept: [ 15988.72674252]\n",
      "Coef: [[-0.0879714]]\n"
     ]
    }
   ],
   "source": [
    "from sklearn.linear_model import LinearRegression\n",
    "\n",
    "# Fill in the code here"
   ]
  },
  {
   "cell_type": "markdown",
   "metadata": {},
   "source": [
    "### Part 3: Predicting values for our line"
   ]
  },
  {
   "cell_type": "code",
   "execution_count": 15,
   "metadata": {},
   "outputs": [
    {
     "name": "stdout",
     "output_type": "stream",
     "text": [
      "[[ 15988.72674252]\n",
      " [  4552.44472019]]\n"
     ]
    }
   ],
   "source": [
    "# Fill in the code here"
   ]
  },
  {
   "cell_type": "markdown",
   "metadata": {},
   "source": [
    "### Part 4: Draw line in graphic"
   ]
  },
  {
   "cell_type": "code",
   "execution_count": 14,
   "metadata": {},
   "outputs": [
    {
     "data": {
      "image/png": "[encoded data removed]",
      "text/plain": [
       "<matplotlib.figure.Figure at 0x11cd41080>"
      ]
     },
     "metadata": {},
     "output_type": "display_data"
    }
   ],
   "source": [
    "%matplotlib inline\n",
    "import matplotlib.pyplot as plt\n",
    "\n",
    "# Create the graphic here"
   ]
  },
  {
   "cell_type": "markdown",
   "metadata": {},
   "source": [
    "### Part 5: Make forecast for 50.000km"
   ]
  },
  {
   "cell_type": "code",
   "execution_count": 12,
   "metadata": {},
   "outputs": [
    {
     "data": {
      "text/plain": [
       "array([[ 11590.15673393]])"
      ]
     },
     "execution_count": 12,
     "metadata": {},
     "output_type": "execute_result"
    }
   ],
   "source": [
    "model.predict([[50000]])"
   ]
  }
 ],
 "metadata": {
  "kernelspec": {
   "display_name": "Python 3",
   "language": "python",
   "name": "python3"
  },
  "language_info": {
   "codemirror_mode": {
    "name": "ipython",
    "version": 3
   },
   "file_extension": ".py",
   "mimetype": "text/x-python",
   "name": "python",
   "nbconvert_exporter": "python",
   "pygments_lexer": "ipython3",
   "version": "3.7.1"
  }
 },
 "nbformat": 4,
 "nbformat_minor": 2
}
