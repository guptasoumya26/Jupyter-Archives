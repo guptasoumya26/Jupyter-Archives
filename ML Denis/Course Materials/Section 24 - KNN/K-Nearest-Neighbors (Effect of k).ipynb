{
 "cells": [
  {
   "cell_type": "code",
   "execution_count": null,
   "metadata": {},
   "outputs": [],
   "source": [
    "import pandas as pd\n",
    "\n",
    "df = pd.read_csv(\"./classification.csv\")\n",
    "\n",
    "# If you remove a few columns from the data in advance.\n",
    "# df = df.drop(\"column name\", axis = 1)\n",
    "\n",
    "# If you convert a categorical variable into multiple columns\n",
    "# you can do that with the following code:\n",
    "# df = pd.get_dummies(df, columns = [\"column name\"])\n",
    "\n",
    "df.head()"
   ]
  },
  {
   "cell_type": "code",
   "execution_count": null,
   "metadata": {},
   "outputs": [],
   "source": [
    "from sklearn.model_selection import train_test_split\n",
    "\n",
    "# Which columns should be used for prediction\n",
    "X = df[[\"age\", \"interest\"]].values\n",
    "\n",
    "# Or: The column \"success\" should not be used for prediction:\n",
    "# X = df.drop(\"success\", axis = 1).values\n",
    "\n",
    "y = df[\"success\"].values\n",
    "\n",
    "X_train, X_test, y_train, y_test = train_test_split(X, y, random_state = 0, test_size = 0.25)"
   ]
  },
  {
   "cell_type": "code",
   "execution_count": null,
   "metadata": {},
   "outputs": [],
   "source": [
    "from sklearn.preprocessing import StandardScaler\n",
    "\n",
    "scaler = StandardScaler()\n",
    "scaler.fit(X_train)\n",
    "\n",
    "X_train = scaler.transform(X_train)\n",
    "X_test = scaler.transform(X_test)"
   ]
  },
  {
   "cell_type": "code",
   "execution_count": null,
   "metadata": {},
   "outputs": [],
   "source": [
    "from sklearn.neighbors import KNeighborsClassifier\n",
    "\n",
    "model = KNeighborsClassifier(n_neighbors = 15)\n",
    "model.fit(X_train, y_train)\n",
    "\n",
    "print(model.score(X_test, y_test))"
   ]
  },
  {
   "cell_type": "code",
   "execution_count": null,
   "metadata": {
    "scrolled": false
   },
   "outputs": [],
   "source": [
    "# Note: For this command to work, the \n",
    "# \"helper.py\" - file is in the same folder as the\n",
    "# current Jupyter Notebook\n",
    "\n",
    "from helper import plot_classifier\n",
    "\n",
    "# Plot training data\n",
    "plot_classifier(model, X_train, y_train, proba = True, xlabel = \"age\", ylabel = \"interest\")"
   ]
  },
  {
   "cell_type": "code",
   "execution_count": null,
   "metadata": {},
   "outputs": [],
   "source": [
    "# Plot test data\n",
    "plot_classifier(model, X_test, y_test, proba = True, xlabel = \"age\", ylabel = \"interest\")"
   ]
  },
  {
   "cell_type": "code",
   "execution_count": null,
   "metadata": {},
   "outputs": [],
   "source": []
  },
  {
   "cell_type": "code",
   "execution_count": null,
   "metadata": {},
   "outputs": [],
   "source": []
  },
  {
   "cell_type": "code",
   "execution_count": null,
   "metadata": {},
   "outputs": [],
   "source": []
  }
 ],
 "metadata": {
  "kernelspec": {
   "display_name": "Python 3",
   "language": "python",
   "name": "python3"
  },
  "language_info": {
   "codemirror_mode": {
    "name": "ipython",
    "version": 3
   },
   "file_extension": ".py",
   "mimetype": "text/x-python",
   "name": "python",
   "nbconvert_exporter": "python",
   "pygments_lexer": "ipython3",
   "version": "3.7.1"
  }
 },
 "nbformat": 4,
 "nbformat_minor": 2
}
