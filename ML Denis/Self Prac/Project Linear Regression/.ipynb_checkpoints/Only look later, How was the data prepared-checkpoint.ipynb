{
 "cells": [
  {
   "cell_type": "markdown",
   "metadata": {},
   "source": [
    "# <span style=\"color:red\">Important note: Don't view this notebook until later!</span>\n",
    "\n",
    "### This notebook will show you how I prepared the data. But I'm using functions you don't know at the moment. \n",
    "\n",
    "### This notebook is primarily for completeness - and so that you can convince yourself (after completing the course) that the data is really real ;) \n",
    "\n",
    "### I recommend that you take a look at this notebook later in the course of the course!\n"
   ]
  },
  {
   "cell_type": "code",
   "execution_count": 7,
   "metadata": {},
   "outputs": [
    {
     "data": {
      "text/html": [
       "<div>\n",
       "<style scoped>\n",
       "    .dataframe tbody tr th:only-of-type {\n",
       "        vertical-align: middle;\n",
       "    }\n",
       "\n",
       "    .dataframe tbody tr th {\n",
       "        vertical-align: top;\n",
       "    }\n",
       "\n",
       "    .dataframe thead th {\n",
       "        text-align: right;\n",
       "    }\n",
       "</style>\n",
       "<table border=\"1\" class=\"dataframe\">\n",
       "  <thead>\n",
       "    <tr style=\"text-align: right;\">\n",
       "      <th></th>\n",
       "      <th>price</th>\n",
       "      <th>yearOfRegistration</th>\n",
       "      <th>powerPS</th>\n",
       "      <th>kilometer</th>\n",
       "      <th>model</th>\n",
       "      <th>fuelType</th>\n",
       "      <th>name</th>\n",
       "      <th>gearbox</th>\n",
       "    </tr>\n",
       "  </thead>\n",
       "  <tbody>\n",
       "    <tr>\n",
       "      <th>0</th>\n",
       "      <td>18300</td>\n",
       "      <td>2011</td>\n",
       "      <td>190</td>\n",
       "      <td>125000</td>\n",
       "      <td>NaN</td>\n",
       "      <td>diesel</td>\n",
       "      <td>A5_Sportback_2.7_Tdi</td>\n",
       "      <td>manuel</td>\n",
       "    </tr>\n",
       "    <tr>\n",
       "      <th>1</th>\n",
       "      <td>9800</td>\n",
       "      <td>2004</td>\n",
       "      <td>163</td>\n",
       "      <td>125000</td>\n",
       "      <td>grand</td>\n",
       "      <td>diesel</td>\n",
       "      <td>Jeep_Grand_Cherokee_\"Overland\"</td>\n",
       "      <td>automatic</td>\n",
       "    </tr>\n",
       "    <tr>\n",
       "      <th>2</th>\n",
       "      <td>3600</td>\n",
       "      <td>2008</td>\n",
       "      <td>69</td>\n",
       "      <td>90000</td>\n",
       "      <td>fabia</td>\n",
       "      <td>diesel</td>\n",
       "      <td>Skoda_Fabia_1.4_TDI_PD_Classic</td>\n",
       "      <td>manuel</td>\n",
       "    </tr>\n",
       "    <tr>\n",
       "      <th>3</th>\n",
       "      <td>14500</td>\n",
       "      <td>2014</td>\n",
       "      <td>125</td>\n",
       "      <td>30000</td>\n",
       "      <td>c_max</td>\n",
       "      <td>gas</td>\n",
       "      <td>Ford_C___Max_Titanium_1_0_L_EcoBoost</td>\n",
       "      <td>manuel</td>\n",
       "    </tr>\n",
       "    <tr>\n",
       "      <th>4</th>\n",
       "      <td>17999</td>\n",
       "      <td>2011</td>\n",
       "      <td>190</td>\n",
       "      <td>70000</td>\n",
       "      <td>navara</td>\n",
       "      <td>diesel</td>\n",
       "      <td>Nissan_Navara_2.5DPF_SE4x4_Klima_Sitzheizg_Blu...</td>\n",
       "      <td>manuel</td>\n",
       "    </tr>\n",
       "  </tbody>\n",
       "</table>\n",
       "</div>"
      ],
      "text/plain": [
       "   price  yearOfRegistration  powerPS  kilometer   model fuelType  \\\n",
       "0  18300                2011      190     125000     NaN   diesel   \n",
       "1   9800                2004      163     125000   grand   diesel   \n",
       "2   3600                2008       69      90000   fabia   diesel   \n",
       "3  14500                2014      125      30000   c_max      gas   \n",
       "4  17999                2011      190      70000  navara   diesel   \n",
       "\n",
       "                                                name    gearbox  \n",
       "0                               A5_Sportback_2.7_Tdi     manuel  \n",
       "1                     Jeep_Grand_Cherokee_\"Overland\"  automatic  \n",
       "2                     Skoda_Fabia_1.4_TDI_PD_Classic     manuel  \n",
       "3               Ford_C___Max_Titanium_1_0_L_EcoBoost     manuel  \n",
       "4  Nissan_Navara_2.5DPF_SE4x4_Klima_Sitzheizg_Blu...     manuel  "
      ]
     },
     "execution_count": 7,
     "metadata": {},
     "output_type": "execute_result"
    }
   ],
   "source": [
    "# Data source: https://www.kaggle.com/orgesleka/used-cars-database\n",
    "\n",
    "import pandas as pd\n",
    "\n",
    "df = pd.read_csv(\"./autos_cross_val.csv\", encoding=\"iso-8859-1\")\n",
    "df.head()"
   ]
  },
  {
   "cell_type": "code",
   "execution_count": 8,
   "metadata": {},
   "outputs": [],
   "source": [
    "# First, we select the columns that really interest us.\n",
    "\n",
    "df = df[[\"price\", \"yearOfRegistration\", \"powerPS\", \"kilometer\", \"model\", \"fuelType\", \"name\"]]"
   ]
  },
  {
   "cell_type": "code",
   "execution_count": 27,
   "metadata": {},
   "outputs": [],
   "source": [
    "# Then we filter out unrealistic data\n",
    "df = df[df[\"price\"] < 50000]\n",
    "df = df[df[\"powerPS\"] < 300]\n",
    "df = df[df[\"powerPS\"] > 30]\n",
    "df = df[df[\"yearOfRegistration\"] < 2020]\n",
    "df = df[df[\"yearOfRegistration\"] > 1970]\n",
    "\n",
    "# A mileage of 150,000km is an astonishing number of cars. Theory: Cars with 300,000km are also driven under 150,000km.\n",
    "df = df[df[\"kilometer\"] <= 140000]\n",
    "\n",
    "# Then we take a sample (250 cars) out of the file\n",
    "# This will make it easier to visualize the rest later and the chart won't be \"crowded\" #\n",
    "df = df.sample(250)"
   ]
  },
  {
   "cell_type": "code",
   "execution_count": 28,
   "metadata": {},
   "outputs": [],
   "source": [
    "# And save it as .csv - file\n",
    "df.to_csv(\"./autos_prepared.csv\", index = False)"
   ]
  },
  {
   "cell_type": "code",
   "execution_count": 29,
   "metadata": {},
   "outputs": [
    {
     "name": "stdout",
     "output_type": "stream",
     "text": [
      "250\n"
     ]
    }
   ],
   "source": [
    "print(len(df))"
   ]
  },
  {
   "cell_type": "code",
   "execution_count": 30,
   "metadata": {},
   "outputs": [
    {
     "data": {
      "text/html": [
       "<div>\n",
       "<style>\n",
       "    .dataframe thead tr:only-child th {\n",
       "        text-align: right;\n",
       "    }\n",
       "\n",
       "    .dataframe thead th {\n",
       "        text-align: left;\n",
       "    }\n",
       "\n",
       "    .dataframe tbody tr th {\n",
       "        vertical-align: top;\n",
       "    }\n",
       "</style>\n",
       "<table border=\"1\" class=\"dataframe\">\n",
       "  <thead>\n",
       "    <tr style=\"text-align: right;\">\n",
       "      <th></th>\n",
       "      <th>price</th>\n",
       "      <th>yearOfRegistration</th>\n",
       "      <th>powerPS</th>\n",
       "      <th>kilometer</th>\n",
       "      <th>model</th>\n",
       "      <th>fuelType</th>\n",
       "      <th>name</th>\n",
       "    </tr>\n",
       "  </thead>\n",
       "  <tbody>\n",
       "    <tr>\n",
       "      <th>174574</th>\n",
       "      <td>1450</td>\n",
       "      <td>1997</td>\n",
       "      <td>75</td>\n",
       "      <td>90000</td>\n",
       "      <td>andere</td>\n",
       "      <td>benzin</td>\n",
       "      <td>Toyota_Toyota_Starlet_1._Hand__TÜV_neu</td>\n",
       "    </tr>\n",
       "    <tr>\n",
       "      <th>273748</th>\n",
       "      <td>13100</td>\n",
       "      <td>2005</td>\n",
       "      <td>280</td>\n",
       "      <td>5000</td>\n",
       "      <td>golf</td>\n",
       "      <td>benzin</td>\n",
       "      <td>R32_tauschen_oder_kaufen</td>\n",
       "    </tr>\n",
       "    <tr>\n",
       "      <th>242943</th>\n",
       "      <td>4500</td>\n",
       "      <td>2008</td>\n",
       "      <td>87</td>\n",
       "      <td>90000</td>\n",
       "      <td>yaris</td>\n",
       "      <td>benzin</td>\n",
       "      <td>Toyota_Yaris_1.3_VVT_i</td>\n",
       "    </tr>\n",
       "    <tr>\n",
       "      <th>637</th>\n",
       "      <td>6000</td>\n",
       "      <td>2009</td>\n",
       "      <td>177</td>\n",
       "      <td>125000</td>\n",
       "      <td>3er</td>\n",
       "      <td>diesel</td>\n",
       "      <td>320_Alpinweiss_Kohlenstoff</td>\n",
       "    </tr>\n",
       "    <tr>\n",
       "      <th>217928</th>\n",
       "      <td>3990</td>\n",
       "      <td>1999</td>\n",
       "      <td>118</td>\n",
       "      <td>90000</td>\n",
       "      <td>3er</td>\n",
       "      <td>benzin</td>\n",
       "      <td>BMW_318i_E46_+++_1._Hand_+++_Liebhaberfahrzeug</td>\n",
       "    </tr>\n",
       "  </tbody>\n",
       "</table>\n",
       "</div>"
      ],
      "text/plain": [
       "        price  yearOfRegistration  powerPS  kilometer   model fuelType  \\\n",
       "174574   1450                1997       75      90000  andere   benzin   \n",
       "273748  13100                2005      280       5000    golf   benzin   \n",
       "242943   4500                2008       87      90000   yaris   benzin   \n",
       "637      6000                2009      177     125000     3er   diesel   \n",
       "217928   3990                1999      118      90000     3er   benzin   \n",
       "\n",
       "                                                  name  \n",
       "174574          Toyota_Toyota_Starlet_1._Hand__TÜV_neu  \n",
       "273748                        R32_tauschen_oder_kaufen  \n",
       "242943                          Toyota_Yaris_1.3_VVT_i  \n",
       "637                         320_Alpinweiss_Kohlenstoff  \n",
       "217928  BMW_318i_E46_+++_1._Hand_+++_Liebhaberfahrzeug  "
      ]
     },
     "execution_count": 30,
     "metadata": {},
     "output_type": "execute_result"
    }
   ],
   "source": [
    "df.head()"
   ]
  },
  {
   "cell_type": "code",
   "execution_count": 31,
   "metadata": {},
   "outputs": [
    {
     "data": {
      "text/plain": [
       "LinearRegression(copy_X=True, fit_intercept=True, n_jobs=1, normalize=False)"
      ]
     },
     "execution_count": 31,
     "metadata": {},
     "output_type": "execute_result"
    }
   ],
   "source": [
    "from sklearn.linear_model import LinearRegression\n",
    "d = df.sample(250)\n",
    "\n",
    "X = d[[\"kilometer\"]].values\n",
    "Y = d[[\"price\"]].values\n",
    "\n",
    "model = LinearRegression()\n",
    "model.fit(X, Y)\n",
    "\n"
   ]
  },
  {
   "cell_type": "code",
   "execution_count": 32,
   "metadata": {},
   "outputs": [
    {
     "data": {
      "image/png": "[encoded data removed]",
      "text/plain": [
       "<matplotlib.figure.Figure at 0x120c0f0b8>"
      ]
     },
     "metadata": {},
     "output_type": "display_data"
    }
   ],
   "source": [
    "%matplotlib inline\n",
    "import matplotlib.pyplot as plt\n",
    "\n",
    "plt.scatter(X, Y)\n",
    "# plt.plot([[0], [300]], model.predict([[0], [300]]))\n",
    "plt.show()"
   ]
  },
  {
   "cell_type": "code",
   "execution_count": 33,
   "metadata": {},
   "outputs": [
    {
     "data": {
      "text/plain": [
       "array([[ 15109.0127408 ],\n",
       "       [  7191.58672534]])"
      ]
     },
     "execution_count": 33,
     "metadata": {},
     "output_type": "execute_result"
    }
   ],
   "source": [
    "# Test if we can get cool results later ;) \n",
    "\n",
    "from sklearn.linear_model import LinearRegression\n",
    "\n",
    "model = LinearRegression()\n",
    "model.fit(X, Y)\n",
    "\n",
    "model.predict([[10000], [100000]])"
   ]
  },
  {
   "cell_type": "code",
   "execution_count": null,
   "metadata": {},
   "outputs": [],
   "source": []
  },
  {
   "cell_type": "code",
   "execution_count": null,
   "metadata": {},
   "outputs": [],
   "source": []
  }
 ],
 "metadata": {
  "kernelspec": {
   "display_name": "Python 3",
   "language": "python",
   "name": "python3"
  },
  "language_info": {
   "codemirror_mode": {
    "name": "ipython",
    "version": 3
   },
   "file_extension": ".py",
   "mimetype": "text/x-python",
   "name": "python",
   "nbconvert_exporter": "python",
   "pygments_lexer": "ipython3",
   "version": "3.7.1"
  }
 },
 "nbformat": 4,
 "nbformat_minor": 2
}
