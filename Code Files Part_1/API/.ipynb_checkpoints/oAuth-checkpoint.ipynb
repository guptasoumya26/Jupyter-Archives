{
 "cells": [
  {
   "cell_type": "code",
   "execution_count": 13,
   "metadata": {},
   "outputs": [
    {
     "name": "stdout",
     "output_type": "stream",
     "text": [
      "https://www.reddit.com/api/v1/authorize?client_id=YiTc91WY6ThOcg&response_type=code&state=random_123&redirect_uri=https%3A%2F%2Fwww.google.com&scope=read\n"
     ]
    }
   ],
   "source": [
    "import requests\n",
    "import json\n",
    "\n",
    "#code=uNFTuh1WpsVD7OvEQ1wTPGSrp_E\n",
    "#Client id : YiTc91WY6ThOcg\n",
    "#Client secret : YFzElLa95iwbaa8CFA7F3fdQsK4\n",
    "data={\"client_id\":\"YiTc91WY6ThOcg\",\"response_type\":\"code\",\"state\":\"random_123\",\"redirect_uri\":\"https://www.google.com\",\"scope\":\"read\"}\n",
    "\n",
    "\n",
    "response=requests.get(\"https://www.reddit.com/api/v1/authorize\",params=data)\n",
    "print(response.url)\n",
    "\n"
   ]
  },
  {
   "cell_type": "code",
   "execution_count": 14,
   "metadata": {},
   "outputs": [
    {
     "data": {
      "text/plain": [
       "'{\"access_token\": \"291449176072-oedKopcA6RdbxdgZlp6iIsP-oIM\", \"token_type\": \"bearer\", \"expires_in\": 3600, \"scope\": \"read\"}'"
      ]
     },
     "execution_count": 14,
     "metadata": {},
     "output_type": "execute_result"
    }
   ],
   "source": [
    "data={\"grant_type\":\"authorization_code\",\"code\":\"3WmyED7v6eADtyq1fm6HkL0vSdA\",\"redirect_uri\":\"https://www.google.com\"}\n",
    "      \n",
    "\n",
    "r=requests.post(\"https://www.reddit.com/api/v1/access_token\",data=data,auth=(\"YiTc91WY6ThOcg\",\"YFzElLa95iwbaa8CFA7F3fdQsK4\"),headers={\"User-Agent\":\"Soumyansh\"})\n",
    "r.text"
   ]
  },
  {
   "cell_type": "code",
   "execution_count": null,
   "metadata": {},
   "outputs": [],
   "source": []
  }
 ],
 "metadata": {
  "kernelspec": {
   "display_name": "Python 3",
   "language": "python",
   "name": "python3"
  },
  "language_info": {
   "codemirror_mode": {
    "name": "ipython",
    "version": 3
   },
   "file_extension": ".py",
   "mimetype": "text/x-python",
   "name": "python",
   "nbconvert_exporter": "python",
   "pygments_lexer": "ipython3",
   "version": "3.7.1"
  }
 },
 "nbformat": 4,
 "nbformat_minor": 2
}
