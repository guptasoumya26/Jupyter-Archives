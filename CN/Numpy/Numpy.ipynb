{
 "cells": [
  {
   "cell_type": "code",
   "execution_count": 1,
   "metadata": {},
   "outputs": [
    {
     "name": "stdout",
     "output_type": "stream",
     "text": [
      "[1 2 3 4]\n"
     ]
    }
   ],
   "source": [
    "import numpy as np\n",
    "a=[1,2,3,4]\n",
    "b=np.array(a)\n",
    "print(b)"
   ]
  },
  {
   "cell_type": "code",
   "execution_count": 2,
   "metadata": {},
   "outputs": [
    {
     "name": "stdout",
     "output_type": "stream",
     "text": [
      "<class 'numpy.ndarray'>\n"
     ]
    }
   ],
   "source": [
    "print(type(b))"
   ]
  },
  {
   "cell_type": "code",
   "execution_count": 4,
   "metadata": {},
   "outputs": [
    {
     "ename": "ValueError",
     "evalue": "invalid literal for int() with base 10: 'Hello'",
     "output_type": "error",
     "traceback": [
      "\u001b[1;31m---------------------------------------------------------------------------\u001b[0m",
      "\u001b[1;31mValueError\u001b[0m                                Traceback (most recent call last)",
      "\u001b[1;32m<ipython-input-4-e9a1be8ee25f>\u001b[0m in \u001b[0;36m<module>\u001b[1;34m\u001b[0m\n\u001b[0;32m      1\u001b[0m \u001b[0ma\u001b[0m\u001b[1;33m=\u001b[0m\u001b[1;33m[\u001b[0m\u001b[1;36m1\u001b[0m\u001b[1;33m,\u001b[0m\u001b[1;36m2\u001b[0m\u001b[1;33m,\u001b[0m\u001b[1;36m3\u001b[0m\u001b[1;33m,\u001b[0m\u001b[1;36m4\u001b[0m\u001b[1;33m,\u001b[0m\u001b[1;36m5.6\u001b[0m\u001b[1;33m,\u001b[0m\u001b[1;34m\"Hello\"\u001b[0m\u001b[1;33m,\u001b[0m\u001b[1;32mTrue\u001b[0m\u001b[1;33m]\u001b[0m\u001b[1;33m\u001b[0m\u001b[1;33m\u001b[0m\u001b[0m\n\u001b[1;32m----> 2\u001b[1;33m \u001b[0mb\u001b[0m\u001b[1;33m=\u001b[0m\u001b[0mnp\u001b[0m\u001b[1;33m.\u001b[0m\u001b[0marray\u001b[0m\u001b[1;33m(\u001b[0m\u001b[0ma\u001b[0m\u001b[1;33m,\u001b[0m\u001b[0mdtype\u001b[0m\u001b[1;33m=\u001b[0m\u001b[0mint\u001b[0m\u001b[1;33m)\u001b[0m\u001b[1;33m\u001b[0m\u001b[1;33m\u001b[0m\u001b[0m\n\u001b[0m\u001b[0;32m      3\u001b[0m \u001b[0mprint\u001b[0m\u001b[1;33m(\u001b[0m\u001b[0mb\u001b[0m\u001b[1;33m)\u001b[0m\u001b[1;33m\u001b[0m\u001b[1;33m\u001b[0m\u001b[0m\n",
      "\u001b[1;31mValueError\u001b[0m: invalid literal for int() with base 10: 'Hello'"
     ]
    }
   ],
   "source": [
    "a=[1,2,3,4,5.6,\"Hello\",True]\n",
    "b=np.array(a)\n",
    "print(b)"
   ]
  },
  {
   "cell_type": "code",
   "execution_count": 7,
   "metadata": {},
   "outputs": [],
   "source": [
    "b=np.ones((2,3),dtype=int)"
   ]
  },
  {
   "cell_type": "code",
   "execution_count": 8,
   "metadata": {},
   "outputs": [
    {
     "data": {
      "text/plain": [
       "array([[1, 1, 1],\n",
       "       [1, 1, 1]])"
      ]
     },
     "execution_count": 8,
     "metadata": {},
     "output_type": "execute_result"
    }
   ],
   "source": [
    "b"
   ]
  },
  {
   "cell_type": "code",
   "execution_count": 14,
   "metadata": {},
   "outputs": [],
   "source": [
    "b=np.empty((5,2),dtype=int)"
   ]
  },
  {
   "cell_type": "code",
   "execution_count": 15,
   "metadata": {},
   "outputs": [
    {
     "data": {
      "text/plain": [
       "array([[  567983776,         378],\n",
       "       [  603304272,         378],\n",
       "       [          0,           0],\n",
       "       [-2147483648,       32767],\n",
       "       [          0,           0]])"
      ]
     },
     "execution_count": 15,
     "metadata": {},
     "output_type": "execute_result"
    }
   ],
   "source": [
    "b"
   ]
  },
  {
   "cell_type": "code",
   "execution_count": 22,
   "metadata": {},
   "outputs": [],
   "source": [
    "b=np.linspace(2,10,5,endpoint=False)"
   ]
  },
  {
   "cell_type": "code",
   "execution_count": 23,
   "metadata": {},
   "outputs": [
    {
     "data": {
      "text/plain": [
       "array([2. , 3.6, 5.2, 6.8, 8.4])"
      ]
     },
     "execution_count": 23,
     "metadata": {},
     "output_type": "execute_result"
    }
   ],
   "source": [
    "b"
   ]
  },
  {
   "cell_type": "code",
   "execution_count": 24,
   "metadata": {},
   "outputs": [
    {
     "data": {
      "text/plain": [
       "array([11,  6,  8,  9,  4,  3])"
      ]
     },
     "execution_count": 24,
     "metadata": {},
     "output_type": "execute_result"
    }
   ],
   "source": [
    "b=np.random.randint(2,12,6)\n",
    "b"
   ]
  },
  {
   "cell_type": "code",
   "execution_count": 1,
   "metadata": {},
   "outputs": [],
   "source": [
    "arr_2d=[[1,2,3],[4,5,6]]"
   ]
  },
  {
   "cell_type": "code",
   "execution_count": 2,
   "metadata": {},
   "outputs": [
    {
     "name": "stdout",
     "output_type": "stream",
     "text": [
      "[[1 2 3]\n",
      " [4 5 6]]\n"
     ]
    }
   ],
   "source": [
    "import numpy as np\n",
    "print(np.array(arr_2d))"
   ]
  },
  {
   "cell_type": "code",
   "execution_count": 4,
   "metadata": {},
   "outputs": [
    {
     "name": "stdout",
     "output_type": "stream",
     "text": [
      "5\n",
      "5\n",
      "5\n"
     ]
    }
   ],
   "source": [
    "print(arr_2d[1][1])\n",
    "print(np.array(arr_2d)[1][1])\n",
    "print(np.array(arr_2d)[1,1])"
   ]
  },
  {
   "cell_type": "code",
   "execution_count": 4,
   "metadata": {},
   "outputs": [
    {
     "name": "stdout",
     "output_type": "stream",
     "text": [
      "['1.0' '0.0' '1.0' ... '0.0' '0.0' '0.0']\n",
      "3771\n"
     ]
    }
   ],
   "source": [
    "import numpy as np\n",
    "import csv\n",
    "with open(\"C:\\\\Users\\\\Soumyansh\\\\Desktop\\\\terrorismData.csv\",encoding=\"utf8\") as file_obj:\n",
    "    file_data=csv.DictReader(file_obj,skipinitialspace=True)\n",
    "    file_list=list(file_data)\n",
    "killed=[]\n",
    "country=[]\n",
    "for row in file_list:\n",
    "    \n",
    "    killed.append(row['Killed'])\n",
    "    country.append(row['Country'])\n",
    "\n",
    "np_killed=np.array(killed)\n",
    "np_country=np.array(country)\n",
    "np_killed[np_killed=='']='0.0'\n",
    "print(np_killed)\n",
    "np_killed=np.array(np_killed,dtype=float)\n",
    "np_country=np.array(country)\n",
    "killed_USA=np_killed[np_country=='United States']\n",
    "print(int(np.sum(killed_USA)))"
   ]
  },
  {
   "cell_type": "code",
   "execution_count": 19,
   "metadata": {},
   "outputs": [
    {
     "name": "stdout",
     "output_type": "stream",
     "text": [
      "271\n"
     ]
    }
   ],
   "source": [
    "import numpy as np\n",
    "import csv\n",
    "file_obj=open(\"C:\\\\Users\\\\Soumyansh\\\\Desktop\\\\terrorismData.csv\",encoding=\"utf8\")\n",
    "file_data=csv.DictReader(file_obj,skipinitialspace=True)\n",
    "year=[]\n",
    "day=[]\n",
    "month=[]\n",
    "for row in file_data:\n",
    "    day.append(row['Day'])\n",
    "    year.append(row['Year'])\n",
    "    month.append(row['Month'])\n",
    "    \n",
    "np_day=np.array(day,dtype=float)\n",
    "np_month=np.array(month,dtype=float)\n",
    "np_year=np.array(year,dtype=float)\n",
    "\n",
    "bool_arr1=((np_day>=1) & (np_day<=31))\n",
    "\n",
    "bool_arr2=np_month==1\n",
    "\n",
    "bool_arr3=np_year==2010\n",
    "\n",
    "final_arr=(bool_arr1) & (bool_arr2) & (bool_arr3)\n",
    "ans=np_day[final_arr]\n",
    "count=0\n",
    "for i in ans:\n",
    "    count=count+1\n",
    "print(count)"
   ]
  },
  {
   "cell_type": "code",
   "execution_count": 20,
   "metadata": {},
   "outputs": [
    {
     "name": "stdout",
     "output_type": "stream",
     "text": [
      "271\n"
     ]
    }
   ],
   "source": [
    "#month year city nameofgroup killed wounded\n",
    "import numpy as np\n",
    "import csv\n",
    "file_obj=open(\"C:\\\\Users\\\\Soumyansh\\\\Desktop\\\\terrorismData.csv\",encoding=\"utf8\")\n",
    "file_data=csv.DictReader(file_obj,skipinitialspace=True)\n",
    "year=[]\n",
    "day=[]\n",
    "month=[]\n",
    "for row in file_data:\n",
    "    day.append(row['Day'])\n",
    "    year.append(row['Year'])\n",
    "    month.append(row['Month'])\n",
    "    \n",
    "np_day=np.array(day,dtype=float)\n",
    "np_month=np.array(month,dtype=float)\n",
    "np_year=np.array(year,dtype=float)\n",
    "\n",
    "bool_arr1=((np_day>=1) & (np_day<=31))\n",
    "\n",
    "bool_arr2=np_month==1\n",
    "\n",
    "bool_arr3=np_year==2010\n",
    "\n",
    "final_arr=(bool_arr1) & (bool_arr2) & (bool_arr3)\n",
    "ans=np_day[final_arr]\n",
    "count=0\n",
    "for i in ans:\n",
    "    count=count+1\n",
    "print(count)"
   ]
  },
  {
   "cell_type": "code",
   "execution_count": 21,
   "metadata": {},
   "outputs": [
    {
     "name": "stdout",
     "output_type": "stream",
     "text": [
      "90 Shiliguri United Liberation Front of Assam (ULFA)\n"
     ]
    }
   ],
   "source": [
    "print(90, end=' ')\n",
    "print('Shiliguri',end=' ')\n",
    "print('United Liberation Front of Assam (ULFA)')"
   ]
  },
  {
   "cell_type": "code",
   "execution_count": 71,
   "metadata": {},
   "outputs": [
    {
     "name": "stdout",
     "output_type": "stream",
     "text": [
      "22  Kargil District Separatists\n"
     ]
    }
   ],
   "source": [
    "#month year city nameofgroup killed wounded\n",
    "import numpy as np\n",
    "import csv\n",
    "file_obj=open(\"C:\\\\Users\\\\Soumyansh\\\\Desktop\\\\terrorismData.csv\",encoding=\"utf8\")\n",
    "file_data=csv.DictReader(file_obj,skipinitialspace=True)\n",
    "year=[]\n",
    "month=[]\n",
    "state=[]\n",
    "killed=[]\n",
    "wounded=[]\n",
    "final=[]\n",
    "#Making lists\n",
    "for row in file_data:    \n",
    "    year.append(row['Year'])\n",
    "    month.append(row['Month'])\n",
    "    killed.append(row['Killed'])\n",
    "    wounded.append(row['Wounded'])\n",
    "    state.append(row['State'])\n",
    "    final.append([row['Killed'],row['Wounded'],row['City'],row['Group']])\n",
    "#Making numpy arrays out of lits\n",
    "np_month=np.array(month)\n",
    "np_year=np.array(year)\n",
    "np_killed=np.array(killed)\n",
    "np_state=np.array(state)\n",
    "np_wounded=np.array(wounded)\n",
    "np_final=np.array(final)\n",
    "\n",
    "#fixing values\n",
    "np_killed[np_killed=='']='0.0'\n",
    "np_wounded[np_wounded=='']='0.0'\n",
    "\n",
    "#Conversions to float\n",
    "np_killed=np.array(np_killed,dtype=float)\n",
    "np_wounded=np.array(np_wounded,dtype=float)\n",
    "np_month=np.array(np_month,dtype=float)\n",
    "np_year=np.array(np_year,dtype=float)\n",
    "\n",
    "#Making boolean conditionals\n",
    "bool_arr1=((np_month>=5) & (np_month<=7))\n",
    "bool_arr2=np_year==1999\n",
    "bool_arr3=np_state=='Jammu and Kashmir'\n",
    "final_bool=bool_arr1 & bool_arr2 & bool_arr3\n",
    "np_final=np_final[final_bool]\n",
    "\n",
    "for i in range(len(np_final)):\n",
    "    for j in range(len(np_final[0])):\n",
    "        if np_final[i][j]=='':\n",
    "            np_final[i][j]='0.0'\n",
    "\n",
    "\n",
    "max=0.0\n",
    "for i in range(len(np_final)):\n",
    "    casualities=float(np_final[i,0])+float(np_final[i,1])\n",
    "    \n",
    "    if casualities>max:\n",
    "        max=casualities\n",
    "        temp=i\n",
    "print(str(int(max)),\" \"+np_final[temp,2]+\" \"+np_final[temp,3])"
   ]
  },
  {
   "cell_type": "code",
   "execution_count": 73,
   "metadata": {},
   "outputs": [
    {
     "name": "stdout",
     "output_type": "stream",
     "text": [
      "5628\n"
     ]
    }
   ],
   "source": [
    "#month year city nameofgroup killed wounded\n",
    "import numpy as np\n",
    "import csv\n",
    "file_obj=open(\"C:\\\\Users\\\\Soumyansh\\\\Desktop\\\\terrorismData.csv\",encoding=\"utf8\")\n",
    "file_data=csv.DictReader(file_obj,skipinitialspace=True)\n",
    "state=[]\n",
    "killed=[]\n",
    "wounded=[]\n",
    "#Making lists\n",
    "for row in file_data:    \n",
    "    killed.append(row['Killed'])\n",
    "    wounded.append(row['Wounded'])\n",
    "    state.append(row['State'])\n",
    "    \n",
    "#Making numpy arrays out of lits\n",
    "np_killed=np.array(killed)\n",
    "np_state=np.array(state)\n",
    "np_wounded=np.array(wounded)\n",
    "\n",
    "#fixing values\n",
    "np_killed[np_killed=='']='0.0'\n",
    "np_wounded[np_wounded=='']='0.0'\n",
    "\n",
    "#Conversions to float\n",
    "np_killed=np.array(np_killed,dtype=float)\n",
    "np_wounded=np.array(np_wounded,dtype=float)\n",
    "#Making boolean conditionals\n",
    "bool_arr1=((np_state=='Andhra Pradesh') | (np_state=='Jharkhand') | (np_state=='Odisha') | (np_state=='Chhattisgarh'))\n",
    "\n",
    "np_final=np_killed+np_wounded\n",
    "np_final=np_final[bool_arr1]\n",
    "ans=np.sum(np_final)\n",
    "print(int(ans))"
   ]
  },
  {
   "cell_type": "code",
   "execution_count": 77,
   "metadata": {},
   "outputs": [
    {
     "name": "stdout",
     "output_type": "stream",
     "text": [
      "15  6500\n"
     ]
    }
   ],
   "source": [
    "import csv\n",
    "with open(\"C:\\\\Users\\\\Soumyansh\\\\Desktop\\\\terrorismData.csv\",encoding='utf8') as file_obj:\n",
    "    file_data=csv.DictReader(file_obj,skipinitialspace=True)\n",
    "    file_list=list(file_data)\n",
    "d={}\n",
    "for row in file_list:\n",
    "    key=row['Day']\n",
    "    d[key]=d.get(key,0)+1\n",
    "\n",
    "max=0\n",
    "for i in d:\n",
    "    if(d[i]>max):\n",
    "        max=d[i]\n",
    "        temp=i\n",
    "print(temp+\" \",max)"
   ]
  },
  {
   "cell_type": "code",
   "execution_count": 1,
   "metadata": {},
   "outputs": [
    {
     "name": "stdout",
     "output_type": "stream",
     "text": [
      "[['Mumbai' '188' '817' 'India']\n",
      " ['Mumbai' '52' '150' 'India']\n",
      " ['Mumbai' '68' '76' 'India']\n",
      " ['Mumbai' '58' '76' 'India']\n",
      " ['Mumbai' '9' '76' 'India']\n",
      " ['Mumbai' '11' '64' 'India']\n",
      " ['Mumbai' '32' '22' 'India']\n",
      " ['Mumbai' '8' '44' 'India']\n",
      " ['Mumbai' '9' '43' 'India']\n",
      " ['Mumbai' '9' '43' 'India']\n",
      " ['Mumbai' '2' '36' 'India']\n",
      " ['Mumbai' '5' '31' 'India']\n",
      " ['Mumbai' '0' '27' 'India']\n",
      " ['Mumbai' '1' '13' 'India']\n",
      " ['Mumbai' '0' '9' 'India']\n",
      " ['Mumbai' '9' '0' 'India']\n",
      " ['Mumbai' '2' '5' 'India']\n",
      " ['Mumbai' '4' '2' 'India']\n",
      " ['Mumbai' '3' '0' 'India']\n",
      " ['Mumbai' '1' '1' 'India']\n",
      " ['Mumbai' '1' '1' 'India']\n",
      " ['Mumbai' '1' '1' 'India']\n",
      " ['Mumbai' '0' '2' 'India']\n",
      " ['Mumbai' '1' '0' 'India']\n",
      " ['Mumbai' '0' '1' 'India']\n",
      " ['Mumbai' '0' '1' 'India']\n",
      " ['Mumbai' '0' '1' 'India']\n",
      " ['Mumbai' '0' '0' 'India']]\n",
      "Mumbai 1005 \n",
      "Mumbai 202 \n",
      "Mumbai 144 \n",
      "Mumbai 134 \n",
      "Mumbai 85 \n"
     ]
    }
   ],
   "source": [
    "#month year city nameofgroup killed wounded\n",
    "import numpy as np\n",
    "import csv\n",
    "file_obj=open(\"C:\\\\Users\\\\Soumyansh\\\\Desktop\\\\A.csv\",encoding=\"utf8\")\n",
    "file_data=csv.DictReader(file_obj,skipinitialspace=True)\n",
    "country=[]\n",
    "killed=[]\n",
    "wounded=[]\n",
    "city=[]\n",
    "final=[]\n",
    "#Making lists\n",
    "for row in file_data:    \n",
    "    city.append(row['City'])\n",
    "    killed.append(row['Killed'])\n",
    "    wounded.append(row['Wounded'])\n",
    "    country.append(row['Country'])\n",
    "    final.append([row['City'],row['Killed'],row['Wounded'],row['Country']])\n",
    "#Making numpy arrays out of lits\n",
    "np_city=np.array(city)\n",
    "np_killed=np.array(killed)\n",
    "np_wounded=np.array(wounded)\n",
    "np_country=np.array(country)\n",
    "np_final=np.array(final)\n",
    "\n",
    "#fixing values\n",
    "np_killed[np_killed=='']='0.0'\n",
    "np_wounded[np_wounded=='']='0.0'\n",
    "\n",
    "#Conversions to float\n",
    "np_killed=np.array(np_killed,dtype=float)\n",
    "np_wounded=np.array(np_wounded,dtype=float)\n",
    "np_casualities=np_killed+np_wounded\n",
    "#Making boolean conditionals\n",
    "bool_arr=((np_country=='India'))\n",
    "\n",
    "np_final=np_final[bool_arr]\n",
    "\n",
    "for i in range(len(np_final)):\n",
    "    for j in range(len(np_final[0])):\n",
    "        if np_final[i][j]=='':\n",
    "            np_final[i][j]='0.0'\n",
    "\n",
    "print(np_final)            \n",
    "for i in range(len(np_final)):\n",
    "    np_final[i,1]=int(float(np_final[i,1])+float(np_final[i,2]))\n",
    "\n",
    "np_final=np_final[0:5,0:2]\n",
    "for i in range(len(np_final)):\n",
    "    for j in range(len(np_final[0])):\n",
    "        print(np_final[i][j],end=' ')\n",
    "    print()\n",
    "\n",
    "# np_final=np_final[np_final[:1].argsort()]\n",
    "# print(np_final)"
   ]
  },
  {
   "cell_type": "code",
   "execution_count": 2,
   "metadata": {},
   "outputs": [
    {
     "name": "stdout",
     "output_type": "stream",
     "text": [
      "Srinagar  3134\n",
      "New Delhi  2095\n",
      "Mumbai  2016\n",
      "Jammu  1119\n",
      "Guwahati  822\n"
     ]
    }
   ],
   "source": [
    "import csv\n",
    "import operator\n",
    "with open(\"C:\\\\Users\\\\Soumyansh\\\\Desktop\\\\terrorismData.csv\",encoding=\"utf8\") as file_obj:\n",
    "    file_data=csv.DictReader(file_obj,skipinitialspace=True)\n",
    "    file_list=list(file_data)\n",
    "d={}\n",
    "temp1=0.0\n",
    "temp2=0.0\n",
    "for row in file_list:\n",
    "    key=row['Country']\n",
    "    if 'India' in key:\n",
    "        \n",
    "        key=row['City']\n",
    "        if key!='Unknown':\n",
    "            temp1=row['Killed']\n",
    "            temp2=row['Wounded']\n",
    "            if temp1=='' and temp2=='':\n",
    "                temp1=0.0\n",
    "                temp2=0.0\n",
    "            elif temp1=='':\n",
    "                temp1=0.0\n",
    "                temp2=float(temp2)\n",
    "            elif temp2=='':\n",
    "                temp2=0.0\n",
    "                temp1=float(temp1)\n",
    "            else:\n",
    "                temp1=float(temp1)\n",
    "                temp2=float(temp2)\n",
    "            value=temp1+temp2\n",
    "            if key in d:\n",
    "                d[key]=d[key]+value\n",
    "            else:\n",
    "                d[key]=value\n",
    "sorted_d = sorted((value, key) for (key,value) in d.items())\n",
    "l=sorted_d[-5:]\n",
    "\n",
    "for i in reversed(l):\n",
    "    value,key=i\n",
    "    print(key+\" \",int(value))\n",
    "    "
   ]
  },
  {
   "cell_type": "code",
   "execution_count": 16,
   "metadata": {},
   "outputs": [
    {
     "name": "stdout",
     "output_type": "stream",
     "text": [
      "[['Aatpal' '1' '0']\n",
      " ['0.0' '0.0' '0.0']\n",
      " ['Abhayapuri' '1' '1']\n",
      " ['Abhoynagar' '0' '2']]\n"
     ]
    }
   ],
   "source": [
    "import numpy as np\n",
    "import csv\n",
    "import operator\n",
    "with open(\"C:\\\\Users\\\\Soumyansh\\\\Desktop\\\\terrorismData.csv\",encoding=\"utf8\") as file_obj:\n",
    "    file_data=csv.DictReader(file_obj,skipinitialspace=True)\n",
    "    file_list=list(file_data)\n",
    "Country=[]\n",
    "City=[]\n",
    "Killed=[]\n",
    "Wounded=[]\n",
    "Final=[]\n",
    "for row in file_list:\n",
    "    Country.append(row['Country'])\n",
    "    City.append(row['City'])\n",
    "    Killed.append(row['Killed'])\n",
    "    Wounded.append(row['Wounded'])\n",
    "    Final.append([row['City'],row['Killed'],row['Wounded']])\n",
    "#Making numpy arrays        \n",
    "np_country=np.array(Country)\n",
    "bool_arr=np_country=='India'\n",
    "np_city=np.array(City)\n",
    "np_killed=np.array(Killed)\n",
    "np_wounded=np.array(Wounded)\n",
    "np_final=np.array(Final)\n",
    "#Fixing values\n",
    "np_final=np_final[bool_arr]\n",
    "\n",
    "np_final[np_final[:,1]=='']='0.0'\n",
    "np_final[np_final[:,2]=='']='0.0'\n",
    "\n",
    "print(np_final[1:5,:3])"
   ]
  },
  {
   "cell_type": "code",
   "execution_count": 1,
   "metadata": {},
   "outputs": [
    {
     "name": "stdout",
     "output_type": "stream",
     "text": [
      "[['Aankro' '3' '0']\n",
      " ['Aatpal' '1' '0']\n",
      " ['Abhapalli' '5' '0.0']\n",
      " ['Abhayapuri' '1' '1']\n",
      " ['Abhoynagar' '0' '2']]\n"
     ]
    }
   ],
   "source": [
    "import numpy as np\n",
    "import csv\n",
    "file_obj=open(\"C:\\\\Users\\\\Soumyansh\\\\Desktop\\\\terrorismData.csv\",encoding=\"utf8\")\n",
    "file_data=csv.DictReader(file_obj,skipinitialspace=True)\n",
    "country=[]\n",
    "killed=[]\n",
    "wounded=[]\n",
    "city=[]\n",
    "final=[]\n",
    "\n",
    "#Making lists\n",
    "for row in file_data:\n",
    "    if row['Country']=='India':\n",
    "        country.append(row['Country'])\n",
    "        killed.append(row['Killed'])\n",
    "        wounded.append(row['Wounded'])\n",
    "        city.append(row['City'])\n",
    "        final.append([row['City'],row['Killed'],row['Wounded']])\n",
    "\n",
    "\n",
    "#Making numpy arrays out of lists\n",
    "np_month=np.array(country)\n",
    "np_killed=np.array(killed)\n",
    "np_wounded=np.array(wounded)\n",
    "np_city=np.array(city)\n",
    "np_final=np.array(final)\n",
    "\n",
    "\n",
    "#Fixing blank values in final arr\n",
    "np_final[np_final=='']='0.0'\n",
    "\n",
    "print(np_final[0:5,:])"
   ]
  },
  {
   "cell_type": "code",
   "execution_count": null,
   "metadata": {},
   "outputs": [],
   "source": []
  }
 ],
 "metadata": {
  "kernelspec": {
   "display_name": "Python 3",
   "language": "python",
   "name": "python3"
  },
  "language_info": {
   "codemirror_mode": {
    "name": "ipython",
    "version": 3
   },
   "file_extension": ".py",
   "mimetype": "text/x-python",
   "name": "python",
   "nbconvert_exporter": "python",
   "pygments_lexer": "ipython3",
   "version": "3.7.1"
  }
 },
 "nbformat": 4,
 "nbformat_minor": 2
}
