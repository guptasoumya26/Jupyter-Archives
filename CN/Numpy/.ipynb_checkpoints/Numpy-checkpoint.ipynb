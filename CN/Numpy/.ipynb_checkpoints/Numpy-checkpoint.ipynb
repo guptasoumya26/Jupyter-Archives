{
 "cells": [
  {
   "cell_type": "code",
   "execution_count": 1,
   "metadata": {},
   "outputs": [
    {
     "name": "stdout",
     "output_type": "stream",
     "text": [
      "[1 2 3 4]\n"
     ]
    }
   ],
   "source": [
    "import numpy as np\n",
    "a=[1,2,3,4]\n",
    "b=np.array(a)\n",
    "print(b)"
   ]
  },
  {
   "cell_type": "code",
   "execution_count": 2,
   "metadata": {},
   "outputs": [
    {
     "name": "stdout",
     "output_type": "stream",
     "text": [
      "<class 'numpy.ndarray'>\n"
     ]
    }
   ],
   "source": [
    "print(type(b))"
   ]
  },
  {
   "cell_type": "code",
   "execution_count": 4,
   "metadata": {},
   "outputs": [
    {
     "ename": "ValueError",
     "evalue": "invalid literal for int() with base 10: 'Hello'",
     "output_type": "error",
     "traceback": [
      "\u001b[1;31m---------------------------------------------------------------------------\u001b[0m",
      "\u001b[1;31mValueError\u001b[0m                                Traceback (most recent call last)",
      "\u001b[1;32m<ipython-input-4-e9a1be8ee25f>\u001b[0m in \u001b[0;36m<module>\u001b[1;34m\u001b[0m\n\u001b[0;32m      1\u001b[0m \u001b[0ma\u001b[0m\u001b[1;33m=\u001b[0m\u001b[1;33m[\u001b[0m\u001b[1;36m1\u001b[0m\u001b[1;33m,\u001b[0m\u001b[1;36m2\u001b[0m\u001b[1;33m,\u001b[0m\u001b[1;36m3\u001b[0m\u001b[1;33m,\u001b[0m\u001b[1;36m4\u001b[0m\u001b[1;33m,\u001b[0m\u001b[1;36m5.6\u001b[0m\u001b[1;33m,\u001b[0m\u001b[1;34m\"Hello\"\u001b[0m\u001b[1;33m,\u001b[0m\u001b[1;32mTrue\u001b[0m\u001b[1;33m]\u001b[0m\u001b[1;33m\u001b[0m\u001b[1;33m\u001b[0m\u001b[0m\n\u001b[1;32m----> 2\u001b[1;33m \u001b[0mb\u001b[0m\u001b[1;33m=\u001b[0m\u001b[0mnp\u001b[0m\u001b[1;33m.\u001b[0m\u001b[0marray\u001b[0m\u001b[1;33m(\u001b[0m\u001b[0ma\u001b[0m\u001b[1;33m,\u001b[0m\u001b[0mdtype\u001b[0m\u001b[1;33m=\u001b[0m\u001b[0mint\u001b[0m\u001b[1;33m)\u001b[0m\u001b[1;33m\u001b[0m\u001b[1;33m\u001b[0m\u001b[0m\n\u001b[0m\u001b[0;32m      3\u001b[0m \u001b[0mprint\u001b[0m\u001b[1;33m(\u001b[0m\u001b[0mb\u001b[0m\u001b[1;33m)\u001b[0m\u001b[1;33m\u001b[0m\u001b[1;33m\u001b[0m\u001b[0m\n",
      "\u001b[1;31mValueError\u001b[0m: invalid literal for int() with base 10: 'Hello'"
     ]
    }
   ],
   "source": [
    "a=[1,2,3,4,5.6,\"Hello\",True]\n",
    "b=np.array(a)\n",
    "print(b)"
   ]
  },
  {
   "cell_type": "code",
   "execution_count": 7,
   "metadata": {},
   "outputs": [],
   "source": [
    "b=np.ones((2,3),dtype=int)"
   ]
  },
  {
   "cell_type": "code",
   "execution_count": 8,
   "metadata": {},
   "outputs": [
    {
     "data": {
      "text/plain": [
       "array([[1, 1, 1],\n",
       "       [1, 1, 1]])"
      ]
     },
     "execution_count": 8,
     "metadata": {},
     "output_type": "execute_result"
    }
   ],
   "source": [
    "b"
   ]
  },
  {
   "cell_type": "code",
   "execution_count": 14,
   "metadata": {},
   "outputs": [],
   "source": [
    "b=np.empty((5,2),dtype=int)"
   ]
  },
  {
   "cell_type": "code",
   "execution_count": 15,
   "metadata": {},
   "outputs": [
    {
     "data": {
      "text/plain": [
       "array([[  567983776,         378],\n",
       "       [  603304272,         378],\n",
       "       [          0,           0],\n",
       "       [-2147483648,       32767],\n",
       "       [          0,           0]])"
      ]
     },
     "execution_count": 15,
     "metadata": {},
     "output_type": "execute_result"
    }
   ],
   "source": [
    "b"
   ]
  },
  {
   "cell_type": "code",
   "execution_count": 22,
   "metadata": {},
   "outputs": [],
   "source": [
    "b=np.linspace(2,10,5,endpoint=False)"
   ]
  },
  {
   "cell_type": "code",
   "execution_count": 23,
   "metadata": {},
   "outputs": [
    {
     "data": {
      "text/plain": [
       "array([2. , 3.6, 5.2, 6.8, 8.4])"
      ]
     },
     "execution_count": 23,
     "metadata": {},
     "output_type": "execute_result"
    }
   ],
   "source": [
    "b"
   ]
  },
  {
   "cell_type": "code",
   "execution_count": 24,
   "metadata": {},
   "outputs": [
    {
     "data": {
      "text/plain": [
       "array([11,  6,  8,  9,  4,  3])"
      ]
     },
     "execution_count": 24,
     "metadata": {},
     "output_type": "execute_result"
    }
   ],
   "source": [
    "b=np.random.randint(2,12,6)\n",
    "b"
   ]
  },
  {
   "cell_type": "code",
   "execution_count": 1,
   "metadata": {},
   "outputs": [],
   "source": [
    "arr_2d=[[1,2,3],[4,5,6]]"
   ]
  },
  {
   "cell_type": "code",
   "execution_count": 2,
   "metadata": {},
   "outputs": [
    {
     "name": "stdout",
     "output_type": "stream",
     "text": [
      "[[1 2 3]\n",
      " [4 5 6]]\n"
     ]
    }
   ],
   "source": [
    "import numpy as np\n",
    "print(np.array(arr_2d))"
   ]
  },
  {
   "cell_type": "code",
   "execution_count": 4,
   "metadata": {},
   "outputs": [
    {
     "name": "stdout",
     "output_type": "stream",
     "text": [
      "5\n",
      "5\n",
      "5\n"
     ]
    }
   ],
   "source": [
    "print(arr_2d[1][1])\n",
    "print(np.array(arr_2d)[1][1])\n",
    "print(np.array(arr_2d)[1,1])"
   ]
  },
  {
   "cell_type": "code",
   "execution_count": 4,
   "metadata": {},
   "outputs": [
    {
     "name": "stdout",
     "output_type": "stream",
     "text": [
      "['1.0' '0.0' '1.0' ... '0.0' '0.0' '0.0']\n",
      "3771\n"
     ]
    }
   ],
   "source": [
    "import numpy as np\n",
    "import csv\n",
    "with open(\"C:\\\\Users\\\\Soumyansh\\\\Desktop\\\\terrorismData.csv\",encoding=\"utf8\") as file_obj:\n",
    "    file_data=csv.DictReader(file_obj,skipinitialspace=True)\n",
    "    file_list=list(file_data)\n",
    "killed=[]\n",
    "country=[]\n",
    "for row in file_list:\n",
    "    \n",
    "    killed.append(row['Killed'])\n",
    "    country.append(row['Country'])\n",
    "\n",
    "np_killed=np.array(killed)\n",
    "np_country=np.array(country)\n",
    "np_killed[np_killed=='']='0.0'\n",
    "print(np_killed)\n",
    "np_killed=np.array(np_killed,dtype=float)\n",
    "np_country=np.array(country)\n",
    "killed_USA=np_killed[np_country=='United States']\n",
    "print(int(np.sum(killed_USA)))"
   ]
  },
  {
   "cell_type": "code",
   "execution_count": 19,
   "metadata": {},
   "outputs": [
    {
     "name": "stdout",
     "output_type": "stream",
     "text": [
      "271\n"
     ]
    }
   ],
   "source": [
    "import numpy as np\n",
    "import csv\n",
    "file_obj=open(\"C:\\\\Users\\\\Soumyansh\\\\Desktop\\\\terrorismData.csv\",encoding=\"utf8\")\n",
    "file_data=csv.DictReader(file_obj,skipinitialspace=True)\n",
    "year=[]\n",
    "day=[]\n",
    "month=[]\n",
    "for row in file_data:\n",
    "    day.append(row['Day'])\n",
    "    year.append(row['Year'])\n",
    "    month.append(row['Month'])\n",
    "    \n",
    "np_day=np.array(day,dtype=float)\n",
    "np_month=np.array(month,dtype=float)\n",
    "np_year=np.array(year,dtype=float)\n",
    "\n",
    "bool_arr1=((np_day>=1) & (np_day<=31))\n",
    "\n",
    "bool_arr2=np_month==1\n",
    "\n",
    "bool_arr3=np_year==2010\n",
    "\n",
    "final_arr=(bool_arr1) & (bool_arr2) & (bool_arr3)\n",
    "ans=np_day[final_arr]\n",
    "count=0\n",
    "for i in ans:\n",
    "    count=count+1\n",
    "print(count)"
   ]
  },
  {
   "cell_type": "code",
   "execution_count": 20,
   "metadata": {},
   "outputs": [
    {
     "name": "stdout",
     "output_type": "stream",
     "text": [
      "271\n"
     ]
    }
   ],
   "source": [
    "#month year city nameofgroup killed wounded\n",
    "import numpy as np\n",
    "import csv\n",
    "file_obj=open(\"C:\\\\Users\\\\Soumyansh\\\\Desktop\\\\terrorismData.csv\",encoding=\"utf8\")\n",
    "file_data=csv.DictReader(file_obj,skipinitialspace=True)\n",
    "year=[]\n",
    "day=[]\n",
    "month=[]\n",
    "for row in file_data:\n",
    "    day.append(row['Day'])\n",
    "    year.append(row['Year'])\n",
    "    month.append(row['Month'])\n",
    "    \n",
    "np_day=np.array(day,dtype=float)\n",
    "np_month=np.array(month,dtype=float)\n",
    "np_year=np.array(year,dtype=float)\n",
    "\n",
    "bool_arr1=((np_day>=1) & (np_day<=31))\n",
    "\n",
    "bool_arr2=np_month==1\n",
    "\n",
    "bool_arr3=np_year==2010\n",
    "\n",
    "final_arr=(bool_arr1) & (bool_arr2) & (bool_arr3)\n",
    "ans=np_day[final_arr]\n",
    "count=0\n",
    "for i in ans:\n",
    "    count=count+1\n",
    "print(count)"
   ]
  },
  {
   "cell_type": "code",
   "execution_count": 21,
   "metadata": {},
   "outputs": [
    {
     "name": "stdout",
     "output_type": "stream",
     "text": [
      "90 Shiliguri United Liberation Front of Assam (ULFA)\n"
     ]
    }
   ],
   "source": [
    "print(90, end=' ')\n",
    "print('Shiliguri',end=' ')\n",
    "print('United Liberation Front of Assam (ULFA)')"
   ]
  },
  {
   "cell_type": "code",
   "execution_count": 71,
   "metadata": {},
   "outputs": [
    {
     "name": "stdout",
     "output_type": "stream",
     "text": [
      "22  Kargil District Separatists\n"
     ]
    }
   ],
   "source": [
    "#month year city nameofgroup killed wounded\n",
    "import numpy as np\n",
    "import csv\n",
    "file_obj=open(\"C:\\\\Users\\\\Soumyansh\\\\Desktop\\\\terrorismData.csv\",encoding=\"utf8\")\n",
    "file_data=csv.DictReader(file_obj,skipinitialspace=True)\n",
    "year=[]\n",
    "month=[]\n",
    "state=[]\n",
    "killed=[]\n",
    "wounded=[]\n",
    "final=[]\n",
    "#Making lists\n",
    "for row in file_data:    \n",
    "    year.append(row['Year'])\n",
    "    month.append(row['Month'])\n",
    "    killed.append(row['Killed'])\n",
    "    wounded.append(row['Wounded'])\n",
    "    state.append(row['State'])\n",
    "    final.append([row['Killed'],row['Wounded'],row['City'],row['Group']])\n",
    "#Making numpy arrays out of lits\n",
    "np_month=np.array(month)\n",
    "np_year=np.array(year)\n",
    "np_killed=np.array(killed)\n",
    "np_state=np.array(state)\n",
    "np_wounded=np.array(wounded)\n",
    "np_final=np.array(final)\n",
    "\n",
    "#fixing values\n",
    "np_killed[np_killed=='']='0.0'\n",
    "np_wounded[np_wounded=='']='0.0'\n",
    "\n",
    "#Conversions to float\n",
    "np_killed=np.array(np_killed,dtype=float)\n",
    "np_wounded=np.array(np_wounded,dtype=float)\n",
    "np_month=np.array(np_month,dtype=float)\n",
    "np_year=np.array(np_year,dtype=float)\n",
    "\n",
    "#Making boolean conditionals\n",
    "bool_arr1=((np_month>=5) & (np_month<=7))\n",
    "bool_arr2=np_year==1999\n",
    "bool_arr3=np_state=='Jammu and Kashmir'\n",
    "final_bool=bool_arr1 & bool_arr2 & bool_arr3\n",
    "np_final=np_final[final_bool]\n",
    "\n",
    "for i in range(len(np_final)):\n",
    "    for j in range(len(np_final[0])):\n",
    "        if np_final[i][j]=='':\n",
    "            np_final[i][j]='0.0'\n",
    "\n",
    "\n",
    "max=0.0\n",
    "for i in range(len(np_final)):\n",
    "    casualities=float(np_final[i,0])+float(np_final[i,1])\n",
    "    \n",
    "    if casualities>max:\n",
    "        max=casualities\n",
    "        temp=i\n",
    "print(str(int(max)),\" \"+np_final[temp,2]+\" \"+np_final[temp,3])"
   ]
  },
  {
   "cell_type": "code",
   "execution_count": 73,
   "metadata": {},
   "outputs": [
    {
     "name": "stdout",
     "output_type": "stream",
     "text": [
      "5628\n"
     ]
    }
   ],
   "source": [
    "#month year city nameofgroup killed wounded\n",
    "import numpy as np\n",
    "import csv\n",
    "file_obj=open(\"C:\\\\Users\\\\Soumyansh\\\\Desktop\\\\terrorismData.csv\",encoding=\"utf8\")\n",
    "file_data=csv.DictReader(file_obj,skipinitialspace=True)\n",
    "state=[]\n",
    "killed=[]\n",
    "wounded=[]\n",
    "#Making lists\n",
    "for row in file_data:    \n",
    "    killed.append(row['Killed'])\n",
    "    wounded.append(row['Wounded'])\n",
    "    state.append(row['State'])\n",
    "    \n",
    "#Making numpy arrays out of lits\n",
    "np_killed=np.array(killed)\n",
    "np_state=np.array(state)\n",
    "np_wounded=np.array(wounded)\n",
    "\n",
    "#fixing values\n",
    "np_killed[np_killed=='']='0.0'\n",
    "np_wounded[np_wounded=='']='0.0'\n",
    "\n",
    "#Conversions to float\n",
    "np_killed=np.array(np_killed,dtype=float)\n",
    "np_wounded=np.array(np_wounded,dtype=float)\n",
    "#Making boolean conditionals\n",
    "bool_arr1=((np_state=='Andhra Pradesh') | (np_state=='Jharkhand') | (np_state=='Odisha') | (np_state=='Chhattisgarh'))\n",
    "\n",
    "np_final=np_killed+np_wounded\n",
    "np_final=np_final[bool_arr1]\n",
    "ans=np.sum(np_final)\n",
    "print(int(ans))"
   ]
  },
  {
   "cell_type": "code",
   "execution_count": 77,
   "metadata": {},
   "outputs": [
    {
     "name": "stdout",
     "output_type": "stream",
     "text": [
      "15  6500\n"
     ]
    }
   ],
   "source": [
    "import csv\n",
    "with open(\"C:\\\\Users\\\\Soumyansh\\\\Desktop\\\\terrorismData.csv\",encoding='utf8') as file_obj:\n",
    "    file_data=csv.DictReader(file_obj,skipinitialspace=True)\n",
    "    file_list=list(file_data)\n",
    "d={}\n",
    "for row in file_list:\n",
    "    key=row['Day']\n",
    "    d[key]=d.get(key,0)+1\n",
    "\n",
    "max=0\n",
    "for i in d:\n",
    "    if(d[i]>max):\n",
    "        max=d[i]\n",
    "        temp=i\n",
    "print(temp+\" \",max)"
   ]
  },
  {
   "cell_type": "code",
   "execution_count": 1,
   "metadata": {},
   "outputs": [
    {
     "name": "stdout",
     "output_type": "stream",
     "text": [
      "[['Mumbai' '188' '817' 'India']\n",
      " ['Mumbai' '52' '150' 'India']\n",
      " ['Mumbai' '68' '76' 'India']\n",
      " ['Mumbai' '58' '76' 'India']\n",
      " ['Mumbai' '9' '76' 'India']\n",
      " ['Mumbai' '11' '64' 'India']\n",
      " ['Mumbai' '32' '22' 'India']\n",
      " ['Mumbai' '8' '44' 'India']\n",
      " ['Mumbai' '9' '43' 'India']\n",
      " ['Mumbai' '9' '43' 'India']\n",
      " ['Mumbai' '2' '36' 'India']\n",
      " ['Mumbai' '5' '31' 'India']\n",
      " ['Mumbai' '0' '27' 'India']\n",
      " ['Mumbai' '1' '13' 'India']\n",
      " ['Mumbai' '0' '9' 'India']\n",
      " ['Mumbai' '9' '0' 'India']\n",
      " ['Mumbai' '2' '5' 'India']\n",
      " ['Mumbai' '4' '2' 'India']\n",
      " ['Mumbai' '3' '0' 'India']\n",
      " ['Mumbai' '1' '1' 'India']\n",
      " ['Mumbai' '1' '1' 'India']\n",
      " ['Mumbai' '1' '1' 'India']\n",
      " ['Mumbai' '0' '2' 'India']\n",
      " ['Mumbai' '1' '0' 'India']\n",
      " ['Mumbai' '0' '1' 'India']\n",
      " ['Mumbai' '0' '1' 'India']\n",
      " ['Mumbai' '0' '1' 'India']\n",
      " ['Mumbai' '0' '0' 'India']]\n",
      "Mumbai 1005 \n",
      "Mumbai 202 \n",
      "Mumbai 144 \n",
      "Mumbai 134 \n",
      "Mumbai 85 \n"
     ]
    }
   ],
   "source": [
    "#month year city nameofgroup killed wounded\n",
    "import numpy as np\n",
    "import csv\n",
    "file_obj=open(\"C:\\\\Users\\\\Soumyansh\\\\Desktop\\\\A.csv\",encoding=\"utf8\")\n",
    "file_data=csv.DictReader(file_obj,skipinitialspace=True)\n",
    "country=[]\n",
    "killed=[]\n",
    "wounded=[]\n",
    "city=[]\n",
    "final=[]\n",
    "#Making lists\n",
    "for row in file_data:    \n",
    "    city.append(row['City'])\n",
    "    killed.append(row['Killed'])\n",
    "    wounded.append(row['Wounded'])\n",
    "    country.append(row['Country'])\n",
    "    final.append([row['City'],row['Killed'],row['Wounded'],row['Country']])\n",
    "#Making numpy arrays out of lits\n",
    "np_city=np.array(city)\n",
    "np_killed=np.array(killed)\n",
    "np_wounded=np.array(wounded)\n",
    "np_country=np.array(country)\n",
    "np_final=np.array(final)\n",
    "\n",
    "#fixing values\n",
    "np_killed[np_killed=='']='0.0'\n",
    "np_wounded[np_wounded=='']='0.0'\n",
    "\n",
    "#Conversions to float\n",
    "np_killed=np.array(np_killed,dtype=float)\n",
    "np_wounded=np.array(np_wounded,dtype=float)\n",
    "np_casualities=np_killed+np_wounded\n",
    "#Making boolean conditionals\n",
    "bool_arr=((np_country=='India'))\n",
    "\n",
    "np_final=np_final[bool_arr]\n",
    "\n",
    "for i in range(len(np_final)):\n",
    "    for j in range(len(np_final[0])):\n",
    "        if np_final[i][j]=='':\n",
    "            np_final[i][j]='0.0'\n",
    "\n",
    "print(np_final)            \n",
    "for i in range(len(np_final)):\n",
    "    np_final[i,1]=int(float(np_final[i,1])+float(np_final[i,2]))\n",
    "\n",
    "np_final=np_final[0:5,0:2]\n",
    "for i in range(len(np_final)):\n",
    "    for j in range(len(np_final[0])):\n",
    "        print(np_final[i][j],end=' ')\n",
    "    print()\n",
    "\n",
    "# np_final=np_final[np_final[:1].argsort()]\n",
    "# print(np_final)"
   ]
  },
  {
   "cell_type": "code",
   "execution_count": 5,
   "metadata": {},
   "outputs": [
    {
     "name": "stdout",
     "output_type": "stream",
     "text": [
      "[(0.0, 'Aboi'), (0.0, 'Acheli'), (0.0, 'Adaba'), (0.0, 'Adava'), (0.0, 'Adijan'), (0.0, 'Adugre'), (0.0, 'Ahiapur'), (0.0, 'Aibol'), (0.0, 'Aidoba'), (0.0, 'Aigejang'), (0.0, 'Airkata'), (0.0, 'Ajgari'), (0.0, 'Akhegwo'), (0.0, 'Akri'), (0.0, 'Alampatti'), (0.0, 'Aldandi'), (0.0, 'Algara'), (0.0, 'Alipur Duar'), (0.0, 'Alipur Duar district'), (0.0, 'Alomganj'), (0.0, 'Alubaka'), (0.0, 'Aman Setu'), (0.0, 'Amba'), (0.0, 'Ambabhona'), (0.0, 'Ambari'), (0.0, 'Ambassa'), (0.0, 'Ambatanr'), (0.0, 'Ambatikar'), (0.0, 'Amethi'), (0.0, 'Ammakuan'), (0.0, 'Amroh'), (0.0, 'Amrui'), (0.0, 'Anand'), (0.0, 'Anandpur'), (0.0, 'Anantapur'), (0.0, 'Andrahal'), (0.0, 'Andro'), (0.0, 'Ankadeli'), (0.0, 'Annaram'), (0.0, 'Annasagaram'), (0.0, 'Anwarpur'), (0.0, 'Arauri'), (0.0, 'Arengdo'), (0.0, 'Arihal'), (0.0, 'Arin'), (0.0, 'Aroli'), (0.0, 'Aroor'), (0.0, 'Asifabad'), (0.0, 'Asurabandha'), (0.0, 'Atkali'), (0.0, 'Atmakur'), (0.0, 'Attamipara'), (0.0, 'Avarampalayam'), (0.0, 'Awanakhul'), (0.0, 'Awang Khunnou Salang Sabal'), (0.0, 'Awang Wabagai'), (0.0, 'Awoora'), (0.0, 'Azamnagar'), (0.0, 'Azhikode'), (0.0, 'Azmadbad'), (0.0, 'Baba Har'), (0.0, 'Bacheli Nagar'), (0.0, 'Bachroo'), (0.0, 'Badadengini'), (0.0, 'Badakihathiya'), (0.0, 'Badam'), (0.0, 'Baddi'), (0.0, 'Badedongar'), (0.0, 'Badgund'), (0.0, 'Badildih'), (0.0, 'Badtunda'), (0.0, 'Badural'), (0.0, 'Bagabandh'), (0.0, 'Bage Bar'), (0.0, 'Bagetar'), (0.0, 'Baghamara'), (0.0, 'Baghaura'), (0.0, 'Bahalhabi'), (0.0, 'Bahalpur'), (0.0, 'Bahian'), (0.0, 'Bahraich'), (0.0, 'Bailadila'), (0.0, 'Bailadilla'), (0.0, 'Bairagnia'), (0.0, 'Bajragada'), (0.0, 'Bakaliaghat'), (0.0, 'Bakshi Bigha'), (0.0, 'Bakulguri'), (0.0, 'Balaghat'), (0.0, 'Balangir'), (0.0, 'Balapam'), (0.0, 'Balar'), (0.0, 'Balaur'), (0.0, 'Baleshbahali'), (0.0, 'Balichanda'), (0.0, 'Baliguda'), (0.0, 'Balipara'), (0.0, 'Balnoi'), (0.0, 'Balrampur district'), (0.0, 'Balthara'), (0.0, 'Balu'), (0.0, 'Balud'), (0.0, 'Bamdiar'), (0.0, 'Bamdier'), (0.0, 'Banahi'), (0.0, 'Banapar'), (0.0, 'Bandeparre'), (0.0, 'Banderpora'), (0.0, 'Bandhu Bagicha'), (0.0, 'Bandhugam'), (0.0, 'Bandipara'), (0.0, 'Bandipora district'), (0.0, 'Bandirevu'), (0.0, 'Bandlapalli'), (0.0, 'Bandoora Achabal'), (0.0, 'Bandugaon'), (0.0, 'Banglwa'), (0.0, 'Bangsi Minol'), (0.0, 'Banka district'), (0.0, 'Bano'), (0.0, 'Banspal'), (0.0, 'Barabazar'), (0.0, 'Barabhum'), (0.0, 'Barachatti'), (0.0, 'Baragada'), (0.0, 'Baramula'), (0.0, 'Baramura'), (0.0, 'Baraua'), (0.0, 'Barbaspur'), (0.0, 'Barcha'), (0.0, 'Bardela'), (0.0, 'Bargarh'), (0.0, 'Barhara'), (0.0, 'Barhaula'), (0.0, 'Barheta'), (0.0, 'Barigaon'), (0.0, 'Barisa Tongri'), (0.0, 'Barki Murhai'), (0.0, 'Barkot'), (0.0, 'Barpora'), (0.0, 'Barsur'), (0.0, 'Bartala'), (0.0, 'Basantpatti Chawk'), (0.0, 'Basna'), (0.0, 'Basuachak'), (0.0, 'Batabori'), (0.0, 'Batagund'), (0.0, 'Bawegre'), (0.0, 'Bayanar'), (0.0, 'Bazaartand'), (0.0, 'Begusarai'), (0.0, 'Beheraguda'), (0.0, 'Bela'), (0.0, 'Belargara'), (0.0, 'Belgharia'), (0.0, 'Belov'), (0.0, 'Bemina'), (0.0, 'Bengenakhowa'), (0.0, 'Bengtol'), (0.0, 'Berhampur'), (0.0, 'Berhani'), (0.0, 'Betagaon'), (0.0, 'Bettiah'), (0.0, 'Bhadrachalam'), (0.0, 'Bhadutala'), (0.0, 'Bhaduwa'), (0.0, 'Bhagalpur district'), (0.0, 'Bhagirath Para'), (0.0, 'Bhairamgad'), (0.0, 'Bhaisai'), (0.0, 'Bhalui'), (0.0, 'Bhamragarh'), (0.0, 'Bhangchari'), (0.0, 'Bhansi'), (0.0, 'Bharathinagar'), (0.0, 'Bharno'), (0.0, 'Bhatar'), (0.0, 'Bhatiapar'), (0.0, 'Bhedhna'), (0.0, 'Bhejangiwada'), (0.0, 'Bheldi'), (0.0, 'Bhendatungri'), (0.0, 'Bhikki'), (0.0, 'Bhimbandh'), (0.0, 'Bhitia'), (0.0, 'Bhojo'), (0.0, 'Bhoomkar'), (0.0, 'Bhrigudas Bari'), (0.0, 'Bhulsumia'), (0.0, 'Biasipara'), (0.0, 'Bigha'), (0.0, 'Bihubor'), (0.0, 'Bijanbari'), (0.0, 'Bijapur District'), (0.0, 'Bijepar'), (0.0, 'Binnaguri'), (0.0, 'Birbanki'), (0.0, 'Birbhum district'), (0.0, 'Birikota'), (0.0, 'Birnawan'), (0.0, 'Bishenpur'), (0.0, 'Bishnugarh'), (0.0, 'Bismile'), (0.0, 'Bisrampur'), (0.0, 'Biswanath'), (0.0, 'Bitkilsoya'), (0.0, 'Bochahan'), (0.0, 'Bodapath'), (0.0, 'Bodhanam'), (0.0, 'Bodhanelli'), (0.0, 'Bodla'), (0.0, 'Bodumanupakalu'), (0.0, 'Bogul'), (0.0, 'Boildura'), (0.0, 'Boipariguda'), (0.0, 'Bojhait'), (0.0, 'Bokkingre'), (0.0, 'Bokulani'), (0.0, 'Boldak Ading'), (0.0, 'Boldamgre'), (0.0, 'Bolipukur'), (0.0, 'Bolpur'), (0.0, 'Bongbal'), (0.0, 'Bongyang'), (0.0, 'Boral'), (0.0, 'Borapadar'), (0.0, 'Brahmanpalli'), (0.0, 'Brahmapur'), (0.0, 'Budhaniya'), (0.0, 'Bugam'), (0.0, 'Buraru'), (0.0, 'Burdwan'), (0.0, 'Burhi Paimar'), (0.0, 'Burudih'), (0.0, 'Busuputtu'), (0.0, 'Buti Bori'), (0.0, 'Byrnihat'), (0.0, 'Chabbissay'), (0.0, 'Chabua'), (0.0, 'Chachapani'), (0.0, 'Chak Mangu'), (0.0, 'Chak Mohammad Yar'), (0.0, 'Chakant'), (0.0, 'Chakarbandha'), (0.0, 'Chakua'), (0.0, 'Champijang'), (0.0, 'Chanda'), (0.0, 'Chandagre'), (0.0, 'Chandanpur'), (0.0, 'Chandauli'), (0.0, 'Chandil'), (0.0, 'Chandiposh'), (0.0, 'Chandipur'), (0.0, 'Chandpal'), (0.0, 'Chandra Nagar'), (0.0, 'Chandrapur'), (0.0, 'Chandri'), (0.0, 'Chanel district'), (0.0, 'Changlang district'), (0.0, 'Chanho'), (0.0, 'Chapagedda'), (0.0, 'Chapaguri'), (0.0, 'Charai'), (0.0, 'Charaideo district'), (0.0, 'Charari Sharief'), (0.0, 'Charduar'), (0.0, 'Chargaon'), (0.0, 'Chargi'), (0.0, 'Charkapatthar'), (0.0, 'Chasang'), (0.0, 'Chatro'), (0.0, 'Chattarpur'), (0.0, 'Chauparan'), (0.0, 'Chawalgam'), (0.0, 'Chawangkining'), (0.0, 'Chegro'), (0.0, 'Chelama'), (0.0, 'Chengde'), (0.0, 'Chenmoho'), (0.0, 'Cheriya Kaiveli'), (0.0, 'Cherla'), (0.0, 'Cherlamandal'), (0.0, 'Chersoo Awantipora'), (0.0, 'Cherthala'), (0.0, 'Chevella'), (0.0, 'Chhatauni'), (0.0, 'Chhatiari'), (0.0, 'Chheribeda'), (0.0, 'Chhipadohar'), (0.0, 'Chhokarbandha'), (0.0, 'Chigitchakgre'), (0.0, 'Chilparas'), (0.0, 'Chinglangmei'), (0.0, 'Chinia Pahar'), (0.0, 'Chintalwada'), (0.0, 'Chintur'), (0.0, 'Chipakur'), (0.0, 'Chirakhuti'), (0.0, 'Chirand'), (0.0, 'Chirang'), (0.0, 'Chiringpara'), (0.0, 'Chiripar'), (0.0, 'Chirodih'), (0.0, 'Chisikgre'), (0.0, 'Chitragam'), (0.0, 'Chitrakoot district'), (0.0, 'Chitrakot'), (0.0, 'Chittarpur'), (0.0, 'Chitwan'), (0.0, 'Chiyanki'), (0.0, 'Choknyu'), (0.0, 'Chombala'), (0.0, 'Chong Ghurali'), (0.0, 'Chongpotgre'), (0.0, 'Chonha'), (0.0, 'Chope'), (0.0, 'Chormara'), (0.0, 'Chorwa'), (0.0, 'Choudwar'), (0.0, 'Chowka'), (0.0, 'Chowkham'), (0.0, 'Chowrasta'), (0.0, 'Chukitong'), (0.0, 'Chukkapur'), (0.0, 'Chuku'), (0.0, 'Chulabhat'), (0.0, 'Chunaghati'), (0.0, 'Chunar'), (0.0, 'Churegaon'), (0.0, 'Dabinggre'), (0.0, 'Dachepalle'), (0.0, 'Dadengre'), (0.0, 'Dainadubi'), (0.0, 'Daine'), (0.0, 'Daitari'), (0.0, 'Dakara'), (0.0, 'Dakshin Sole'), (0.0, 'Dalagra'), (0.0, 'Daldalkuhi'), (0.0, 'Daliakhuji'), (0.0, 'Daliam'), (0.0, 'Dalma'), (0.0, 'Dalu'), (0.0, 'Dalvash'), (0.0, 'Damas'), (0.0, 'Dambuk'), (0.0, 'Dambul Aga'), (0.0, 'Damhal Hanji Pora'), (0.0, 'Damhal-Hanjipora'), (0.0, 'Damra'), (0.0, 'Dandai'), (0.0, 'Dandipadar'), (0.0, 'Dangamati'), (0.0, 'Dangerpora'), (0.0, 'Dangia'), (0.0, 'Danktal'), (0.0, 'Darakonda'), (0.0, 'Darauli'), (0.0, 'Darbhaguda'), (0.0, 'Dariapur'), (0.0, 'Daringbadi'), (0.0, 'Darjeeling district'), (0.0, 'Darliput'), (0.0, 'Darna'), (0.0, 'Darrang District'), (0.0, 'Dashin-Sempora'), (0.0, 'Datuta'), (0.0, 'Daundih'), (0.0, 'Dautohaja'), (0.0, 'Dechilpeta'), (0.0, 'Deevakottai'), (0.0, 'Delina'), (0.0, 'Dema'), (0.0, 'Demow'), (0.0, 'Deo'), (0.0, 'Deoghar'), (0.0, 'Deoghar district'), (0.0, 'Deomali'), (0.0, 'Deori'), (0.0, 'Devaniya'), (0.0, 'Dhabi'), (0.0, 'Dhamtari district'), (0.0, 'Dhanauti'), (0.0, 'Dhanghori'), (0.0, 'Dhansa'), (0.0, 'Dhansiri'), (0.0, 'Dhanta'), (0.0, 'Dharambandha'), (0.0, 'Dharmadom'), (0.0, 'Dharmapur Char'), (0.0, 'Dharmapuri'), (0.0, 'Dhepaguda'), (0.0, 'Dhibra'), (0.0, 'Dhiri Murum'), (0.0, 'Dhobitala'), (0.0, 'Dhudhia'), (0.0, 'Dhumachara'), (0.0, 'Dhurghat'), (0.0, 'Dialgam'), (0.0, 'Diduki'), (0.0, 'Diganggre'), (0.0, 'Digh Sengaon'), (0.0, 'Dimalgaon'), (0.0, 'Dindigul district'), (0.0, 'Dingdinga'), (0.0, 'Disobai'), (0.0, 'Diva'), (0.0, 'Diwar'), (0.0, 'Dobakdrop'), (0.0, 'Dobhi'), (0.0, 'Dohni'), (0.0, 'Dokasaram'), (0.0, 'Doki'), (0.0, 'Dolaithabi'), (0.0, 'Domba'), (0.0, 'Dorba'), (0.0, 'Dorentikip'), (0.0, 'Dubluhabi'), (0.0, 'Dugaiguda'), (0.0, 'Dugdha'), (0.0, 'Duliajan'), (0.0, 'Dumari'), (0.0, 'Dumduma'), (0.0, 'Dummegudem'), (0.0, 'Dumnikura'), (0.0, 'Dumri'), (0.0, 'Dumuria'), (0.0, 'Dunbwani'), (0.0, 'Duncan Basti'), (0.0, 'Duniwara'), (0.0, 'Dwarka'), (0.0, 'Ekara'), (0.0, 'Emangre'), (0.0, 'Entaguda'), (0.0, 'Era Aning'), (0.0, 'Faileng'), (0.0, 'Farukhabad'), (0.0, 'Fatehpura'), (0.0, 'Gadtoli'), (0.0, 'Gaffabal'), (0.0, 'Gagaguro'), (0.0, 'Gaighat'), (0.0, 'Gairong'), (0.0, 'Gaitinkang'), (0.0, 'Gajanur'), (0.0, 'Galhar'), (0.0, 'Galudih'), (0.0, 'Gambhira Ghat'), (0.0, 'Ganai'), (0.0, 'Gandacherra'), (0.0, 'Ganganametta'), (0.0, 'Gangloor'), (0.0, 'Ganjam district'), (0.0, 'Ganjeipadar'), (0.0, 'Ganjemar'), (0.0, 'Gannavaram'), (0.0, 'Ganol Apal'), (0.0, 'Garhi'), (0.0, 'Garirigaon'), (0.0, 'Garu'), (0.0, 'Gattepalli'), (0.0, 'Gaurisagar'), (0.0, 'Gaurnagar'), (0.0, 'Gaya distict'), (0.0, 'Gayabari'), (0.0, 'Geedam'), (0.0, 'Gelmol'), (0.0, 'Gerua'), (0.0, 'Geyzing'), (0.0, 'Ghagara'), (0.0, 'Ghagwal'), (0.0, 'Ghanpur'), (0.0, 'Ghodparan'), (0.0, 'Ghoghi'), (0.0, 'Ghoom'), (0.0, 'Ghorparan'), (0.0, 'Ghumra'), (0.0, 'Gochhapada'), (0.0, 'Goda'), (0.0, 'Gofa Bal'), (0.0, 'Goilkera'), (0.0, 'Goiribus'), (0.0, 'Gokul'), (0.0, 'Golaghat'), (0.0, 'Golakganj'), (0.0, 'Golwara'), (0.0, 'Gomanda'), (0.0, 'Gomati district'), (0.0, 'Gonda'), (0.0, 'Gorangatilla'), (0.0, 'Gorkha'), (0.0, 'Gosain-Besra'), (0.0, 'Goshaninuagon'), (0.0, 'Gourapali'), (0.0, 'Gowasarey'), (0.0, 'Gudabeda'), (0.0, 'Gudalamveedhi'), (0.0, 'Gudem Kotha Veedhi'), (0.0, 'Guijan'), (0.0, 'Gulab Taing'), (0.0, 'Gumda'), (0.0, 'Gumia'), (0.0, 'Gumla  district'), (0.0, 'Gund'), (0.0, 'Gundijora'), (0.0, 'Guraru'), (0.0, 'Gurgaikocha'), (0.0, 'Gurpa'), (0.0, 'Gurua'), (0.0, 'Gwaltabi'), (0.0, 'Hadmamund'), (0.0, 'Hajipora Haram'), (0.0, 'Hajongpara'), (0.0, 'Hakripora'), (0.0, 'Halwara'), (0.0, 'Hanspukur'), (0.0, 'Hanuman Jhora'), (0.0, 'Haollephai'), (0.0, 'Haorang Sabal'), (0.0, 'Hapatnar'), (0.0, 'Hardodalwan'), (0.0, 'Hari Parigam'), (0.0, 'Hariharganj'), (0.0, 'Harihargunj'), (0.0, 'Harimura'), (0.0, 'Harindega'), (0.0, 'Harmain'), (0.0, 'Harta'), (0.0, 'Hatamuniguda'), (0.0, 'Hathras'), (0.0, 'Hatikhali'), (0.0, 'Hattigarh'), (0.0, 'Hawai'), (0.0, 'Hazaribag district'), (0.0, 'Hehranj'), (0.0, 'Heirok Part I'), (0.0, 'Herenchatwa'), (0.0, 'Herhanj'), (0.0, 'Hiangtam'), (0.0, 'Hisua'), (0.0, 'Hitkasa'), (0.0, 'Hiyangthang Maning Leikai'), (0.0, 'Hotwag'), (0.0, 'Howly'), (0.0, 'Hozeau'), (0.0, 'Hubli'), (0.0, 'Humahama'), (0.0, 'Hungrum'), (0.0, 'Hunterganj'), (0.0, 'Hurudunga'), (0.0, 'Hussaina Raghav'), (0.0, 'Hussainganj'), (0.0, 'Idinthakarai'), (0.0, 'Ijurupa'), (0.0, 'Imphal West District'), (0.0, 'Inavi'), (0.0, 'Irengbam'), (0.0, 'Isaipet'), (0.0, 'Islampur'), (0.0, 'Jadogre'), (0.0, 'Jadugora'), (0.0, 'Jagaddal'), (0.0, 'Jaggaiahpet'), (0.0, 'Jagiraha'), (0.0, 'Jaigir'), (0.0, 'Jaimurtinagar'), (0.0, 'Jaintia Hills district'), (0.0, 'Jaiprakash Nagar'), (0.0, 'Jaishidhi'), (0.0, 'Jajpur'), (0.0, 'Jakke'), (0.0, 'Jaksongram'), (0.0, 'Jaldega'), (0.0, 'Jaleshwar'), (0.0, 'Jalna'), (0.0, 'Jalukbari'), (0.0, 'Jalwan'), (0.0, 'Jamboni'), (0.0, 'Jambulghata'), (0.0, 'Jamdi'), (0.0, 'Jamdohora'), (0.0, 'Jamgai'), (0.0, 'Jampui'), (0.0, 'Jamunia'), (0.0, 'Jandaraguda'), (0.0, 'Jangai'), (0.0, 'Jangampal'), (0.0, 'Jangrapara'), (0.0, 'Jangur'), (0.0, 'Jankipuram'), (0.0, 'Jaram'), (0.0, 'Jaranga'), (0.0, 'Jarubachen'), (0.0, 'Jatinga'), (0.0, 'Jeeram'), (0.0, 'Jehanabad'), (0.0, 'Jekabari'), (0.0, 'Jemini'), (0.0, 'Jerko Musanga'), (0.0, 'Jeypore'), (0.0, 'Jhaldera'), (0.0, 'Jhalewara'), (0.0, 'Jhara'), (0.0, 'Jhitka'), (0.0, 'Jhorigaon'), (0.0, 'Jhoti Sahi'), (0.0, 'Jilhan'), (0.0, 'Jimalgatta'), (0.0, 'Jinganur'), (0.0, 'Jisugittam'), (0.0, 'Jobat'), (0.0, 'Jodamba'), (0.0, 'Jordag'), (0.0, 'Joypur'), (0.0, 'Jugasaipatna'), (0.0, 'Julmi'), (0.0, 'Jumra'), (0.0, 'Junpani'), (0.0, 'Jurpukhuri'), (0.0, 'Kabamarg'), (0.0, 'Kabari'), (0.0, 'Kachugaon'), (0.0, 'Kachurthal'), (0.0, 'Kadasole'), (0.0, 'Kadhaikhodra'), (0.0, 'Kadrukhuta'), (0.0, 'Kailasahar'), (0.0, 'Kaimur district'), (0.0, 'Kakiriguma'), (0.0, 'Kaklur'), (0.0, 'Kakopathar'), (0.0, 'Kakotibari'), (0.0, 'Kala Pahar'), (0.0, 'Kalaimuri'), (0.0, 'Kalakote'), (0.0, 'Kalapahar'), (0.0, 'Kalia Atal'), (0.0, 'Kalia Atala'), (0.0, 'Kaliatal'), (0.0, 'Kalijora'), (0.0, 'Kalimpong district'), (0.0, 'Kalimunda'), (0.0, 'Kallayi'), (0.0, 'Kallerikkara'), (0.0, 'Kamakhya'), (0.0, 'Kamareddy'), (0.0, 'Kambesu'), (0.0, 'Kamjong district'), (0.0, 'Kamu Maring'), (0.0, 'Kanelwan'), (0.0, 'Kangayam'), (0.0, 'Kangchup Geljang'), (0.0, 'Kanglatonbi'), (0.0, 'Kanglatongbi'), (0.0, 'Kangpokpi district'), (0.0, 'Kangvai'), (0.0, 'Kaniyaaluka'), (0.0, 'Kankapal'), (0.0, 'Kannur district'), (0.0, 'Kanta Chowk'), (0.0, 'Kantanagre'), (0.0, 'Kantapahari'), (0.0, 'Kapasiya'), (0.0, 'Kapran'), (0.0, 'Kapsi'), (0.0, 'Karaikela'), (0.0, 'Karbi Anglong'), (0.0, 'Karbindha'), (0.0, 'Karcheli'), (0.0, 'Karigaon'), (0.0, 'Karimati'), (0.0, 'Karimnagar district'), (0.0, 'Karjain'), (0.0, 'Karlapodar'), (0.0, 'Karli'), (0.0, 'Karma Lahan'), (0.0, 'Karma-Vishnupur'), (0.0, 'Karmaposh'), (0.0, 'Karrampada'), (0.0, 'Karsing'), (0.0, 'Kartalpali'), (0.0, 'Kartanpalli'), (0.0, 'Karuvarakkundu'), (0.0, 'Kasaram'), (0.0, 'Kasiabeda'), (0.0, 'Kathalguri'), (0.0, 'Kathapada'), (0.0, 'Kathor'), (0.0, 'Kathu Nangal'), (0.0, 'Kathupani'), (0.0, 'Katihar district'), (0.0, 'Katingia'), (0.0, 'Kaura'), (0.0, 'Kavarapalayam'), (0.0, 'Kawoosa Khalisa'), (0.0, 'Kechala'), (0.0, 'Keibi Heikak Mapal'), (0.0, 'Keimei'), (0.0, 'Keishamthong'), (0.0, 'Keithelmanbi'), (0.0, 'Keller'), (0.0, 'Kendrapara'), (0.0, 'Kendukona'), (0.0, 'Kenibadima'), (0.0, 'Kera Jharia'), (0.0, 'Keredari'), (0.0, 'Kesekodi'), (0.0, 'Ketaki'), (0.0, 'Ketar'), (0.0, 'Khadigram'), (0.0, 'Khair Bari'), (0.0, 'Khamdu'), (0.0, 'Khamesi'), (0.0, 'Khanapara'), (0.0, 'Khanda Khas'), (0.0, 'Khangabok'), (0.0, 'Khaparmanda-Hoiyo'), (0.0, 'Kharagpur'), (0.0, 'Kharason Salakhun Chingya'), (0.0, 'Kharati'), (0.0, 'Kharkutta'), (0.0, 'Kharond'), (0.0, 'Kharprakhol'), (0.0, 'Khawlian'), (0.0, 'Khehoyi'), (0.0, 'Khelari'), (0.0, 'Khengjang'), (0.0, 'Kheora'), (0.0, 'Kholmun'), (0.0, 'Kholvad'), (0.0, 'Khonghampat'), (0.0, 'Khongjom'), (0.0, 'Khongman'), (0.0, 'Khour'), (0.0, 'Khowja'), (0.0, 'Khudei Kunou'), (0.0, 'Khukundi'), (0.0, 'Khumbong'), (0.0, 'Khumbong Joypur Khul'), (0.0, 'Khumriyal'), (0.0, 'Khura'), (0.0, 'Khurda'), (0.0, 'Kila Shahpur'), (0.0, 'Kilor'), (0.0, 'Kinatintavida'), (0.0, 'Kiphire district'), (0.0, 'Kiriburu'), (0.0, 'Kirwala'), (0.0, 'Kishanganj district'), (0.0, 'Kisko'), (0.0, 'Kiul'), (0.0, 'Kiyamgei'), (0.0, 'Kochi'), (0.0, 'Kohka Meta'), (0.0, 'Kohkameta'), (0.0, 'Koilibeda'), (0.0, 'Kolapara'), (0.0, 'Kolleru'), (0.0, 'Konapather'), (0.0, 'Kondapur'), (0.0, 'Kondawahi'), (0.0, 'Kondre Gram Panchayat'), (0.0, 'Koothuparamba'), (0.0, 'Koram'), (0.0, 'Korbok'), (0.0, 'Koreingei'), (0.0, 'Kotagad'), (0.0, 'Kotami'), (0.0, 'Kothaguda'), (0.0, 'Kothagudem'), (0.0, 'Kotkapura'), (0.0, 'Kotshila'), (0.0, 'Kottampatty'), (0.0, 'Kottilpadu'), (0.0, 'Kotwali'), (0.0, 'Koyilot Thalikavu'), (0.0, 'Koyyuru'), (0.0, 'Kozhikode'), (0.0, 'Kralpora'), (0.0, 'Krusan'), (0.0, 'Kuchai'), (0.0, 'Kudhwan'), (0.0, 'Kudler'), (0.0, 'Kuiva Kazo'), (0.0, 'Kuju'), (0.0, 'Kukrajhar'), (0.0, 'Kuku'), (0.0, 'Kukurkund'), (0.0, 'Kulhiamunda'), (0.0, 'Kulia'), (0.0, 'Kulnung Khunou'), (0.0, 'Kumada'), (0.0, 'Kumandih'), (0.0, 'Kumdalan'), (0.0, 'Kunjikulam'), (0.0, 'Kunnoth'), (0.0, 'Kunwarpur'), (0.0, 'Kurab'), (0.0, 'Kurnapalli'), (0.0, 'Kursela'), (0.0, 'Kurshipar'), (0.0, 'Kurum'), (0.0, 'Kurumbatti'), (0.0, 'Kurumgarh'), (0.0, 'Kurushnar'), (0.0, 'Kushipora'), (0.0, 'Kusumaguda'), (0.0, 'Kutumba'), (0.0, 'Kuturia'), (0.0, 'Laban'), (0.0, 'Lad Rymbai'), (0.0, 'Ladhoura'), (0.0, 'Ladmawreng'), (0.0, 'Ladpur'), (0.0, 'Laikoiching'), (0.0, 'Lailad'), (0.0, 'Laipuli'), (0.0, 'Lakhinagar'), (0.0, 'Lakhisarai district'), (0.0, 'Lakhpadar'), (0.0, 'Lakkavarapupet'), (0.0, 'Lakshimpur'), (0.0, 'Lakshmipur'), (0.0, 'Lakshmipuram'), (0.0, 'Lalru'), (0.0, 'Laltengani'), (0.0, 'Lamdeng'), (0.0, 'Lamlai Khullen'), (0.0, 'Lammasingi'), (0.0, 'Lamsakhang'), (0.0, 'Lamshang'), (0.0, 'Lamtaput'), (0.0, 'Langate'), (0.0, 'Langjing'), (0.0, 'Lanji'), (0.0, 'Lanjigarh'), (0.0, 'Lankachen'), (0.0, 'Lat'), (0.0, 'Latehar'), (0.0, 'Lathore'), (0.0, 'Latratu'), (0.0, 'Laxman Bigha'), (0.0, 'Ledo'), (0.0, 'Leimakhong'), (0.0, 'Leimapokpam'), (0.0, 'Leingangching'), (0.0, 'Lekhepal'), (0.0, 'Lengeribori'), (0.0, 'Lenjua'), (0.0, 'Lidpura'), (0.0, 'Lilong Heinoumakhong'), (0.0, 'Lipda'), (0.0, 'Lodhasuli'), (0.0, 'Lodhoma'), (0.0, 'Logar'), (0.0, 'Loharam'), (0.0, 'Longding district'), (0.0, 'Longol'), (0.0, 'Longpi'), (0.0, 'Loran'), (0.0, 'Loria Para'), (0.0, 'Lubanglong Khunou'), (0.0, 'Luchitand'), (0.0, 'Lumding'), (0.0, 'Lumnongrim Dewlieh'), (0.0, 'Lungwa'), (0.0, 'Luwangsangbam'), (0.0, 'Machhakund'), (0.0, 'Machkund'), (0.0, 'Madhaybrar'), (0.0, 'Madhuamilan'), (0.0, 'Maduaha'), (0.0, 'Madugula'), (0.0, 'Madurai'), (0.0, 'Madurai district'), (0.0, 'Mahadev Ghat'), (0.0, 'Maharabi'), (0.0, 'Maharabi Lamkhai'), (0.0, 'Mahbubnagar district'), (0.0, 'Maheshduba'), (0.0, 'Maheshwari'), (0.0, 'Mahipani'), (0.0, 'Mahipora'), (0.0, 'Mahisabari'), (0.0, 'Mahishaur'), (0.0, 'Mahmara'), (0.0, 'Mahoba'), (0.0, 'Mahuatoli'), (0.0, 'Mahudand'), (0.0, 'Mahugayen'), (0.0, 'Maigra'), (0.0, 'Mairang'), (0.0, 'Majdia'), (0.0, 'Majhowlia'), (0.0, 'Maji Gumandi'), (0.0, 'Makhali'), (0.0, 'Makhan'), (0.0, 'Makhdumpur'), (0.0, 'Malaipattu'), (0.0, 'Malappuram'), (0.0, 'Malda Kumar Roajapara'), (0.0, 'Maldah'), (0.0, 'Maldakumar Para'), (0.0, 'Malewada'), (0.0, 'Malewahi'), (0.0, 'Malkhed'), (0.0, 'Mallom Bomdier'), (0.0, 'Malwari'), (0.0, 'Mamit district'), (0.0, 'Managiri'), (0.0, 'Manakachar'), (0.0, 'Mananpur'), (0.0, 'Mananthavady'), (0.0, 'Mandideep'), (0.0, 'Mangalnar'), (0.0, 'Manglogi'), (0.0, 'Mangnar'), (0.0, 'Mangpu'), (0.0, 'Manhe Mahugaon'), (0.0, 'Maniadih'), (0.0, 'Maniari'), (0.0, 'Manigam'), (0.0, 'Manika'), (0.0, 'Manikpur'), (0.0, 'Manjhaul'), (0.0, 'Mankeli'), (0.0, 'Mankidi'), (0.0, 'Manpur'), (0.0, 'Mansai'), (0.0, 'Mantri Pantha'), (0.0, 'Manubothulagadda'), (0.0, 'Maphou'), (0.0, 'Maragora'), (0.0, 'Marda'), (0.0, 'Marhama'), (0.0, 'Mariani'), (0.0, 'Marigaon district'), (0.0, 'Markatlola'), (0.0, 'Maroor'), (0.0, 'Marpa'), (0.0, 'Masni'), (0.0, 'Masoor'), (0.0, 'Masudan'), (0.0, 'Masuwa'), (0.0, 'Mater'), (0.0, 'Materbugh'), (0.0, 'Mathiya'), (0.0, 'Mathura'), (0.0, 'Mathurapur'), (0.0, 'Matipul'), (0.0, 'Mattini'), (0.0, 'Matwada'), (0.0, 'Mauar Khaira'), (0.0, 'Mauzam'), (0.0, 'Mawiong Rim'), (0.0, 'Mawkyrwat'), (0.0, 'Mawlai'), (0.0, 'Mawlai Nongmali'), (0.0, 'Mawpdang'), (0.0, 'Mayang Langjing'), (0.0, 'Mayyil'), (0.0, 'Mazba'), (0.0, 'McCluskieganj'), (0.0, 'Medak District'), (0.0, 'Medartari'), (0.0, 'Meghatuburu'), (0.0, 'Meja'), (0.0, 'Melakajoba'), (0.0, 'Meldoora'), (0.0, 'Mellim'), (0.0, 'Memul'), (0.0, 'Menda'), (0.0, 'Metlacheruvu'), (0.0, 'Mettupatti'), (0.0, 'Miangpadar'), (0.0, 'Mihrama'), (0.0, 'Mirzadih'), (0.0, 'Misma'), (0.0, 'Modakpal'), (0.0, 'Moga Thanda'), (0.0, 'Mohanpur Misroliya'), (0.0, 'Mohda'), (0.0, 'Moidangpok'), (0.0, 'Mokeri'), (0.0, 'Moktama'), (0.0, 'Mon district'), (0.0, 'Mongkot Chepu'), (0.0, 'Morangi'), (0.0, 'Morena'), (0.0, 'Moriakichi'), (0.0, 'Morigaon'), (0.0, 'Mosam'), (0.0, 'Motbung'), (0.0, 'Motihari'), (0.0, 'Mounasilli'), (0.0, 'Moyyalagummi'), (0.0, 'Muchnar'), (0.0, 'Mughalsarai'), (0.0, 'Mukerian'), (0.0, 'Mukinda'), (0.0, 'Mukkali'), (0.0, 'Mullanpur Garibdass'), (0.0, 'Mundher'), (0.0, 'Munga'), (0.0, 'Munidaha'), (0.0, 'Mupa'), (0.0, 'Muran'), (0.0, 'Murelguda'), (0.0, 'Murshidabad District'), (0.0, 'Musabani'), (0.0, 'Musaria Khad'), (0.0, 'Muskel'), (0.0, 'Mutanpal'), (0.0, 'Muthbharo'), (0.0, 'Mutthiganj'), (0.0, 'Muzaffarnagar'), (0.0, 'Mygrengdisa'), (0.0, 'Na Joboka'), (0.0, 'Nabha'), (0.0, 'Nadapuram'), (0.0, 'Nadaul'), (0.0, 'Nadaura'), (0.0, 'Nadda'), (0.0, 'Nagapunjee'), (0.0, 'Nagari Malpora'), (0.0, 'Nagasoreng'), (0.0, 'Nagbal'), (0.0, 'Nagla Bhandai'), (0.0, 'Nagma'), (0.0, 'Nahajia'), (0.0, 'Naharkatia'), (0.0, 'Naharup'), (0.0, 'Naibugh'), (0.0, 'Naid Khai'), (0.0, 'Nakardei'), (0.0, 'Nakkapalli'), (0.0, 'Nalli'), (0.0, 'Namblan'), (0.0, 'Namkum'), (0.0, 'Nampisha'), (0.0, 'Nangal Labana'), (0.0, 'Nangalbibra'), (0.0, 'Napet Palli'), (0.0, 'Narengi'), (0.0, 'Narganjo'), (0.0, 'Nariar'), (0.0, 'Narkatiaganj'), (0.0, 'Narki'), (0.0, 'Narotampur'), (0.0, 'Nashik'), (0.0, 'Nashkal'), (0.0, 'Natun Haza'), (0.0, 'Naudeeha Bazaar'), (0.0, 'Navani'), (0.0, 'Navhi'), (0.0, 'Navinagar'), (0.0, 'Navkania'), (0.0, 'Nawa Toli'), (0.0, 'Nawadih'), (0.0, 'Nazneenpora'), (0.0, 'Neema'), (0.0, 'Nekhavaya'), (0.0, 'Nelnar'), (0.0, 'Neloo'), (0.0, 'Nengkhra'), (0.0, 'Nengsawakse'), (0.0, 'Nepa'), (0.0, 'Nerli'), (0.0, 'New Pheijang'), (0.0, 'New Sangbar'), (0.0, 'Newari'), (0.0, 'Nhankechak'), (0.0, 'Niausa'), (0.0, 'Nihalke'), (0.0, 'Nij Dimou'), (0.0, 'Niliguda'), (0.0, 'Nimiaghat'), (0.0, 'Nizamabad District'), (0.0, 'Nongada'), (0.0, 'Nongmaikhong'), (0.0, 'Nongolpara'), (0.0, 'Nongpok Lourembam Mamang Leikai'), (0.0, 'Nongren'), (0.0, 'Nongren Chenjel'), (0.0, 'Nooranad'), (0.0, 'Noorbagh'), (0.0, 'Nuadihi'), (0.0, 'Nuagaon'), (0.0, 'Nuapari'), (0.0, 'Numaligarh'), (0.0, 'Nungba'), (0.0, 'Nungkao'), (0.0, 'Nunmai'), (0.0, 'Onakkunu'), (0.0, 'Ondrungula'), (0.0, 'Orcha'), (0.0, 'Ormanjhi'), (0.0, 'Pachmo'), (0.0, 'Padaiya'), (0.0, 'Padeli'), (0.0, 'Paderu'), (0.0, 'Padia'), (0.0, 'Padmabil'), (0.0, 'Padmagiri'), (0.0, 'Padua'), (0.0, 'Pahamsohthri'), (0.0, 'Paharpur'), (0.0, 'Pahireju'), (0.0, 'Paidimalgu'), (0.0, 'Paikan'), (0.0, 'Pakri Gudiya'), (0.0, 'Pakridayal'), (0.0, 'Palamu'), (0.0, 'Pali'), (0.0, 'Pallanwalla'), (0.0, 'Pallikunnu'), (0.0, 'Palunda'), (0.0, 'Panapur'), (0.0, 'Panasagondi'), (0.0, 'Panchala Siddha'), (0.0, 'Panchapur'), (0.0, 'Panchratna'), (0.0, 'Pandrasali'), (0.0, 'Pandu'), (0.0, 'Pangaltabi'), (0.0, 'Panhala'), (0.0, 'Panighata'), (0.0, 'Panipora'), (0.0, 'Pankadih'), (0.0, 'Panniyannur'), (0.0, 'Panoor'), (0.0, 'Panzgam'), (0.0, 'Papermetla'), (0.0, 'Paradip'), (0.0, 'Parakhowa'), (0.0, 'Paralkot'), (0.0, 'Pararya'), (0.0, 'Parasi'), (0.0, 'Parasnath'), (0.0, 'Paravur'), (0.0, 'Parchha'), (0.0, 'Pardhiyapali'), (0.0, 'Parganas district'), (0.0, 'Parihaspora'), (0.0, 'Parimpora'), (0.0, 'Parsahi'), (0.0, 'Parsawan'), (0.0, 'Parta'), (0.0, 'Pathgatha'), (0.0, 'Pathsala'), (0.0, 'Patsoi'), (0.0, 'Pattukottai'), (0.0, 'Patung'), (0.0, 'Pavagada'), (0.0, 'Payyanur'), (0.0, 'Pedaarlagudem'), (0.0, 'Pedabayalu'), (0.0, 'Pedakurti'), (0.0, 'Pedapadu'), (0.0, 'Pedavadlapudi'), (0.0, 'Pega'), (0.0, 'Pendajam'), (0.0, 'Pendri'), (0.0, 'Pengadpalli'), (0.0, 'Pengeri'), (0.0, 'Penk'), (0.0, 'Perampalli'), (0.0, 'Peravurani'), (0.0, 'Perimili'), (0.0, 'Peringom'), (0.0, 'Peringome'), (0.0, 'Periyakumati'), (0.0, 'Phagari'), (0.0, 'Phaikon'), (0.0, 'Phek'), (0.0, 'Phool Bazar'), (0.0, 'Phulbagadi'), (0.0, 'Phulkusma'), (0.0, 'Pileru'), (0.0, 'Pilibhit district'), (0.0, 'Pimpri'), (0.0, 'Pindiki'), (0.0, 'Pinjarar'), (0.0, 'Pipawar'), (0.0, 'Pipghati'), (0.0, 'Pipra'), (0.0, 'Pipra Ghat'), (0.0, 'Piri Bazar'), (0.0, 'Pirtand'), (0.0, 'Pisepara'), (0.0, 'Pitala'), (0.0, 'Pokhari'), (0.0, 'Pokharia'), (0.0, 'Pokhmgri'), (0.0, 'Pondugula'), (0.0, 'Poojali'), (0.0, 'Pookottumpadam'), (0.0, 'Poongsong'), (0.0, 'Pooniam'), (0.0, 'Poonthura'), (0.0, 'Poosari Mukku'), (0.0, 'Porsam'), (0.0, 'Posotia'), (0.0, 'Poteru'), (0.0, 'Poyiloor'), (0.0, 'Prechu'), (0.0, 'Prithwipur'), (0.0, 'Pubsilputa'), (0.0, 'Puducherry'), (0.0, 'Pujapara Dhurli'), (0.0, 'Pukhri'), (0.0, 'Pukhri Mapal'), (0.0, 'Pul Doda'), (0.0, 'Punadih'), (0.0, 'Pundari'), (0.0, 'Pungdongbam'), (0.0, 'Pungera'), (0.0, 'Punool Kurichiyil'), (0.0, 'Purakhasia'), (0.0, 'Purrur'), (0.0, 'Pusuguppa'), (0.0, 'Puswada'), (0.0, 'Puthimari Nagaon'), (0.0, 'Rachapalli'), (0.0, 'Raghunathpur'), (0.0, 'Rai'), (0.0, 'Raichur district'), (0.0, 'Raipanka'), (0.0, 'Rajabagan'), (0.0, 'Rajampet'), (0.0, 'Rajangapadar'), (0.0, 'Rajbari'), (0.0, 'Rajdhanwar'), (0.0, 'Rajgir'), (0.0, 'Rajhara'), (0.0, 'Rajiv Nagar'), (0.0, 'Rajivnagar'), (0.0, 'Rajkot'), (0.0, 'Rajla'), (0.0, 'Ramachandrapur'), (0.0, 'Ramadugu'), (0.0, 'Rambhadrapur'), (0.0, 'Ramdapara'), (0.0, 'Ramdenggonggre'), (0.0, 'Ramhari Chuba'), (0.0, 'Ramnathpur'), (0.0, 'Ramrekha Dham'), (0.0, 'Ranaba'), (0.0, 'Ranapal'), (0.0, 'Ranbir Singh Pora'), (0.0, 'Ranbir Singh Pura'), (0.0, 'Rangamati'), (0.0, 'Rangli Rangliat'), (0.0, 'Rankhom Gaon'), (0.0, 'Rapanpalli'), (0.0, 'Ratnipora'), (0.0, 'Ratu'), (0.0, 'Rauna'), (0.0, 'Raxaul'), (0.0, 'Raya Morh'), (0.0, 'Reasi district'), (0.0, 'Regadgatta'), (0.0, 'Remgre'), (0.0, 'Rerapara'), (0.0, 'Reru Chowk'), (0.0, 'Rewaghat'), (0.0, 'Ri-Bhoi district'), (0.0, 'Riangdim'), (0.0, 'Ringreygittim'), (0.0, 'Rishra'), (0.0, 'Ritu Kathalguri'), (0.0, 'Roam'), (0.0, 'Rohe'), (0.0, 'Rompalli'), (0.0, 'Rongbong'), (0.0, 'Rongding Awe'), (0.0, 'Rongdotchi'), (0.0, 'Rongge'), (0.0, 'Rongjeng'), (0.0, 'Rongkhon'), (0.0, 'Rongram'), (0.0, 'Rongrenggiri'), (0.0, 'Rongrikkimgre'), (0.0, 'Roro'), (0.0, 'Roshanganj'), (0.0, 'Rowta'), (0.0, 'Runikhata'), (0.0, 'Rupaidiha'), (0.0, 'Sadar'), (0.0, 'Sadhunara'), (0.0, 'Safapora'), (0.0, 'Sagahan'), (0.0, 'Sagolmang Mamang Leikai'), (0.0, 'Sahajpur-Sahiyaar'), (0.0, 'Sahar'), (0.0, 'Saimoh'), (0.0, 'Saint Mery Basti'), (0.0, 'Salaiya'), (0.0, 'Saliya'), (0.0, 'Salmara'), (0.0, 'Salpara'), (0.0, 'Samanda'), (0.0, 'Samnoo'), (0.0, 'Samrawan'), (0.0, 'Samurou'), (0.0, 'Sanbalijore'), (0.0, 'Sandarpuram'), (0.0, 'Sandengleli'), (0.0, 'Sandural'), (0.0, 'Sangaiprou Mamang Leikai'), (0.0, 'Sangkini Dapgre'), (0.0, 'Sangli'), (0.0, 'Sanjenbam'), (0.0, 'Santoshpur'), (0.0, 'Sapermeina'), (0.0, 'Saraikela'), (0.0, 'Saran'), (0.0, 'Saranda area'), (0.0, 'Saraun'), (0.0, 'Sarkanta'), (0.0, 'Sarnal'), (0.0, 'Sarodag'), (0.0, 'Sarpanch Para'), (0.0, 'Satbahani'), (0.0, 'Satbarwa'), (0.0, 'Satyanarayanapuram'), (0.0, 'Savalvahi'), (0.0, 'Seema'), (0.0, 'Seer'), (0.0, 'Seeram'), (0.0, 'Seijang'), (0.0, 'Senha'), (0.0, 'Serendag'), (0.0, 'Seri'), (0.0, 'Sesela'), (0.0, 'Sevanan'), (0.0, 'Sewai'), (0.0, 'Shahbajpur'), (0.0, 'Shallang'), (0.0, 'Shanti Nagar'), (0.0, 'Sheikhabigha'), (0.0, 'Sheikhbigh'), (0.0, 'Sheohar'), (0.0, 'Sheohar district'), (0.0, 'Shikaripara'), (0.0, 'Shilong'), (0.0, 'Shivnagar'), (0.0, 'Shuwa'), (0.0, 'Sibasagar district'), (0.0, 'Sibbari'), (0.0, 'Sidli'), (0.0, 'Signu'), (0.0, 'Sijhua'), (0.0, 'Sikhapalli'), (0.0, 'Sikibung'), (0.0, 'Sikid'), (0.0, 'Siksod'), (0.0, 'Siladon'), (0.0, 'Silchar'), (0.0, 'Silki'), (0.0, 'Silkigre'), (0.0, 'Silwalia'), (0.0, 'Simdega'), (0.0, 'Singabaram'), (0.0, 'Singamadgu'), (0.0, 'Singamundi'), (0.0, 'Singbuli'), (0.0, 'Singhbum District'), (0.0, 'Singjamei'), (0.0, 'Singra'), (0.0, 'Sipajhar'), (0.0, 'Sirajuli'), (0.0, 'Siribala'), (0.0, 'Sirigiri'), (0.0, 'Sirnoo'), (0.0, 'Sitpania'), (0.0, 'Sivaganga'), (0.0, 'Sivagangai district'), (0.0, 'Sivapuram'), (0.0, 'Sivasagar district'), (0.0, 'Sohbar'), (0.0, 'Sohdag Kalan'), (0.0, 'Sohra'), (0.0, 'Solabu'), (0.0, 'Solmara'), (0.0, 'Somrei'), (0.0, 'Somwarpet'), (0.0, 'Sonarpur'), (0.0, 'Sonbarsa'), (0.0, 'Sondipora'), (0.0, 'Sonepur'), (0.0, 'Songotagre'), (0.0, 'Soni'), (0.0, 'Sonpur'), (0.0, 'Soothoo'), (0.0, 'South Salmara'), (0.0, 'Sudikona'), (0.0, 'Sugnibad'), (0.0, 'Sukhia Pokhri'), (0.0, 'Sukhiapokhari'), (0.0, 'Sukna'), (0.0, 'Sumandi'), (0.0, 'Sunkadamakki'), (0.0, 'Surar'), (0.0, 'Suratgarh'), (0.0, 'Suravaram'), (0.0, 'Suriya'), (0.0, 'Swangre'), (0.0, 'Tadepalligudem'), (0.0, 'Tadoki'), (0.0, 'Tadvai'), (0.0, 'Tahakwada'), (0.0, 'Tailyadeeh Mor'), (0.0, 'Takora'), (0.0, 'Tal'), (0.0, 'Tamarhat'), (0.0, 'Tamil Nadu'), (0.0, 'Tamodi'), (0.0, 'Tandapali'), (0.0, 'Tandawa'), (0.0, 'Taningjang'), (0.0, 'Tapa'), (0.0, 'Taper'), (0.0, 'Tappar'), (0.0, 'Tarkhola'), (0.0, 'Tarrem'), (0.0, 'Tarwadeeh'), (0.0, 'Tarzoo'), (0.0, 'Teesta'), (0.0, 'Teesta Bazar'), (0.0, 'Tekanar'), (0.0, 'Tekri'), (0.0, 'Tekulagudem'), (0.0, 'Telengapada'), (0.0, 'Telengapadara'), (0.0, 'Tellapur'), (0.0, 'Tellerai'), (0.0, 'Tengakhat'), (0.0, 'Tengapukhri'), (0.0, 'Tengdongyan'), (0.0, 'Tengrari'), (0.0, 'Teokghat'), (0.0, 'Terem'), (0.0, 'Tesaphuli'), (0.0, 'Tetrain'), (0.0, 'Thaijuari'), (0.0, 'Thalassery'), (0.0, 'Thaliparamba'), (0.0, 'Thamnapokpi'), (0.0, 'Thavidissery'), (0.0, 'Thikathiya'), (0.0, 'Thingkhangpi'), (0.0, 'Thingkhongjang'), (0.0, 'Thingou'), (0.0, 'Thingtupung'), (0.0, 'Thiruparankundram'), (0.0, 'Thiruvaiyaru'), (0.0, 'Thiruvalla'), (0.0, 'Thondamuthur'), (0.0, 'Thouda Bhabok Leikai'), (0.0, 'Thudiyalur'), (0.0, 'Tihu'), (0.0, 'Tikana'), (0.0, 'Tiken Batpora'), (0.0, 'Tikhali'), (0.0, 'Tikler'), (0.0, 'Tikrikilla'), (0.0, 'Tilaiya'), (0.0, 'Tilaiya Khurd'), (0.0, 'Tilapara-Bakenang'), (0.0, 'Tilauthar'), (0.0, 'Tillayya'), (0.0, 'Timenar'), (0.0, 'Tirap district'), (0.0, 'Tirtol'), (0.0, 'Tiruppur'), (0.0, 'Tiruvallur district'), (0.0, 'Tisia'), (0.0, 'Todarmal'), (0.0, 'Todempara'), (0.0, 'Tolbung Bangla'), (0.0, 'Tondapara'), (0.0, 'Tondel'), (0.0, 'Tootigund'), (0.0, 'Topari'), (0.0, 'Torbung'), (0.0, 'Tori'), (0.0, 'Totagali'), (0.0, 'Tousem'), (0.0, 'Toylanka'), (0.0, 'Tripura'), (0.0, 'Tronglaobi'), (0.0, 'Tsunami Nagar'), (0.0, 'Tubed'), (0.0, 'Tuensang district'), (0.0, 'Tuichin'), (0.0, 'Tuieo'), (0.0, 'Tuinem'), (0.0, 'Tuisenphai'), (0.0, 'Tulsibari'), (0.0, 'Tumakuru'), (0.0, 'Tumalacheruvu'), (0.0, 'Tumdiwal'), (0.0, 'Tumlehaal'), (0.0, 'Tumlehal'), (0.0, 'Tumnoupokpi'), (0.0, 'Tundi'), (0.0, 'Tupakulagudem'), (0.0, 'Tupul'), (0.0, 'Turekela'), (0.0, 'Turka Wangam'), (0.0, 'Turki'), (0.0, 'Tuzang Vichong'), (0.0, 'Uban'), (0.0, 'Udaipur'), (0.0, 'Ujiar Behra'), (0.0, 'Ultapani'), (0.0, 'Umaria'), (0.0, 'Umsning'), (0.0, 'Upar Pakhi'), (0.0, 'Upper Mawprem'), (0.0, 'Uren'), (0.0, 'Uripok'), (0.0, 'Usoor'), (0.0, 'Usuruia'), (0.0, 'Uthangudi'), (0.0, 'Utlou'), (0.0, 'Uyyalamadugu'), (0.0, 'Vadodara'), (0.0, 'Vairagadh'), (0.0, 'Vaishali district'), (0.0, 'Valajangi'), (0.0, 'Vasco da Gama'), (0.0, 'Vatakara'), (0.0, 'Veeri'), (0.0, 'Velkanguda'), (0.0, 'Vellamunda'), (0.0, 'Velpur'), (0.0, 'Verinag'), (0.0, 'Vilaman'), (0.0, 'Villupuram'), (0.0, 'Visakhapatnam'), (0.0, 'Vishnugarh'), (0.0, 'Vishrampuri'), (0.0, 'Viswema'), (0.0, 'Vitiya'), (0.0, 'Vizianagaram'), (0.0, 'Wabagai'), (0.0, 'Wabgai Leirak'), (0.0, 'Wahibugh'), (0.0, 'Wangbal'), (0.0, 'Wangkhem'), (0.0, 'Warangal District'), (0.0, 'Watapura-Bandipura'), (0.0, 'Wayanad'), (0.0, 'Wayanad district'), (0.0, 'Wazir Bagh'), (0.0, 'Wazirganj'), (0.0, 'West Khasi Hill district'), (0.0, 'West Khasi Hills district'), (0.0, 'West Mamoroni'), (0.0, 'West Phaileng'), (0.0, 'Yadunathpur'), (0.0, 'Yadupur'), (0.0, 'Yampur'), (0.0, 'Yaripok'), (0.0, 'Yelamanda'), (0.0, 'Yelchil'), (0.0, 'Yukharia'), (0.0, 'Zalembung'), (0.0, 'Zangam'), (0.0, 'Zasoo Tahab'), (0.0, 'Zojipel'), (0.0, 'kangan'), (1.0, 'Aatpal'), (1.0, 'Adavali'), (1.0, 'Adukkamparai'), (1.0, 'Aglar'), (1.0, 'Ahem Sharief'), (1.0, 'Aimol Satu'), (1.0, 'Aishi'), (1.0, 'Aishmuqam'), (1.0, 'Alangulam'), (1.0, 'Alinagar'), (1.0, 'Alligudem'), (1.0, 'Allivagu'), (1.0, 'Almonda'), (1.0, 'Amaluma'), (1.0, 'Amdai'), (1.0, 'Amrapara'), (1.0, 'Amratola'), (1.0, 'Angul District'), (1.0, 'Anjonga'), (1.0, 'Anjrel'), (1.0, 'Araria district'), (1.0, 'Arechakanahalli'), (1.0, 'Aripal'), (1.0, 'Arra'), (1.0, 'Arrubugh'), (1.0, 'Arsa'), (1.0, 'Ashang Khullen'), (1.0, 'Ashmuji'), (1.0, 'Ashtangoo'), (1.0, 'Astan Mohalla'), (1.0, 'Aulachowka'), (1.0, 'Autipora'), (1.0, 'Awangkhul'), (1.0, 'Awek'), (1.0, 'Azad Gunj'), (1.0, 'Azamgarh'), (1.0, 'Baba Bakala'), (1.0, 'Bachay'), (1.0, 'Badapada'), (1.0, 'Badapadar'), (1.0, 'Badaspur'), (1.0, 'Badhagaon'), (1.0, 'Badhni Khurd'), (1.0, 'Badro'), (1.0, 'Badshapur'), (1.0, 'Bagaha'), (1.0, 'Bagdam district'), (1.0, 'Bagdhasba'), (1.0, 'Baghdongari'), (1.0, 'Baghmundi'), (1.0, 'Bagjhapa'), (1.0, 'Bagmara'), (1.0, 'Bagulamari'), (1.0, 'Baharampur'), (1.0, 'Bahrampora'), (1.0, 'Bailapad'), (1.0, 'Baipariguda'), (1.0, 'Bajengdoba'), (1.0, 'Bakewar'), (1.0, 'Bakra Kocha'), (1.0, 'Baksa district'), (1.0, 'Baleguda'), (1.0, 'Balgi'), (1.0, 'Bali Chapori'), (1.0, 'Balipatna'), (1.0, 'Bamuntary'), (1.0, 'Banasai'), (1.0, 'Bandala'), (1.0, 'Bande'), (1.0, 'Bandgaon'), (1.0, 'Bandhagaon'), (1.0, 'Bandua'), (1.0, 'Bandugan'), (1.0, 'Bangalbazar'), (1.0, 'Banglabhasha'), (1.0, 'Banka'), (1.0, 'Bansamawe'), (1.0, 'Banswara'), (1.0, 'Banua'), (1.0, 'Bapanapalli'), (1.0, 'Bapanpalli'), (1.0, 'Bapui'), (1.0, 'Barada'), (1.0, 'Baramunda'), (1.0, 'Barari'), (1.0, 'Barburgh'), (1.0, 'Barda'), (1.0, 'Bardhaman'), (1.0, 'Bardhaman district'), (1.0, 'Bargi'), (1.0, 'Barhi'), (1.0, 'Bariyapur'), (1.0, 'Barkol'), (1.0, 'Barthua'), (1.0, 'Barwadih'), (1.0, 'Baska'), (1.0, 'Bastanar'), (1.0, 'Bastnar'), (1.0, 'Batabari'), (1.0, 'Batala district'), (1.0, 'Bathian'), (1.0, 'Batwari'), (1.0, 'Bayyaram'), (1.0, 'Bedre'), (1.0, 'Behbeda'), (1.0, 'Bejangiwada'), (1.0, 'Bejur'), (1.0, 'Belgaon'), (1.0, 'Belkhoria'), (1.0, 'Belodi'), (1.0, 'Betul'), (1.0, 'Bewora'), (1.0, 'Bhade'), (1.0, 'Bhaini Sahib'), (1.0, 'Bhainsgaon'), (1.0, 'Bhalukbasa'), (1.0, 'Bhamragad'), (1.0, 'Bhanga'), (1.0, 'Bharwar'), (1.0, 'Bhatinda district'), (1.0, 'Bhatkal'), (1.0, 'Bhatpal'), (1.0, 'Bhawanipatna'), (1.0, 'Bhawaniram'), (1.0, 'Bhejji'), (1.0, 'Bhendikanhar'), (1.0, 'Bhitarakota'), (1.0, 'Bhiwandi'), (1.0, 'Bholi'), (1.0, 'Bhowraguri'), (1.0, 'Bhubaneswar'), (1.0, 'Bhubanpalli'), (1.0, 'Bhubhairav'), (1.0, 'Bhuli Karimpur'), (1.0, 'Bhuliabandh'), (1.0, 'Bhumma'), (1.0, 'Bhupalpally'), (1.0, 'Bidiguda'), (1.0, 'Bikrampur'), (1.0, 'Biliguda'), (1.0, 'Billhaur'), (1.0, 'Birmadal'), (1.0, 'Bishuram Basti'), (1.0, 'Bobiya'), (1.0, 'Bodadih'), (1.0, 'Bodai'), (1.0, 'Bodhi Bigha'), (1.0, 'Bokajan'), (1.0, 'Bokchung'), (1.0, 'Bollonggre Apal'), (1.0, 'Bomai'), (1.0, 'Bomia'), (1.0, 'Bommasandra'), (1.0, 'Boncherra'), (1.0, 'Boo'), (1.0, 'Borabandha'), (1.0, 'Borsad'), (1.0, 'Boulia'), (1.0, 'Bragam'), (1.0, 'Brinda'), (1.0, 'Bruj Kharon'), (1.0, 'Budarpakhar'), (1.0, 'Budhal'), (1.0, 'Budhauli'), (1.0, 'Buduguda'), (1.0, 'Bukru'), (1.0, 'Bulandshar'), (1.0, 'Bunagam'), (1.0, 'Burkapal'), (1.0, 'Busiput'), (1.0, 'Butta'), (1.0, 'Cachar District'), (1.0, 'Chairen'), (1.0, 'Chakadoba'), (1.0, 'Chakanda'), (1.0, 'Chaliama'), (1.0, 'Chalidhor'), (1.0, 'Chama'), (1.0, 'Champapur'), (1.0, 'Champhai'), (1.0, 'Chamrajnagar district'), (1.0, 'Chandebila'), (1.0, 'Chandrakona'), (1.0, 'Changangei'), (1.0, 'Changoubung'), (1.0, 'Charhi'), (1.0, 'Chariduar'), (1.0, 'Chatlapar'), (1.0, 'Chatru'), (1.0, 'Chatti'), (1.0, 'Chaukat'), (1.0, 'Chauliaganj'), (1.0, 'Chawmanu'), (1.0, 'Cheliamunda'), (1.0, 'Cheramangi'), (1.0, 'Chhallewada'), (1.0, 'Chhatarpur'), (1.0, 'Chhatra Bekra'), (1.0, 'Chhindwara'), (1.0, 'Chhota Nagra'), (1.0, 'Chiaplant'), (1.0, 'Chibinang'), (1.0, 'Chichoda'), (1.0, 'Chidabaram'), (1.0, 'Chikagaon'), (1.0, 'Chikpal'), (1.0, 'Chilgora'), (1.0, 'Chilkapalli'), (1.0, 'Chindpal'), (1.0, 'Chingai'), (1.0, 'Chingarel'), (1.0, 'Chinna Kodepal'), (1.0, 'Chinnakodepal'), (1.0, 'Chinsurah'), (1.0, 'Chintamchilika'), (1.0, 'Chintanwada'), (1.0, 'Chittariparamba'), (1.0, 'Choon'), (1.0, 'Choori'), (1.0, 'Chowdapali'), (1.0, 'Chowgul'), (1.0, 'Chunchuna'), (1.0, 'Dabra'), (1.0, 'Dadbugh'), (1.0, 'Dadha'), (1.0, 'Dadigutu'), (1.0, 'Dadri'), (1.0, 'Dailgam'), (1.0, 'Daji Badimagre'), (1.0, 'Dakadihi'), (1.0, 'Dalli Rajhara'), (1.0, 'Damagre'), (1.0, 'Dambuk Aga'), (1.0, 'Dambuk Atong'), (1.0, 'Damrancha'), (1.0, 'Danapur'), (1.0, 'Dangarpora'), (1.0, 'Dantar'), (1.0, 'Dardsun Kupwara'), (1.0, 'Daren'), (1.0, 'Darimgre'), (1.0, 'Dariyakona'), (1.0, 'Dasini'), (1.0, 'Dasmantpur'), (1.0, 'Dayaldih'), (1.0, 'Degwar'), (1.0, 'Dekapam'), (1.0, 'Depla'), (1.0, 'Dewaria'), (1.0, 'Dhabatar'), (1.0, 'Dhalbhumgarh'), (1.0, 'Dhangerpora'), (1.0, 'Dhangri'), (1.0, 'Dhansol'), (1.0, 'Dharamgarh'), (1.0, 'Dharampenta'), (1.0, 'Dharamvaram'), (1.0, 'Dharuakhaman'), (1.0, 'Dharwad'), (1.0, 'Dheena'), (1.0, 'Dhelwa Gossai'), (1.0, 'Dhilwan'), (1.0, 'Dhobipora'), (1.0, 'Dhuliput'), (1.0, 'Dhurki'), (1.0, 'Dhurli'), (1.0, 'Dhurudiamba'), (1.0, 'Diha'), (1.0, 'Dikadla'), (1.0, 'Dikom'), (1.0, 'Dima Hasao district'), (1.0, 'Dindigul'), (1.0, 'Dodi'), (1.0, 'Domgaon'), (1.0, 'Dornapal'), (1.0, 'Dotma'), (1.0, 'Drang'), (1.0, 'Drubgam'), (1.0, 'Drugmulla'), (1.0, 'Dubrajpur'), (1.0, 'Dudhapani'), (1.0, 'Dudhiras'), (1.0, 'Duler'), (1.0, 'Dulewal'), (1.0, 'Dungiwatcha'), (1.0, 'Durgapanga'), (1.0, 'Durgapur'), (1.0, 'Durgu Kondal'), (1.0, 'Durmunah'), (1.0, 'Dusura'), (1.0, 'Dwimaguri'), (1.0, 'Erbanpalli'), (1.0, 'Erla'), (1.0, 'Etkedih'), (1.0, 'Fakiragram'), (1.0, 'Farsegarh'), (1.0, 'Fattuwal'), (1.0, 'Fatuha'), (1.0, 'Gabil'), (1.0, 'Gadchirol district'), (1.0, 'Gadgadmeta'), (1.0, 'Gadhwala'), (1.0, 'Gadiras'), (1.0, 'Gaghra'), (1.0, 'Gaginangal'), (1.0, 'Gajol'), (1.0, 'Gajole'), (1.0, 'Gambhirpur'), (1.0, 'Gamharia'), (1.0, 'Gandachera'), (1.0, 'Gandhipadar'), (1.0, 'Gandiwani'), (1.0, 'Gangapur'), (1.0, 'Gargaon'), (1.0, 'Garhwa district'), (1.0, 'Garo Hills'), (1.0, 'Garra'), (1.0, 'Gatan'), (1.0, 'Gatibeda'), (1.0, 'Ghadiara'), (1.0, 'Ghat'), (1.0, 'Ghodezhari'), (1.0, 'Ghotha'), (1.0, 'Ghotpadi'), (1.0, 'Giddalur'), (1.0, 'Gidhour'), (1.0, 'Gilhari'), (1.0, 'Gindra'), (1.0, 'Gobardhana'), (1.0, 'Gohomidanga'), (1.0, 'Gokulwala'), (1.0, 'Golawand'), (1.0, 'Golbandhi'), (1.0, 'Golla Damodarpalli'), (1.0, 'Gomia'), (1.0, 'Gompilla'), (1.0, 'Gondpal'), (1.0, 'Gondpalli'), (1.0, 'Gopalpur'), (1.0, 'Gopnar'), (1.0, 'Goraya'), (1.0, 'Goreya'), (1.0, 'Gorgunda'), (1.0, 'Goripora'), (1.0, 'Gorna'), (1.0, 'Gothra'), (1.0, 'Grahampur'), (1.0, 'Greater Noida'), (1.0, 'Gudaskal'), (1.0, 'Gudoora'), (1.0, 'Gulab Bagh'), (1.0, 'Gulami Wala'), (1.0, 'Gulnaz Panzan'), (1.0, 'Gulpur'), (1.0, 'Gulzarpora'), (1.0, 'Guman'), (1.0, 'Gumang Kalaveli'), (1.0, 'Gundahur'), (1.0, 'Gunjung'), (1.0, 'Guragaon'), (1.0, 'Gyarapatti'), (1.0, 'Hadeli'), (1.0, 'Hailabandi district'), (1.0, 'Hajaichak'), (1.0, 'Hajipora'), (1.0, 'Hakajang'), (1.0, 'Haltabadla'), (1.0, 'Handibhanga'), (1.0, 'Hanumantpur'), (1.0, 'Haoreibi'), (1.0, 'Hapur'), (1.0, 'Harchowal'), (1.0, 'Hardshiva'), (1.0, 'Hardumadam'), (1.0, 'Harichandpur'), (1.0, 'Harishnagar'), (1.0, 'Harpur'), (1.0, 'Harrajpura'), (1.0, 'Harsha Shinna'), (1.0, 'Hasanpura'), (1.0, 'Hatibari'), (1.0, 'Hatwal'), (1.0, 'Hawal'), (1.0, 'Hedri'), (1.0, 'Heeramandla'), (1.0, 'Heff Shirmal'), (1.0, 'Hesakocha'), (1.0, 'Hethatoli'), (1.0, 'Hindbhati'), (1.0, 'Hira'), (1.0, 'Hirapur'), (1.0, 'Hmar Veng'), (1.0, 'Hoshiarpur'), (1.0, 'Hubbi'), (1.0, 'Hugli district'), (1.0, 'Hugrajuli'), (1.0, 'Hukumpeta'), (1.0, 'Hundung'), (1.0, 'Huralayadand'), (1.0, 'Hussainabad'), (1.0, 'Iritty'), (1.0, 'Ishuapur'), (1.0, 'Itanagar'), (1.0, 'Jabal'), (1.0, 'Jagatsinghpur district'), (1.0, 'Jahan Khelan'), (1.0, 'Jairampur'), (1.0, 'Jalaput'), (1.0, 'Jalpaiguri District'), (1.0, 'Jambiya'), (1.0, 'Jammue'), (1.0, 'Jamshedpur district'), (1.0, 'Jandiala district'), (1.0, 'Jangla'), (1.0, 'Jaynagar'), (1.0, 'Jengjal'), (1.0, 'Jerrila'), (1.0, 'Jerua'), (1.0, 'Jhagartari'), (1.0, 'Jhalian'), (1.0, 'Jhiliguda'), (1.0, 'Jholaro'), (1.0, 'Jillella'), (1.0, 'Jingamgre'), (1.0, 'Jiribam'), (1.0, 'Jiyan'), (1.0, 'Jodanga'), (1.0, 'Jojoda'), (1.0, 'Joraigaon'), (1.0, 'Jorasimar'), (1.0, 'Jori'), (1.0, 'Jorkisoli'), (1.0, 'Joynagar'), (1.0, 'Kach Dorah'), (1.0, 'Kachdaura'), (1.0, 'Kachhua'), (1.0, 'Kachumuqam'), (1.0, 'Kadgaon'), (1.0, 'Kajala'), (1.0, 'Kajishah'), (1.0, 'Kajra'), (1.0, 'Kakdwip'), (1.0, 'Kakpora'), (1.0, 'Kalaberia'), (1.0, 'Kalamidadar'), (1.0, 'Kalampur'), (1.0, 'Kalanaur'), (1.0, 'Kalantra'), (1.0, 'Kaliam'), (1.0, 'Kaller'), (1.0, 'Kalyansinghpur'), (1.0, 'Kamkanar'), (1.0, 'Kamshet'), (1.0, 'Kandanar'), (1.0, 'Kandhabudha'), (1.0, 'Kandi'), (1.0, 'Kandizal'), (1.0, 'Kandla'), (1.0, 'Kandlakunta'), (1.0, 'Kandulnar'), (1.0, 'Kang Araiyan'), (1.0, 'Kangadi'), (1.0, 'Kankerlanka'), (1.0, 'Kannauj district'), (1.0, 'Kanthapur'), (1.0, 'Kapgari'), (1.0, 'Karaki'), (1.0, 'Karanjuguda'), (1.0, 'Karchana'), (1.0, 'Karkatpalli'), (1.0, 'Karkel'), (1.0, 'Karramal'), (1.0, 'Kasawal'), (1.0, 'Kasba'), (1.0, 'Kasthiniya'), (1.0, 'Kasuguda'), (1.0, 'Katapali'), (1.0, 'Kathley'), (1.0, 'Kathlore'), (1.0, 'Katia'), (1.0, 'Katihar'), (1.0, 'Katkahi'), (1.0, 'Katlang'), (1.0, 'Katoria'), (1.0, 'Katrasoo'), (1.0, 'Kattakonda'), (1.0, 'Katulpeta'), (1.0, 'Kaurgaon'), (1.0, 'Kavathe Mahankal'), (1.0, 'Kawad'), (1.0, 'Kazidahar'), (1.0, 'Kehakavi'), (1.0, 'Kellar'), (1.0, 'Kerlapal'), (1.0, 'Ketulnar'), (1.0, 'Keudi'), (1.0, 'Keygam'), (1.0, 'Khadka'), (1.0, 'Khadpadi'), (1.0, 'Khadpani'), (1.0, 'Khairaput'), (1.0, 'Khairiput'), (1.0, 'Khajura'), (1.0, 'Khakhanda'), (1.0, 'Khaldang'), (1.0, 'Khalialbad'), (1.0, 'Khalsi Bhanga'), (1.0, 'Khammam district'), (1.0, 'Khanapur'), (1.0, 'Khandbari'), (1.0, 'Khandi'), (1.0, 'Khanewal'), (1.0, 'Khangnadesian'), (1.0, 'Khanpora'), (1.0, 'Kharod'), (1.0, 'Kharpora'), (1.0, 'Khatauli'), (1.0, 'Khati'), (1.0, 'Khayrasole'), (1.0, 'Kherem Murah'), (1.0, 'Kheriguda'), (1.0, 'Khiram'), (1.0, 'Khoupum'), (1.0, 'Khunera'), (1.0, 'Khuripani'), (1.0, 'Khutepal'), (1.0, 'Kilam-Kudur'), (1.0, 'Killamkota'), (1.0, 'Kiruphema'), (1.0, 'Koder'), (1.0, 'Koide'), (1.0, 'Koirengei'), (1.0, 'Kolabari'), (1.0, 'Kolengpara'), (1.0, 'Kollam'), (1.0, 'Kolsegudam'), (1.0, 'Komakhan'), (1.0, 'Komkang'), (1.0, 'Kommalapudi'), (1.0, 'Kommanapalli'), (1.0, 'Konanguda'), (1.0, 'Kondagaon district'), (1.0, 'Kondatikarapada'), (1.0, 'Konde-Markeli'), (1.0, 'Kongupalli'), (1.0, 'Konibal'), (1.0, 'Kopara'), (1.0, 'Koracha'), (1.0, 'Korenar'), (1.0, 'Korra'), (1.0, 'Koski Nengsat'), (1.0, 'Kotda'), (1.0, 'Kothi'), (1.0, 'Kotla'), (1.0, 'Kottacheru'), (1.0, 'Kottamateru'), (1.0, 'Kottapalli'), (1.0, 'Koyalibeda'), (1.0, 'Kuaghar'), (1.0, 'Kudumulgumma Raba'), (1.0, 'Kulabheda'), (1.0, 'Kulatoppo'), (1.0, 'Kulpora'), (1.0, 'Kultali'), (1.0, 'Kumari'), (1.0, 'Kumharbada'), (1.0, 'Kumkumpudi'), (1.0, 'Kunatubba'), (1.0, 'Kundla'), (1.0, 'Kundurwahi'), (1.0, 'Kuniyamal'), (1.0, 'Kuntwor'), (1.0, 'Kuprel'), (1.0, 'Kuripeta'), (1.0, 'Kuriwala'), (1.0, 'Kurkeda'), (1.0, 'Kurkheda'), (1.0, 'Kurmanur'), (1.0, 'Kurri'), (1.0, 'Kurub'), (1.0, 'Kuthegaon'), (1.0, 'Kwakta Awang Leikal'), (1.0, 'Kwarsi'), (1.0, 'Lachigudem'), (1.0, 'Lachragarh'), (1.0, 'Ladervat'), (1.0, 'Lahidi'), (1.0, 'Lairenkabi'), (1.0, 'Lakhari'), (1.0, 'Lakhuwal'), (1.0, 'Lakshmikantapur'), (1.0, 'Laksmanpur'), (1.0, 'Lambari'), (1.0, 'Lamka'), (1.0, 'Langeri'), (1.0, 'Langol'), (1.0, 'Langol Games'), (1.0, 'Langthabal'), (1.0, 'Langthabal Kunja'), (1.0, 'Lanjo'), (1.0, 'Lankapakalu'), (1.0, 'Lashonbi'), (1.0, 'Lassipora'), (1.0, 'Laudha'), (1.0, 'Lingapur'), (1.0, 'Lohandiguda'), (1.0, 'Loharpara'), (1.0, 'Lokaichar'), (1.0, 'Longlen'), (1.0, 'Longowal'), (1.0, 'Lotwa'), (1.0, 'Ludhiana district'), (1.0, 'Lumdiengiri'), (1.0, 'Macca'), (1.0, 'Machi Pora'), (1.0, 'Madakapadar'), (1.0, 'Madakapodur'), (1.0, 'Madar'), (1.0, 'Madhai'), (1.0, 'Madhwapur'), (1.0, 'Madimalla'), (1.0, 'Magra'), (1.0, 'Mahaguda'), (1.0, 'Mahuadangal'), (1.0, 'Mahupada'), (1.0, 'Mahuraushan'), (1.0, 'Majitha'), (1.0, 'Majuli'), (1.0, 'Makarpur'), (1.0, 'Malabati'), (1.0, 'Malahi'), (1.0, 'Malam'), (1.0, 'Malasian Bajan'), (1.0, 'Malhar'), (1.0, 'Malik Mohalla'), (1.0, 'Malnar'), (1.0, 'Manawala'), (1.0, 'Manchangiputta'), (1.0, 'Mandangre'), (1.0, 'Mandem'), (1.0, 'Manewara'), (1.0, 'Mangalkote'), (1.0, 'Manggakgre'), (1.0, 'Manidaha'), (1.0, 'Manjhi'), (1.0, 'Manloo'), (1.0, 'Mann'), (1.0, 'Manochahal Kalan'), (1.0, 'Mansa district'), (1.0, 'Mantripukhri'), (1.0, 'Mantriput'), (1.0, 'Maraiguda'), (1.0, 'Marangada'), (1.0, 'Mard'), (1.0, 'Mardrmalinga'), (1.0, 'Margherita'), (1.0, 'Markapalli'), (1.0, 'Masanpur'), (1.0, 'Masapur'), (1.0, 'Masenar'), (1.0, 'Massad'), (1.0, 'Masurtoli'), (1.0, 'Matand'), (1.0, 'Matda'), (1.0, 'Mathili'), (1.0, 'Mathili district'), (1.0, 'Mattan'), (1.0, 'Mattewal'), (1.0, 'Maulana Abdusmad'), (1.0, 'Mawbon'), (1.0, 'Mayang'), (1.0, 'Medha'), (1.0, 'Meerapur'), (1.0, 'Mehadpur'), (1.0, 'Mehma'), (1.0, 'Mehrauli'), (1.0, 'Memender'), (1.0, 'Mendhar'), (1.0, 'Mendhatola'), (1.0, 'Mendipathar'), (1.0, 'Mendra'), (1.0, 'Minapur'), (1.0, 'Mir Bazaar'), (1.0, 'Mir Mohalla Gulshanpora Tral'), (1.0, 'Mirakut'), (1.0, 'Mirganj'), (1.0, 'Mirich Gogra Mahal'), (1.0, 'Mohammadpur'), (1.0, 'Mojowal'), (1.0, 'Moran'), (1.0, 'Mordunda'), (1.0, 'Morgaon'), (1.0, 'Motphran'), (1.0, 'Muchler'), (1.0, 'Mukbi'), (1.0, 'Mukhivand'), (1.0, 'Mulle'), (1.0, 'Mundji'), (1.0, 'Muniguda'), (1.0, 'Mura'), (1.0, 'Murabani'), (1.0, 'Murari'), (1.0, 'Murdonda'), (1.0, 'Murkundo'), (1.0, 'Murran Chowk'), (1.0, 'Murumgaon'), (1.0, 'Muvattupuzha\\xa0'), (1.0, 'Mysuru'), (1.0, 'Nachou'), (1.0, 'Nachou Kwak Siphai'), (1.0, 'Nadia'), (1.0, 'Nagaon District'), (1.0, 'Nagshereen'), (1.0, 'Nahkanar'), (1.0, 'Naihati'), (1.0, 'Nakathalguri'), (1.0, 'Nalgonda'), (1.0, 'Nalkhamra'), (1.0, 'Namakkal'), (1.0, 'Namathpally'), (1.0, 'Namkonda'), (1.0, 'Namtola'), (1.0, 'Nanded'), (1.0, 'Nandhavanappatty'), (1.0, 'Nandihal'), (1.0, 'Nangapa'), (1.0, 'Narahatu'), (1.0, 'Narnaund'), (1.0, 'Nasirabad'), (1.0, 'Nasrullahpora'), (1.0, 'Nawgarha'), (1.0, 'Nayanar'), (1.0, 'Neikuppai'), (1.0, 'Nellore'), (1.0, 'Netarhat'), (1.0, 'Nilawaya'), (1.0, 'Nimatand'), (1.0, 'Nimed'), (1.0, 'Nirgundri'), (1.0, 'Nischintipur'), (1.0, 'Noida'), (1.0, 'Noney district'), (1.0, 'Nongpok Keithelmanbi'), (1.0, 'Noorpora'), (1.0, 'North Lakhimpur'), (1.0, 'Nowshera'), (1.0, 'Nuaguda'), (1.0, 'Nungkaolong'), (1.0, 'Nurmati'), (1.0, 'Obuke'), (1.0, 'Odia Pentha'), (1.0, 'Odolchua'), (1.0, 'Onegara'), (1.0, 'Padanpung'), (1.0, 'Padeda'), (1.0, 'Pakhanjur'), (1.0, 'Pakhanjure'), (1.0, 'Pakherpora'), (1.0, 'Pakuria'), (1.0, 'Palandu'), (1.0, 'Pallemadi'), (1.0, 'Palodi'), (1.0, 'Palsa'), (1.0, 'Pamgarh'), (1.0, 'Panchadumar'), (1.0, 'Pandemurga'), (1.0, 'Pandorigolan'), (1.0, 'Pangsha'), (1.0, 'Paniganda'), (1.0, 'Panki'), (1.0, 'Panso'), (1.0, 'Pantimetla'), (1.0, 'Panzer'), (1.0, 'Pararia'), (1.0, 'Parcheli'), (1.0, 'Parnashala'), (1.0, 'Parrebeda'), (1.0, 'Parsad Bigha'), (1.0, 'Parsando'), (1.0, 'Patan'), (1.0, 'Pathan Mohalla'), (1.0, 'Pathargittim'), (1.0, 'Patharpara'), (1.0, 'Patpani'), (1.0, 'Patrapali'), (1.0, 'Pattam'), (1.0, 'Pattammundai'), (1.0, 'Patthar-Lautia'), (1.0, 'Payerpati'), (1.0, 'Pedaitiki'), (1.0, 'Peddaktnta'), (1.0, 'Peddamidisileru'), (1.0, 'Peeding'), (1.0, 'Penda'), (1.0, 'Pendra'), (1.0, 'Peruru'), (1.0, 'Peteru'), (1.0, 'Pharsgaon'), (1.0, 'Pheijaton'), (1.0, 'Phek district'), (1.0, 'Phesama'), (1.0, 'Phillobari'), (1.0, 'Phulgatta'), (1.0, 'Phulwar'), (1.0, 'Pichhikoder'), (1.0, 'Pinglena'), (1.0, 'Pinjura'), (1.0, 'Pipili'), (1.0, 'Piplapadar'), (1.0, 'Pollamapalli'), (1.0, 'Porbandar'), (1.0, 'Potteru'), (1.0, 'Pragpur'), (1.0, 'Pujari Para'), (1.0, 'Pukhuria'), (1.0, 'Pulwama District'), (1.0, 'Punnur'), (1.0, 'Pupri'), (1.0, 'Purba Champaran district'), (1.0, 'Purnapani'), (1.0, 'Purul Akutpa'), (1.0, 'Rabhapara'), (1.0, 'Radhanagar'), (1.0, 'Raghuvi'), (1.0, 'Raikal'), (1.0, 'Raikia'), (1.0, 'Raimanora'), (1.0, 'Raisikah'), (1.0, 'Rajabandha'), (1.0, 'Rajahmundry'), (1.0, 'Rajhania'), (1.0, 'Rajpenta'), (1.0, 'Rama'), (1.0, 'Ramaguda'), (1.0, 'Ramgarh district'), (1.0, 'Ramgiri'), (1.0, 'Rangapara'), (1.0, 'Rangareddy'), (1.0, 'Rangatari'), (1.0, 'Ranibandh'), (1.0, 'Rankhalbasti'), (1.0, 'Rashidpur'), (1.0, 'Ratanhira'), (1.0, 'Ratlam'), (1.0, 'Ratoke'), (1.0, 'Ratu Chatti'), (1.0, 'Rawalpora'), (1.0, 'Regdagatta'), (1.0, 'Rehal'), (1.0, 'Rekhabat'), (1.0, 'Rengali'), (1.0, 'Retegaon'), (1.0, 'Revora'), (1.0, 'Rokel'), (1.0, 'Rongcheck Akong'), (1.0, 'Roorkee'), (1.0, 'Rourkela'), (1.0, 'Rupar'), (1.0, 'Sahadiar'), (1.0, 'Saim Samout'), (1.0, 'Saitola'), (1.0, 'Salakhani'), (1.0, 'Salehatu'), (1.0, 'Salem'), (1.0, 'Salem district'), (1.0, 'Saloora'), (1.0, 'Salpatra'), (1.0, 'Saluka'), (1.0, 'Samastipur district'), (1.0, 'Sambalpur'), (1.0, 'Samboora'), (1.0, 'Sameli'), (1.0, 'Sanaguchibhata'), (1.0, 'Sangaldan'), (1.0, 'Sangam Bijbehara'), (1.0, 'Sangel'), (1.0, 'Sanglow'), (1.0, 'Sangrala'), (1.0, 'Sanjapara'), (1.0, 'Sapalajhola'), (1.0, 'Saptapur'), (1.0, 'Saraikhola'), (1.0, 'Sarandi'), (1.0, 'Sargiguda'), (1.0, 'Sarhali Khurd'), (1.0, 'Sarkubandha'), (1.0, 'Sataki'), (1.0, 'Sayiwan'), (1.0, 'Sehjang'), (1.0, 'Selpang'), (1.0, 'Senapani'), (1.0, 'Sendrapalli'), (1.0, 'Senzen'), (1.0, 'Sesaput'), (1.0, 'Shamli district'), (1.0, 'Shams-ud-din Khan'), (1.0, 'Sheendara'), (1.0, 'Sheikhpora'), (1.0, 'Sheikhpura'), (1.0, 'Shekhawala'), (1.0, 'Shiekhpura'), (1.0, 'Shiromoni'), (1.0, 'Shubdani-Newa'), (1.0, 'Shyamnagar'), (1.0, 'Sidhbari'), (1.0, 'Sidpahari'), (1.0, 'Sihauta'), (1.0, 'Sijuwa'), (1.0, 'Sikarpie'), (1.0, 'Simlabazar Behguri'), (1.0, 'Sinapali'), (1.0, 'Sindi'), (1.0, 'Sindri'), (1.0, 'Singbargaon'), (1.0, 'Singhbitia'), (1.0, 'Sinpura'), (1.0, 'Siriguda'), (1.0, 'Sironcha'), (1.0, 'Sivaiya'), (1.0, 'Siwan district'), (1.0, 'Sodal'), (1.0, 'Sode'), (1.0, 'Solmari'), (1.0, 'Sonada'), (1.0, 'Sonaghati'), (1.0, 'Sondwa'), (1.0, 'Sonebhadra district'), (1.0, 'Sonpah'), (1.0, 'Sorupali'), (1.0, 'Sotha'), (1.0, 'Soura'), (1.0, 'Srigeri Pado'), (1.0, 'Sriperumbudur'), (1.0, 'Suangphuh'), (1.0, 'Sugnu'), (1.0, 'Sultanpur Lodhi'), (1.0, 'Sundarpur'), (1.0, 'Supalu'), (1.0, 'Surakonda'), (1.0, 'Sureli'), (1.0, 'Surimetta'), (1.0, 'Suryapet'), (1.0, 'Susundi'), (1.0, 'Tadubi'), (1.0, 'Takia Hail Jageer'), (1.0, 'Talacheru'), (1.0, 'Talmendri'), (1.0, 'Talwandi Rai Dado'), (1.0, 'Tamaguda'), (1.0, 'Tampargarh'), (1.0, 'Tanda'), (1.0, 'Tandra'), (1.0, 'Tanginiguda'), (1.0, 'Tankuapada'), (1.0, 'Tarigam'), (1.0, 'Tarkura'), (1.0, 'Tarzoo Sopore'), (1.0, 'Taupadar'), (1.0, 'Tekda Motla'), (1.0, 'Tekguda'), (1.0, 'Telarai'), (1.0, 'Telari'), (1.0, 'Telenpali'), (1.0, 'Teregaon'), (1.0, 'Tetam'), (1.0, 'Thakurnagar'), (1.0, 'Thathan Bujurg'), (1.0, 'Theni'), (1.0, 'Thethaitangar'), (1.0, 'Thodi'), (1.0, 'Thuvakkunnu'), (1.0, 'Tikapur'), (1.0, 'Tilaya'), (1.0, 'Tilma'), (1.0, 'Tilwani'), (1.0, 'Tippapur'), (1.0, 'Tippapuram'), (1.0, 'Tiralgarh'), (1.0, 'Tiruvannamalai'), (1.0, 'Tiskopi'), (1.0, 'Tissa'), (1.0, 'Todgatta'), (1.0, 'Todhur'), (1.0, 'Tonder'), (1.0, 'Toor'), (1.0, 'Topodisa'), (1.0, 'Trichal'), (1.0, 'Trilochanpur'), (1.0, 'Tummala'), (1.0, 'Udaygiri'), (1.0, 'Udhakay'), (1.0, 'Udhampur District'), (1.0, 'Udhonaugal'), (1.0, 'Ulung'), (1.0, 'Urubali'), (1.0, 'Usri'), (1.0, 'Uyumpok'), (1.0, 'Valakkad'), (1.0, 'Valtoha'), (1.0, 'Valugudem'), (1.0, 'Varkala'), (1.0, 'Veena'), (1.0, 'Veeravaram'), (1.0, 'Velloor'), (1.0, 'Vellore'), (1.0, 'Vessu'), (1.0, 'Virajpet'), (1.0, 'Virangatta'), (1.0, 'Virk'), (1.0, 'Visakhapatnam district'), (1.0, 'Vishakhapatnam district'), (1.0, 'Vishroo'), (1.0, 'Vyara'), (1.0, 'Wachi'), (1.0, 'Wadi'), (1.0, 'Wadoora'), (1.0, 'Wagub'), (1.0, 'Wagum'), (1.0, 'Wahabpura'), (1.0, 'Waithou'), (1.0, 'Wanjing'), (1.0, 'Wanpoh'), (1.0, 'Waribokgre'), (1.0, 'Watal Pora'), (1.0, 'Wathoo'), (1.0, 'Watregittim'), (1.0, 'West Chamaparan district'), (1.0, 'West Medinipur district'), (1.0, 'West Singhbhum'), (1.0, 'Yamrach'), (1.0, 'Yamunanagar'), (1.0, 'Yavatmal district'), (1.0, 'Yerkad'), (1.0, 'Yetnaram'), (1.0, 'Zhutovi'), (1.0, 'Zunheboto district'), (1.0, 'anantnag'), (1.0, 'guwahati'), (1.0, 'khargone'), (2.0, 'Abhayapuri'), (2.0, 'Abhoynagar'), (2.0, 'Achanbigei'), (2.0, 'Adilabad'), (2.0, 'Admadpur'), (2.0, 'Agarpara'), (2.0, 'Aizawl'), (2.0, 'Aligarh'), (2.0, 'Allika'), (2.0, 'Amapur'), (2.0, 'Amarut'), (2.0, 'Amas'), (2.0, 'Amwatiker'), (2.0, 'Anchidora'), (2.0, 'Antagarh'), (2.0, 'Ashoknagar'), (2.0, 'Atharobola'), (2.0, 'Awneera'), (2.0, 'Babupur Saraiya'), (2.0, 'Badiliguda'), (2.0, 'Badlapur'), (2.0, 'Bagdubi'), (2.0, 'Bagli'), (2.0, 'Bagnan'), (2.0, 'Bahuwara'), (2.0, 'Bakhtapur'), (2.0, 'Balaghat district'), (2.0, 'Baliapanda'), (2.0, 'Balidiha'), (2.0, 'Balipathar'), (2.0, 'Balipeta'), (2.0, 'Balla'), (2.0, 'Bamal'), (2.0, 'Bamarja'), (2.0, 'Bamundiha'), (2.0, 'Banchatra'), (2.0, 'Bandhagora'), (2.0, 'Bandra'), (2.0, 'Barahtad'), (2.0, 'Barang'), (2.0, 'Barbugh'), (2.0, 'Barhni'), (2.0, 'Batalikr'), (2.0, 'Bawan'), (2.0, 'Bechagaon'), (2.0, 'Bedlangmari'), (2.0, 'Belchar'), (2.0, 'Beliaberah'), (2.0, 'Bhagana'), (2.0, 'Bhaini Gillan'), (2.0, 'Bhanjanagar'), (2.0, 'Bhatghar'), (2.0, 'Bhimpur'), (2.0, 'Bhind'), (2.0, 'Bhubandahar'), (2.0, 'Bhula Bheda'), (2.0, 'Bihim Nallah'), (2.0, 'Bijulibon'), (2.0, 'Bilaspur'), (2.0, 'Biraguda'), (2.0, 'Bodh Gaya'), (2.0, 'Bondekera'), (2.0, 'Boodh'), (2.0, 'Bouserkuti'), (2.0, 'Buchwind'), (2.0, 'Burdwan district'), (2.0, 'Burgum'), (2.0, 'Burla'), (2.0, 'Bushertala'), (2.0, 'Buxar'), (2.0, 'Chachatgre'), (2.0, 'Chak Harbhonga'), (2.0, 'Chakkarakkal'), (2.0, 'Champajharan'), (2.0, 'Chang'), (2.0, 'Changsari'), (2.0, 'Chasingre'), (2.0, 'Chatroo'), (2.0, 'Cheema Khuddi'), (2.0, 'Chengapathar'), (2.0, 'Chhachhan Pahri'), (2.0, 'Chhatroo'), (2.0, 'Chheharta'), (2.0, 'Chhurchuriya'), (2.0, 'Chintapalle'), (2.0, 'Chirakuti'), (2.0, 'Chirugora'), (2.0, 'Chitrokonda'), (2.0, 'Chogawan'), (2.0, 'Chokpot'), (2.0, 'Chota Baghara'), (2.0, 'Chrar-e-Sharief'), (2.0, 'Chutte'), (2.0, 'Daimara'), (2.0, 'Dakra Nala'), (2.0, 'Dakshin Kanengdesha'), (2.0, 'Dandabadi'), (2.0, 'Darabhaguda'), (2.0, 'Dariba'), (2.0, 'Darla'), (2.0, 'Deepkarhar'), (2.0, 'Dengsupari'), (2.0, 'Dera Baba Nanek'), (2.0, 'Dharamkot'), (2.0, 'Dhariwal Kalan'), (2.0, 'Dherua'), (2.0, 'Dogri Pora'), (2.0, 'Dolgani'), (2.0, 'Dooru'), (2.0, 'Doyangmukh'), (2.0, 'Drusu'), (2.0, 'Duarmara'), (2.0, 'Edenbari'), (2.0, 'Ektal'), (2.0, 'Elmagunda'), (2.0, 'Emargunda'), (2.0, 'Enma'), (2.0, 'Faridkot district'), (2.0, 'Ferozepur'), (2.0, 'Fukrogora'), (2.0, 'Fundri'), (2.0, 'Gagarsulla'), (2.0, 'Garampani'), (2.0, 'Garia'), (2.0, 'Gariaband'), (2.0, 'Gariala'), (2.0, 'Garobadha'), (2.0, 'Gasupara'), (2.0, 'Gatapar'), (2.0, 'Geet'), (2.0, 'Ghagharvana'), (2.0, 'Gharyala'), (2.0, 'Goera Rongat'), (2.0, 'Goghaldiha'), (2.0, 'Gokulnagar'), (2.0, 'Golapalli'), (2.0, 'Golgoddam'), (2.0, 'Gondia'), (2.0, 'Gool'), (2.0, 'Gopalganj'), (2.0, 'Gotpalli'), (2.0, 'Govindpalli'), (2.0, 'Gudase'), (2.0, 'Gulalkandi'), (2.0, 'Gurabanda'), (2.0, 'Halwa Bilda'), (2.0, 'Hanjiwala Pattan'), (2.0, 'Hargobindpur'), (2.0, 'Hari'), (2.0, 'Harike'), (2.0, 'Hawraghat'), (2.0, 'Hayatpora'), (2.0, 'Hensala'), (2.0, 'Hundwara district'), (2.0, 'Hunsur'), (2.0, 'Huzurabad'), (2.0, 'Itki'), (2.0, 'Jabalpur'), (2.0, 'Jadalpur'), (2.0, 'Jagargonda'), (2.0, 'Jaghera'), (2.0, 'Jaintipur'), (2.0, 'Jaito'), (2.0, 'Jalandar'), (2.0, 'Jammalamadugu'), (2.0, 'Jampuijala'), (2.0, 'Jamuria'), (2.0, 'Jandiala'), (2.0, 'Jangalmahal'), (2.0, 'Janger Naar'), (2.0, 'Jantri'), (2.0, 'Jarawandi'), (2.0, 'Jeeram Ghati'), (2.0, 'Jhandoke'), (2.0, 'Jhansi'), (2.0, 'Jhargram'), (2.0, 'Jirania'), (2.0, 'Jiyanpur'), (2.0, 'Jodhpur'), (2.0, 'Joshimath'), (2.0, 'Jubaguda'), (2.0, 'Juhama'), (2.0, 'K Lhangnom'), (2.0, 'Kadaikhodra'), (2.0, 'Kadalbal'), (2.0, 'Kahra'), (2.0, 'Kakkanad'), (2.0, 'Kalahandi district'), (2.0, 'Kalamabad'), (2.0, 'Kalaroos'), (2.0, 'Kaliajhola'), (2.0, 'Kalyan Nagar'), (2.0, 'Kamanathgou'), (2.0, 'Kampumanapakala'), (2.0, 'Kanchanpur'), (2.0, 'Kanihama'), (2.0, 'Kanjikul'), (2.0, 'Kansaram'), (2.0, 'Karamidh'), (2.0, 'Kariapatti district'), (2.0, 'Karimabad'), (2.0, 'Karma'), (2.0, 'Kasom Khullen'), (2.0, 'Katama'), (2.0, 'Kathua District'), (2.0, 'Keegam'), (2.0, 'Keonjhar'), (2.0, 'Keriaguda'), (2.0, 'Khabe Rajputan'), (2.0, 'Khadaigodra'), (2.0, 'Khadgaon'), (2.0, 'Khadur Sahib'), (2.0, 'Khan Nagar'), (2.0, 'Khanpura'), (2.0, 'Khantlang'), (2.0, 'Khariaguda'), (2.0, 'Kharik'), (2.0, 'Khatkhura'), (2.0, 'Khoibu'), (2.0, 'Khonthoujam'), (2.0, 'Kirtankhali'), (2.0, 'Kishanpura'), (2.0, 'Kishtapur'), (2.0, 'Kochwahi'), (2.0, 'Kohima district'), (2.0, 'Koilamati'), (2.0, 'Koleng'), (2.0, 'Kolhapur district'), (2.0, 'Kolharia'), (2.0, 'Kommugudem'), (2.0, 'Konekode'), (2.0, 'Kongkan'), (2.0, 'Konsa'), (2.0, 'Kotagunnalu'), (2.0, 'Kotapalli'), (2.0, 'Kothilwa'), (2.0, 'Koyotand'), (2.0, 'Kralgund'), (2.0, 'Kudumuluguma'), (2.0, 'Kudur'), (2.0, 'Kuitopa village'), (2.0, 'Kujati'), (2.0, 'Kular'), (2.0, 'Kulheya'), (2.0, 'Kulipora'), (2.0, 'Kumrighata'), (2.0, 'Kundu'), (2.0, 'Kurkajhode'), (2.0, 'Kurua'), (2.0, 'Kurusnar'), (2.0, 'Kusumbha'), (2.0, 'Kutlari'), (2.0, 'Lachhman Palli'), (2.0, 'Lakhipur'), (2.0, 'Lakhni'), (2.0, 'Lasjan'), (2.0, 'Laxmipuram'), (2.0, 'Lenda'), (2.0, 'Lohara'), (2.0, 'Loka'), (2.0, 'Longding'), (2.0, 'Machchiwara'), (2.0, 'Machi'), (2.0, 'Madanpur'), (2.0, 'Madathakonda'), (2.0, 'Madegare'), (2.0, 'Madhepura'), (2.0, 'Madhuban'), (2.0, 'Madhupur'), (2.0, 'Madoke'), (2.0, 'Magurbari'), (2.0, 'Mahapur'), (2.0, 'Mahore'), (2.0, 'Maibong'), (2.0, 'Maipou Khullen'), (2.0, 'Majra Bambal'), (2.0, 'Malan Wala'), (2.0, 'Malanjkhand'), (2.0, 'Malda'), (2.0, 'Malikpora'), (2.0, 'Mangaluru'), (2.0, 'Mankachar'), (2.0, 'Manzimpora'), (2.0, 'Maoulimor'), (2.0, 'Maraigude'), (2.0, 'Maram'), (2.0, 'Margao'), (2.0, 'Mariwada'), (2.0, 'Markegaon'), (2.0, 'Maruthayil'), (2.0, 'Maruwai'), (2.0, 'Masanadi'), (2.0, 'Mazaffarnagar'), (2.0, 'Medpalli'), (2.0, 'Meduru'), (2.0, 'Michiras'), (2.0, 'Midnapore'), (2.0, 'Midnapore district'), (2.0, 'Milanpur'), (2.0, 'Minpa'), (2.0, 'Miratpur'), (2.0, 'Misri Chak'), (2.0, 'Mohali'), (2.0, 'Mohanpur'), (2.0, 'Mohmangad'), (2.0, 'Mohunpur'), (2.0, 'Moirangpurel'), (2.0, 'Mokokchung district'), (2.0, 'Molnghat'), (2.0, 'Monghama'), (2.0, 'Moniram Lakethe'), (2.0, 'Mothan Wala'), (2.0, 'Muchhal'), (2.0, 'Mudki'), (2.0, 'Muire'), (2.0, 'Muirei'), (2.0, 'Mullickpara'), (2.0, 'Munchingput'), (2.0, 'Mundaguda'), (2.0, 'Muramgaon'), (2.0, 'Murshidabad district'), (2.0, 'Muzaffarpur district'), (2.0, 'Nabarangpur'), (2.0, 'Nabokgre'), (2.0, 'Nadgaon district'), (2.0, 'Naguluru'), (2.0, 'Najafgarh'), (2.0, 'Namrup'), (2.0, 'Namtaolong'), (2.0, 'Narbal'), (2.0, 'Narsu'), (2.0, 'Nauni'), (2.0, 'Navakaniya'), (2.0, 'Nawada'), (2.0, 'Nawada district'), (2.0, 'Ngairong'), (2.0, 'Nishat'), (2.0, 'Nizamabad district'), (2.0, 'Nongkham Gamnon'), (2.0, 'North Garo Hills district'), (2.0, 'Nuapada'), (2.0, 'Nuapada district'), (2.0, 'Ompora'), (2.0, 'Orchha'), (2.0, 'Padbeda'), (2.0, 'Pakhanjore'), (2.0, 'Pakhoke'), (2.0, 'Pakur district'), (2.0, 'Palahi'), (2.0, 'Palaspal'), (2.0, 'Palhalan'), (2.0, 'Palnar'), (2.0, 'Pamrod'), (2.0, 'Panar'), (2.0, 'Panasput'), (2.0, 'Pankhwada'), (2.0, 'Pannemara'), (2.0, 'Parakkadavu'), (2.0, 'Parnot'), (2.0, 'Parswar'), (2.0, 'Patehl'), (2.0, 'Pathi'), (2.0, 'Patina'), (2.0, 'Patpuimount'), (2.0, 'Payanur'), (2.0, 'Peren district'), (2.0, 'Pherurain'), (2.0, 'Phoiding'), (2.0, 'Phulhara'), (2.0, 'Phulpur'), (2.0, 'Polampalli'), (2.0, 'Potamunda'), (2.0, 'Purushottampur'), (2.0, 'Qaimoh'), (2.0, 'Qoimoh'), (2.0, 'Radanga'), (2.0, 'Raebareli'), (2.0, 'Rafiabad'), (2.0, 'Rahon'), (2.0, 'Raidighi'), (2.0, 'Rajpeta'), (2.0, 'Rajpora Chowk'), (2.0, 'Ralingkan'), (2.0, 'Ramchandrapur'), (2.0, 'Rampura Phul'), (2.0, 'Rangkala'), (2.0, 'Rangmai'), (2.0, 'Rani Kere'), (2.0, 'Rania'), (2.0, 'Rasua'), (2.0, 'Rayagada'), (2.0, 'Redwana'), (2.0, 'Rimrangpara'), (2.0, 'Rimthiyam'), (2.0, 'Rishikesh'), (2.0, 'Rork'), (2.0, 'Rurthakalam'), (2.0, 'Sadwan'), (2.0, 'Sagipora'), (2.0, 'Sahaspur'), (2.0, 'Saichang'), (2.0, 'Saluru'), (2.0, 'Samanda Megapgre'), (2.0, 'Sanga'), (2.0, 'Sankrail'), (2.0, 'Saraikul'), (2.0, 'Sarasdagal'), (2.0, 'Sardulgarh'), (2.0, 'Sargara'), (2.0, 'Sasatgre'), (2.0, 'Satgaon'), (2.0, 'Satrah Kalan'), (2.0, 'Saujian'), (2.0, 'Saun'), (2.0, 'Sawanga'), (2.0, 'Sawargaon'), (2.0, 'Shankerpura'), (2.0, 'Shinshin'), (2.0, 'Sikandra'), (2.0, 'Sikbari'), (2.0, 'Silakota'), (2.0, 'Silda Bududih'), (2.0, 'Siliguri'), (2.0, 'Silphori'), (2.0, 'Simra Nizamat'), (2.0, 'Sindurpur'), (2.0, 'Sirsia'), (2.0, 'Sita Khunjao'), (2.0, 'Sitagaon'), (2.0, 'Siwan'), (2.0, 'Sohal'), (2.0, 'Sohara'), (2.0, 'Sonamarg'), (2.0, 'Sonda'), (2.0, 'Sondari'), (2.0, 'Sonimarg'), (2.0, 'Sri Hargobindpur'), (2.0, 'Sudhakanda'), (2.0, 'Sukki'), (2.0, 'Sulangi'), (2.0, 'Sunabeda'), (2.0, 'Sunan'), (2.0, 'Surankot district'), (2.0, 'T. Minou'), (2.0, 'Taikhang'), (2.0, 'Takahwada'), (2.0, 'Takhtu Chak'), (2.0, 'Talwandi Sabo'), (2.0, 'Tambda'), (2.0, 'Tamulpur'), (2.0, 'Tandar'), (2.0, 'Taothong'), (2.0, 'Tarem'), (2.0, 'Targadh'), (2.0, 'Tata Draman'), (2.0, 'Tekadodha'), (2.0, 'Teliamura'), (2.0, 'Tentha'), (2.0, 'Tentulia'), (2.0, 'Thangal Surung'), (2.0, 'Thapa Darenchi'), (2.0, 'Thathar'), (2.0, 'Thawaitangkhul'), (2.0, 'Thunku'), (2.0, 'Tikok'), (2.0, 'Timanpur'), (2.0, 'Tiryani'), (2.0, 'Todapur'), (2.0, 'Todke'), (2.0, 'Tokapal'), (2.0, 'Tongpal'), (2.0, 'Uttar Sonapur'), (2.0, 'Vallah'), (2.0, 'Vanimal'), (2.0, 'Venkatapur'), (2.0, 'Wadipora'), (2.0, 'Wangoi'), (2.0, 'Warangal district'), (2.0, 'Wathora'), (2.0, 'West Tripura district'), (2.0, 'Yacharam'), (2.0, 'Yairipok Bishnunaha'), (2.0, 'Yanglam Leikai'), (2.0, 'Yelahanka'), (2.0, 'Zirpora'), (2.0, 'gurdaspur district'), (3.0, 'Aankro'), (3.0, 'Adityapur'), (3.0, 'Agali'), (3.0, 'Akash Nagar'), (3.0, 'Akbarpura'), (3.0, 'Amarpatan'), (3.0, 'Amshipora'), (3.0, 'Anamtharam'), (3.0, 'Anjan'), (3.0, 'Arambagh'), (3.0, 'Atalipara'), (3.0, 'Attamohanpara'), (3.0, 'Atwal'), (3.0, 'Awapalli'), (3.0, 'Baghrai'), (3.0, 'Bagma'), (3.0, 'Bahadurpara'), (3.0, 'Baisi Munipara'), (3.0, 'Banda'), (3.0, 'Bankoot'), (3.0, 'Banksole'), (3.0, 'Bantala'), (3.0, 'Barha'), (3.0, 'Barwa'), (3.0, 'Beldih'), (3.0, 'Belh Majra'), (3.0, 'Berada'), (3.0, 'Bhadrakali'), (3.0, 'Bhalukjhora'), (3.0, 'Bhimlat'), (3.0, 'Bhojpur district'), (3.0, 'Billowan'), (3.0, 'Bishanpur'), (3.0, 'Bodhadih'), (3.0, 'Bolmoram Agalgre'), (3.0, 'Bongaigaon district'), (3.0, 'Brahma Attari'), (3.0, 'Brahmawal Tandi'), (3.0, 'Brat'), (3.0, 'Budgam district'), (3.0, 'Burgi'), (3.0, 'Chaheru'), (3.0, 'Chakai'), (3.0, 'Chandra'), (3.0, 'Charaipung Bimalapur'), (3.0, 'Chatargach'), (3.0, 'Chelakkad'), (3.0, 'Cherli'), (3.0, 'Cherpal'), (3.0, 'Chhindpal'), (3.0, 'Chilauna'), (3.0, 'Chilpara'), (3.0, 'Chitamla'), (3.0, 'Chitta'), (3.0, 'Chittoor'), (3.0, 'Choppalanka'), (3.0, 'Chuslewad'), (3.0, 'Dabnahi'), (3.0, 'Dalgaon'), (3.0, 'Damkala'), (3.0, 'Damparengpui'), (3.0, 'Dardpora'), (3.0, 'Devanchara'), (3.0, 'Devapur-Khoripakar Ghat'), (3.0, 'Dhadhi'), (3.0, 'Dhanbad'), (3.0, 'Dharmapur'), (3.0, 'Dhenkanal'), (3.0, 'Dijaobra'), (3.0, 'Dimasa Gaon'), (3.0, 'Doru'), (3.0, 'Dubaiguda'), (3.0, 'Dudhania'), (3.0, 'Dumka'), (3.0, 'Dusibandh'), (3.0, 'East Champaran district'), (3.0, 'East Singbhum district'), (3.0, 'Erlapal'), (3.0, 'Erode'), (3.0, 'Ferozepur district'), (3.0, 'Gabarapara'), (3.0, 'Gainad'), (3.0, 'Galandar Pampore'), (3.0, 'Ganakkata'), (3.0, 'Gangaloor'), (3.0, 'Ghatkesar'), (3.0, 'Ghatshila'), (3.0, 'Ghoshkata'), (3.0, 'Gidher'), (3.0, 'Gool Gulab Garh'), (3.0, 'Guga Pir'), (3.0, 'Gunthal'), (3.0, 'Guntur'), (3.0, 'Guntur district'), (3.0, 'H Mongjang'), (3.0, 'Haddal'), (3.0, 'Hajera'), (3.0, 'Haochong'), (3.0, 'Hardushoora-Sultanpora'), (3.0, 'Hooghly district'), (3.0, 'Hoshiapur District'), (3.0, 'Hulsu'), (3.0, 'Hurrapijodi'), (3.0, 'Indore'), (3.0, 'Injaram'), (3.0, 'Ishanpur'), (3.0, 'Ithai'), (3.0, 'Jagara'), (3.0, 'Jagdishpur'), (3.0, 'Jaktial'), (3.0, 'Jalandhar District'), (3.0, 'Jihuli panchayat'), (3.0, 'Jorhat'), (3.0, 'Kachi Dargah'), (3.0, 'Kaimur'), (3.0, 'Kalabani'), (3.0, 'Kalmora'), (3.0, 'Kamakhyaguri'), (3.0, 'Kamlapur'), (3.0, 'Kapurthala District'), (3.0, 'Karbu Anglong district'), (3.0, 'Karimganj'), (3.0, 'Karlapat'), (3.0, 'Karnah'), (3.0, 'Katekalyan'), (3.0, 'Kattur'), (3.0, 'Kawande'), (3.0, 'Kenduguri'), (3.0, 'Khaira'), (3.0, 'Khalsanagar-basti'), (3.0, 'Khammam'), (3.0, 'Khanpur'), (3.0, 'Khargaon'), (3.0, 'Kharik Maheshwari'), (3.0, 'Kharpani'), (3.0, 'Khejuri'), (3.0, 'Khelani'), (3.0, 'Kherapara'), (3.0, 'Khurai'), (3.0, 'Koila-Moila'), (3.0, 'Kondapara'), (3.0, 'Konkan'), (3.0, 'Koparshi'), (3.0, 'Korchi'), (3.0, 'Kotgul'), (3.0, 'Kothur'), (3.0, 'Kotma'), (3.0, 'Koyaliberda'), (3.0, 'Kralcheck Keller'), (3.0, 'Kreeri'), (3.0, 'Krishnaghati'), (3.0, 'Krishnapur'), (3.0, 'Kukanar'), (3.0, 'Kulathoor'), (3.0, 'Kunzer'), (3.0, 'Kuryapadu'), (3.0, 'Kwatha'), (3.0, 'Labpur'), (3.0, 'Lahowal'), (3.0, 'Laijang'), (3.0, 'Lakhana'), (3.0, 'Lakkavaram'), (3.0, 'Lambui'), (3.0, 'Langait'), (3.0, 'Leh'), (3.0, 'Litter'), (3.0, 'Lopoke'), (3.0, 'Macchil'), (3.0, 'Machadiha'), (3.0, 'Mahlakpur'), (3.0, 'Mahnar'), (3.0, 'Makra'), (3.0, 'Mallah'), (3.0, 'Manikpara'), (3.0, 'Mapao Khullen'), (3.0, 'Markanar'), (3.0, 'Mathamangalam'), (3.0, 'Migrendisa'), (3.0, 'Mirgund'), (3.0, 'Moirang'), (3.0, 'Mola'), (3.0, 'Mrigi'), (3.0, 'Murakati'), (3.0, 'Murdanda'), (3.0, 'Murki'), (3.0, 'Murran'), (3.0, 'Murshidabad'), (3.0, 'Murtunda'), (3.0, 'Naharjan'), (3.0, 'Naidkhai'), (3.0, 'Nalavdar'), (3.0, 'Napet'), (3.0, 'Narayanpatna'), (3.0, 'Natun Chariali'), (3.0, 'Neloura'), (3.0, 'Nikke'), (3.0, 'Nowpora'), (3.0, 'Nungadang'), (3.0, 'Ogaad'), (3.0, 'Pachra'), (3.0, 'Padiyalmetta'), (3.0, 'Pakuahat'), (3.0, 'Palamau district'), (3.0, 'Parsurampara'), (3.0, 'Patgaon'), (3.0, 'Patna district'), (3.0, 'Pazalpora'), (3.0, 'Pendhri'), (3.0, 'Pengre'), (3.0, 'Phaizol Kuki'), (3.0, 'Phraslan'), (3.0, 'Pichkudijhal'), (3.0, 'Pilkhuwa'), (3.0, 'Pipardhaba'), (3.0, 'Piparwar'), (3.0, 'Pundal'), (3.0, 'Puri district'), (3.0, 'Rama Mandi'), (3.0, 'Rameswarpur'), (3.0, 'Ramgarh'), (3.0, 'Ramnagar'), (3.0, 'Ranjia'), (3.0, 'Rasalpura'), (3.0, 'Rebana'), (3.0, 'Sahedpat'), (3.0, 'Sakira'), (3.0, 'Salbari'), (3.0, 'Salkocha'), (3.0, 'Sangma'), (3.0, 'Sankai'), (3.0, 'Santu Nangal'), (3.0, 'Sarenga'), (3.0, 'Sarvaipeta'), (3.0, 'Sawombung'), (3.0, 'Shahpur'), (3.0, 'Sibilong'), (3.0, 'Siliguri district'), (3.0, 'Singhpur'), (3.0, 'Sita Hill'), (3.0, 'Soibugh'), (3.0, 'Sootea'), (3.0, 'Sorbung'), (3.0, 'Sukanguri'), (3.0, 'Surigam'), (3.0, 'Tada'), (3.0, 'Takimari'), (3.0, 'Tanjeli'), (3.0, 'Tari'), (3.0, 'Tehri'), (3.0, 'Tetri'), (3.0, 'Thangbung Minnou'), (3.0, 'Thathian'), (3.0, 'Thema'), (3.0, 'Tikanpal'), (3.0, 'Timapur'), (3.0, 'Timmapur'), (3.0, 'Timmowal'), (3.0, 'Tiruchanur'), (3.0, 'Tiruchirappalli'), (3.0, 'Todka'), (3.0, 'Topadihi'), (3.0, 'Turpunguda'), (3.0, 'Udalguri district'), (3.0, 'Umra Nangal'), (3.0, 'Unchdih'), (3.0, 'Urahiloga'), (3.0, 'Uriamghat'), (3.0, 'Venkatapuram'), (3.0, 'Vishakhapatnam'), (3.0, 'Wadrengdisa'), (3.0, 'Wakka'), (3.0, 'Wathargam'), (3.0, 'Wawoora'), (3.0, 'Yairipok'), (3.0, 'Zacheldara'), (3.0, 'Zainapora'), (3.0, 'Zira'), (3.0, 'agartala'), (3.0, 'uri'), (4.0, 'Ajas'), (4.0, 'Anantang district'), (4.0, 'Arigam'), (4.0, 'Atal'), (4.0, 'Avangkhu'), (4.0, 'Bachuvaripalem'), (4.0, 'Baghjaan'), (4.0, 'Balachaur'), (4.0, 'Balia'), (4.0, 'Balrampur'), (4.0, 'Bandhugaon'), (4.0, 'Bania'), (4.0, 'Barabadha'), (4.0, 'Baratand'), (4.0, 'Bardum'), (4.0, 'Baridih'), (4.0, 'Basaguda'), (4.0, 'Basugaon'), (4.0, 'Battal'), (4.0, 'Bengaluru'), (4.0, 'Bhelwaghati'), (4.0, 'Bhimpura'), (4.0, 'Bilasipara'), (4.0, 'Binpur'), (4.0, 'Biridi'), (4.0, 'Bodocheka'), (4.0, 'Bonigam'), (4.0, 'Borjhar'), (4.0, 'Brahmchak'), (4.0, 'Buttar'), (4.0, 'Chakka'), (4.0, 'Chalgi'), (4.0, 'Champahaur'), (4.0, 'Chanchur'), (4.0, 'Chandabila'), (4.0, 'Charura'), (4.0, 'Chawal'), (4.0, 'Dakeya'), (4.0, 'Damara'), (4.0, 'Darbhanga'), (4.0, 'Dhalin'), (4.0, 'Dhanbad district'), (4.0, 'Dhuri'), (4.0, 'Dillipathar'), (4.0, 'Dogla Bathan'), (4.0, 'Dubli'), (4.0, 'Dubricheda'), (4.0, 'Gaichta-Dudsunbala'), (4.0, 'Garoora'), (4.0, 'Gatta'), (4.0, 'Ghari'), (4.0, 'Ghatampur'), (4.0, 'Ghoswar'), (4.0, 'Goalpara'), (4.0, 'Gonguda'), (4.0, 'Grihang'), (4.0, 'Gudur'), (4.0, 'Guram Dato Tola'), (4.0, 'Hailakandi district'), (4.0, 'Hasker'), (4.0, 'Hatimura'), (4.0, 'Henglep'), (4.0, 'Holong'), (4.0, 'Howrah'), (4.0, 'Hygam'), (4.0, 'Itkhori'), (4.0, 'Jaintia'), (4.0, 'Jalota'), (4.0, 'Jatana'), (4.0, 'Jhangerian'), (4.0, 'Jhoukhonom'), (4.0, 'Jodhan Nagri'), (4.0, 'Jogiana'), (4.0, 'Kaghaznagar'), (4.0, 'Kamalawala'), (4.0, 'Kamarpali'), (4.0, 'Kanga Gali'), (4.0, 'Kanthol'), (4.0, 'Karpi'), (4.0, 'Kashung'), (4.0, 'Keshkal'), (4.0, 'Khajuri Devda'), (4.0, 'Khera'), (4.0, 'Khulen'), (4.0, 'Kilangattur'), (4.0, 'Kiloora'), (4.0, 'Kohbarba Rasulpur'), (4.0, 'Kokpara'), (4.0, 'Kot Kapura'), (4.0, 'Kot Sukhia'), (4.0, 'Kotam'), (4.0, 'Kothapalli'), (4.0, 'Kotmara'), (4.0, 'Kralagund'), (4.0, 'Kulian'), (4.0, 'Kuligaon'), (4.0, 'Kumbhariput'), (4.0, 'Kutru'), (4.0, 'Ladakh'), (4.0, 'Latu'), (4.0, 'Lohan'), (4.0, 'Lorgam'), (4.0, 'Lukhambi'), (4.0, 'Luvishe Old'), (4.0, 'Madanwada'), (4.0, 'Madhopur'), (4.0, 'Maharbeda'), (4.0, 'Mahupadar'), (4.0, 'Malachamlan'), (4.0, 'Malotha'), (4.0, 'Mandu'), (4.0, 'Manja'), (4.0, 'Manwal'), (4.0, 'Mirtur'), (4.0, 'Monshang'), (4.0, 'Murhu'), (4.0, 'Nabadwip'), (4.0, 'Nagaon district'), (4.0, 'Naharani'), (4.0, 'Nalbari District'), (4.0, 'Nandyal District'), (4.0, 'Nartiang'), (4.0, 'Naseem Bagh'), (4.0, 'Nathnagar'), (4.0, 'Nathnusa'), (4.0, 'Nathuchak'), (4.0, 'Nauhar Kalan'), (4.0, 'Navawarian'), (4.0, 'Nemallipuri'), (4.0, 'North 24 Parganas district'), (4.0, 'Nowshehra'), (4.0, 'Pachubigha'), (4.0, 'Padgampora'), (4.0, 'Pamalwaya'), (4.0, 'Pamed'), (4.0, 'Panjora'), (4.0, 'Patamda'), (4.0, 'Patana'), (4.0, 'Patrada'), (4.0, 'Phagwara'), (4.0, 'Pirrakhuli'), (4.0, 'Pujiawali'), (4.0, 'Pulagahawella'), (4.0, 'Puri'), (4.0, 'Raghubari'), (4.0, 'Raisingh Nagar'), (4.0, 'Rajo Majra'), (4.0, 'Ramsinghdih'), (4.0, 'Ratanpur'), (4.0, 'Rongsal'), (4.0, 'Rupnagar district'), (4.0, 'Rure Kalan'), (4.0, 'Ruriwala'), (4.0, 'Safa Pora'), (4.0, 'Samastipur'), (4.0, 'Sarangma'), (4.0, 'Sarkeguda'), (4.0, 'Seraikela Kharsawan district'), (4.0, 'Sibida'), (4.0, 'Singhikhola-Laubheta'), (4.0, 'Sita'), (4.0, 'Sitamarhi'), (4.0, 'Sogam'), (4.0, 'Sri Muktsar Sahib'), (4.0, 'Sundargarh'), (4.0, 'Sursand District'), (4.0, 'Tarlaguda'), (4.0, 'Tasgaon'), (4.0, 'Tebronggre'), (4.0, 'Tengnoupal'), (4.0, 'Thiruvananthapuram'), (4.0, 'Tigri'), (4.0, 'Tilpatren'), (4.0, 'Tumnar'), (4.0, 'Ujjain'), (4.0, 'Vijaypura'), (4.0, 'Virar'), (4.0, 'Wadala Kalan'), (4.0, 'Wadwan'), (4.0, 'Wageasi'), (5.0, 'Abhapalli'), (5.0, 'Alipurduar'), (5.0, 'Ambasaramunda'), (5.0, 'Amkola'), (5.0, 'Badapokharia'), (5.0, 'Badrama'), (5.0, 'Bahajan'), (5.0, 'Balumath'), (5.0, 'Bareilly'), (5.0, 'Bariatu'), (5.0, 'Basantgarh'), (5.0, 'Begundihi'), (5.0, 'Belrisi'), (5.0, 'Bhatpar'), (5.0, 'Bhopal'), (5.0, 'Bhuski'), (5.0, 'Bidhannagar'), (5.0, 'Bijuliban'), (5.0, 'Bishenpur district'), (5.0, 'Boda'), (5.0, 'Brahmangaon'), (5.0, 'Budharpakhar'), (5.0, 'Chabilapur'), (5.0, 'Chakania'), (5.0, 'Chakla'), (5.0, 'Chanchal'), (5.0, 'Chando'), (5.0, 'Chola'), (5.0, 'Chola Sahels'), (5.0, 'Chowka More'), (5.0, 'Dangiwacha'), (5.0, 'Darapur'), (5.0, 'Davangere'), (5.0, 'Dehri Kalan'), (5.0, 'Deopani'), (5.0, 'Deri'), (5.0, 'Dhanderi'), (5.0, 'Dharampur'), (5.0, 'Dhareli'), (5.0, 'Dimapur district'), (5.0, 'Dodasan Pain'), (5.0, 'Dub'), (5.0, 'Duleena'), (5.0, 'Durg'), (5.0, 'Fakirpura'), (5.0, 'Faraspal'), (5.0, 'Fulkumari'), (5.0, 'Gangaprasadpur'), (5.0, 'Gasuapara'), (5.0, 'Ghaghra'), (5.0, 'Ghawaden Kothi'), (5.0, 'Gidhni'), (5.0, 'Gopiballavpur'), (5.0, 'Govindpur'), (5.0, 'Hajjan'), (5.0, 'Harkiliar'), (5.0, 'Hazaribagh'), (5.0, 'Hoshiapur district'), (5.0, 'Itakhola'), (5.0, 'Izzargarh'), (5.0, 'Jagdalpur'), (5.0, 'Jamalpur'), (5.0, 'Jambhal'), (5.0, 'Jamui district'), (5.0, 'Jashpur district'), (5.0, 'Jhabal Mannan'), (5.0, 'Jharaghati'), (5.0, 'Jhargram district'), (5.0, 'Jhugian'), (5.0, 'Kalachand'), (5.0, 'Kalachara'), (5.0, 'Kaliachak'), (5.0, 'Kalimpong'), (5.0, 'Kalitakuchi'), (5.0, 'Kammarpally'), (5.0, 'Kanaguda'), (5.0, 'Kandhamal district'), (5.0, 'Kangpokpi'), (5.0, 'Kanjiyaar'), (5.0, 'Kararwala'), (5.0, 'Kathalbari'), (5.0, 'Khanna'), (5.0, 'Kharjan'), (5.0, 'Komanapalli'), (5.0, 'Kosi Kalan'), (5.0, 'Kotranka'), (5.0, 'Lakhanwala'), (5.0, 'Lakhimpur District'), (5.0, 'Lakhpat'), (5.0, 'Langting'), (5.0, 'Lapnan'), (5.0, 'Laudara'), (5.0, 'Laxmanpur'), (5.0, 'Lazbal'), (5.0, 'Lilong'), (5.0, 'Litan'), (5.0, 'Lohardaga'), (5.0, 'Lolab'), (5.0, 'Longlai Hasnu'), (5.0, 'Madhyamgram'), (5.0, 'Majhauli'), (5.0, 'Mali Bigha'), (5.0, 'Manaing Khol'), (5.0, 'Mandi'), (5.0, 'Marenga'), (5.0, 'Mehanwana'), (5.0, 'Mirik'), (5.0, 'Molandhubi'), (5.0, 'Moranhat'), (5.0, 'Nadi'), (5.0, 'Nadia district'), (5.0, 'Nakulnar'), (5.0, 'Narsingbari'), (5.0, 'Nehru Park'), (5.0, 'Nongstoin'), (5.0, 'North Lakhimpur district'), (5.0, 'Oragitok'), (5.0, 'Pahki'), (5.0, 'Panchla'), (5.0, 'Panjipora'), (5.0, 'Pendodi'), (5.0, 'Philobari'), (5.0, 'Podia'), (5.0, 'Pollampalli'), (5.0, 'Pottangi'), (5.0, 'Pratappur'), (5.0, 'Purnanagar'), (5.0, 'Rahe'), (5.0, 'Raidih'), (5.0, 'Raiya'), (5.0, 'Rajouri District'), (5.0, 'Rampura'), (5.0, 'Ranapur'), (5.0, 'Rathinjaihalampara'), (5.0, 'Rongrakgre'), (5.0, 'Rooerwal'), (5.0, 'Saiko'), (5.0, 'Saikul'), (5.0, 'Sandhan'), (5.0, 'Sasaram'), (5.0, 'Sepon'), (5.0, 'Setijora'), (5.0, 'Shantipur Ultapani'), (5.0, 'Sherpur'), (5.0, 'Siju'), (5.0, 'Simaluguri'), (5.0, 'Singhpora'), (5.0, 'Sonua'), (5.0, 'Sunhpora Gohain'), (5.0, 'Tamparsingha'), (5.0, 'Tankuppa'), (5.0, 'Tendongyan'), (5.0, 'Thanabulhalampara'), (5.0, 'Tirupati'), (5.0, 'Vanala'), (5.0, 'Wakaner'), (5.0, 'Yusufpur'), (6.0, 'Amarpur'), (6.0, 'Asagoan'), (6.0, 'Aurangabad'), (6.0, 'Badarpanga'), (6.0, 'Bakuliaghat'), (6.0, 'Bala'), (6.0, 'Balarampur'), (6.0, 'Bangalwa Kareli'), (6.0, 'Barahat'), (6.0, 'Baramulla District'), (6.0, 'Baska district'), (6.0, 'Bathinda district'), (6.0, 'Beas'), (6.0, 'Becha'), (6.0, 'Belaganj'), (6.0, 'Belbari'), (6.0, 'Belsand'), (6.0, 'Bhai Ladhu'), (6.0, 'Bhaira'), (6.0, 'Bhairabkunda'), (6.0, 'Bhatinda District'), (6.0, 'Bishnah'), (6.0, 'Chainpur'), (6.0, 'Chhapra district'), (6.0, 'Cuddalore'), (6.0, 'Dariani Chapra'), (6.0, 'Dhaini Basa Singh'), (6.0, 'Dillai'), (6.0, 'Dumariyan'), (6.0, 'East Singhbhum district'), (6.0, 'Fatahpur'), (6.0, 'GK Veedhi'), (6.0, 'Gangarampur'), (6.0, 'Gorni'), (6.0, 'Gutrian'), (6.0, 'Hulong Guri'), (6.0, 'Jahanabad'), (6.0, 'Jamuguri'), (6.0, 'Janiguda'), (6.0, 'Japorigog'), (6.0, 'Jhajha'), (6.0, 'Johal'), (6.0, 'Kaler'), (6.0, 'Kamrup'), (6.0, 'Kannur'), (6.0, 'Kharouta'), (6.0, 'Kheri'), (6.0, 'Khoaani'), (6.0, 'Kiyam Siphai'), (6.0, 'Kler'), (6.0, 'Krishnanagar'), (6.0, 'Labdanguri'), (6.0, 'Lamlai'), (6.0, 'Leimaram'), (6.0, 'Lower Munda'), (6.0, 'Mainaopuri'), (6.0, 'Majitha district'), (6.0, 'Mangaldai'), (6.0, 'Manigah'), (6.0, 'Manmaru'), (6.0, 'Mirzapur'), (6.0, 'Mohabbatpur'), (6.0, 'Multijhara'), (6.0, 'Murliguda'), (6.0, 'Mustapur'), (6.0, 'Nabuke'), (6.0, 'Nachala'), (6.0, 'Naipura'), (6.0, 'Nandyal'), (6.0, 'Nashla'), (6.0, 'Nayan Guri'), (6.0, 'Noney'), (6.0, 'Nongdam Tangkhul'), (6.0, 'Pahloo'), (6.0, 'Pallanwala'), (6.0, 'Palliwalli'), (6.0, 'Pandori'), (6.0, 'Panimur'), (6.0, 'Panjwar'), (6.0, 'Paraiya'), (6.0, 'Pariya'), (6.0, 'Parsauni'), (6.0, 'Pattan district'), (6.0, 'Puhroo'), (6.0, 'Punniya'), (6.0, 'Raibari'), (6.0, 'Rongara'), (6.0, 'Sailen'), (6.0, 'Sakohan'), (6.0, 'Salbani'), (6.0, 'Salboni'), (6.0, 'Sambalpur district'), (6.0, 'Santarampada'), (6.0, 'Sarai Amanat Khan'), (6.0, 'Sarju'), (6.0, 'Sarowala'), (6.0, 'Sarulia'), (6.0, 'Satnaur'), (6.0, 'Simlapal'), (6.0, 'Simuluguri'), (6.0, 'Sono'), (6.0, 'Souch Palpora'), (6.0, 'Tamahart'), (6.0, 'Thinda'), (6.0, 'Tipaimukh'), (6.0, 'Tirupattur'), (6.0, 'Umrangso'), (6.0, 'Unchapur'), (6.0, 'Veelu'), (6.0, 'Wagad'), (6.0, 'Wangjing'), (6.0, 'Watargam'), (6.0, 'srinagar'), (7.0, 'Adilabad District'), (7.0, 'Akhnoor'), (7.0, 'Ambajhari'), (7.0, 'Amjharia'), (7.0, 'Anandabajarin Gobardhan'), (7.0, 'Anantnag District'), (7.0, 'Ara'), (7.0, 'Babrala'), (7.0, 'Bagbinda'), (7.0, 'Balhama'), (7.0, 'Balimela'), (7.0, 'Bawianwali Balaggan'), (7.0, 'Behiang'), (7.0, 'Bhaga Purana'), (7.0, 'Bhikhiwind'), (7.0, 'Bhodiwala'), (7.0, 'Bokob'), (7.0, 'Bongaigaon District'), (7.0, 'Borkhola'), (7.0, 'Budha Pahad'), (7.0, 'Bun Doda'), (7.0, 'Chamol'), (7.0, 'Chetag'), (7.0, 'Chitrakonda'), (7.0, 'Chushul'), (7.0, 'Dadamchilmi'), (7.0, 'Dadsara'), (7.0, 'Daiphang'), (7.0, 'Darpora'), (7.0, 'Dasanapura'), (7.0, 'Deepsinghwalla'), (7.0, 'Dhalai District'), (7.0, 'Dokmoka'), (7.0, 'Dudu'), (7.0, 'Dumka district'), (7.0, 'Esuwagaon'), (7.0, 'Faridkot District'), (7.0, 'Fatwal'), (7.0, 'Frisal'), (7.0, 'Ganjiwada'), (7.0, 'Gherimandi'), (7.0, 'Goalpara district'), (7.0, 'Godda'), (7.0, 'Gohalwad'), (7.0, 'Gulab Singh Wala'), (7.0, 'Hasanganj'), (7.0, 'Humhama'), (7.0, 'Impui'), (7.0, 'Jadigittim'), (7.0, 'Kala Afghana'), (7.0, 'Kamjong'), (7.0, 'Kanaudha'), (7.0, 'Ketkii'), (7.0, 'Khair'), (7.0, 'Khosa'), (7.0, 'Khrew'), (7.0, 'Kishtwar district'), (7.0, 'Kurmol'), (7.0, 'Lakshmanpur'), (7.0, 'Lalpora'), (7.0, 'Leh district'), (7.0, 'Madded'), (7.0, 'Madora'), (7.0, 'Mahadev'), (7.0, 'Mansa'), (7.0, 'Masiri'), (7.0, 'Mazbat'), (7.0, 'Medinipur'), (7.0, 'Mehtiana'), (7.0, 'Melaghar'), (7.0, 'Mettewal'), (7.0, 'Mirhama'), (7.0, 'Motipur'), (7.0, 'Muradnagar'), (7.0, 'Nalbari district'), (7.0, 'Nallalalam'), (7.0, 'Navsari'), (7.0, 'Neel'), (7.0, 'Nengpatchi'), (7.0, 'New Heaven'), (7.0, 'Noorpur'), (7.0, 'Pahoo'), (7.0, 'Pakhiriguri'), (7.0, 'Pallel'), (7.0, 'Pathara'), (7.0, 'Pattapani'), (7.0, 'Pokharibandha'), (7.0, 'Pombai'), (7.0, 'Qadian'), (7.0, 'Rainawari'), (7.0, 'Rajapalayam'), (7.0, 'Rakhal Dubi'), (7.0, 'Ramban'), (7.0, 'Ramlal'), (7.0, 'Rangjuli'), (7.0, 'Ratnal'), (7.0, 'Rerwa'), (7.0, 'Rohtas district'), (7.0, 'Saderkoot Payeen'), (7.0, 'Sajik Tampak'), (7.0, 'Sekmai'), (7.0, 'Shahpur Jajan'), (7.0, 'Sher Bagh'), (7.0, 'Sherghati'), (7.0, 'Songsak'), (7.0, 'Sopore district'), (7.0, 'South 24 Parganas district'), (7.0, 'Sunki'), (7.0, 'Tandwa'), (7.0, 'Tarkundi'), (7.0, 'Tindol'), (7.0, 'Trehgam'), (7.0, 'Trimblii'), (7.0, 'Udhoke'), (7.0, 'Vihokhu'), (7.0, 'kokrajhar district'), (8.0, 'Ashmuqam'), (8.0, 'Bagha Purana'), (8.0, 'Bahbon'), (8.0, 'Bajala'), (8.0, 'Barobisha'), (8.0, 'Batachipur'), (8.0, 'Beerwah'), (8.0, 'Belpahari'), (8.0, 'Bhur Tinali'), (8.0, 'Buhuyan'), (8.0, 'Bundu'), (8.0, 'Chandel'), (8.0, 'Chandwa'), (8.0, 'Chatra'), (8.0, 'Chilpaka'), (8.0, 'Dantewara'), (8.0, 'Darbhanga district'), (8.0, 'Dhaliwal'), (8.0, 'Dibrugarh district'), (8.0, 'Erauri'), (8.0, 'Ganderbal'), (8.0, 'Giridh district'), (8.0, 'Haflong'), (8.0, 'Hajan'), (8.0, 'Harangajao'), (8.0, 'Harkhui'), (8.0, 'Hazrapara'), (8.0, 'Hesatu'), (8.0, 'Imam Sahib'), (8.0, 'Ind'), (8.0, 'Kanker'), (8.0, 'Kanpur'), (8.0, 'Kathua district'), (8.0, 'Khilchian'), (8.0, 'Koil'), (8.0, 'Kokrodpalli'), (8.0, 'Kondagaon'), (8.0, 'Kot Budha'), (8.0, 'Kundar'), (8.0, 'Lakhimpur'), (8.0, 'Loki'), (8.0, 'Lungsung'), (8.0, 'Mahamani'), (8.0, 'Majhaulia'), (8.0, 'Majuli Bargora'), (8.0, 'Makhu'), (8.0, 'Margooz'), (8.0, 'Matribugh'), (8.0, 'Mayurbhanj'), (8.0, 'Mazhom'), (8.0, 'Mithapur'), (8.0, 'Nirala Kalkot'), (8.0, 'Noonmati'), (8.0, 'Pastun'), (8.0, 'Payal'), (8.0, 'Pipli'), (8.0, 'Rijatipet'), (8.0, 'Rutian'), (8.0, 'Salakati'), (8.0, 'Sangrampur'), (8.0, 'Satrandi'), (8.0, 'Semkhor'), (8.0, 'Semthan'), (8.0, 'Senapati'), (8.0, 'Sharinwala'), (8.0, 'Sheeri'), (8.0, 'Sopore District'), (8.0, 'Srirampur'), (8.0, 'Sundargarh district'), (8.0, 'Surat'), (8.0, 'Talwada'), (8.0, 'Tangla'), (8.0, 'Tarahati Kalinzar'), (8.0, 'Tarigonda'), (8.0, 'Tarsikka'), (8.0, 'Tengnoupal district'), (8.0, 'Thajiwara Achabal'), (8.0, 'Thakur Bigha'), (8.0, 'Thanlon'), (8.0, 'Tujar'), (8.0, 'Tura'), (8.0, 'Udham Singh Nagar'), (8.0, 'Vidyanagar'), (8.0, 'Zewan'), (9.0, 'Balapara'), (9.0, 'Barbil'), (9.0, 'Bardiha'), (9.0, 'Beliabera'), (9.0, 'Bhuragaon'), (9.0, 'Borguda'), (9.0, 'Cheemapat'), (9.0, 'Churachandpur'), (9.0, 'Damhal Hanjipora'), (9.0, 'Darhal'), (9.0, 'Devar Lolab'), (9.0, 'Dhurai Sambrai'), (9.0, 'Dudhiyatadi'), (9.0, 'Goreswar'), (9.0, 'Hadawadi'), (9.0, 'Hiranagar'), (9.0, 'Jafla'), (9.0, 'Jambani'), (9.0, 'Kaloosa'), (9.0, 'Kathikund'), (9.0, 'Keran'), (9.0, 'Kherawali'), (9.0, 'Kilariapur'), (9.0, 'Machareddi'), (9.0, 'Machil'), (9.0, 'Makum'), (9.0, 'Manatu'), (9.0, 'Mand'), (9.0, 'Manu'), (9.0, 'Maredumili'), (9.0, 'Masanya'), (9.0, 'Mehsana'), (9.0, 'Mir Bazar'), (9.0, 'Motu'), (9.0, 'Mumuri'), (9.0, 'Naholia'), (9.0, 'Narkopi'), (9.0, 'Paluru'), (9.0, 'Perambalur'), (9.0, 'Pusparampara'), (9.0, 'Raiboga'), (9.0, 'Raipur'), (9.0, 'Rupnagar'), (9.0, 'Sagolmang'), (9.0, 'Sangrur District'), (9.0, 'Sarupathar'), (9.0, 'Satnala'), (9.0, 'Sudhpora'), (9.0, 'Sugandha'), (9.0, 'Telibagh'), (9.0, 'Thane'), (9.0, 'Tripalpur'), (9.0, 'Tuilaphai'), (9.0, 'Tusjar'), (9.0, 'Tvi Chakmabari'), (9.0, 'Wasoora'), (9.0, 'Zokhawthar'), (10.0, 'Anantapur district'), (10.0, 'Aranpur'), (10.0, 'Bagrakote'), (10.0, 'Baloda Bazar'), (10.0, 'Bandlamudi'), (10.0, 'Bhagalpur'), (10.0, 'Bhakar'), (10.0, 'Bodhrajpada'), (10.0, 'Cachar district'), (10.0, 'Chalita Bankur'), (10.0, 'Chindgarh'), (10.0, 'Chitrkonda'), (10.0, 'Chogbasta'), (10.0, 'Doldoli'), (10.0, 'Etapalli'), (10.0, 'Eturunagaram'), (10.0, 'Gandoh Bhalessa'), (10.0, 'Gasbari'), (10.0, 'Goaltore'), (10.0, 'Gujarpura'), (10.0, 'Gulmarg'), (10.0, 'Guwahati district'), (10.0, 'Iptagura'), (10.0, 'Jabdi'), (10.0, 'Jagun'), (10.0, 'Kab'), (10.0, 'Kada Viohan'), (10.0, 'Kamanar'), (10.0, 'Kharacho'), (10.0, 'Kistaram'), (10.0, 'Kohali'), (10.0, 'Kotta Gol Shah'), (10.0, 'Lariyar'), (10.0, 'Lokchao'), (10.0, 'Maheshpur'), (10.0, 'Maman'), (10.0, 'Manipur'), (10.0, 'Manjakot'), (10.0, 'Masli'), (10.0, 'Modasa'), (10.0, 'Munger'), (10.0, 'Nagrota'), (10.0, 'Nandigram'), (10.0, 'Nayagram'), (10.0, 'Nginu'), (10.0, 'Nongalbibra'), (10.0, 'Pangzam'), (10.0, 'Pasumpon'), (10.0, 'Ramapuram'), (10.0, 'Rasong'), (10.0, 'Sagolia'), (10.0, 'Samba district'), (10.0, 'Sansara'), (10.0, 'Shantipara'), (10.0, 'Sirsa'), (10.0, 'Sriguhphara'), (10.0, 'Thanamandi'), (10.0, 'Timilwada'), (10.0, 'Vijayapura'), (10.0, 'nalbari district'), (10.0, 'runikhata'), (11.0, 'Alawalpur'), (11.0, 'Bangwani'), (11.0, 'Barkunda'), (11.0, 'Bhairamgarh'), (11.0, 'Bhela'), (11.0, 'Bijni'), (11.0, 'Bogribari'), (11.0, 'Darmian'), (11.0, 'Dhanora'), (11.0, 'East Garo Hills district'), (11.0, 'Gathalpadar'), (11.0, 'Gharmura'), (11.0, 'Gretabal'), (11.0, 'Gujarpur'), (11.0, 'Hathikhali'), (11.0, 'Hejampura'), (11.0, 'Jamaslan'), (11.0, 'Jamnijara'), (11.0, 'Kakapora'), (11.0, 'Kalikewal'), (11.0, 'Kareili'), (11.0, 'Kheroni'), (11.0, 'Konunghamang'), (11.0, 'Kuminkadi'), (11.0, 'Lengdenpokse'), (11.0, 'Lethapora'), (11.0, 'Londa'), (11.0, 'Mahagama'), (11.0, 'Manmao'), (11.0, 'Mardapal'), (11.0, 'Mayang Imphal'), (11.0, 'Nagpur'), (11.0, 'Nambol'), (11.0, 'Ningthoukom'), (11.0, 'Patakota'), (11.0, 'Rajoke'), (11.0, 'Ramgaon'), (11.0, 'Rayagada district'), (11.0, 'Rohini'), (11.0, 'Sajjar'), (11.0, 'Senapati district'), (11.0, 'Sidhuwadona'), (11.0, 'Tangmarg'), (11.0, 'Tulana'), (11.0, 'Ujani'), (11.0, 'Usur'), (11.0, 'Wangehuk'), (11.0, 'batala'), (12.0, 'Ashpur'), (12.0, 'Barama'), (12.0, 'Bariarpur'), (12.0, 'Bastar'), (12.0, 'Bermo'), (12.0, 'Bhopalpatnam'), (12.0, 'Bogund'), (12.0, 'Chanapora'), (12.0, 'Charar-i-Sharif'), (12.0, 'Darrang district'), (12.0, 'Dhansirighat'), (12.0, 'Dhemaji'), (12.0, 'Dhupdhara'), (12.0, 'Gazole'), (12.0, 'Halewara'), (12.0, 'Imamganj'), (12.0, 'Isri'), (12.0, 'Janbazpora'), (12.0, 'Kantakobrapara'), (12.0, 'Karampada'), (12.0, 'Keonjhar district'), (12.0, 'Khowai'), (12.0, 'Kot Dhara'), (12.0, 'Kudhur'), (12.0, 'Lalitpur'), (12.0, 'Loto'), (12.0, 'Ludhiana District'), (12.0, 'Machuri'), (12.0, 'Misadui'), (12.0, 'Mohorcherra'), (12.0, 'Muzaffarpur'), (12.0, 'Rajpora'), (12.0, 'Raniganj'), (12.0, 'Rhotas'), (12.0, 'Shingiari Chowk'), (12.0, 'South Tripura district'), (12.0, 'Sri Ganganagar'), (12.0, 'Sunderbani'), (12.0, 'Tarkhan Majra'), (12.0, 'Thuth Dhandari'), (12.0, 'Tronglow-Kanghphal'), (12.0, 'Vizianagaram district'), (13.0, 'Agartala district'), (13.0, 'Ajarbal'), (13.0, 'Ayodhya'), (13.0, 'Bampu'), (13.0, 'Bangdar'), (13.0, 'Belthu'), (13.0, 'Bhairopura'), (13.0, 'Boko'), (13.0, 'Chursoo'), (13.0, 'Donkarayi'), (13.0, 'Gajapati district'), (13.0, 'Gatam'), (13.0, 'Goh'), (13.0, 'Heirok'), (13.0, 'Jagdev Kalan'), (13.0, 'Joupi'), (13.0, 'Karbi Anglong District'), (13.0, 'Karmuwal'), (13.0, 'Kasiyar'), (13.0, 'Khagrabari'), (13.0, 'Kumakoleng'), (13.0, 'Kumbi'), (13.0, 'Kwatha Lamkhai'), (13.0, 'Marah'), (13.0, 'Mungabhumi'), (13.0, 'Munger district'), (13.0, 'Pantha Chowk'), (13.0, 'Phulbari'), (13.0, 'Rasulpur'), (13.0, 'Ratantola'), (13.0, 'Shillong'), (13.0, 'Tamenglong'), (13.0, 'Thub'), (13.0, 'Urmar Tanda'), (13.0, 'West Garo Hills district'), (14.0, 'Aheri'), (14.0, 'Arai Mila'), (14.0, 'Athiabari'), (14.0, 'Bacheli'), (14.0, 'Basudebpur'), (14.0, 'Bhumka Maligaon'), (14.0, 'Bordumsa'), (14.0, 'Chirang district'), (14.0, 'Cholnar'), (14.0, 'Cuttack'), (14.0, 'Dharmari'), (14.0, 'Garhwa'), (14.0, 'Giridih'), (14.0, 'Golaghat district'), (14.0, 'Howrah district'), (14.0, 'Ishber'), (14.0, 'Karimanagar district'), (14.0, 'Kirandul'), (14.0, 'Laxmipur'), (14.0, 'Maloke'), (14.0, 'Mandi Pora'), (14.0, 'Michidui'), (14.0, 'Shajroo'), (14.0, 'Simdega district'), (14.0, 'South Garo Hills district'), (14.0, 'Sunder Chak'), (14.0, 'Swaram'), (14.0, 'Williamnagar'), (15.0, 'Arnia'), (15.0, 'Asansol'), (15.0, 'Asarfi'), (15.0, 'Barshala'), (15.0, 'Bhojpur'), (15.0, 'Changlangshu'), (15.0, 'Damuku'), (15.0, 'Dhubri'), (15.0, 'East Garo Hills'), (15.0, 'Enayetpur'), (15.0, 'Gelapukhuri'), (15.0, 'Gurdaspur District'), (15.0, 'Keshpur'), (15.0, 'Khudwani'), (15.0, 'Kokrajhar District'), (15.0, 'Konta'), (15.0, 'Kotalpakur'), (15.0, 'Kulangam'), (15.0, 'Kumarpara'), (15.0, 'Makri Jhoda'), (15.0, 'Maladhara'), (15.0, 'Malerkotla'), (15.0, 'Manikonta'), (15.0, 'Nowgam'), (15.0, 'Ongole'), (15.0, 'Palamu district'), (15.0, 'Rhotas district'), (15.0, 'Saloha'), (15.0, 'Silanibari'), (15.0, 'Sonepat'), (15.0, 'Sriperumpudur'), (15.0, 'Uttar Borbil'), (16.0, 'Badampura'), (16.0, 'Balisang'), (16.0, 'Baltal'), (16.0, 'Chak Gujran'), (16.0, 'Chenani'), (16.0, 'Dhupguri'), (16.0, 'Gendabari'), (16.0, 'Gokulpar'), (16.0, 'Gumla'), (16.0, 'Hazaribagh district'), (16.0, 'Hojai'), (16.0, 'Imphal East district'), (16.0, 'Kahlil'), (16.0, 'Khagaria district'), (16.0, 'Kokernag'), (16.0, 'Kuakonda'), (16.0, 'Mohra Bachai'), (16.0, 'Nakodar'), (16.0, 'Palampur'), (16.0, 'Purna'), (16.0, 'Purulia'), (16.0, 'Rampur District'), (16.0, 'Ramsoo'), (16.0, 'Soupi'), (16.0, 'Thepaichurara'), (16.0, 'Trunde'), (16.0, 'Urguttu'), (16.0, 'Zainakote'), (17.0, 'Banduan'), (17.0, 'Barpeta district'), (17.0, 'Bishramganj'), (17.0, 'Chabala'), (17.0, 'Chhapra'), (17.0, 'Dholabari'), (17.0, 'Gagran'), (17.0, 'Ghodagaon'), (17.0, 'Hiroli'), (17.0, 'Jagtial'), (17.0, 'Khoiphuta'), (17.0, 'Maibang'), (17.0, 'Medinipur district'), (17.0, 'Sangrama'), (17.0, 'Vazhapadi'), (17.0, 'Yaripora'), (18.0, 'Arwani'), (18.0, 'Banur'), (18.0, 'Bheji'), (18.0, 'Chandrapura'), (18.0, 'Churchu'), (18.0, 'Dailongjhar'), (18.0, 'Desapani'), (18.0, 'Dhanyarukhi'), (18.0, 'Dimtal'), (18.0, 'Doboka'), (18.0, 'Gaya'), (18.0, 'Ghawanda devi'), (18.0, 'Goriwan'), (18.0, 'Karakagudem'), (18.0, 'Khudengthabi'), (18.0, 'Laheri'), (18.0, 'Lakhisarai'), (18.0, 'Malkangiri district'), (18.0, 'Matha'), (18.0, 'Maur'), (18.0, 'Missamari'), (18.0, 'Pangot'), (18.0, 'Parmandal'), (18.0, 'Ramaram'), (18.0, 'Reasi'), (18.0, 'Rohtak'), (18.0, 'Shrotidar'), (18.0, 'Sikaripara'), (18.0, 'Thoubal'), (18.0, 'Vanlaiphai'), (19.0, 'Arrah'), (19.0, 'Ayatpur'), (19.0, 'Chatra district'), (19.0, 'Digboi'), (19.0, 'Gatta Badshah'), (19.0, 'Gaya district'), (19.0, 'Gelnel'), (19.0, 'Hisar'), (19.0, 'Imphal West district'), (19.0, 'Kupwara District'), (19.0, 'Nayabasti'), (19.0, 'Poona'), (19.0, 'Raipur district'), (19.0, 'Rajpur'), (19.0, 'Ratzul'), (19.0, 'Siala'), (19.0, 'Sidhwan'), (19.0, 'Ukhrul'), (20.0, 'Athgaon'), (20.0, 'Bashirhat'), (20.0, 'Bengpukhuri'), (20.0, 'Chandel district'), (20.0, 'Dhariwal'), (20.0, 'Doda District'), (20.0, 'East Godavari district'), (20.0, 'Fatasil Ambari'), (20.0, 'Gauripar'), (20.0, 'Hemalkasa'), (20.0, 'Ikhu'), (20.0, 'Jhiri'), (20.0, 'Khanabal'), (20.0, 'Khargone'), (20.0, 'Lehota'), (20.0, 'Mogsangei'), (20.0, 'Poonch District'), (20.0, 'Poonch district'), (20.0, 'Risgaon'), (20.0, 'Sirhind'), (20.0, 'Sonari'), (21.0, 'Ajmer'), (21.0, 'Avaniyapuram'), (21.0, 'Belatikri'), (21.0, 'Beleswar'), (21.0, 'Bokaro district'), (21.0, 'Boro Chenam'), (21.0, 'Chilkhari'), (21.0, 'Damanjodi'), (21.0, 'Digdol'), (21.0, 'Faridkot'), (21.0, 'Hangalpawa'), (21.0, 'Kapurthala'), (21.0, 'Khunti'), (21.0, 'Mohara'), (21.0, 'Purulia district'), (21.0, 'Rampur'), (21.0, 'Samba'), (21.0, 'Singur'), (21.0, 'Tinsukia District'), (21.0, 'Zakura'), (22.0, 'Amarkot'), (22.0, 'Barasat'), (22.0, 'Bathinda'), (22.0, 'Bustar'), (22.0, 'Chandpara'), (22.0, 'Fimnacherra'), (22.0, 'Kalimela'), (22.0, 'Kargil District'), (22.0, 'Koraput'), (22.0, 'Lasana'), (22.0, 'Machilipatnam'), (22.0, 'Mankote'), (22.0, 'Nawapind Shokian'), (22.0, 'North Tripura district'), (22.0, 'Peramagauda'), (22.0, 'Srinagar district'), (22.0, 'Tangdhar'), (23.0, 'Allahabad'), (23.0, 'Bastar district'), (23.0, 'Bishnupur district'), (23.0, 'Jaunpur'), (23.0, 'Kendumundi'), (23.0, 'Mandai'), (23.0, 'Odsa'), (23.0, 'Panchkula'), (23.0, 'Rosera'), (23.0, 'Sandeshkhali'), (23.0, 'Wandhama'), (23.0, 'new delhi'), (24.0, 'Bhikhowal'), (24.0, 'Chaki Natnusa'), (24.0, 'Chintagudem'), (24.0, 'Dhemaji district'), (24.0, 'Dudhnoi'), (24.0, 'Gangalur'), (24.0, 'Jahanabad district'), (24.0, 'Lalgarh'), (24.0, 'Narimarg'), (24.0, 'Purbarama Chandraghat'), (24.0, 'Saphermaina'), (24.0, 'Thoubal district'), (25.0, 'Badhni Kalan'), (25.0, 'Baghber'), (25.0, 'Errabore'), (25.0, 'Kambiron'), (25.0, 'Karnal District'), (25.0, 'Manjapu'), (25.0, 'Meerut'), (25.0, 'Pehowa'), (25.0, 'Singicherra'), (25.0, 'Sitapala'), (25.0, 'Talwandi Bhai'), (25.0, 'Tamenglong district'), (26.0, 'Bankura'), (26.0, 'Barpeta District'), (26.0, 'Batangoo'), (26.0, 'Bhanpuri'), (26.0, 'Chaibasa'), (26.0, 'Chuhr Chak'), (26.0, 'Gumla district'), (26.0, 'Kishtwar'), (26.0, 'Naira'), (26.0, 'Patiala district'), (26.0, 'Sangrur'), (26.0, 'West Singhbhum district'), (27.0, 'Achabal'), (27.0, 'Fatehgarh Churian'), (27.0, 'Jalpaiguri'), (27.0, 'Kachnar'), (27.0, 'Ranchi'), (27.0, 'Sheshnag'), (27.0, 'Sumbal'), (27.0, 'Wokha district'), (28.0, 'Chamaru'), (28.0, 'Dibrugarh'), (28.0, 'Jagraon'), (28.0, 'Jalandhar district'), (28.0, 'Kharar'), (28.0, 'Panchavati'), (28.0, 'Rajgarh'), (28.0, 'Subaisingh'), (28.0, 'Sukma'), (28.0, 'Woodsa'), (29.0, 'Agra'), (29.0, 'Batpora'), (29.0, 'Bokhajhuli'), (29.0, 'Gauripur'), (29.0, 'Gorkajuli'), (29.0, 'Panbari'), (29.0, 'Rajnandgaon district'), (29.0, 'Wokha'), (30.0, 'Amritsar district'), (30.0, 'Ankudar'), (30.0, 'Budgam District'), (30.0, 'Dantewada District'), (30.0, 'Dhamtari'), (30.0, 'Kanker district'), (30.0, 'Mahur'), (30.0, 'Narayanpur'), (30.0, 'Patacharkuchi'), (31.0, 'Bahugund'), (31.0, 'Chapnali'), (31.0, 'Dumaria'), (31.0, 'Gurdaspur district'), (31.0, 'Karimnagar'), (31.0, 'Larnoo'), (31.0, 'Moltung'), (31.0, 'Sempora'), (31.0, 'Thanjavur'), (31.0, 'ludhiana'), (32.0, 'Amuatikar'), (32.0, 'Hoshiapur'), (32.0, 'Jamshedpur'), (32.0, 'Jamui'), (32.0, 'Modinagar'), (32.0, 'Raksamgiri'), (32.0, 'Rure Asal'), (33.0, 'Chadoora'), (33.0, 'Phulwaria'), (33.0, 'Rajouri district'), (33.0, 'Silda'), (34.0, 'Giridih district'), (34.0, 'Koraput district'), (34.0, 'Sangam'), (34.0, 'Shopian district'), (35.0, 'Bhaderwah'), (35.0, 'Howraghat'), (35.0, 'Kangan'), (35.0, 'Lower Mundah'), (35.0, 'Malkangiri'), (35.0, 'Rajnandgaon'), (35.0, 'Warangal'), (36.0, 'Ahmadgarh'), (36.0, 'Chadisinghpoora'), (36.0, 'Phusro'), (36.0, 'Sirpur'), (36.0, 'Sivasagar'), (36.0, 'chintpurani'), (37.0, 'Dadgiri'), (37.0, 'Darjeeling'), (37.0, 'Hyderpora'), (37.0, 'Jarul Racha'), (37.0, 'Kalaban'), (37.0, 'Kalyanpur'), (37.0, 'Topchanchi'), (38.0, 'Bara'), (38.0, 'Bhalukdubi'), (38.0, 'Firozpur district'), (38.0, 'Jaipur'), (38.0, 'Kathua'), (38.0, 'Senthur'), (38.0, 'Sinari'), (39.0, 'Anandpur Sahib'), (39.0, 'Baramulla district'), (39.0, 'Pishikash'), (40.0, 'Barnala'), (40.0, 'Dhamdhama'), (41.0, 'Churanchandpur'), (41.0, 'Dinanagar'), (41.0, 'Hajo'), (41.0, 'Haldwani'), (41.0, 'Haridwar'), (41.0, 'Kumarikata'), (41.0, 'Morpalli'), (41.0, 'Pakharpora'), (41.0, 'Ukhrul district'), (42.0, 'Aurangabad district'), (42.0, 'Chingavaram'), (42.0, 'Dhalgaon'), (42.0, 'Dhekiajuli'), (42.0, 'Kupwara district'), (43.0, 'Anantnag district'), (43.0, 'Kud'), (43.0, 'Nowgong'), (43.0, 'Tohana'), (44.0, 'Kaithal'), (44.0, 'Khunti district'), (44.0, 'Mahwa'), (44.0, 'Nayagarh District'), (44.0, 'Samana'), (44.0, 'Tahab'), (45.0, 'Dhalai district'), (45.0, 'Kohima'), (46.0, 'Gadchiroli'), (47.0, 'Sonitpor district'), (49.0, 'Katra'), (50.0, 'Abohar'), (50.0, 'Churachandpur district'), (50.0, 'Darbha'), (50.0, 'Kabarwala'), (50.0, 'Kolkata'), (50.0, 'Kurseong'), (50.0, 'Manoharpur'), (51.0, 'Chintalnar'), (51.0, 'Razabad'), (51.0, 'West Midnapore district'), (52.0, 'Lailalong'), (52.0, 'Patti'), (53.0, 'Ajnala'), (53.0, 'Ghaziabad'), (54.0, 'Lohardaga district'), (54.0, 'Manasbal'), (54.0, 'Sepalpani'), (55.0, 'Pattan'), (55.0, 'Pulwama district'), (57.0, 'Calcutta'), (57.0, 'Murkongselek'), (58.0, 'Bokaro'), (58.0, 'Karnal'), (58.0, 'Sonitpur district'), (59.0, 'Firozpur'), (59.0, 'Kurukshetra'), (59.0, 'Magam'), (59.0, 'Moreh'), (60.0, 'Barpeta Road'), (60.0, 'Bathe-Lakshmanpur'), (61.0, 'Ambala'), (61.0, 'Bamungopha'), (61.0, 'Gossaigaon'), (61.0, 'Jammu district'), (61.0, 'Maiamnala'), (62.0, 'Bidar'), (62.0, 'Bijapur'), (62.0, 'Karbi Anglong district'), (62.0, 'Udalguri'), (63.0, 'Surankot'), (64.0, 'Udhampur'), (66.0, 'Bishnupur'), (66.0, 'Budgam'), (66.0, 'Diwana'), (67.0, 'Tangmang'), (68.0, 'Belacoba'), (68.0, 'Narayanpur district'), (68.0, 'Ranibodli'), (68.0, 'Tezpur'), (69.0, 'Qazigund'), (69.0, 'Rangia'), (70.0, 'Doda district'), (70.0, 'Kalyan'), (70.0, 'Karsari'), (73.0, 'Agartala'), (73.0, 'Faizabad'), (73.0, 'Pilibhit'), (74.0, 'Handwara'), (74.0, 'Moga'), (75.0, 'Sadiya'), (75.0, 'Tarn Taran'), (76.0, 'Bangalore'), (76.0, 'amritsar'), (77.0, 'North Cachar Hills district'), (78.0, 'Kila Raipur'), (79.0, 'Pune'), (81.0, 'Awantipora'), (83.0, 'Gadchiroli district'), (85.0, 'Banihal'), (85.0, 'Chintagupha'), (85.0, 'Patiala'), (86.0, 'Nalbari'), (87.0, 'Diphu'), (87.0, 'Sansapani'), (87.0, 'Sohian'), (89.0, 'Malegaon'), (90.0, 'Shiliguri'), (91.0, 'Dantewada'), (91.0, 'Kokrajhar district'), (95.0, 'Kuneru'), (96.0, 'Amritsar District'), (97.0, 'Tinsukia district'), (98.0, 'Uri'), (103.0, 'Gandhinagar'), (103.0, 'Gurdaspur'), (104.0, 'Bandipora'), (106.0, 'Baghmara'), (106.0, 'Pampore'), (108.0, 'Kotrapali'), (108.0, 'Patna'), (108.0, 'Tral'), (109.0, 'Nagaon'), (111.0, 'Bajpur'), (112.0, 'Baddowal'), (112.0, 'Gauhati'), (112.0, 'Udhampur district'), (113.0, 'Gorakhpur'), (115.0, 'Tinsukia'), (118.0, 'Doom Dooma'), (118.0, 'Lucknow'), (119.0, 'Bijapur district'), (120.0, 'Kupwara'), (121.0, 'Latehar district'), (122.0, 'Dimapur'), (122.0, 'Panipat'), (135.0, 'Barpeta'), (142.0, 'Rudrapur'), (154.0, 'Bijbehara'), (155.0, 'Bhatinda'), (161.0, 'Bongaigaon'), (161.0, 'Kulgam'), (162.0, 'Poonch'), (168.0, 'Kokrajhar'), (170.0, 'Banabari'), (172.0, 'Sukma district'), (174.0, 'Kandrori'), (175.0, 'Coimbatore'), (175.0, 'Rajouri'), (203.0, 'Doda'), (210.0, 'Bombay'), (219.0, 'Pathankot'), (221.0, 'Jalandhar'), (244.0, 'Varanasi'), (246.0, 'Batala'), (255.0, 'Thottipalayam'), (260.0, 'Pahalgam'), (265.0, 'Jhargam'), (272.0, 'Dispur'), (279.0, 'Baramulla'), (283.0, 'Shopian'), (289.0, 'Dantewada district'), (307.0, 'Ahmedabad'), (333.0, 'Chandigarh'), (356.0, 'Delhi'), (366.0, 'Chennai'), (386.0, 'Ludhiana'), (389.0, 'Sopore'), (407.0, 'Pulwama'), (506.0, 'Anantnag'), (538.0, 'Hyderabad'), (603.0, 'Imphal'), (768.0, 'Amritsar'), (822.0, 'Guwahati'), (1119.0, 'Jammu'), (2016.0, 'Mumbai'), (2095.0, 'New Delhi'), (2527.0, 'Unknown'), (3134.0, 'Srinagar')]\n"
     ]
    }
   ],
   "source": [
    "import csv\n",
    "import operator\n",
    "with open(\"C:\\\\Users\\\\Soumyansh\\\\Desktop\\\\terrorismData.csv\",encoding=\"utf8\") as file_obj:\n",
    "    file_data=csv.DictReader(file_obj,skipinitialspace=True)\n",
    "    file_list=list(file_data)\n",
    "d={}\n",
    "temp1=0.0\n",
    "temp2=0.0\n",
    "for row in file_list:\n",
    "    key=row['Country']\n",
    "    if 'India' in key:\n",
    "        #breakpoint()\n",
    "        key=row['City']\n",
    "        if key!='Unknown':\n",
    "            temp1=row['Killed']\n",
    "            temp2=row['Wounded']\n",
    "            if temp1=='' and temp2=='':\n",
    "                temp1=0.0\n",
    "                temp2=0.0\n",
    "            elif temp1=='':\n",
    "                temp1=0.0\n",
    "                temp2=float(temp2)\n",
    "            elif temp2=='':\n",
    "                temp2=0.0\n",
    "                temp1=float(temp1)\n",
    "            else:\n",
    "                temp1=float(temp1)\n",
    "                temp2=float(temp2)\n",
    "            value=temp1+temp2\n",
    "            if value!='':\n",
    "                value=float(value)\n",
    "            else:\n",
    "                value=0.0\n",
    "\n",
    "\n",
    "            if key in d:\n",
    "                d[key]=d[key]+value\n",
    "            else:\n",
    "                d[key]=value\n",
    "sorted_d = sorted((key, value) for (key,value) in d.items())\n",
    "print(sorted_d)"
   ]
  },
  {
   "cell_type": "code",
   "execution_count": null,
   "metadata": {},
   "outputs": [],
   "source": []
  }
 ],
 "metadata": {
  "kernelspec": {
   "display_name": "Python 3",
   "language": "python",
   "name": "python3"
  },
  "language_info": {
   "codemirror_mode": {
    "name": "ipython",
    "version": 3
   },
   "file_extension": ".py",
   "mimetype": "text/x-python",
   "name": "python",
   "nbconvert_exporter": "python",
   "pygments_lexer": "ipython3",
   "version": "3.7.1"
  }
 },
 "nbformat": 4,
 "nbformat_minor": 2
}
