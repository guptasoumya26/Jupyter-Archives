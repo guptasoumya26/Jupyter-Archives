{
 "cells": [
  {
   "cell_type": "code",
   "execution_count": 1,
   "metadata": {},
   "outputs": [],
   "source": [
    "e=5,4"
   ]
  },
  {
   "cell_type": "code",
   "execution_count": 2,
   "metadata": {},
   "outputs": [
    {
     "data": {
      "text/plain": [
       "(5, 4)"
      ]
     },
     "execution_count": 2,
     "metadata": {},
     "output_type": "execute_result"
    }
   ],
   "source": [
    "e"
   ]
  },
  {
   "cell_type": "code",
   "execution_count": 3,
   "metadata": {},
   "outputs": [
    {
     "data": {
      "text/plain": [
       "tuple"
      ]
     },
     "execution_count": 3,
     "metadata": {},
     "output_type": "execute_result"
    }
   ],
   "source": [
    "type(e)"
   ]
  },
  {
   "cell_type": "code",
   "execution_count": 4,
   "metadata": {},
   "outputs": [
    {
     "data": {
      "text/plain": [
       "True"
      ]
     },
     "execution_count": 4,
     "metadata": {},
     "output_type": "execute_result"
    }
   ],
   "source": [
    "5 in e"
   ]
  },
  {
   "cell_type": "code",
   "execution_count": 5,
   "metadata": {},
   "outputs": [],
   "source": [
    "x=[1,2,3,4]\n"
   ]
  },
  {
   "cell_type": "code",
   "execution_count": 6,
   "metadata": {},
   "outputs": [
    {
     "data": {
      "text/plain": [
       "[1, 2, 3, 4]"
      ]
     },
     "execution_count": 6,
     "metadata": {},
     "output_type": "execute_result"
    }
   ],
   "source": [
    "x"
   ]
  },
  {
   "cell_type": "code",
   "execution_count": 7,
   "metadata": {},
   "outputs": [],
   "source": [
    "t=(x)"
   ]
  },
  {
   "cell_type": "code",
   "execution_count": 8,
   "metadata": {},
   "outputs": [
    {
     "data": {
      "text/plain": [
       "[1, 2, 3, 4]"
      ]
     },
     "execution_count": 8,
     "metadata": {},
     "output_type": "execute_result"
    }
   ],
   "source": [
    "t"
   ]
  },
  {
   "cell_type": "code",
   "execution_count": 9,
   "metadata": {},
   "outputs": [
    {
     "data": {
      "text/plain": [
       "(1, 2, 3, 4)"
      ]
     },
     "execution_count": 9,
     "metadata": {},
     "output_type": "execute_result"
    }
   ],
   "source": [
    "t=tuple(x)\n",
    "t"
   ]
  },
  {
   "cell_type": "code",
   "execution_count": 1,
   "metadata": {},
   "outputs": [
    {
     "data": {
      "text/plain": [
       "'ab'"
      ]
     },
     "execution_count": 1,
     "metadata": {},
     "output_type": "execute_result"
    }
   ],
   "source": [
    "a=(\"ab\",\"abc\",\"def\")\n",
    "min(a)"
   ]
  },
  {
   "cell_type": "code",
   "execution_count": 3,
   "metadata": {},
   "outputs": [
    {
     "data": {
      "text/plain": [
       "dict"
      ]
     },
     "execution_count": 3,
     "metadata": {},
     "output_type": "execute_result"
    }
   ],
   "source": [
    "a={1:2,3:4}\n",
    "type(a)"
   ]
  },
  {
   "cell_type": "code",
   "execution_count": 5,
   "metadata": {},
   "outputs": [
    {
     "name": "stdout",
     "output_type": "stream",
     "text": [
      "None\n"
     ]
    }
   ],
   "source": [
    "print(a.get(\"x\"))\n"
   ]
  },
  {
   "cell_type": "code",
   "execution_count": 6,
   "metadata": {},
   "outputs": [
    {
     "data": {
      "text/plain": [
       "True"
      ]
     },
     "execution_count": 6,
     "metadata": {},
     "output_type": "execute_result"
    }
   ],
   "source": [
    "a.get(\"x\")==None"
   ]
  },
  {
   "cell_type": "code",
   "execution_count": 7,
   "metadata": {},
   "outputs": [
    {
     "data": {
      "text/plain": [
       "dict_items([(1, 2), (3, 4)])"
      ]
     },
     "execution_count": 7,
     "metadata": {},
     "output_type": "execute_result"
    }
   ],
   "source": [
    "a.items()"
   ]
  },
  {
   "cell_type": "code",
   "execution_count": 8,
   "metadata": {},
   "outputs": [],
   "source": [
    "a={1:2,3:4,5:6}\n",
    "b={1:5,7:8}\n",
    "a.update(b)"
   ]
  },
  {
   "cell_type": "code",
   "execution_count": 9,
   "metadata": {},
   "outputs": [
    {
     "data": {
      "text/plain": [
       "{1: 5, 3: 4, 5: 6, 7: 8}"
      ]
     },
     "execution_count": 9,
     "metadata": {},
     "output_type": "execute_result"
    }
   ],
   "source": [
    "a"
   ]
  },
  {
   "cell_type": "code",
   "execution_count": 10,
   "metadata": {},
   "outputs": [
    {
     "data": {
      "text/plain": [
       "5"
      ]
     },
     "execution_count": 10,
     "metadata": {},
     "output_type": "execute_result"
    }
   ],
   "source": [
    "a.pop(1)"
   ]
  },
  {
   "cell_type": "code",
   "execution_count": 11,
   "metadata": {},
   "outputs": [
    {
     "data": {
      "text/plain": [
       "{3: 4, 5: 6, 7: 8}"
      ]
     },
     "execution_count": 11,
     "metadata": {},
     "output_type": "execute_result"
    }
   ],
   "source": [
    "a"
   ]
  },
  {
   "cell_type": "code",
   "execution_count": 18,
   "metadata": {},
   "outputs": [
    {
     "data": {
      "text/plain": [
       "2"
      ]
     },
     "execution_count": 18,
     "metadata": {},
     "output_type": "execute_result"
    }
   ],
   "source": [
    "d={}\n",
    "d[1]=2\n",
    "d[1]"
   ]
  },
  {
   "cell_type": "code",
   "execution_count": 13,
   "metadata": {},
   "outputs": [],
   "source": [
    "s=\"this is a word with many many word\"\n",
    "words=s.split()"
   ]
  },
  {
   "cell_type": "code",
   "execution_count": 14,
   "metadata": {},
   "outputs": [
    {
     "data": {
      "text/plain": [
       "['this', 'is', 'a', 'word', 'with', 'many', 'many', 'word']"
      ]
     },
     "execution_count": 14,
     "metadata": {},
     "output_type": "execute_result"
    }
   ],
   "source": [
    "words\n"
   ]
  },
  {
   "cell_type": "code",
   "execution_count": 16,
   "metadata": {},
   "outputs": [
    {
     "data": {
      "text/plain": [
       "{'this': 1, 'is': 1, 'a': 1, 'word': 2, 'with': 1, 'many': 2}"
      ]
     },
     "execution_count": 16,
     "metadata": {},
     "output_type": "execute_result"
    }
   ],
   "source": [
    "d={}\n",
    "for i in words:\n",
    "    if i in d:\n",
    "        d[i]=d[i]+1\n",
    "    else:\n",
    "        d[i]=1\n",
    "d\n",
    "    "
   ]
  },
  {
   "cell_type": "code",
   "execution_count": 18,
   "metadata": {},
   "outputs": [
    {
     "name": "stdout",
     "output_type": "stream",
     "text": [
      "10\n",
      "675 28 -429 -290 444 -949 992 -850 280 810\n",
      "675\n"
     ]
    }
   ],
   "source": [
    "def maxFreq(l):\n",
    "    d={}\n",
    "    max=0\n",
    "    for i in l:\n",
    "        d[i]=d.get(i,0)+1\n",
    "    \n",
    "\n",
    "    for j in d:\n",
    "        if(d[j]>max):\n",
    "            max=d[j]\n",
    "    \n",
    "\n",
    "    for w in d:\n",
    "        if(d[w]==max):\n",
    "            return w\n",
    "\n",
    "\n",
    "\n",
    "n=int(input())\n",
    "l=[int(i) for i in input().split()]\n",
    "print(maxFreq(l))"
   ]
  },
  {
   "cell_type": "code",
   "execution_count": 29,
   "metadata": {},
   "outputs": [
    {
     "name": "stdout",
     "output_type": "stream",
     "text": [
      "9\n",
      "1 3 1 4 5 6 4 8 3\n",
      "duplicate found on i=0 on j=2\n",
      "duplicate value is 1\n",
      "distance value is 2\n",
      "maxdist is 2\n",
      "duplicate found on i=1 on j=8\n",
      "duplicate value is 1\n",
      "distance value is 7\n",
      "maxdist is 7\n",
      "duplicate found on i=3 on j=6\n",
      "duplicate value is 1\n",
      "distance value is 3\n",
      "7\n"
     ]
    }
   ],
   "source": [
    "n=int(input())\n",
    "l=[int(i) for i in input().split()]\n",
    "\n",
    "maxDistance=0\n",
    "for i in range(0,len(l)):\n",
    "    duplicate=0\n",
    "    for j in range(i+1,len(l)):\n",
    "        \n",
    "        if(l[i]==l[j]):\n",
    "            print('duplicate found on i='+str(i)+\" on j=\"+str(j))\n",
    "            duplicate=duplicate+1\n",
    "            print(\"duplicate value is \"+str(duplicate))\n",
    "            distance=j-i\n",
    "            print(\"distance value is \"+str(distance))\n",
    "            if(distance>maxDistance):\n",
    "                maxDistance=distance\n",
    "                print(\"maxdist is \"+str(maxDistance))\n",
    "            \n",
    "print(maxDistance)"
   ]
  },
  {
   "cell_type": "code",
   "execution_count": 18,
   "metadata": {},
   "outputs": [
    {
     "name": "stdout",
     "output_type": "stream",
     "text": [
      "9\n",
      "1 3 1 4 5 6 4 8 3\n",
      "running for value of i=0\n",
      "{1: 0}\n",
      "running for value of i=1\n",
      "{1: 0, 3: 1}\n",
      "running for value of i=2\n",
      "{1: 2, 3: 1}\n",
      "max dist is 2\n",
      "running for value of i=3\n",
      "{1: 2, 3: 1, 4: 3}\n",
      "running for value of i=4\n",
      "{1: 2, 3: 1, 4: 3, 5: 4}\n",
      "running for value of i=5\n",
      "{1: 2, 3: 1, 4: 3, 5: 4, 6: 5}\n",
      "running for value of i=6\n",
      "{1: 2, 3: 1, 4: 3, 5: 4, 6: 5}\n",
      "max dist is 3\n",
      "running for value of i=7\n",
      "{1: 2, 3: 1, 4: 3, 5: 4, 6: 5, 8: 7}\n",
      "running for value of i=8\n",
      "{1: 2, 3: 7, 4: 3, 5: 4, 6: 5, 8: 7}\n",
      "max dist is 7\n",
      "{1: 2, 3: 7, 4: 3, 5: 4, 6: 5, 8: 7}\n",
      "7\n"
     ]
    }
   ],
   "source": [
    "n=int(input())\n",
    "l=[int(i) for i in input().split()]\n",
    "d={}\n",
    "maxDistance=0\n",
    "for i in range(0,len(l)):\n",
    "    print(\"running for value of i=\"+str(i))\n",
    "    if l[i] in d:\n",
    "        d[l[i]]=i-d[l[i]]\n",
    "        print(d)\n",
    "        if(d[l[i]]>maxDistance):\n",
    "            maxDistance=d[l[i]]\n",
    "            print(\"max dist is \"+str(maxDistance))\n",
    "        \n",
    "    else:\n",
    "        d[l[i]]=i\n",
    "        print(d)\n",
    "        \n",
    "print(d)\n",
    "print(maxDistance)\n"
   ]
  },
  {
   "cell_type": "code",
   "execution_count": 1,
   "metadata": {},
   "outputs": [
    {
     "name": "stdout",
     "output_type": "stream",
     "text": [
      "5\n",
      "2 1 4 2 1\n",
      "2\n"
     ]
    }
   ],
   "source": [
    "n=int(input())\n",
    "arr=[int(i) for i in input().split()]\n",
    "\n",
    "def duplicateCount(arr):\n",
    "    s=set()\n",
    "    for i in arr:\n",
    "        s.add(i)\n",
    "    setLength=len(s)\n",
    "    return len(arr)-setLength\n",
    "\n",
    "print(duplicateCount(arr))"
   ]
  },
  {
   "cell_type": "code",
   "execution_count": 14,
   "metadata": {},
   "outputs": [
    {
     "name": "stdout",
     "output_type": "stream",
     "text": [
      "hkhkj\n",
      "j\n"
     ]
    }
   ],
   "source": [
    "string=input()\n",
    "\n",
    "def nonRepeatingChar(string):\n",
    "    d={}\n",
    "    for i in string:\n",
    "        d[i]=d.get(i,0)+1\n",
    "    for j in string:\n",
    "        if(d[j]==1):\n",
    "            return j\n",
    "    return string[0]\n",
    "\n",
    "print(nonRepeatingChar(string))"
   ]
  },
  {
   "cell_type": "code",
   "execution_count": 30,
   "metadata": {},
   "outputs": [
    {
     "name": "stdout",
     "output_type": "stream",
     "text": [
      "Abhishek harshit ayush harshit ayush iti deepak ayush iti\n",
      "harshit 2\n",
      "ayush 3\n",
      "iti 2\n"
     ]
    }
   ],
   "source": [
    "names=[i for i in input().split()]\n",
    "\n",
    "def differentNames(names):\n",
    "    d={}\n",
    "    count=0\n",
    "    for i in names:\n",
    "        d[i]=d.get(i,0)+1\n",
    "    \n",
    "    for j in d:\n",
    "        if (d[j]>1):\n",
    "            count=count+1\n",
    "            print(j,end=\" \")\n",
    "            print(d[j])\n",
    "    if(count==0):\n",
    "        print(-1)\n",
    "        \n",
    "        \n",
    "\n",
    "differentNames(names)\n"
   ]
  },
  {
   "cell_type": "code",
   "execution_count": 33,
   "metadata": {},
   "outputs": [
    {
     "name": "stdout",
     "output_type": "stream",
     "text": [
      "6\n",
      "2 5 3 5 3 4\n",
      "5\n"
     ]
    }
   ],
   "source": [
    "n=int(input())\n",
    "arr=[i for i in input().split()]\n",
    "\n",
    "def evenCount(arr):\n",
    "    d={}\n",
    "    count=0\n",
    "    for i in arr:\n",
    "        d[i]=d.get(i,0)+1\n",
    "    \n",
    "    for j in arr:\n",
    "        if(d[j]%2==0):\n",
    "            count=count+1\n",
    "            return j\n",
    "    if(count==0):\n",
    "        return -1\n",
    "\n",
    "\n",
    "\n",
    "\n",
    "\n",
    "\n",
    "\n",
    "print(evenCount(arr))"
   ]
  },
  {
   "cell_type": "code",
   "execution_count": 57,
   "metadata": {},
   "outputs": [
    {
     "name": "stdout",
     "output_type": "stream",
     "text": [
      "4\n",
      "2 2 2\n",
      "2 2 2\n",
      "1 2 3\n",
      "3 2 1\n",
      "<class 'tuple'>\n",
      "((2, 2, 2), (2, 2, 2), (1, 2, 3), (1, 2, 3))\n",
      "0\n"
     ]
    }
   ],
   "source": [
    "m=int(input())\n",
    "n=3\n",
    "l=[]\n",
    "\n",
    "for i in range(m):\n",
    "    next=[int(i) for i in input().split()]\n",
    "    next.sort()\n",
    "    l.append(next)\n",
    "\n",
    "def triangleCount(l):\n",
    "    count=0\n",
    "    tuple_of_tuples = tuple(tuple(x) for x in l)\n",
    "    \n",
    "    print(type(tuple_of_tuples))\n",
    "    print(tuple_of_tuples)\n",
    "    d={}\n",
    "    for i in tuple_of_tuples:\n",
    "        d[i]=d.get(i,0)+1\n",
    "    for j in d:\n",
    "        if(d[j]==1):\n",
    "            count=count+1\n",
    "    print(count)\n",
    "    \n",
    "triangleCount(l)"
   ]
  },
  {
   "cell_type": "markdown",
   "metadata": {},
   "source": [
    "### Pairs with difference K\n"
   ]
  },
  {
   "cell_type": "code",
   "execution_count": 85,
   "metadata": {
    "scrolled": false
   },
   "outputs": [
    {
     "name": "stdout",
     "output_type": "stream",
     "text": [
      "4\n",
      "5 1 2 4\n",
      "3\n",
      "{'5': 1, '1': 1, '2': 1, '4': 1}\n",
      "2 5\n",
      "1 4\n"
     ]
    }
   ],
   "source": [
    "size=int(input())\n",
    "arr=[i for i in input().split()]\n",
    "diff=int(input())\n",
    "d={}\n",
    "for i in arr:\n",
    "    d[i]=d.get(i,0)+1\n",
    "print(d)\n",
    "\n",
    "for j in d:\n",
    "    \n",
    "    num1=int(j)+diff\n",
    "    \n",
    "    num2=int(j)-diff\n",
    "    \n",
    "    if(num1!=num2):\n",
    "    \n",
    "        if(str(num1) in d):\n",
    "\n",
    "            value1=d[str(num1)]\n",
    "            valj=d[j]\n",
    "            for i in range(value1*valj):\n",
    "                print(j,end=\" \")\n",
    "                print(num1)\n",
    "\n",
    "        if(str(num2) in d):\n",
    "\n",
    "            value2=d[str(num2)]\n",
    "            valk=d[j]\n",
    "            for i in range(value2*valk):\n",
    "                print(num2,end=\" \")\n",
    "                print(j)\n",
    "        d[j]=0\n"
   ]
  },
  {
   "cell_type": "code",
   "execution_count": null,
   "metadata": {},
   "outputs": [],
   "source": []
  }
 ],
 "metadata": {
  "kernelspec": {
   "display_name": "Python 3",
   "language": "python",
   "name": "python3"
  },
  "language_info": {
   "codemirror_mode": {
    "name": "ipython",
    "version": 3
   },
   "file_extension": ".py",
   "mimetype": "text/x-python",
   "name": "python",
   "nbconvert_exporter": "python",
   "pygments_lexer": "ipython3",
   "version": "3.7.1"
  }
 },
 "nbformat": 4,
 "nbformat_minor": 2
}
