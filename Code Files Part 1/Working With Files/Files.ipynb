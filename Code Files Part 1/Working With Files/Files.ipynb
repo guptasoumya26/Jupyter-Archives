{
 "cells": [
  {
   "cell_type": "code",
   "execution_count": 1,
   "metadata": {},
   "outputs": [
    {
     "name": "stdout",
     "output_type": "stream",
     "text": [
      "<class '_csv.reader'>\n",
      "['A', 'B', 'C']\n",
      "['1', '4', '7']\n",
      "['2', '5', '8']\n",
      "['3', '6', '9']\n"
     ]
    }
   ],
   "source": [
    "import csv\n",
    "with open(\"C:\\\\Users\\\\Soumyansh\\\\Desktop\\\\Sample.csv\") as file_obj:\n",
    "    file_data=csv.reader(file_obj)\n",
    "    print(type(file_data))\n",
    "    for row in file_data:\n",
    "        print(row)"
   ]
  },
  {
   "cell_type": "code",
   "execution_count": 6,
   "metadata": {},
   "outputs": [
    {
     "name": "stdout",
     "output_type": "stream",
     "text": [
      "<class '_csv.reader'>\n",
      "[['A', 'B', 'C'], ['1', '4', '7'], ['2', '5', '8'], ['3', '6', '9']]\n",
      "C\n",
      "7\n"
     ]
    }
   ],
   "source": [
    "import csv\n",
    "with open(\"C:\\\\Users\\\\Soumyansh\\\\Desktop\\\\Sample.csv\") as file_obj:\n",
    "    file_data=csv.reader(file_obj)\n",
    "    print(type(file_data))\n",
    "    file_list=list(file_data)\n",
    "    print(file_list)\n",
    "    print(file_list[0][2])\n",
    "    print(file_list[1][2])\n",
    "    "
   ]
  },
  {
   "cell_type": "code",
   "execution_count": 18,
   "metadata": {},
   "outputs": [
    {
     "ename": "SyntaxError",
     "evalue": "invalid syntax (<ipython-input-18-4ca417d6b01e>, line 11)",
     "output_type": "error",
     "traceback": [
      "\u001b[1;36m  File \u001b[1;32m\"<ipython-input-18-4ca417d6b01e>\"\u001b[1;36m, line \u001b[1;32m11\u001b[0m\n\u001b[1;33m    print(wounded_india)\u001b[0m\n\u001b[1;37m        ^\u001b[0m\n\u001b[1;31mSyntaxError\u001b[0m\u001b[1;31m:\u001b[0m invalid syntax\n"
     ]
    }
   ],
   "source": [
    "import csv\n",
    "with open(\"C:\\\\Users\\\\Soumyansh\\\\Desktop\\\\year2017.csv\") as file_obj:\n",
    "    file_data=csv.reader(file_obj,skipinitialspace=True)\n",
    "    \n",
    "    file_list=list(file_data)\n",
    "    wounded_india=[]\n",
    "    for i in range(1,len(file_list)):\n",
    "        if(file_list[i][3]=='India'):\n",
    "            if(file_list[i][10]!=''):\n",
    "                wounded_india.append(int(file_list[i][10])\n",
    "    print(wounded_india)\n",
    "    \n",
    "    "
   ]
  },
  {
   "cell_type": "code",
   "execution_count": 14,
   "metadata": {},
   "outputs": [
    {
     "name": "stdout",
     "output_type": "stream",
     "text": [
      "29280\n"
     ]
    }
   ],
   "source": [
    "## Open and read data file as specified in the question\n",
    "## Print the required output in given format\n",
    "import csv\n",
    "with open(\"C:\\\\Users\\\\Soumyansh\\\\Desktop\\\\year2017.csv\") as file_obj:\n",
    "    file_data=csv.DictReader(file_obj,skipinitialspace=True)\n",
    "    sum=0\n",
    "    for row in file_data:\n",
    "        if(row[\"Weapon_type\"]==\"Explosives\"):\n",
    "            if(row[\"casualities\"]!=''):\n",
    "                sum=sum+(float(row[\"casualities\"]))\n",
    "    print(int(sum))\n",
    "    \n",
    "    "
   ]
  },
  {
   "cell_type": "code",
   "execution_count": 3,
   "metadata": {},
   "outputs": [
    {
     "name": "stdout",
     "output_type": "stream",
     "text": [
      "{'1': 2275, '2': 2027, '3': 2463, '4': 2142, '5': 2936, '6': 2506, '7': 2228, '8': 2145, '9': 1764, '10': 2580, '11': 2014, '12': 1365}\n"
     ]
    }
   ],
   "source": [
    "## Open and read data file as specified in the question\n",
    "## Print the required output in given format\n",
    "import csv\n",
    "with open(\"C:\\\\Users\\\\Soumyansh\\\\Desktop\\\\year2017.csv\",encoding=\"utf8\") as file_obj:\n",
    "    file_data=csv.DictReader(file_obj,skipinitialspace=True)\n",
    "    file_list=list(file_data)\n",
    "\n",
    "month_killed={}\n",
    "for row in file_list:\n",
    "    key=row[\"Month\"]\n",
    "    value=row[\"Killed\"]\n",
    "    if(value!=''):\n",
    "        value=int(float(value))\n",
    "    else:\n",
    "        value=0\n",
    "    if key in month_killed:\n",
    "        month_killed[key]=month_killed[key]+value\n",
    "    else:\n",
    "        month_killed[key]=value\n",
    "\n",
    "print(month_killed)"
   ]
  },
  {
   "cell_type": "code",
   "execution_count": 31,
   "metadata": {},
   "outputs": [
    {
     "name": "stdout",
     "output_type": "stream",
     "text": [
      "1856 66\n"
     ]
    }
   ],
   "source": [
    "import csv\n",
    "with open(\"C:\\\\Users\\\\Soumyansh\\\\Desktop\\\\amazon_jobs_dataset.csv\",encoding=\"utf8\") as file_obj:\n",
    "    file_data=csv.DictReader(file_obj,skipinitialspace=True)\n",
    "    file_list=list(file_data)\n",
    "\n",
    "d={}\n",
    "for row in file_list:\n",
    "    key=row[\"location\"]\n",
    "    d[key]=d.get(key,0)+1\n",
    "\n",
    "\n",
    "for i in d:\n",
    "    if(i=='US, WA, Seattle '):\n",
    "        print(d[i],end=' ')\n",
    "    if(i=='IN, KA, Bangalore '):\n",
    "        print(d[i])\n"
   ]
  },
  {
   "cell_type": "code",
   "execution_count": 8,
   "metadata": {},
   "outputs": [
    {
     "name": "stdout",
     "output_type": "stream",
     "text": [
      "2961\n"
     ]
    }
   ],
   "source": [
    "import csv\n",
    "with open(\"C:\\\\Users\\\\Soumyansh\\\\Desktop\\\\amazon_jobs_dataset.csv\",encoding=\"utf8\") as file_obj:\n",
    "    file_data=csv.DictReader(file_obj,skipinitialspace=True)\n",
    "    file_list=list(file_data)\n",
    "\n",
    "d={}\n",
    "for row in file_list:\n",
    "    key=row[\"BASIC QUALIFICATIONS\"]\n",
    "    d[key]=d.get(key,0)+1\n",
    "#print(d)\n",
    "\n",
    "count=0\n",
    "for i in d:\n",
    "    if i.find('Bachelor')!=-1:\n",
    "        count=count+d[i]\n",
    "    elif i.find('BS')!=-1:\n",
    "        count=count+d[i]\n",
    "    elif i.find('BA')!=-1:\n",
    "        count=count+d[i]    \n",
    "print(count)"
   ]
  },
  {
   "cell_type": "code",
   "execution_count": 15,
   "metadata": {},
   "outputs": [
    {
     "name": "stdout",
     "output_type": "stream",
     "text": [
      "Java  103\n"
     ]
    }
   ],
   "source": [
    "import csv\n",
    "with open(\"C:\\\\Users\\\\Soumyansh\\\\Desktop\\\\amazon_jobs_dataset.csv\",encoding=\"utf8\") as file_obj:\n",
    "    file_data=csv.DictReader(file_obj,skipinitialspace=True)\n",
    "    file_list=list(file_data)\n",
    "\n",
    "d={}\n",
    "for row in file_list:\n",
    "    key=row['location'].split(',')[0]\n",
    "    if 'IN' in key:\n",
    "        key=row['BASIC QUALIFICATIONS']\n",
    "        if 'BA' in key or 'BS' in key or 'Bachelor' in key:\n",
    "            if 'Java' in key or 'C++' in key or 'Python' in key:\n",
    "                d[key]=d.get(key,0)+1\n",
    "count_java=0\n",
    "count_python=0\n",
    "count_c=0\n",
    "for i in d:\n",
    "    if 'Java' in i:\n",
    "        count_java=count_java+d[i]\n",
    "    elif 'C++' in i:\n",
    "        count_c=count_c+d[i]\n",
    "    elif 'Python' in i:\n",
    "        count_python=count_python+d[i]\n",
    "\n",
    "if max(count_java,count_c,count_python)==count_java:\n",
    "    print(\"Java \",count_java)\n",
    "elif max(count_java,count_c,count_python)==count_c:\n",
    "    print(\"C++ \",count_c)\n",
    "else:\n",
    "    print(\"Python \",count_python)\n",
    "    \n",
    "    \n"
   ]
  },
  {
   "cell_type": "code",
   "execution_count": 17,
   "metadata": {},
   "outputs": [
    {
     "name": "stdout",
     "output_type": "stream",
     "text": [
      "{'US': 2009, 'IN': 111, 'CA': 111, 'RO': 9, 'PL': 17, 'AE': 1, 'ES': 13, 'IL': 2, 'DE': 19, 'UK': 38, 'SG': 1, 'AU': 9, 'IE': 30, 'CN': 14, 'MX': 2, 'NL': 2, 'ZA': 12, 'FR': 2, 'JO': 2, 'TW': 4, 'LU': 6, 'BR': 8, 'JP': 4, 'IT': 1, '': 1}\n",
      "US  2009\n"
     ]
    }
   ],
   "source": [
    "import csv\n",
    "with open(\"C:\\\\Users\\\\Soumyansh\\\\Desktop\\\\amazon_jobs_dataset.csv\",encoding=\"utf8\") as file_obj:\n",
    "    file_data=csv.DictReader(file_obj,skipinitialspace=True)\n",
    "    file_list=list(file_data)\n",
    "\n",
    "d={}\n",
    "for row in file_list:\n",
    "    key=row['BASIC QUALIFICATIONS']\n",
    "    if 'Java' in key:\n",
    "        key=row['location'].split(',')[0]\n",
    "        d[key]=d.get(key,0)+1\n",
    "\n",
    "\n",
    "max=0\n",
    "for i in d:\n",
    "    if d[i]>max:\n",
    "        max=d[i]\n",
    "        temp=i\n",
    "print(temp+\" \",max)"
   ]
  },
  {
   "cell_type": "code",
   "execution_count": null,
   "metadata": {},
   "outputs": [],
   "source": []
  }
 ],
 "metadata": {
  "kernelspec": {
   "display_name": "Python 3",
   "language": "python",
   "name": "python3"
  },
  "language_info": {
   "codemirror_mode": {
    "name": "ipython",
    "version": 3
   },
   "file_extension": ".py",
   "mimetype": "text/x-python",
   "name": "python",
   "nbconvert_exporter": "python",
   "pygments_lexer": "ipython3",
   "version": "3.7.1"
  }
 },
 "nbformat": 4,
 "nbformat_minor": 2
}
