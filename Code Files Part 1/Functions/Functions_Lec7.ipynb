{
 "cells": [
  {
   "cell_type": "code",
   "execution_count": 3,
   "metadata": {},
   "outputs": [
    {
     "data": {
      "text/plain": [
       "24"
      ]
     },
     "execution_count": 3,
     "metadata": {},
     "output_type": "execute_result"
    }
   ],
   "source": [
    "def fact(n):\n",
    "    fact=1\n",
    "    for i in range(1,n+1):\n",
    "        fact=fact*i\n",
    "    return fact\n"
   ]
  },
  {
   "cell_type": "code",
   "execution_count": null,
   "metadata": {},
   "outputs": [
    {
     "name": "stdout",
     "output_type": "stream",
     "text": [
      "0\n",
      "100\n",
      "20\n",
      "> <ipython-input-1-f162f8fedf51>(5)printTable()\n",
      "-> celsius=int(((start-32)*5)/9)\n",
      "(Pdb) celsius\n",
      "*** NameError: name 'celsius' is not defined\n",
      "(Pdb) n\n",
      "> <ipython-input-1-f162f8fedf51>(6)printTable()\n",
      "-> print(str(start)+\" \"+str(celsius))\n",
      "(Pdb) celsius\n",
      "-17\n"
     ]
    }
   ],
   "source": [
    "#farenheit to celsius\n",
    "def printTable(start,end,step):\n",
    "    while(start<=end):\n",
    "        breakpoint()\n",
    "        celsius=int(((start-32)*5)/9)\n",
    "        print(str(start)+\" \"+str(celsius))\n",
    "        start=start+step\n",
    "        \n",
    "s= int(input())\n",
    "e=int(input())\n",
    "step=int(input())\n",
    "printTable(s,e,step)"
   ]
  },
  {
   "cell_type": "code",
   "execution_count": null,
   "metadata": {},
   "outputs": [],
   "source": []
  },
  {
   "cell_type": "code",
   "execution_count": null,
   "metadata": {},
   "outputs": [],
   "source": []
  },
  {
   "cell_type": "code",
   "execution_count": null,
   "metadata": {},
   "outputs": [],
   "source": []
  },
  {
   "cell_type": "code",
   "execution_count": null,
   "metadata": {},
   "outputs": [],
   "source": []
  },
  {
   "cell_type": "code",
   "execution_count": null,
   "metadata": {},
   "outputs": [],
   "source": []
  },
  {
   "cell_type": "code",
   "execution_count": 12,
   "metadata": {},
   "outputs": [],
   "source": [
    "#(5*n*n)+4 or (5*n*n)-4 either should be a perfect square\n",
    "def checkMember(n):\n",
    "    if(isSquare((5*n*n)+4)):\n",
    "        return True\n",
    "    elif(isSquare((5*n*n)-4)):\n",
    "        return True\n",
    "    else:\n",
    "        return False\n",
    "    \n",
    "def isSquare(n):\n",
    "    for i in range(1,n):\n",
    "        if(i*i==n):\n",
    "            return True\n",
    "            break;\n",
    "    return False\n",
    "    "
   ]
  },
  {
   "cell_type": "code",
   "execution_count": 14,
   "metadata": {},
   "outputs": [
    {
     "data": {
      "text/plain": [
       "False"
      ]
     },
     "execution_count": 14,
     "metadata": {},
     "output_type": "execute_result"
    }
   ],
   "source": [
    "checkMember(14)"
   ]
  },
  {
   "cell_type": "code",
   "execution_count": null,
   "metadata": {},
   "outputs": [],
   "source": []
  }
 ],
 "metadata": {
  "kernelspec": {
   "display_name": "Python 3",
   "language": "python",
   "name": "python3"
  },
  "language_info": {
   "codemirror_mode": {
    "name": "ipython",
    "version": 3
   },
   "file_extension": ".py",
   "mimetype": "text/x-python",
   "name": "python",
   "nbconvert_exporter": "python",
   "pygments_lexer": "ipython3",
   "version": "3.7.1"
  }
 },
 "nbformat": 4,
 "nbformat_minor": 2
}
